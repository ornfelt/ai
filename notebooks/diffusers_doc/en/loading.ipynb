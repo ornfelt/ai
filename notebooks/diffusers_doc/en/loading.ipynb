{
 "cells": [
  {
   "cell_type": "markdown",
   "metadata": {},
   "source": [
    "# Load pipelines, models, and schedulers"
   ]
  },
  {
   "cell_type": "markdown",
   "metadata": {},
   "source": [
    "Having an easy way to use a diffusion system for inference is essential to 🧨 Diffusers. Diffusion systems often consist of multiple components like parameterized models, tokenizers, and schedulers that interact in complex ways. That is why we designed the [DiffusionPipeline](https://huggingface.co/docs/diffusers/main/en/api/pipelines/overview#diffusers.DiffusionPipeline) to wrap the complexity of the entire diffusion system into an easy-to-use API, while remaining flexible enough to be adapted for other use cases, such as loading each component individually as building blocks to assemble your own diffusion system.\n",
    "\n",
    "Everything you need for inference or training is accessible with the `from_pretrained()` method.\n",
    "\n",
    "This guide will show you how to load:\n",
    "\n",
    "- pipelines from the Hub and locally\n",
    "- different components into a pipeline\n",
    "- checkpoint variants such as different floating point types or non-exponential mean averaged (EMA) weights\n",
    "- models and schedulers"
   ]
  },
  {
   "cell_type": "markdown",
   "metadata": {},
   "source": [
    "## Diffusion Pipeline"
   ]
  },
  {
   "cell_type": "markdown",
   "metadata": {},
   "source": [
    "<Tip>\n",
    "\n",
    "💡 Skip to the [DiffusionPipeline explained](#diffusionpipeline-explained) section if you interested in learning in more detail about how the [DiffusionPipeline](https://huggingface.co/docs/diffusers/main/en/api/pipelines/overview#diffusers.DiffusionPipeline) class works.\n",
    "\n",
    "</Tip>\n",
    "\n",
    "The [DiffusionPipeline](https://huggingface.co/docs/diffusers/main/en/api/pipelines/overview#diffusers.DiffusionPipeline) class is the simplest and most generic way to load any diffusion model from the [Hub](https://huggingface.co/models?library=diffusers). The [DiffusionPipeline.from_pretrained()](https://huggingface.co/docs/diffusers/main/en/api/pipelines/overview#diffusers.DiffusionPipeline.from_pretrained) method automatically detects the correct pipeline class from the checkpoint, downloads and caches all the required configuration and weight files, and returns a pipeline instance ready for inference."
   ]
  },
  {
   "cell_type": "code",
   "execution_count": null,
   "metadata": {},
   "outputs": [],
   "source": [
    "from diffusers import DiffusionPipeline\n",
    "\n",
    "repo_id = \"runwayml/stable-diffusion-v1-5\"\n",
    "pipe = DiffusionPipeline.from_pretrained(repo_id)"
   ]
  },
  {
   "cell_type": "markdown",
   "metadata": {},
   "source": [
    "You can also load a checkpoint with it's specific pipeline class. The example above loaded a Stable Diffusion model; to get the same result, use the [StableDiffusionPipeline](https://huggingface.co/docs/diffusers/main/en/api/pipelines/stable_diffusion/text2img#diffusers.StableDiffusionPipeline) class:"
   ]
  },
  {
   "cell_type": "code",
   "execution_count": null,
   "metadata": {},
   "outputs": [],
   "source": [
    "from diffusers import StableDiffusionPipeline\n",
    "\n",
    "repo_id = \"runwayml/stable-diffusion-v1-5\"\n",
    "pipe = StableDiffusionPipeline.from_pretrained(repo_id)"
   ]
  },
  {
   "cell_type": "markdown",
   "metadata": {},
   "source": [
    "A checkpoint (such as [`CompVis/stable-diffusion-v1-4`](https://huggingface.co/CompVis/stable-diffusion-v1-4) or [`runwayml/stable-diffusion-v1-5`](https://huggingface.co/runwayml/stable-diffusion-v1-5)) may also be used for more than one task, like text-to-image or image-to-image. To differentiate what task you want to use the checkpoint for, you have to load it directly with it's corresponding task-specific pipeline class:"
   ]
  },
  {
   "cell_type": "code",
   "execution_count": null,
   "metadata": {},
   "outputs": [],
   "source": [
    "from diffusers import StableDiffusionImg2ImgPipeline\n",
    "\n",
    "repo_id = \"runwayml/stable-diffusion-v1-5\"\n",
    "pipe = StableDiffusionImg2ImgPipeline.from_pretrained(repo_id)"
   ]
  },
  {
   "cell_type": "markdown",
   "metadata": {},
   "source": [
    "### Local pipeline"
   ]
  },
  {
   "cell_type": "markdown",
   "metadata": {},
   "source": [
    "To load a diffusion pipeline locally, use [`git-lfs`](https://git-lfs.github.com/) to manually download the checkpoint (in this case, [`runwayml/stable-diffusion-v1-5`](https://huggingface.co/runwayml/stable-diffusion-v1-5)) to your local disk. This creates a local folder, `./stable-diffusion-v1-5`, on your disk:\n",
    "\n",
    "```bash\n",
    "git lfs install\n",
    "git clone https://huggingface.co/runwayml/stable-diffusion-v1-5\n",
    "```\n",
    "\n",
    "Then pass the local path to [from_pretrained()](https://huggingface.co/docs/diffusers/main/en/api/pipelines/overview#diffusers.DiffusionPipeline.from_pretrained):"
   ]
  },
  {
   "cell_type": "code",
   "execution_count": null,
   "metadata": {},
   "outputs": [],
   "source": [
    "from diffusers import DiffusionPipeline\n",
    "\n",
    "repo_id = \"./stable-diffusion-v1-5\"\n",
    "stable_diffusion = DiffusionPipeline.from_pretrained(repo_id)"
   ]
  },
  {
   "cell_type": "markdown",
   "metadata": {},
   "source": [
    "The [from_pretrained()](https://huggingface.co/docs/diffusers/main/en/api/pipelines/overview#diffusers.DiffusionPipeline.from_pretrained) method won't download any files from the Hub when it detects a local path, but this also means it won't download and cache the latest changes to a checkpoint."
   ]
  },
  {
   "cell_type": "markdown",
   "metadata": {},
   "source": [
    "### Swap components in a pipeline"
   ]
  },
  {
   "cell_type": "markdown",
   "metadata": {},
   "source": [
    "You can customize the default components of any pipeline with another compatible component. Customization is important because:\n",
    "\n",
    "- Changing the scheduler is important for exploring the trade-off between generation speed and quality.\n",
    "- Different components of a model are typically trained independently and you can swap out a component with a better-performing one.\n",
    "- During finetuning, usually only some components - like the UNet or text encoder - are trained.\n",
    "\n",
    "To find out which schedulers are compatible for customization, you can use the `compatibles` method:"
   ]
  },
  {
   "cell_type": "code",
   "execution_count": null,
   "metadata": {},
   "outputs": [],
   "source": [
    "from diffusers import DiffusionPipeline\n",
    "\n",
    "repo_id = \"runwayml/stable-diffusion-v1-5\"\n",
    "stable_diffusion = DiffusionPipeline.from_pretrained(repo_id)\n",
    "stable_diffusion.scheduler.compatibles"
   ]
  },
  {
   "cell_type": "markdown",
   "metadata": {},
   "source": [
    "Let's use the [SchedulerMixin.from_pretrained()](https://huggingface.co/docs/diffusers/main/en/api/schedulers/overview#diffusers.SchedulerMixin.from_pretrained) method to replace the default [PNDMScheduler](https://huggingface.co/docs/diffusers/main/en/api/schedulers/pndm#diffusers.PNDMScheduler) with a more performant scheduler, [EulerDiscreteScheduler](https://huggingface.co/docs/diffusers/main/en/api/schedulers/euler#diffusers.EulerDiscreteScheduler). The `subfolder=\"scheduler\"` argument is required to load the scheduler configuration from the correct [subfolder](https://huggingface.co/runwayml/stable-diffusion-v1-5/tree/main/scheduler) of the pipeline repository.\n",
    "\n",
    "Then you can pass the new [EulerDiscreteScheduler](https://huggingface.co/docs/diffusers/main/en/api/schedulers/euler#diffusers.EulerDiscreteScheduler) instance to the `scheduler` argument in [DiffusionPipeline](https://huggingface.co/docs/diffusers/main/en/api/pipelines/overview#diffusers.DiffusionPipeline):"
   ]
  },
  {
   "cell_type": "code",
   "execution_count": null,
   "metadata": {},
   "outputs": [],
   "source": [
    "from diffusers import DiffusionPipeline, EulerDiscreteScheduler, DPMSolverMultistepScheduler\n",
    "\n",
    "repo_id = \"runwayml/stable-diffusion-v1-5\"\n",
    "\n",
    "scheduler = EulerDiscreteScheduler.from_pretrained(repo_id, subfolder=\"scheduler\")\n",
    "\n",
    "stable_diffusion = DiffusionPipeline.from_pretrained(repo_id, scheduler=scheduler)"
   ]
  },
  {
   "cell_type": "markdown",
   "metadata": {},
   "source": [
    "### Safety checker"
   ]
  },
  {
   "cell_type": "markdown",
   "metadata": {},
   "source": [
    "Diffusion models like Stable Diffusion can generate harmful content, which is why 🧨 Diffusers has a [safety checker](https://github.com/huggingface/diffusers/blob/main/src/diffusers/pipelines/stable_diffusion/safety_checker.py) to check generated outputs against known hardcoded NSFW content. If you'd like to disable the safety checker for whatever reason, pass `None` to the `safety_checker` argument:"
   ]
  },
  {
   "cell_type": "code",
   "execution_count": null,
   "metadata": {},
   "outputs": [],
   "source": [
    "from diffusers import DiffusionPipeline\n",
    "\n",
    "repo_id = \"runwayml/stable-diffusion-v1-5\"\n",
    "stable_diffusion = DiffusionPipeline.from_pretrained(repo_id, safety_checker=None)"
   ]
  },
  {
   "cell_type": "markdown",
   "metadata": {},
   "source": [
    "### Reuse components across pipelines"
   ]
  },
  {
   "cell_type": "markdown",
   "metadata": {},
   "source": [
    "You can also reuse the same components in multiple pipelines to avoid loading the weights into RAM twice. Use the [components](https://huggingface.co/docs/diffusers/main/en/api/pipelines/overview#diffusers.DiffusionPipeline.components) method to save the components:"
   ]
  },
  {
   "cell_type": "code",
   "execution_count": null,
   "metadata": {},
   "outputs": [],
   "source": [
    "from diffusers import StableDiffusionPipeline, StableDiffusionImg2ImgPipeline\n",
    "\n",
    "model_id = \"runwayml/stable-diffusion-v1-5\"\n",
    "stable_diffusion_txt2img = StableDiffusionPipeline.from_pretrained(model_id)\n",
    "\n",
    "components = stable_diffusion_txt2img.components"
   ]
  },
  {
   "cell_type": "markdown",
   "metadata": {},
   "source": [
    "Then you can pass the `components` to another pipeline without reloading the weights into RAM:"
   ]
  },
  {
   "cell_type": "code",
   "execution_count": null,
   "metadata": {},
   "outputs": [],
   "source": [
    "stable_diffusion_img2img = StableDiffusionImg2ImgPipeline(**components)"
   ]
  },
  {
   "cell_type": "markdown",
   "metadata": {},
   "source": [
    "You can also pass the components individually to the pipeline if you want more flexibility over which components to reuse or disable. For example, to reuse the same components in the text-to-image pipeline, except for the safety checker and feature extractor, in the image-to-image pipeline:"
   ]
  },
  {
   "cell_type": "code",
   "execution_count": null,
   "metadata": {},
   "outputs": [],
   "source": [
    "from diffusers import StableDiffusionPipeline, StableDiffusionImg2ImgPipeline\n",
    "\n",
    "model_id = \"runwayml/stable-diffusion-v1-5\"\n",
    "stable_diffusion_txt2img = StableDiffusionPipeline.from_pretrained(model_id)\n",
    "stable_diffusion_img2img = StableDiffusionImg2ImgPipeline(\n",
    "    vae=stable_diffusion_txt2img.vae,\n",
    "    text_encoder=stable_diffusion_txt2img.text_encoder,\n",
    "    tokenizer=stable_diffusion_txt2img.tokenizer,\n",
    "    unet=stable_diffusion_txt2img.unet,\n",
    "    scheduler=stable_diffusion_txt2img.scheduler,\n",
    "    safety_checker=None,\n",
    "    feature_extractor=None,\n",
    "    requires_safety_checker=False,\n",
    ")"
   ]
  },
  {
   "cell_type": "markdown",
   "metadata": {},
   "source": [
    "## Checkpoint variants"
   ]
  },
  {
   "cell_type": "markdown",
   "metadata": {},
   "source": [
    "A checkpoint variant is usually a checkpoint where it's weights are:\n",
    "\n",
    "- Stored in a different floating point type for lower precision and lower storage, such as [`torch.float16`](https://pytorch.org/docs/stable/tensors.html#data-types), because it only requires half the bandwidth and storage to download. You can't use this variant if you're continuing training or using a CPU.\n",
    "- Non-exponential mean averaged (EMA) weights which shouldn't be used for inference. You should use these to continue finetuning a model.\n",
    "\n",
    "<Tip>\n",
    "\n",
    "💡 When the checkpoints have identical model structures, but they were trained on different datasets and with a different training setup, they should be stored in separate repositories instead of variations (for example, `stable-diffusion-v1-4` and `stable-diffusion-v1-5`).\n",
    "\n",
    "</Tip>\n",
    "\n",
    "Otherwise, a variant is **identical** to the original checkpoint. They have exactly the same serialization format (like [Safetensors](https://huggingface.co/docs/diffusers/main/en/using-diffusers/./using_safetensors)), model structure, and weights have identical tensor shapes.\n",
    "\n",
    "| **checkpoint type** | **weight name**                     | **argument for loading weights** |\n",
    "|---------------------|-------------------------------------|----------------------------------|\n",
    "| original            | diffusion_pytorch_model.bin         |                                  |\n",
    "| floating point      | diffusion_pytorch_model.fp16.bin    | `variant`, `torch_dtype`         |\n",
    "| non-EMA             | diffusion_pytorch_model.non_ema.bin | `variant`                        |\n",
    "\n",
    "There are two important arguments to know for loading variants:\n",
    "\n",
    "- `torch_dtype` defines the floating point precision of the loaded checkpoints. For example, if you want to save bandwidth by loading a `fp16` variant, you should specify `torch_dtype=torch.float16` to *convert the weights* to `fp16`. Otherwise, the `fp16` weights are converted to the default `fp32` precision. You can also load the original checkpoint without defining the `variant` argument, and convert it to `fp16` with `torch_dtype=torch.float16`. In this case, the default `fp32` weights are downloaded first, and then they're converted to `fp16` after loading.\n",
    "\n",
    "- `variant` defines which files should be loaded from the repository. For example, if you want to load a `non_ema` variant from the [`diffusers/stable-diffusion-variants`](https://huggingface.co/diffusers/stable-diffusion-variants/tree/main/unet) repository, you should specify `variant=\"non_ema\"` to download the `non_ema` files."
   ]
  },
  {
   "cell_type": "code",
   "execution_count": null,
   "metadata": {},
   "outputs": [],
   "source": [
    "from diffusers import DiffusionPipeline\n",
    "import torch\n",
    "\n",
    "# load fp16 variant\n",
    "stable_diffusion = DiffusionPipeline.from_pretrained(\n",
    "    \"runwayml/stable-diffusion-v1-5\", variant=\"fp16\", torch_dtype=torch.float16\n",
    ")\n",
    "# load non_ema variant\n",
    "stable_diffusion = DiffusionPipeline.from_pretrained(\"runwayml/stable-diffusion-v1-5\", variant=\"non_ema\")"
   ]
  },
  {
   "cell_type": "markdown",
   "metadata": {},
   "source": [
    "To save a checkpoint stored in a different floating point type or as a non-EMA variant, use the [DiffusionPipeline.save_pretrained()](https://huggingface.co/docs/diffusers/main/en/api/pipelines/overview#diffusers.DiffusionPipeline.save_pretrained) method and specify the `variant` argument. You should try and save a variant to the same folder as the original checkpoint, so you can load both from the same folder:"
   ]
  },
  {
   "cell_type": "code",
   "execution_count": null,
   "metadata": {},
   "outputs": [],
   "source": [
    "from diffusers import DiffusionPipeline\n",
    "\n",
    "# save as fp16 variant\n",
    "stable_diffusion.save_pretrained(\"runwayml/stable-diffusion-v1-5\", variant=\"fp16\")\n",
    "# save as non-ema variant\n",
    "stable_diffusion.save_pretrained(\"runwayml/stable-diffusion-v1-5\", variant=\"non_ema\")"
   ]
  },
  {
   "cell_type": "markdown",
   "metadata": {},
   "source": [
    "If you don't save the variant to an existing folder, you must specify the `variant` argument otherwise it'll throw an `Exception` because it can't find the original checkpoint:"
   ]
  },
  {
   "cell_type": "code",
   "execution_count": null,
   "metadata": {},
   "outputs": [],
   "source": [
    "# 👎 this won't work\n",
    "stable_diffusion = DiffusionPipeline.from_pretrained(\"./stable-diffusion-v1-5\", torch_dtype=torch.float16)\n",
    "# 👍 this works\n",
    "stable_diffusion = DiffusionPipeline.from_pretrained(\n",
    "    \"./stable-diffusion-v1-5\", variant=\"fp16\", torch_dtype=torch.float16\n",
    ")"
   ]
  },
  {
   "cell_type": "markdown",
   "metadata": {},
   "source": [
    "<!--\n",
    "TODO(Patrick) - Make sure to uncomment this part as soon as things are deprecated."
   ]
  },
  {
   "cell_type": "markdown",
   "metadata": {},
   "source": [
    "#### Using `revision` to load pipeline variants is deprecated"
   ]
  },
  {
   "cell_type": "markdown",
   "metadata": {},
   "source": [
    "Previously the `revision` argument of [DiffusionPipeline.from_pretrained()](https://huggingface.co/docs/diffusers/main/en/api/pipelines/overview#diffusers.DiffusionPipeline.from_pretrained) was heavily used to \n",
    "load model variants, e.g.:"
   ]
  },
  {
   "cell_type": "code",
   "execution_count": null,
   "metadata": {},
   "outputs": [],
   "source": [
    "from diffusers import DiffusionPipeline\n",
    "\n",
    "pipe = DiffusionPipeline.from_pretrained(\"CompVis/stable-diffusion-v1-4\", revision=\"fp16\")"
   ]
  },
  {
   "cell_type": "markdown",
   "metadata": {},
   "source": [
    "However, this behavior is now deprecated since the \"revision\" argument should (just as it's done in GitHub) better be used to load model checkpoints from a specific commit or branch in development.\n",
    "\n",
    "The above example is therefore deprecated and won't be supported anymore for `diffusers >= 1.0.0`.\n",
    "\n",
    "<Tip warning={true}>\n",
    "\n",
    "If you load diffusers pipelines or models with `revision=\"fp16\"` or `revision=\"non_ema\"`, \n",
    "please make sure to update to code and use `variant=\"fp16\"` or `variation=\"non_ema\"` respectively\n",
    "instead.\n",
    "\n",
    "</Tip>\n",
    "-->"
   ]
  },
  {
   "cell_type": "markdown",
   "metadata": {},
   "source": [
    "## Models"
   ]
  },
  {
   "cell_type": "markdown",
   "metadata": {},
   "source": [
    "Models are loaded from the [ModelMixin.from_pretrained()](https://huggingface.co/docs/diffusers/main/en/api/models/overview#diffusers.ModelMixin.from_pretrained) method, which downloads and caches the latest version of the model weights and configurations. If the latest files are available in the local cache, [from_pretrained()](https://huggingface.co/docs/diffusers/main/en/api/models/overview#diffusers.ModelMixin.from_pretrained) reuses files in the cache instead of redownloading them.\n",
    "\n",
    "Models can be loaded from a subfolder with the `subfolder` argument. For example, the model weights for `runwayml/stable-diffusion-v1-5` are stored in the [`unet`](https://huggingface.co/runwayml/stable-diffusion-v1-5/tree/main/unet) subfolder:"
   ]
  },
  {
   "cell_type": "code",
   "execution_count": null,
   "metadata": {},
   "outputs": [],
   "source": [
    "from diffusers import UNet2DConditionModel\n",
    "\n",
    "repo_id = \"runwayml/stable-diffusion-v1-5\"\n",
    "model = UNet2DConditionModel.from_pretrained(repo_id, subfolder=\"unet\")"
   ]
  },
  {
   "cell_type": "markdown",
   "metadata": {},
   "source": [
    "Or directly from a repository's [directory](https://huggingface.co/google/ddpm-cifar10-32/tree/main):"
   ]
  },
  {
   "cell_type": "code",
   "execution_count": null,
   "metadata": {},
   "outputs": [],
   "source": [
    "from diffusers import UNet2DModel\n",
    "\n",
    "repo_id = \"google/ddpm-cifar10-32\"\n",
    "model = UNet2DModel.from_pretrained(repo_id)"
   ]
  },
  {
   "cell_type": "markdown",
   "metadata": {},
   "source": [
    "You can also load and save model variants by specifying the `variant` argument in [ModelMixin.from_pretrained()](https://huggingface.co/docs/diffusers/main/en/api/models/overview#diffusers.ModelMixin.from_pretrained) and [ModelMixin.save_pretrained()](https://huggingface.co/docs/diffusers/main/en/api/models/overview#diffusers.ModelMixin.save_pretrained):"
   ]
  },
  {
   "cell_type": "code",
   "execution_count": null,
   "metadata": {},
   "outputs": [],
   "source": [
    "from diffusers import UNet2DConditionModel\n",
    "\n",
    "model = UNet2DConditionModel.from_pretrained(\"runwayml/stable-diffusion-v1-5\", subfolder=\"unet\", variant=\"non-ema\")\n",
    "model.save_pretrained(\"./local-unet\", variant=\"non-ema\")"
   ]
  },
  {
   "cell_type": "markdown",
   "metadata": {},
   "source": [
    "## Schedulers"
   ]
  },
  {
   "cell_type": "markdown",
   "metadata": {},
   "source": [
    "Schedulers are loaded from the [SchedulerMixin.from_pretrained()](https://huggingface.co/docs/diffusers/main/en/api/schedulers/overview#diffusers.SchedulerMixin.from_pretrained) method, and unlike models, schedulers are **not parameterized** or **trained**; they are defined by a configuration file.\n",
    "\n",
    "Loading schedulers does not consume any significant amount of memory and the same configuration file can be used for a variety of different schedulers.\n",
    "For example, the following schedulers are compatible with [StableDiffusionPipeline](https://huggingface.co/docs/diffusers/main/en/api/pipelines/stable_diffusion/text2img#diffusers.StableDiffusionPipeline) which means you can load the same scheduler configuration file in any of these classes:"
   ]
  },
  {
   "cell_type": "code",
   "execution_count": null,
   "metadata": {},
   "outputs": [],
   "source": [
    "from diffusers import StableDiffusionPipeline\n",
    "from diffusers import (\n",
    "    DDPMScheduler,\n",
    "    DDIMScheduler,\n",
    "    PNDMScheduler,\n",
    "    LMSDiscreteScheduler,\n",
    "    EulerDiscreteScheduler,\n",
    "    EulerAncestralDiscreteScheduler,\n",
    "    DPMSolverMultistepScheduler,\n",
    ")\n",
    "\n",
    "repo_id = \"runwayml/stable-diffusion-v1-5\"\n",
    "\n",
    "ddpm = DDPMScheduler.from_pretrained(repo_id, subfolder=\"scheduler\")\n",
    "ddim = DDIMScheduler.from_pretrained(repo_id, subfolder=\"scheduler\")\n",
    "pndm = PNDMScheduler.from_pretrained(repo_id, subfolder=\"scheduler\")\n",
    "lms = LMSDiscreteScheduler.from_pretrained(repo_id, subfolder=\"scheduler\")\n",
    "euler_anc = EulerAncestralDiscreteScheduler.from_pretrained(repo_id, subfolder=\"scheduler\")\n",
    "euler = EulerDiscreteScheduler.from_pretrained(repo_id, subfolder=\"scheduler\")\n",
    "dpm = DPMSolverMultistepScheduler.from_pretrained(repo_id, subfolder=\"scheduler\")\n",
    "\n",
    "# replace `dpm` with any of `ddpm`, `ddim`, `pndm`, `lms`, `euler_anc`, `euler`\n",
    "pipeline = StableDiffusionPipeline.from_pretrained(repo_id, scheduler=dpm)"
   ]
  },
  {
   "cell_type": "markdown",
   "metadata": {},
   "source": [
    "## DiffusionPipeline explained"
   ]
  },
  {
   "cell_type": "markdown",
   "metadata": {},
   "source": [
    "As a class method, [DiffusionPipeline.from_pretrained()](https://huggingface.co/docs/diffusers/main/en/api/pipelines/overview#diffusers.DiffusionPipeline.from_pretrained) is responsible for two things:\n",
    "\n",
    "- Download the latest version of the folder structure required for inference and cache it. If the latest folder structure is available in the local cache, [DiffusionPipeline.from_pretrained()](https://huggingface.co/docs/diffusers/main/en/api/pipelines/overview#diffusers.DiffusionPipeline.from_pretrained) reuses the cache and won't redownload the files.\n",
    "- Load the cached weights into the correct pipeline [class](https://huggingface.co/docs/diffusers/main/en/using-diffusers/./api/pipelines/overview#diffusers-summary) - retrieved from the `model_index.json` file - and return an instance of it.\n",
    "\n",
    "The pipelines underlying folder structure corresponds directly with their class instances. For example, the [StableDiffusionPipeline](https://huggingface.co/docs/diffusers/main/en/api/pipelines/stable_diffusion/text2img#diffusers.StableDiffusionPipeline) corresponds to the folder structure in [`runwayml/stable-diffusion-v1-5`](https://huggingface.co/runwayml/stable-diffusion-v1-5)."
   ]
  },
  {
   "cell_type": "code",
   "execution_count": null,
   "metadata": {},
   "outputs": [],
   "source": [
    "from diffusers import DiffusionPipeline\n",
    "\n",
    "repo_id = \"runwayml/stable-diffusion-v1-5\"\n",
    "pipeline = DiffusionPipeline.from_pretrained(repo_id)\n",
    "print(pipeline)"
   ]
  },
  {
   "cell_type": "markdown",
   "metadata": {},
   "source": [
    "You'll see pipeline is an instance of [StableDiffusionPipeline](https://huggingface.co/docs/diffusers/main/en/api/pipelines/stable_diffusion/text2img#diffusers.StableDiffusionPipeline), which consists of seven components:\n",
    "\n",
    "- `\"feature_extractor\"`: a [CLIPFeatureExtractor](https://huggingface.co/docs/transformers/main/en/model_doc/clip#transformers.CLIPFeatureExtractor) from 🤗 Transformers.\n",
    "- `\"safety_checker\"`: a [component](https://github.com/huggingface/diffusers/blob/e55687e1e15407f60f32242027b7bb8170e58266/src/diffusers/pipelines/stable_diffusion/safety_checker.py#L32) for screening against harmful content.\n",
    "- `\"scheduler\"`: an instance of [PNDMScheduler](https://huggingface.co/docs/diffusers/main/en/api/schedulers/pndm#diffusers.PNDMScheduler).\n",
    "- `\"text_encoder\"`: a [CLIPTextModel](https://huggingface.co/docs/transformers/main/en/model_doc/clip#transformers.CLIPTextModel) from 🤗 Transformers.\n",
    "- `\"tokenizer\"`: a [CLIPTokenizer](https://huggingface.co/docs/transformers/main/en/model_doc/clip#transformers.CLIPTokenizer) from 🤗 Transformers.\n",
    "- `\"unet\"`: an instance of [UNet2DConditionModel](https://huggingface.co/docs/diffusers/main/en/api/models/unet2d-cond#diffusers.UNet2DConditionModel).\n",
    "- `\"vae\"` an instance of [AutoencoderKL](https://huggingface.co/docs/diffusers/main/en/api/models/autoencoderkl#diffusers.AutoencoderKL).\n",
    "\n",
    "```json\n",
    "StableDiffusionPipeline {\n",
    "  \"feature_extractor\": [\n",
    "    \"transformers\",\n",
    "    \"CLIPImageProcessor\"\n",
    "  ],\n",
    "  \"safety_checker\": [\n",
    "    \"stable_diffusion\",\n",
    "    \"StableDiffusionSafetyChecker\"\n",
    "  ],\n",
    "  \"scheduler\": [\n",
    "    \"diffusers\",\n",
    "    \"PNDMScheduler\"\n",
    "  ],\n",
    "  \"text_encoder\": [\n",
    "    \"transformers\",\n",
    "    \"CLIPTextModel\"\n",
    "  ],\n",
    "  \"tokenizer\": [\n",
    "    \"transformers\",\n",
    "    \"CLIPTokenizer\"\n",
    "  ],\n",
    "  \"unet\": [\n",
    "    \"diffusers\",\n",
    "    \"UNet2DConditionModel\"\n",
    "  ],\n",
    "  \"vae\": [\n",
    "    \"diffusers\",\n",
    "    \"AutoencoderKL\"\n",
    "  ]\n",
    "}\n",
    "```\n",
    "\n",
    "Compare the components of the pipeline instance to the [`runwayml/stable-diffusion-v1-5`](https://huggingface.co/runwayml/stable-diffusion-v1-5) folder structure, and you'll see there is a separate folder for each of the components in the repository:\n",
    "\n",
    "```\n",
    ".\n",
    "├── feature_extractor\n",
    "│   └── preprocessor_config.json\n",
    "├── model_index.json\n",
    "├── safety_checker\n",
    "│   ├── config.json\n",
    "│   └── pytorch_model.bin\n",
    "├── scheduler\n",
    "│   └── scheduler_config.json\n",
    "├── text_encoder\n",
    "│   ├── config.json\n",
    "│   └── pytorch_model.bin\n",
    "├── tokenizer\n",
    "│   ├── merges.txt\n",
    "│   ├── special_tokens_map.json\n",
    "│   ├── tokenizer_config.json\n",
    "│   └── vocab.json\n",
    "├── unet\n",
    "│   ├── config.json\n",
    "│   ├── diffusion_pytorch_model.bin\n",
    "└── vae\n",
    "    ├── config.json\n",
    "    ├── diffusion_pytorch_model.bin\n",
    "```\n",
    "\n",
    "You can access each of the components of the pipeline as an attribute to view its configuration:"
   ]
  },
  {
   "cell_type": "code",
   "execution_count": null,
   "metadata": {},
   "outputs": [],
   "source": [
    "pipeline.tokenizer\n",
    "CLIPTokenizer(\n",
    "    name_or_path=\"/root/.cache/huggingface/hub/models--runwayml--stable-diffusion-v1-5/snapshots/39593d5650112b4cc580433f6b0435385882d819/tokenizer\",\n",
    "    vocab_size=49408,\n",
    "    model_max_length=77,\n",
    "    is_fast=False,\n",
    "    padding_side=\"right\",\n",
    "    truncation_side=\"right\",\n",
    "    special_tokens={\n",
    "        \"bos_token\": AddedToken(\"<|startoftext|>\", rstrip=False, lstrip=False, single_word=False, normalized=True),\n",
    "        \"eos_token\": AddedToken(\"<|endoftext|>\", rstrip=False, lstrip=False, single_word=False, normalized=True),\n",
    "        \"unk_token\": AddedToken(\"<|endoftext|>\", rstrip=False, lstrip=False, single_word=False, normalized=True),\n",
    "        \"pad_token\": \"<|endoftext|>\",\n",
    "    },\n",
    ")"
   ]
  },
  {
   "cell_type": "markdown",
   "metadata": {},
   "source": [
    "Every pipeline expects a `model_index.json` file that tells the [DiffusionPipeline](https://huggingface.co/docs/diffusers/main/en/api/pipelines/overview#diffusers.DiffusionPipeline):\n",
    "\n",
    "- which pipeline class to load from `_class_name`\n",
    "- which version of 🧨 Diffusers was used to create the model in `_diffusers_version`\n",
    "- what components from which library are stored in the subfolders (`name` corresponds to the component and subfolder name, `library` corresponds to the name of the library to load the class from, and `class` corresponds to the class name)\n",
    "\n",
    "```json\n",
    "{\n",
    "  \"_class_name\": \"StableDiffusionPipeline\",\n",
    "  \"_diffusers_version\": \"0.6.0\",\n",
    "  \"feature_extractor\": [\n",
    "    \"transformers\",\n",
    "    \"CLIPImageProcessor\"\n",
    "  ],\n",
    "  \"safety_checker\": [\n",
    "    \"stable_diffusion\",\n",
    "    \"StableDiffusionSafetyChecker\"\n",
    "  ],\n",
    "  \"scheduler\": [\n",
    "    \"diffusers\",\n",
    "    \"PNDMScheduler\"\n",
    "  ],\n",
    "  \"text_encoder\": [\n",
    "    \"transformers\",\n",
    "    \"CLIPTextModel\"\n",
    "  ],\n",
    "  \"tokenizer\": [\n",
    "    \"transformers\",\n",
    "    \"CLIPTokenizer\"\n",
    "  ],\n",
    "  \"unet\": [\n",
    "    \"diffusers\",\n",
    "    \"UNet2DConditionModel\"\n",
    "  ],\n",
    "  \"vae\": [\n",
    "    \"diffusers\",\n",
    "    \"AutoencoderKL\"\n",
    "  ]\n",
    "}\n",
    "```"
   ]
  }
 ],
 "metadata": {},
 "nbformat": 4,
 "nbformat_minor": 4
}
