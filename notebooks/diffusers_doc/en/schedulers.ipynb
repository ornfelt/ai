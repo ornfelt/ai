{
 "cells": [
  {
   "cell_type": "markdown",
   "metadata": {},
   "source": [
    "# Schedulers"
   ]
  },
  {
   "cell_type": "markdown",
   "metadata": {},
   "source": [
    "Diffusion pipelines are inherently a collection of diffusion models and schedulers that are partly independent from each other. This means that one is able to switch out parts of the pipeline to better customize \n",
    "a pipeline to one's use case. The best example of this is the [Schedulers](https://huggingface.co/docs/diffusers/main/en/using-diffusers/../api/schedulers/overview.mdx).\n",
    "\n",
    "Whereas diffusion models usually simply define the forward pass from noise to a less noisy sample, \n",
    "schedulers define the whole denoising process, *i.e.*:\n",
    "- How many denoising steps?\n",
    "- Stochastic or deterministic?\n",
    "- What algorithm to use to find the denoised sample\n",
    "\n",
    "They can be quite complex and often define a trade-off between **denoising speed** and **denoising quality**.\n",
    "It is extremely difficult to measure quantitatively which scheduler works best for a given diffusion pipeline, so it is often recommended to simply try out which works best.\n",
    "\n",
    "The following paragraphs show how to do so with the 🧨 Diffusers library."
   ]
  },
  {
   "cell_type": "markdown",
   "metadata": {},
   "source": [
    "## Load pipeline"
   ]
  },
  {
   "cell_type": "markdown",
   "metadata": {},
   "source": [
    "Let's start by loading the [`runwayml/stable-diffusion-v1-5`](https://huggingface.co/runwayml/stable-diffusion-v1-5) model in the [DiffusionPipeline](https://huggingface.co/docs/diffusers/main/en/api/pipelines/overview#diffusers.DiffusionPipeline):"
   ]
  },
  {
   "cell_type": "code",
   "execution_count": null,
   "metadata": {},
   "outputs": [],
   "source": [
    "from huggingface_hub import login\n",
    "from diffusers import DiffusionPipeline\n",
    "import torch\n",
    "\n",
    "login()\n",
    "\n",
    "pipeline = DiffusionPipeline.from_pretrained(\"runwayml/stable-diffusion-v1-5\", torch_dtype=torch.float16)"
   ]
  },
  {
   "cell_type": "markdown",
   "metadata": {},
   "source": [
    "Next, we move it to GPU:"
   ]
  },
  {
   "cell_type": "code",
   "execution_count": null,
   "metadata": {},
   "outputs": [],
   "source": [
    "pipeline.to(\"cuda\")"
   ]
  },
  {
   "cell_type": "markdown",
   "metadata": {},
   "source": [
    "## Access the scheduler"
   ]
  },
  {
   "cell_type": "markdown",
   "metadata": {},
   "source": [
    "The scheduler is always one of the components of the pipeline and is usually called `\"scheduler\"`.\n",
    "So it can be accessed via the `\"scheduler\"` property."
   ]
  },
  {
   "cell_type": "code",
   "execution_count": null,
   "metadata": {},
   "outputs": [],
   "source": [
    "pipeline.scheduler"
   ]
  },
  {
   "cell_type": "markdown",
   "metadata": {},
   "source": [
    "**Output**:\n",
    "```\n",
    "PNDMScheduler {\n",
    "  \"_class_name\": \"PNDMScheduler\",\n",
    "  \"_diffusers_version\": \"0.8.0.dev0\",\n",
    "  \"beta_end\": 0.012,\n",
    "  \"beta_schedule\": \"scaled_linear\",\n",
    "  \"beta_start\": 0.00085,\n",
    "  \"clip_sample\": false,\n",
    "  \"num_train_timesteps\": 1000,\n",
    "  \"set_alpha_to_one\": false,\n",
    "  \"skip_prk_steps\": true,\n",
    "  \"steps_offset\": 1,\n",
    "  \"trained_betas\": null\n",
    "}\n",
    "```\n",
    "\n",
    "We can see that the scheduler is of type [PNDMScheduler](https://huggingface.co/docs/diffusers/main/en/api/schedulers/pndm#diffusers.PNDMScheduler). \n",
    "Cool, now let's compare the scheduler in its performance to other schedulers.\n",
    "First we define a prompt on which we will test all the different schedulers:"
   ]
  },
  {
   "cell_type": "code",
   "execution_count": null,
   "metadata": {},
   "outputs": [],
   "source": [
    "prompt = \"A photograph of an astronaut riding a horse on Mars, high resolution, high definition.\""
   ]
  },
  {
   "cell_type": "markdown",
   "metadata": {},
   "source": [
    "Next, we create a generator from a random seed that will ensure that we can generate similar images as well as run the pipeline:"
   ]
  },
  {
   "cell_type": "code",
   "execution_count": null,
   "metadata": {},
   "outputs": [],
   "source": [
    "generator = torch.Generator(device=\"cuda\").manual_seed(8)\n",
    "image = pipeline(prompt, generator=generator).images[0]\n",
    "image"
   ]
  },
  {
   "cell_type": "markdown",
   "metadata": {},
   "source": [
    "<p align=\"center\">\n",
    "    <br>\n",
    "    <img src=\"https://huggingface.co/datasets/patrickvonplaten/images/resolve/main/diffusers_docs/astronaut_pndm.png\" width=\"400\"/>\n",
    "    <br>\n",
    "</p>"
   ]
  },
  {
   "cell_type": "markdown",
   "metadata": {},
   "source": [
    "## Changing the scheduler"
   ]
  },
  {
   "cell_type": "markdown",
   "metadata": {},
   "source": [
    "Now we show how easy it is to change the scheduler of a pipeline. Every scheduler has a property `SchedulerMixin.compatibles` \n",
    "which defines all compatible schedulers. You can take a look at all available, compatible schedulers for the Stable Diffusion pipeline as follows."
   ]
  },
  {
   "cell_type": "code",
   "execution_count": null,
   "metadata": {},
   "outputs": [],
   "source": [
    "pipeline.scheduler.compatibles"
   ]
  },
  {
   "cell_type": "markdown",
   "metadata": {},
   "source": [
    "**Output**:\n",
    "```\n",
    "[diffusers.schedulers.scheduling_lms_discrete.LMSDiscreteScheduler,\n",
    " diffusers.schedulers.scheduling_ddim.DDIMScheduler,\n",
    " diffusers.schedulers.scheduling_dpmsolver_multistep.DPMSolverMultistepScheduler,\n",
    " diffusers.schedulers.scheduling_euler_discrete.EulerDiscreteScheduler,\n",
    " diffusers.schedulers.scheduling_pndm.PNDMScheduler,\n",
    " diffusers.schedulers.scheduling_ddpm.DDPMScheduler,\n",
    " diffusers.schedulers.scheduling_euler_ancestral_discrete.EulerAncestralDiscreteScheduler]\n",
    "```\n",
    "\n",
    "Cool, lots of schedulers to look at. Feel free to have a look at their respective class definitions: \n",
    "\n",
    "- [LMSDiscreteScheduler](https://huggingface.co/docs/diffusers/main/en/api/schedulers/lms_discrete#diffusers.LMSDiscreteScheduler), \n",
    "- [DDIMScheduler](https://huggingface.co/docs/diffusers/main/en/api/schedulers/ddim#diffusers.DDIMScheduler), \n",
    "- [DPMSolverMultistepScheduler](https://huggingface.co/docs/diffusers/main/en/api/schedulers/multistep_dpm_solver#diffusers.DPMSolverMultistepScheduler), \n",
    "- [EulerDiscreteScheduler](https://huggingface.co/docs/diffusers/main/en/api/schedulers/euler#diffusers.EulerDiscreteScheduler), \n",
    "- [PNDMScheduler](https://huggingface.co/docs/diffusers/main/en/api/schedulers/pndm#diffusers.PNDMScheduler), \n",
    "- [DDPMScheduler](https://huggingface.co/docs/diffusers/main/en/api/schedulers/ddpm#diffusers.DDPMScheduler), \n",
    "- [EulerAncestralDiscreteScheduler](https://huggingface.co/docs/diffusers/main/en/api/schedulers/euler_ancestral#diffusers.EulerAncestralDiscreteScheduler).\n",
    "\n",
    "We will now compare the input prompt with all other schedulers. To change the scheduler of the pipeline you can make use of the \n",
    "convenient `ConfigMixin.config` property in combination with the [ConfigMixin.from_config()](https://huggingface.co/docs/diffusers/main/en/api/configuration#diffusers.ConfigMixin.from_config) function."
   ]
  },
  {
   "cell_type": "code",
   "execution_count": null,
   "metadata": {},
   "outputs": [],
   "source": [
    "pipeline.scheduler.config"
   ]
  },
  {
   "cell_type": "markdown",
   "metadata": {},
   "source": [
    "returns a dictionary of the configuration of the scheduler:\n",
    "\n",
    "**Output**:\n",
    "```\n",
    "FrozenDict([('num_train_timesteps', 1000),\n",
    "            ('beta_start', 0.00085),\n",
    "            ('beta_end', 0.012),\n",
    "            ('beta_schedule', 'scaled_linear'),\n",
    "            ('trained_betas', None),\n",
    "            ('skip_prk_steps', True),\n",
    "            ('set_alpha_to_one', False),\n",
    "            ('steps_offset', 1),\n",
    "            ('_class_name', 'PNDMScheduler'),\n",
    "            ('_diffusers_version', '0.8.0.dev0'),\n",
    "            ('clip_sample', False)])\n",
    "```\n",
    "\n",
    "This configuration can then be used to instantiate a scheduler\n",
    "of a different class that is compatible with the pipeline. Here, \n",
    "we change the scheduler to the [DDIMScheduler](https://huggingface.co/docs/diffusers/main/en/api/schedulers/ddim#diffusers.DDIMScheduler)."
   ]
  },
  {
   "cell_type": "code",
   "execution_count": null,
   "metadata": {},
   "outputs": [],
   "source": [
    "from diffusers import DDIMScheduler\n",
    "\n",
    "pipeline.scheduler = DDIMScheduler.from_config(pipeline.scheduler.config)"
   ]
  },
  {
   "cell_type": "markdown",
   "metadata": {},
   "source": [
    "Cool, now we can run the pipeline again to compare the generation quality."
   ]
  },
  {
   "cell_type": "code",
   "execution_count": null,
   "metadata": {},
   "outputs": [],
   "source": [
    "generator = torch.Generator(device=\"cuda\").manual_seed(8)\n",
    "image = pipeline(prompt, generator=generator).images[0]\n",
    "image"
   ]
  },
  {
   "cell_type": "markdown",
   "metadata": {},
   "source": [
    "<p align=\"center\">\n",
    "    <br>\n",
    "    <img src=\"https://huggingface.co/datasets/patrickvonplaten/images/resolve/main/diffusers_docs/astronaut_ddim.png\" width=\"400\"/>\n",
    "    <br>\n",
    "</p>\n",
    "\n",
    "If you are a JAX/Flax user, please check [this section](#changing-the-scheduler-in-flax) instead."
   ]
  },
  {
   "cell_type": "markdown",
   "metadata": {},
   "source": [
    "## Compare schedulers"
   ]
  },
  {
   "cell_type": "markdown",
   "metadata": {},
   "source": [
    "So far we have tried running the stable diffusion pipeline with two schedulers: [PNDMScheduler](https://huggingface.co/docs/diffusers/main/en/api/schedulers/pndm#diffusers.PNDMScheduler) and [DDIMScheduler](https://huggingface.co/docs/diffusers/main/en/api/schedulers/ddim#diffusers.DDIMScheduler). \n",
    "A number of better schedulers have been released that can be run with much fewer steps, let's compare them here:\n",
    "\n",
    "[LMSDiscreteScheduler](https://huggingface.co/docs/diffusers/main/en/api/schedulers/lms_discrete#diffusers.LMSDiscreteScheduler) usually leads to better results:"
   ]
  },
  {
   "cell_type": "code",
   "execution_count": null,
   "metadata": {},
   "outputs": [],
   "source": [
    "from diffusers import LMSDiscreteScheduler\n",
    "\n",
    "pipeline.scheduler = LMSDiscreteScheduler.from_config(pipeline.scheduler.config)\n",
    "\n",
    "generator = torch.Generator(device=\"cuda\").manual_seed(8)\n",
    "image = pipeline(prompt, generator=generator).images[0]\n",
    "image"
   ]
  },
  {
   "cell_type": "markdown",
   "metadata": {},
   "source": [
    "<p align=\"center\">\n",
    "    <br>\n",
    "    <img src=\"https://huggingface.co/datasets/patrickvonplaten/images/resolve/main/diffusers_docs/astronaut_lms.png\" width=\"400\"/>\n",
    "    <br>\n",
    "</p>\n",
    "\n",
    "\n",
    "[EulerDiscreteScheduler](https://huggingface.co/docs/diffusers/main/en/api/schedulers/euler#diffusers.EulerDiscreteScheduler) and [EulerAncestralDiscreteScheduler](https://huggingface.co/docs/diffusers/main/en/api/schedulers/euler_ancestral#diffusers.EulerAncestralDiscreteScheduler) can generate high quality results with as little as 30 steps."
   ]
  },
  {
   "cell_type": "code",
   "execution_count": null,
   "metadata": {},
   "outputs": [],
   "source": [
    "from diffusers import EulerDiscreteScheduler\n",
    "\n",
    "pipeline.scheduler = EulerDiscreteScheduler.from_config(pipeline.scheduler.config)\n",
    "\n",
    "generator = torch.Generator(device=\"cuda\").manual_seed(8)\n",
    "image = pipeline(prompt, generator=generator, num_inference_steps=30).images[0]\n",
    "image"
   ]
  },
  {
   "cell_type": "markdown",
   "metadata": {},
   "source": [
    "<p align=\"center\">\n",
    "    <br>\n",
    "    <img src=\"https://huggingface.co/datasets/patrickvonplaten/images/resolve/main/diffusers_docs/astronaut_euler_discrete.png\" width=\"400\"/>\n",
    "    <br>\n",
    "</p>\n",
    "\n",
    "\n",
    "and:"
   ]
  },
  {
   "cell_type": "code",
   "execution_count": null,
   "metadata": {},
   "outputs": [],
   "source": [
    "from diffusers import EulerAncestralDiscreteScheduler\n",
    "\n",
    "pipeline.scheduler = EulerAncestralDiscreteScheduler.from_config(pipeline.scheduler.config)\n",
    "\n",
    "generator = torch.Generator(device=\"cuda\").manual_seed(8)\n",
    "image = pipeline(prompt, generator=generator, num_inference_steps=30).images[0]\n",
    "image"
   ]
  },
  {
   "cell_type": "markdown",
   "metadata": {},
   "source": [
    "<p align=\"center\">\n",
    "    <br>\n",
    "    <img src=\"https://huggingface.co/datasets/patrickvonplaten/images/resolve/main/diffusers_docs/astronaut_euler_ancestral.png\" width=\"400\"/>\n",
    "    <br>\n",
    "</p>\n",
    "\n",
    "\n",
    "At the time of writing this doc [DPMSolverMultistepScheduler](https://huggingface.co/docs/diffusers/main/en/api/schedulers/multistep_dpm_solver#diffusers.DPMSolverMultistepScheduler) gives arguably the best speed/quality trade-off and can be run with as little \n",
    "as 20 steps."
   ]
  },
  {
   "cell_type": "code",
   "execution_count": null,
   "metadata": {},
   "outputs": [],
   "source": [
    "from diffusers import DPMSolverMultistepScheduler\n",
    "\n",
    "pipeline.scheduler = DPMSolverMultistepScheduler.from_config(pipeline.scheduler.config)\n",
    "\n",
    "generator = torch.Generator(device=\"cuda\").manual_seed(8)\n",
    "image = pipeline(prompt, generator=generator, num_inference_steps=20).images[0]\n",
    "image"
   ]
  },
  {
   "cell_type": "markdown",
   "metadata": {},
   "source": [
    "<p align=\"center\">\n",
    "    <br>\n",
    "    <img src=\"https://huggingface.co/datasets/patrickvonplaten/images/resolve/main/diffusers_docs/astronaut_dpm.png\" width=\"400\"/>\n",
    "    <br>\n",
    "</p>\n",
    "\n",
    "As you can see most images look very similar and are arguably of very similar quality. It often really depends on the specific use case which scheduler to choose. A good approach is always to run multiple different\n",
    "schedulers to compare results."
   ]
  },
  {
   "cell_type": "markdown",
   "metadata": {},
   "source": [
    "## Changing the Scheduler in Flax"
   ]
  },
  {
   "cell_type": "markdown",
   "metadata": {},
   "source": [
    "If you are a JAX/Flax user, you can also change the default pipeline scheduler. This is a complete example of how to run inference using the Flax Stable Diffusion pipeline and the super-fast [DDPM-Solver++ scheduler](https://huggingface.co/docs/diffusers/main/en/using-diffusers/../api/schedulers/multistep_dpm_solver):\n",
    "\n",
    "```Python\n",
    "import jax\n",
    "import numpy as np\n",
    "from flax.jax_utils import replicate\n",
    "from flax.training.common_utils import shard\n",
    "\n",
    "from diffusers import FlaxStableDiffusionPipeline, FlaxDPMSolverMultistepScheduler\n",
    "\n",
    "model_id = \"runwayml/stable-diffusion-v1-5\"\n",
    "scheduler, scheduler_state = FlaxDPMSolverMultistepScheduler.from_pretrained(\n",
    "    model_id,\n",
    "    subfolder=\"scheduler\"\n",
    ")\n",
    "pipeline, params = FlaxStableDiffusionPipeline.from_pretrained(\n",
    "    model_id,\n",
    "    scheduler=scheduler,\n",
    "    revision=\"bf16\",\n",
    "    dtype=jax.numpy.bfloat16,\n",
    ")\n",
    "params[\"scheduler\"] = scheduler_state\n",
    "\n",
    "# Generate 1 image per parallel device (8 on TPUv2-8 or TPUv3-8)\n",
    "prompt = \"a photo of an astronaut riding a horse on mars\"\n",
    "num_samples = jax.device_count()\n",
    "prompt_ids = pipeline.prepare_inputs([prompt] * num_samples)\n",
    "\n",
    "prng_seed = jax.random.PRNGKey(0)\n",
    "num_inference_steps = 25\n",
    "\n",
    "# shard inputs and rng\n",
    "params = replicate(params)\n",
    "prng_seed = jax.random.split(prng_seed, jax.device_count())\n",
    "prompt_ids = shard(prompt_ids)\n",
    "\n",
    "images = pipeline(prompt_ids, params, prng_seed, num_inference_steps, jit=True).images\n",
    "images = pipeline.numpy_to_pil(np.asarray(images.reshape((num_samples,) + images.shape[-3:])))\n",
    "```\n",
    "\n",
    "<Tip warning={true}>\n",
    "\n",
    "The following Flax schedulers are _not yet compatible_ with the Flax Stable Diffusion Pipeline:\n",
    "\n",
    "- `FlaxLMSDiscreteScheduler`\n",
    "- `FlaxDDPMScheduler`\n",
    "\n",
    "</Tip>"
   ]
  }
 ],
 "metadata": {},
 "nbformat": 4,
 "nbformat_minor": 4
}
