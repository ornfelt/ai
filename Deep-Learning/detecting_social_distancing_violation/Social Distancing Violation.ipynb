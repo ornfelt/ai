{
 "cells": [
  {
   "cell_type": "code",
   "execution_count": 1,
   "metadata": {
    "ExecuteTime": {
     "end_time": "2020-05-05T15:09:52.748516Z",
     "start_time": "2020-05-05T15:09:52.477078Z"
    }
   },
   "outputs": [],
   "source": [
    "import pandas as pd\n",
    "import random\n",
    "import cv2\n",
    "import os\n",
    "import matplotlib.pyplot as plt\n",
    "%matplotlib inline\n",
    "import time\n",
    "import numpy as np"
   ]
  },
  {
   "cell_type": "markdown",
   "metadata": {},
   "source": [
    "## Load Tracking Results"
   ]
  },
  {
   "cell_type": "code",
   "execution_count": 2,
   "metadata": {
    "ExecuteTime": {
     "end_time": "2020-05-05T15:09:52.773694Z",
     "start_time": "2020-05-05T15:09:52.749551Z"
    }
   },
   "outputs": [
    {
     "data": {
      "text/html": [
       "<div>\n",
       "<style scoped>\n",
       "    .dataframe tbody tr th:only-of-type {\n",
       "        vertical-align: middle;\n",
       "    }\n",
       "\n",
       "    .dataframe tbody tr th {\n",
       "        vertical-align: top;\n",
       "    }\n",
       "\n",
       "    .dataframe thead th {\n",
       "        text-align: right;\n",
       "    }\n",
       "</style>\n",
       "<table border=\"1\" class=\"dataframe\">\n",
       "  <thead>\n",
       "    <tr style=\"text-align: right;\">\n",
       "      <th></th>\n",
       "      <th>frame_num</th>\n",
       "      <th>id</th>\n",
       "      <th>bbox_xmin</th>\n",
       "      <th>bbox_ymin</th>\n",
       "      <th>bbox_xmax</th>\n",
       "      <th>bbox_ymax</th>\n",
       "    </tr>\n",
       "  </thead>\n",
       "  <tbody>\n",
       "    <tr>\n",
       "      <th>0</th>\n",
       "      <td>0</td>\n",
       "      <td>-1</td>\n",
       "      <td>261.01556</td>\n",
       "      <td>813.442000</td>\n",
       "      <td>363.86530</td>\n",
       "      <td>1072.62330</td>\n",
       "    </tr>\n",
       "    <tr>\n",
       "      <th>1</th>\n",
       "      <td>0</td>\n",
       "      <td>-1</td>\n",
       "      <td>1614.05760</td>\n",
       "      <td>636.934940</td>\n",
       "      <td>1704.69370</td>\n",
       "      <td>837.91077</td>\n",
       "    </tr>\n",
       "    <tr>\n",
       "      <th>2</th>\n",
       "      <td>0</td>\n",
       "      <td>-1</td>\n",
       "      <td>883.42316</td>\n",
       "      <td>416.066000</td>\n",
       "      <td>966.37427</td>\n",
       "      <td>594.06540</td>\n",
       "    </tr>\n",
       "    <tr>\n",
       "      <th>3</th>\n",
       "      <td>0</td>\n",
       "      <td>-1</td>\n",
       "      <td>1456.64400</td>\n",
       "      <td>47.858955</td>\n",
       "      <td>1525.22530</td>\n",
       "      <td>168.81123</td>\n",
       "    </tr>\n",
       "    <tr>\n",
       "      <th>4</th>\n",
       "      <td>0</td>\n",
       "      <td>-1</td>\n",
       "      <td>1654.75800</td>\n",
       "      <td>133.837520</td>\n",
       "      <td>1710.17480</td>\n",
       "      <td>273.05527</td>\n",
       "    </tr>\n",
       "  </tbody>\n",
       "</table>\n",
       "</div>"
      ],
      "text/plain": [
       "   frame_num  id   bbox_xmin   bbox_ymin   bbox_xmax   bbox_ymax\n",
       "0          0  -1   261.01556  813.442000   363.86530  1072.62330\n",
       "1          0  -1  1614.05760  636.934940  1704.69370   837.91077\n",
       "2          0  -1   883.42316  416.066000   966.37427   594.06540\n",
       "3          0  -1  1456.64400   47.858955  1525.22530   168.81123\n",
       "4          0  -1  1654.75800  133.837520  1710.17480   273.05527"
      ]
     },
     "execution_count": 2,
     "metadata": {},
     "output_type": "execute_result"
    }
   ],
   "source": [
    "df = pd.read_csv('tracker_results.csv')\n",
    "df.head()"
   ]
  },
  {
   "cell_type": "markdown",
   "metadata": {},
   "source": [
    "Here we have all the keys pieces of information we need:\n",
    "    * frame_num - Frame Number in the Video\n",
    "    * id - Track ID to track a person across time\n",
    "    * bbox_xmin, bbox_ymin, bbox_xmax, bbox_ymax - bounding box coordinates of the tracked box"
   ]
  },
  {
   "cell_type": "markdown",
   "metadata": {},
   "source": [
    "### Run logic for a subset of frames"
   ]
  },
  {
   "cell_type": "code",
   "execution_count": 3,
   "metadata": {
    "ExecuteTime": {
     "end_time": "2020-05-05T15:09:52.778803Z",
     "start_time": "2020-05-05T15:09:52.775010Z"
    }
   },
   "outputs": [],
   "source": [
    "df= df[df.frame_num <=600]\n",
    "\n",
    "## Create a dictionary to count total violations\n",
    "track_list = df.id.unique()\n",
    "track_violations = { i : [] for i in track_list }"
   ]
  },
  {
   "cell_type": "markdown",
   "metadata": {},
   "source": [
    "## Measuring Distance between people"
   ]
  },
  {
   "cell_type": "code",
   "execution_count": 4,
   "metadata": {
    "ExecuteTime": {
     "end_time": "2020-05-05T15:09:52.783029Z",
     "start_time": "2020-05-05T15:09:52.779902Z"
    }
   },
   "outputs": [],
   "source": [
    "## Initialize two new violations\n",
    "df['safe'] = 0\n",
    "df['count_violations']=0"
   ]
  },
  {
   "cell_type": "markdown",
   "metadata": {},
   "source": [
    "### Create Helper Functions"
   ]
  },
  {
   "cell_type": "code",
   "execution_count": 5,
   "metadata": {
    "ExecuteTime": {
     "end_time": "2020-05-05T15:09:52.787425Z",
     "start_time": "2020-05-05T15:09:52.784015Z"
    }
   },
   "outputs": [],
   "source": [
    "def distance_boxes(boxA, boxB):\n",
    "    import math\n",
    "    center_boxA = [(boxA[0] + boxA[2])/ 2.0, (boxA[1] + boxA[3])/2.0]\n",
    "    center_boxB = [(boxB[0] + boxB[2])/ 2.0, (boxB[1] + boxB[3])/2.0]\n",
    "    pixel_distance  = math.sqrt( ((center_boxA[0]-center_boxB[0])**2)+((center_boxA[1]-center_boxB[1])**2) )\n",
    "    return pixel_distance"
   ]
  },
  {
   "cell_type": "code",
   "execution_count": 6,
   "metadata": {
    "ExecuteTime": {
     "end_time": "2020-05-05T15:09:52.794019Z",
     "start_time": "2020-05-05T15:09:52.788448Z"
    }
   },
   "outputs": [],
   "source": [
    "def get_bbox(frame_num, track):\n",
    "    bbox_list = []\n",
    "    data = df[(df.frame_num == frame_num) & (df.id == track)].reset_index()\n",
    "    if data.shape[0] > 0:\n",
    "        x1 = int(data.at[0, 'bbox_xmin'])\n",
    "        bbox_list.append(x1)\n",
    "        y1 = int(data.at[0, 'bbox_ymin'])\n",
    "        bbox_list.append(y1)\n",
    "        x2 = int(data.at[0, 'bbox_xmax'])\n",
    "        bbox_list.append(x2)\n",
    "        y2 = int(data.at[0, 'bbox_ymax'])\n",
    "        bbox_list.append(y2)\n",
    "        \n",
    "    return bbox_list"
   ]
  },
  {
   "cell_type": "markdown",
   "metadata": {},
   "source": [
    "### Main Function for measuring distance b/w players and highlighting unsafe behavior"
   ]
  },
  {
   "cell_type": "code",
   "execution_count": 7,
   "metadata": {
    "ExecuteTime": {
     "end_time": "2020-05-05T15:09:52.802458Z",
     "start_time": "2020-05-05T15:09:52.795147Z"
    }
   },
   "outputs": [],
   "source": [
    "def model_distancing(df,  proximity):\n",
    "\n",
    "    print(\"Simulation Started\")\n",
    "    time1 = time.time()\n",
    "    max_frame = df['frame_num'].max()\n",
    "    for frame_num in range(3, max_frame):\n",
    "        pairs_done = []\n",
    "        if frame_num % 50 == 0:\n",
    "            print(\"Completed: \", frame_num)\n",
    "        ## Look at all tracks in this frame\n",
    "        tracks_this_frame = list(df[df.frame_num==frame_num]['id'])\n",
    "        ## Measure distance between this and every other track\n",
    "        for track in tracks_this_frame:\n",
    "            for other in tracks_this_frame:\n",
    "                ## Don't match to yourself\n",
    "                if track == other:\n",
    "                    pass\n",
    "                else:\n",
    "                    this_pair = str(track) + \"-\" + str(other)\n",
    "                    if this_pair not in pairs_done:\n",
    "                        pixel_dist = distance_boxes(get_bbox(frame_num, track), get_bbox(frame_num, other))\n",
    "                        ## Reverse pair\n",
    "                        reverse_pair = str(other) + \"-\" + str(track)\n",
    "                        ## Append both to pairs done to save time\n",
    "                        pairs_done.append(this_pair)\n",
    "                        pairs_done.append(reverse_pair)\n",
    "                        if pixel_dist < proximity:\n",
    "                            ## If Violation then both parties get unsafe behavior\n",
    "                            index_tr = np.where((df.frame_num == frame_num) & (df.id == track))[0].tolist()\n",
    "                            index_oth = np.where((df.frame_num == frame_num) & (df.id == other))[0].tolist()\n",
    "                            df.set_value(index_tr[0], 'safe', 1)\n",
    "                            df.set_value(index_oth[0], 'safe', 1)\n",
    "                            \n",
    "                            ## Increment count of violations\n",
    "                            track_violations[track].append(other)\n",
    "                            track_violations[other].append(track)\n",
    "                            \n",
    "            ## Append the total violations to data frame\n",
    "            index_tr = np.where((df.frame_num == frame_num) & (df.id == track))[0].tolist()\n",
    "            df.set_value(index_tr[0], 'count_violations', len(list(set(track_violations[track]))))\n",
    "        \n",
    "                       \n",
    "    print(\"Simulation Complete\")\n",
    "    print(\"Time Taken: \", time.time() - time1)\n",
    "    return df"
   ]
  },
  {
   "cell_type": "code",
   "execution_count": 8,
   "metadata": {
    "ExecuteTime": {
     "end_time": "2020-05-05T15:09:52.809050Z",
     "start_time": "2020-05-05T15:09:52.804607Z"
    }
   },
   "outputs": [],
   "source": [
    "proximity = 70"
   ]
  },
  {
   "cell_type": "code",
   "execution_count": 9,
   "metadata": {
    "ExecuteTime": {
     "end_time": "2020-05-05T15:14:08.501084Z",
     "start_time": "2020-05-05T15:09:52.810199Z"
    }
   },
   "outputs": [
    {
     "name": "stdout",
     "output_type": "stream",
     "text": [
      "Simulation Started\n"
     ]
    },
    {
     "name": "stderr",
     "output_type": "stream",
     "text": [
      "/home/priya/miniconda3/envs/tf13/lib/python3.7/site-packages/ipykernel_launcher.py:40: FutureWarning: set_value is deprecated and will be removed in a future release. Please use .at[] or .iat[] accessors instead\n",
      "/home/priya/miniconda3/envs/tf13/lib/python3.7/site-packages/ipykernel_launcher.py:31: FutureWarning: set_value is deprecated and will be removed in a future release. Please use .at[] or .iat[] accessors instead\n",
      "/home/priya/miniconda3/envs/tf13/lib/python3.7/site-packages/ipykernel_launcher.py:32: FutureWarning: set_value is deprecated and will be removed in a future release. Please use .at[] or .iat[] accessors instead\n"
     ]
    },
    {
     "name": "stdout",
     "output_type": "stream",
     "text": [
      "Completed:  50\n",
      "Completed:  100\n",
      "Completed:  150\n",
      "Completed:  200\n",
      "Completed:  250\n",
      "Completed:  300\n",
      "Completed:  350\n",
      "Completed:  400\n",
      "Completed:  450\n",
      "Completed:  500\n",
      "Completed:  550\n",
      "Simulation Complete\n",
      "Time Taken:  255.6870801448822\n"
     ]
    }
   ],
   "source": [
    "df = model_distancing(df, proximity)"
   ]
  },
  {
   "cell_type": "markdown",
   "metadata": {},
   "source": [
    "## Analyzing the results "
   ]
  },
  {
   "cell_type": "code",
   "execution_count": 10,
   "metadata": {
    "ExecuteTime": {
     "end_time": "2020-05-05T15:14:08.508614Z",
     "start_time": "2020-05-05T15:14:08.502300Z"
    }
   },
   "outputs": [
    {
     "data": {
      "text/html": [
       "<div>\n",
       "<style scoped>\n",
       "    .dataframe tbody tr th:only-of-type {\n",
       "        vertical-align: middle;\n",
       "    }\n",
       "\n",
       "    .dataframe tbody tr th {\n",
       "        vertical-align: top;\n",
       "    }\n",
       "\n",
       "    .dataframe thead th {\n",
       "        text-align: right;\n",
       "    }\n",
       "</style>\n",
       "<table border=\"1\" class=\"dataframe\">\n",
       "  <thead>\n",
       "    <tr style=\"text-align: right;\">\n",
       "      <th></th>\n",
       "      <th>frame_num</th>\n",
       "      <th>id</th>\n",
       "      <th>bbox_xmin</th>\n",
       "      <th>bbox_ymin</th>\n",
       "      <th>bbox_xmax</th>\n",
       "      <th>bbox_ymax</th>\n",
       "      <th>safe</th>\n",
       "      <th>count_violations</th>\n",
       "    </tr>\n",
       "  </thead>\n",
       "  <tbody>\n",
       "    <tr>\n",
       "      <th>0</th>\n",
       "      <td>0</td>\n",
       "      <td>-1</td>\n",
       "      <td>261.01556</td>\n",
       "      <td>813.442000</td>\n",
       "      <td>363.86530</td>\n",
       "      <td>1072.62330</td>\n",
       "      <td>0</td>\n",
       "      <td>0</td>\n",
       "    </tr>\n",
       "    <tr>\n",
       "      <th>1</th>\n",
       "      <td>0</td>\n",
       "      <td>-1</td>\n",
       "      <td>1614.05760</td>\n",
       "      <td>636.934940</td>\n",
       "      <td>1704.69370</td>\n",
       "      <td>837.91077</td>\n",
       "      <td>0</td>\n",
       "      <td>0</td>\n",
       "    </tr>\n",
       "    <tr>\n",
       "      <th>2</th>\n",
       "      <td>0</td>\n",
       "      <td>-1</td>\n",
       "      <td>883.42316</td>\n",
       "      <td>416.066000</td>\n",
       "      <td>966.37427</td>\n",
       "      <td>594.06540</td>\n",
       "      <td>0</td>\n",
       "      <td>0</td>\n",
       "    </tr>\n",
       "    <tr>\n",
       "      <th>3</th>\n",
       "      <td>0</td>\n",
       "      <td>-1</td>\n",
       "      <td>1456.64400</td>\n",
       "      <td>47.858955</td>\n",
       "      <td>1525.22530</td>\n",
       "      <td>168.81123</td>\n",
       "      <td>0</td>\n",
       "      <td>0</td>\n",
       "    </tr>\n",
       "    <tr>\n",
       "      <th>4</th>\n",
       "      <td>0</td>\n",
       "      <td>-1</td>\n",
       "      <td>1654.75800</td>\n",
       "      <td>133.837520</td>\n",
       "      <td>1710.17480</td>\n",
       "      <td>273.05527</td>\n",
       "      <td>0</td>\n",
       "      <td>0</td>\n",
       "    </tr>\n",
       "  </tbody>\n",
       "</table>\n",
       "</div>"
      ],
      "text/plain": [
       "   frame_num  id   bbox_xmin   bbox_ymin   bbox_xmax   bbox_ymax  safe  \\\n",
       "0          0  -1   261.01556  813.442000   363.86530  1072.62330     0   \n",
       "1          0  -1  1614.05760  636.934940  1704.69370   837.91077     0   \n",
       "2          0  -1   883.42316  416.066000   966.37427   594.06540     0   \n",
       "3          0  -1  1456.64400   47.858955  1525.22530   168.81123     0   \n",
       "4          0  -1  1654.75800  133.837520  1710.17480   273.05527     0   \n",
       "\n",
       "   count_violations  \n",
       "0                 0  \n",
       "1                 0  \n",
       "2                 0  \n",
       "3                 0  \n",
       "4                 0  "
      ]
     },
     "execution_count": 10,
     "metadata": {},
     "output_type": "execute_result"
    }
   ],
   "source": [
    "df.head()"
   ]
  },
  {
   "cell_type": "code",
   "execution_count": 11,
   "metadata": {
    "ExecuteTime": {
     "end_time": "2020-05-05T15:14:08.519523Z",
     "start_time": "2020-05-05T15:14:08.509490Z"
    }
   },
   "outputs": [
    {
     "data": {
      "text/plain": [
       "0    8599\n",
       "1    1922\n",
       "Name: safe, dtype: int64"
      ]
     },
     "execution_count": 11,
     "metadata": {},
     "output_type": "execute_result"
    }
   ],
   "source": [
    "df['safe'].value_counts()"
   ]
  },
  {
   "cell_type": "code",
   "execution_count": 12,
   "metadata": {
    "ExecuteTime": {
     "end_time": "2020-05-05T15:14:08.524154Z",
     "start_time": "2020-05-05T15:14:08.520469Z"
    }
   },
   "outputs": [
    {
     "data": {
      "text/plain": [
       "0     4367\n",
       "1     2344\n",
       "2     1584\n",
       "4      743\n",
       "3      696\n",
       "5      351\n",
       "6      322\n",
       "7       78\n",
       "10      19\n",
       "8       17\n",
       "Name: count_violations, dtype: int64"
      ]
     },
     "execution_count": 12,
     "metadata": {},
     "output_type": "execute_result"
    }
   ],
   "source": [
    "df['count_violations'].value_counts()"
   ]
  },
  {
   "cell_type": "markdown",
   "metadata": {},
   "source": [
    "## Visualize on a video"
   ]
  },
  {
   "cell_type": "code",
   "execution_count": 13,
   "metadata": {
    "ExecuteTime": {
     "end_time": "2020-05-05T15:14:08.528365Z",
     "start_time": "2020-05-05T15:14:08.525192Z"
    }
   },
   "outputs": [],
   "source": [
    "def get_safe(frame_num, track):\n",
    "    data = df[(df.frame_num == frame_num) & (df.id == track)].reset_index()\n",
    "    return int(data.at[0, 'safe']), int(data.at[0, 'count_violations'])"
   ]
  },
  {
   "cell_type": "code",
   "execution_count": 18,
   "metadata": {
    "ExecuteTime": {
     "end_time": "2020-05-06T10:48:28.775900Z",
     "start_time": "2020-05-06T10:48:28.747698Z"
    }
   },
   "outputs": [],
   "source": [
    "def create_visualization(video_path, df, proximity):\n",
    "    vid_name = 'TownCenter_' + str(proximity)\n",
    "    width = 1920\n",
    "    height = 1080\n",
    "    fps = 25\n",
    "    file_name = os.path.join('videos_out', vid_name+\"_dist\"+\".avi\")\n",
    "    vwriter = cv2.VideoWriter(file_name,\n",
    "                          cv2.VideoWriter_fourcc(*'MJPG'),\n",
    "                          fps, (width, height))\n",
    "    \n",
    "    ignore_tracks = [10, 14, 27, 20, 35, 42, 26, 16, 28]\n",
    "    \n",
    "    cap = cv2.VideoCapture(video_path)\n",
    "    max_frame = df['frame_num'].max()\n",
    "    for frame_num in range(3, max_frame):\n",
    "        ret, image_np = cap.read()\n",
    "#         image_np = cv2.cvtColor(image_np, cv2.COLOR_BGR2RGB)\n",
    "        tracks_this_frame = list(df[df.frame_num==frame_num]['id'])\n",
    "        for track in tracks_this_frame:\n",
    "            if track in ignore_tracks:\n",
    "                pass\n",
    "            else:\n",
    "                coords = get_bbox(frame_num, track)\n",
    "                safe_behavior, count_violations = get_safe(frame_num, track)\n",
    "                ## Understand if this person is safe\n",
    "                if safe_behavior == 0:\n",
    "                    color = (0, 255, 0)\n",
    "                else:\n",
    "                    color = (0, 0, 255)\n",
    "                    \n",
    "                text = \"Violation: \" + str(count_violations)\n",
    "                if count_violations == 0:\n",
    "                    color_text = (0,0,0)\n",
    "                else:\n",
    "                    color_text = (0, 0, 255)\n",
    "                cv2.rectangle(image_np, (coords[0], coords[1]) , (coords[2], coords[3]), color,2)\n",
    "                cv2.putText(image_np, text, (coords[0]-8,coords[1]-8), cv2.FONT_HERSHEY_SIMPLEX, 0.5, color_text, 2, cv2.LINE_AA)\n",
    "                ## Put track ID - optional\n",
    "#                 cv2.putText(image_np, str(track), (coords[0]+5,coords[1]+5), cv2.FONT_HERSHEY_SIMPLEX, 0.5, (0,0,0), 2, cv2.LINE_AA)\n",
    "\n",
    "                \n",
    "                if safe_behavior == 1:\n",
    "                    cv2.putText(image_np, str(\"Too Close\"), (coords[2]+ 5,coords[3]+ 5), cv2.FONT_HERSHEY_SIMPLEX, 0.5, (0,0,255), 2, cv2.LINE_AA)\n",
    "       \n",
    "        vwriter.write(image_np)\n",
    "    vwriter.release()\n",
    "    cap.release()\n",
    "    print(\"Video Written to: \", file_name)"
   ]
  },
  {
   "cell_type": "code",
   "execution_count": null,
   "metadata": {
    "ExecuteTime": {
     "start_time": "2020-05-06T10:55:48.767Z"
    }
   },
   "outputs": [],
   "source": [
    "create_visualization('videos/TownCentreXVID_small.mp4', df, proximity)"
   ]
  },
  {
   "cell_type": "code",
   "execution_count": null,
   "metadata": {},
   "outputs": [],
   "source": []
  }
 ],
 "metadata": {
  "kernelspec": {
   "display_name": "Python [conda env:tf13] *",
   "language": "python",
   "name": "conda-env-tf13-py"
  },
  "language_info": {
   "codemirror_mode": {
    "name": "ipython",
    "version": 3
   },
   "file_extension": ".py",
   "mimetype": "text/x-python",
   "name": "python",
   "nbconvert_exporter": "python",
   "pygments_lexer": "ipython3",
   "version": "3.7.3"
  },
  "toc": {
   "base_numbering": 1,
   "nav_menu": {},
   "number_sections": true,
   "sideBar": true,
   "skip_h1_title": false,
   "title_cell": "Table of Contents",
   "title_sidebar": "Contents",
   "toc_cell": false,
   "toc_position": {},
   "toc_section_display": true,
   "toc_window_display": true
  }
 },
 "nbformat": 4,
 "nbformat_minor": 2
}
