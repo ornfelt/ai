{
 "cells": [
  {
   "cell_type": "code",
   "execution_count": 1,
   "metadata": {
    "ExecuteTime": {
     "end_time": "2020-10-27T15:06:40.776776Z",
     "start_time": "2020-10-27T15:06:40.773108Z"
    },
    "executionInfo": {
     "elapsed": 1610,
     "status": "ok",
     "timestamp": 1602619561993,
     "user": {
      "displayName": "Himanshu Ranjan Upadhyay",
      "photoUrl": "https://lh3.googleusercontent.com/a-/AOh14Gg53Ld7li_M_eOnbXZNn0WP6Pp7PKbhZK6uRzR5nw=s64",
      "userId": "08972743691883852687"
     },
     "user_tz": -330
    },
    "id": "PUpanrQ0HFGJ"
   },
   "outputs": [],
   "source": [
    "model_name = \"t5-small\"\n",
    "token_len = 512\n",
    "model_prefix = f\"{model_name}-{token_len}\""
   ]
  },
  {
   "cell_type": "markdown",
   "metadata": {},
   "source": [
    "### Login to WandB and get your project key. This will allow you to display training results in WandB"
   ]
  },
  {
   "cell_type": "code",
   "execution_count": null,
   "metadata": {},
   "outputs": [],
   "source": [
    "!wandb login"
   ]
  },
  {
   "cell_type": "code",
   "execution_count": 2,
   "metadata": {
    "ExecuteTime": {
     "end_time": "2020-10-27T15:06:41.610265Z",
     "start_time": "2020-10-27T15:06:40.778669Z"
    },
    "executionInfo": {
     "elapsed": 9663,
     "status": "ok",
     "timestamp": 1602619570071,
     "user": {
      "displayName": "Himanshu Ranjan Upadhyay",
      "photoUrl": "https://lh3.googleusercontent.com/a-/AOh14Gg53Ld7li_M_eOnbXZNn0WP6Pp7PKbhZK6uRzR5nw=s64",
      "userId": "08972743691883852687"
     },
     "user_tz": -330
    },
    "id": "LJU1NdWqx4nz"
   },
   "outputs": [],
   "source": [
    "from pytorch_lightning.loggers.wandb import WandbLogger\n",
    "import os\n",
    "from pathlib import Path\n",
    "from string import punctuation\n",
    "\n",
    "os.environ[\"WANDB_API_KEY\"] = YOUR_KEY\n",
    "wandb_logger = WandbLogger(project='fakenews-t5small')"
   ]
  },
  {
   "cell_type": "code",
   "execution_count": 3,
   "metadata": {
    "ExecuteTime": {
     "end_time": "2020-10-27T15:06:42.298986Z",
     "start_time": "2020-10-27T15:06:41.611537Z"
    },
    "colab": {
     "base_uri": "https://localhost:8080/",
     "height": 51
    },
    "executionInfo": {
     "elapsed": 11726,
     "status": "ok",
     "timestamp": 1602619572144,
     "user": {
      "displayName": "Himanshu Ranjan Upadhyay",
      "photoUrl": "https://lh3.googleusercontent.com/a-/AOh14Gg53Ld7li_M_eOnbXZNn0WP6Pp7PKbhZK6uRzR5nw=s64",
      "userId": "08972743691883852687"
     },
     "user_tz": -330
    },
    "id": "3GpcUTnhx9Qv",
    "outputId": "a0255653-1b3d-41c0-eafe-2001d3bee82c"
   },
   "outputs": [
    {
     "name": "stderr",
     "output_type": "stream",
     "text": [
      "[nltk_data] Downloading package punkt to /home/priya/nltk_data...\n",
      "[nltk_data]   Package punkt is already up-to-date!\n"
     ]
    }
   ],
   "source": [
    "import argparse\n",
    "import glob\n",
    "import os\n",
    "import json\n",
    "import time\n",
    "import logging\n",
    "import random\n",
    "import re\n",
    "from itertools import chain\n",
    "from string import punctuation\n",
    "\n",
    "import nltk\n",
    "nltk.download('punkt')\n",
    "from nltk.tokenize import sent_tokenize\n",
    "import string\n",
    "import pandas as pd\n",
    "# pd.set_option('display.max_colwidth', -1)\n",
    "import numpy as np\n",
    "import torch\n",
    "import pytorch_lightning as pl\n",
    "from torch.utils.data import Dataset, DataLoader\n",
    "from pytorch_lightning.loggers import WandbLogger\n",
    "from nlp import load_metric\n",
    "\n",
    "from transformers import (\n",
    "    AdamW,\n",
    "    T5ForConditionalGeneration,\n",
    "    T5Tokenizer,\n",
    "    get_linear_schedule_with_warmup\n",
    ")\n",
    "import random\n",
    "import re"
   ]
  },
  {
   "cell_type": "markdown",
   "metadata": {},
   "source": [
    "## Look at the data"
   ]
  },
  {
   "cell_type": "code",
   "execution_count": 4,
   "metadata": {
    "ExecuteTime": {
     "end_time": "2020-10-27T15:06:42.372502Z",
     "start_time": "2020-10-27T15:06:42.300146Z"
    }
   },
   "outputs": [],
   "source": [
    "data = pd.read_csv('news_articles.csv')"
   ]
  },
  {
   "cell_type": "code",
   "execution_count": 5,
   "metadata": {
    "ExecuteTime": {
     "end_time": "2020-10-27T15:06:42.388868Z",
     "start_time": "2020-10-27T15:06:42.373417Z"
    }
   },
   "outputs": [
    {
     "data": {
      "text/html": [
       "<div>\n",
       "<style scoped>\n",
       "    .dataframe tbody tr th:only-of-type {\n",
       "        vertical-align: middle;\n",
       "    }\n",
       "\n",
       "    .dataframe tbody tr th {\n",
       "        vertical-align: top;\n",
       "    }\n",
       "\n",
       "    .dataframe thead th {\n",
       "        text-align: right;\n",
       "    }\n",
       "</style>\n",
       "<table border=\"1\" class=\"dataframe\">\n",
       "  <thead>\n",
       "    <tr style=\"text-align: right;\">\n",
       "      <th></th>\n",
       "      <th>author</th>\n",
       "      <th>published</th>\n",
       "      <th>title</th>\n",
       "      <th>text</th>\n",
       "      <th>language</th>\n",
       "      <th>site_url</th>\n",
       "      <th>main_img_url</th>\n",
       "      <th>type</th>\n",
       "      <th>label</th>\n",
       "      <th>title_without_stopwords</th>\n",
       "      <th>text_without_stopwords</th>\n",
       "      <th>hasImage</th>\n",
       "    </tr>\n",
       "  </thead>\n",
       "  <tbody>\n",
       "    <tr>\n",
       "      <th>0</th>\n",
       "      <td>Barracuda Brigade</td>\n",
       "      <td>2016-10-26T21:41:00.000+03:00</td>\n",
       "      <td>muslims busted they stole millions in govt ben...</td>\n",
       "      <td>print they should pay all the back all the mon...</td>\n",
       "      <td>english</td>\n",
       "      <td>100percentfedup.com</td>\n",
       "      <td>http://bb4sp.com/wp-content/uploads/2016/10/Fu...</td>\n",
       "      <td>bias</td>\n",
       "      <td>Real</td>\n",
       "      <td>muslims busted stole millions govt benefits</td>\n",
       "      <td>print pay back money plus interest entire fami...</td>\n",
       "      <td>1.0</td>\n",
       "    </tr>\n",
       "    <tr>\n",
       "      <th>1</th>\n",
       "      <td>reasoning with facts</td>\n",
       "      <td>2016-10-29T08:47:11.259+03:00</td>\n",
       "      <td>re why did attorney general loretta lynch plea...</td>\n",
       "      <td>why did attorney general loretta lynch plead t...</td>\n",
       "      <td>english</td>\n",
       "      <td>100percentfedup.com</td>\n",
       "      <td>http://bb4sp.com/wp-content/uploads/2016/10/Fu...</td>\n",
       "      <td>bias</td>\n",
       "      <td>Real</td>\n",
       "      <td>attorney general loretta lynch plead fifth</td>\n",
       "      <td>attorney general loretta lynch plead fifth bar...</td>\n",
       "      <td>1.0</td>\n",
       "    </tr>\n",
       "    <tr>\n",
       "      <th>2</th>\n",
       "      <td>Barracuda Brigade</td>\n",
       "      <td>2016-10-31T01:41:49.479+02:00</td>\n",
       "      <td>breaking weiner cooperating with fbi on hillar...</td>\n",
       "      <td>red state  \\nfox news sunday reported this mor...</td>\n",
       "      <td>english</td>\n",
       "      <td>100percentfedup.com</td>\n",
       "      <td>http://bb4sp.com/wp-content/uploads/2016/10/Fu...</td>\n",
       "      <td>bias</td>\n",
       "      <td>Real</td>\n",
       "      <td>breaking weiner cooperating fbi hillary email ...</td>\n",
       "      <td>red state fox news sunday reported morning ant...</td>\n",
       "      <td>1.0</td>\n",
       "    </tr>\n",
       "    <tr>\n",
       "      <th>3</th>\n",
       "      <td>Fed Up</td>\n",
       "      <td>2016-11-01T05:22:00.000+02:00</td>\n",
       "      <td>pin drop speech by father of daughter kidnappe...</td>\n",
       "      <td>email kayla mueller was a prisoner and torture...</td>\n",
       "      <td>english</td>\n",
       "      <td>100percentfedup.com</td>\n",
       "      <td>http://100percentfedup.com/wp-content/uploads/...</td>\n",
       "      <td>bias</td>\n",
       "      <td>Real</td>\n",
       "      <td>pin drop speech father daughter kidnapped kill...</td>\n",
       "      <td>email kayla mueller prisoner tortured isis cha...</td>\n",
       "      <td>1.0</td>\n",
       "    </tr>\n",
       "    <tr>\n",
       "      <th>4</th>\n",
       "      <td>Fed Up</td>\n",
       "      <td>2016-11-01T21:56:00.000+02:00</td>\n",
       "      <td>fantastic trumps  point plan to reform healthc...</td>\n",
       "      <td>email healthcare reform to make america great ...</td>\n",
       "      <td>english</td>\n",
       "      <td>100percentfedup.com</td>\n",
       "      <td>http://100percentfedup.com/wp-content/uploads/...</td>\n",
       "      <td>bias</td>\n",
       "      <td>Real</td>\n",
       "      <td>fantastic trumps point plan reform healthcare ...</td>\n",
       "      <td>email healthcare reform make america great sin...</td>\n",
       "      <td>1.0</td>\n",
       "    </tr>\n",
       "  </tbody>\n",
       "</table>\n",
       "</div>"
      ],
      "text/plain": [
       "                 author                      published  \\\n",
       "0     Barracuda Brigade  2016-10-26T21:41:00.000+03:00   \n",
       "1  reasoning with facts  2016-10-29T08:47:11.259+03:00   \n",
       "2     Barracuda Brigade  2016-10-31T01:41:49.479+02:00   \n",
       "3                Fed Up  2016-11-01T05:22:00.000+02:00   \n",
       "4                Fed Up  2016-11-01T21:56:00.000+02:00   \n",
       "\n",
       "                                               title  \\\n",
       "0  muslims busted they stole millions in govt ben...   \n",
       "1  re why did attorney general loretta lynch plea...   \n",
       "2  breaking weiner cooperating with fbi on hillar...   \n",
       "3  pin drop speech by father of daughter kidnappe...   \n",
       "4  fantastic trumps  point plan to reform healthc...   \n",
       "\n",
       "                                                text language  \\\n",
       "0  print they should pay all the back all the mon...  english   \n",
       "1  why did attorney general loretta lynch plead t...  english   \n",
       "2  red state  \\nfox news sunday reported this mor...  english   \n",
       "3  email kayla mueller was a prisoner and torture...  english   \n",
       "4  email healthcare reform to make america great ...  english   \n",
       "\n",
       "              site_url                                       main_img_url  \\\n",
       "0  100percentfedup.com  http://bb4sp.com/wp-content/uploads/2016/10/Fu...   \n",
       "1  100percentfedup.com  http://bb4sp.com/wp-content/uploads/2016/10/Fu...   \n",
       "2  100percentfedup.com  http://bb4sp.com/wp-content/uploads/2016/10/Fu...   \n",
       "3  100percentfedup.com  http://100percentfedup.com/wp-content/uploads/...   \n",
       "4  100percentfedup.com  http://100percentfedup.com/wp-content/uploads/...   \n",
       "\n",
       "   type label                            title_without_stopwords  \\\n",
       "0  bias  Real        muslims busted stole millions govt benefits   \n",
       "1  bias  Real         attorney general loretta lynch plead fifth   \n",
       "2  bias  Real  breaking weiner cooperating fbi hillary email ...   \n",
       "3  bias  Real  pin drop speech father daughter kidnapped kill...   \n",
       "4  bias  Real  fantastic trumps point plan reform healthcare ...   \n",
       "\n",
       "                              text_without_stopwords  hasImage  \n",
       "0  print pay back money plus interest entire fami...       1.0  \n",
       "1  attorney general loretta lynch plead fifth bar...       1.0  \n",
       "2  red state fox news sunday reported morning ant...       1.0  \n",
       "3  email kayla mueller prisoner tortured isis cha...       1.0  \n",
       "4  email healthcare reform make america great sin...       1.0  "
      ]
     },
     "execution_count": 5,
     "metadata": {},
     "output_type": "execute_result"
    }
   ],
   "source": [
    "data.head()"
   ]
  },
  {
   "cell_type": "code",
   "execution_count": 6,
   "metadata": {
    "ExecuteTime": {
     "end_time": "2020-10-27T15:06:42.393443Z",
     "start_time": "2020-10-27T15:06:42.389774Z"
    }
   },
   "outputs": [
    {
     "data": {
      "text/plain": [
       "(2096, 12)"
      ]
     },
     "execution_count": 6,
     "metadata": {},
     "output_type": "execute_result"
    }
   ],
   "source": [
    "data.shape"
   ]
  },
  {
   "cell_type": "code",
   "execution_count": 7,
   "metadata": {
    "ExecuteTime": {
     "end_time": "2020-10-27T15:06:42.399362Z",
     "start_time": "2020-10-27T15:06:42.394820Z"
    }
   },
   "outputs": [
    {
     "data": {
      "text/plain": [
       "Fake    1294\n",
       "Real     801\n",
       "Name: label, dtype: int64"
      ]
     },
     "execution_count": 7,
     "metadata": {},
     "output_type": "execute_result"
    }
   ],
   "source": [
    "data.label.value_counts()"
   ]
  },
  {
   "cell_type": "code",
   "execution_count": 8,
   "metadata": {
    "ExecuteTime": {
     "end_time": "2020-10-27T15:06:42.484352Z",
     "start_time": "2020-10-27T15:06:42.400655Z"
    }
   },
   "outputs": [
    {
     "data": {
      "text/html": [
       "<div>\n",
       "<style scoped>\n",
       "    .dataframe tbody tr th:only-of-type {\n",
       "        vertical-align: middle;\n",
       "    }\n",
       "\n",
       "    .dataframe tbody tr th {\n",
       "        vertical-align: top;\n",
       "    }\n",
       "\n",
       "    .dataframe thead th {\n",
       "        text-align: right;\n",
       "    }\n",
       "</style>\n",
       "<table border=\"1\" class=\"dataframe\">\n",
       "  <thead>\n",
       "    <tr style=\"text-align: right;\">\n",
       "      <th></th>\n",
       "      <th>hasImage</th>\n",
       "      <th>num_words</th>\n",
       "    </tr>\n",
       "  </thead>\n",
       "  <tbody>\n",
       "    <tr>\n",
       "      <th>count</th>\n",
       "      <td>2095.000000</td>\n",
       "      <td>2050.000000</td>\n",
       "    </tr>\n",
       "    <tr>\n",
       "      <th>mean</th>\n",
       "      <td>0.777088</td>\n",
       "      <td>494.148780</td>\n",
       "    </tr>\n",
       "    <tr>\n",
       "      <th>std</th>\n",
       "      <td>0.416299</td>\n",
       "      <td>636.409868</td>\n",
       "    </tr>\n",
       "    <tr>\n",
       "      <th>min</th>\n",
       "      <td>0.000000</td>\n",
       "      <td>1.000000</td>\n",
       "    </tr>\n",
       "    <tr>\n",
       "      <th>25%</th>\n",
       "      <td>1.000000</td>\n",
       "      <td>116.000000</td>\n",
       "    </tr>\n",
       "    <tr>\n",
       "      <th>50%</th>\n",
       "      <td>1.000000</td>\n",
       "      <td>311.000000</td>\n",
       "    </tr>\n",
       "    <tr>\n",
       "      <th>75%</th>\n",
       "      <td>1.000000</td>\n",
       "      <td>624.000000</td>\n",
       "    </tr>\n",
       "    <tr>\n",
       "      <th>max</th>\n",
       "      <td>1.000000</td>\n",
       "      <td>5828.000000</td>\n",
       "    </tr>\n",
       "  </tbody>\n",
       "</table>\n",
       "</div>"
      ],
      "text/plain": [
       "          hasImage    num_words\n",
       "count  2095.000000  2050.000000\n",
       "mean      0.777088   494.148780\n",
       "std       0.416299   636.409868\n",
       "min       0.000000     1.000000\n",
       "25%       1.000000   116.000000\n",
       "50%       1.000000   311.000000\n",
       "75%       1.000000   624.000000\n",
       "max       1.000000  5828.000000"
      ]
     },
     "execution_count": 8,
     "metadata": {},
     "output_type": "execute_result"
    }
   ],
   "source": [
    "data['num_words'] = data['text'].str.split().str.len()\n",
    "data.describe()"
   ]
  },
  {
   "cell_type": "code",
   "execution_count": 9,
   "metadata": {
    "ExecuteTime": {
     "end_time": "2020-10-27T15:06:42.491167Z",
     "start_time": "2020-10-27T15:06:42.485609Z"
    }
   },
   "outputs": [
    {
     "data": {
      "text/plain": [
       "(1509, 13)"
      ]
     },
     "execution_count": 9,
     "metadata": {},
     "output_type": "execute_result"
    }
   ],
   "source": [
    "### Drop storis with very little text\n",
    "data = data[data.num_words > 120]\n",
    "data.shape"
   ]
  },
  {
   "cell_type": "code",
   "execution_count": 10,
   "metadata": {
    "ExecuteTime": {
     "end_time": "2020-10-27T15:06:42.496918Z",
     "start_time": "2020-10-27T15:06:42.492063Z"
    }
   },
   "outputs": [
    {
     "data": {
      "text/plain": [
       "author                     0\n",
       "published                  0\n",
       "title                      0\n",
       "text                       0\n",
       "language                   0\n",
       "site_url                   0\n",
       "main_img_url               0\n",
       "type                       0\n",
       "label                      0\n",
       "title_without_stopwords    1\n",
       "text_without_stopwords     3\n",
       "hasImage                   0\n",
       "num_words                  0\n",
       "dtype: int64"
      ]
     },
     "execution_count": 10,
     "metadata": {},
     "output_type": "execute_result"
    }
   ],
   "source": [
    "data.isna().sum()"
   ]
  },
  {
   "cell_type": "code",
   "execution_count": 11,
   "metadata": {
    "ExecuteTime": {
     "end_time": "2020-10-27T15:06:42.502726Z",
     "start_time": "2020-10-27T15:06:42.497915Z"
    }
   },
   "outputs": [],
   "source": [
    "data = data.dropna()\n",
    "df = data.copy()"
   ]
  },
  {
   "cell_type": "markdown",
   "metadata": {},
   "source": [
    "### Some Examples of Real News"
   ]
  },
  {
   "cell_type": "code",
   "execution_count": 12,
   "metadata": {
    "ExecuteTime": {
     "end_time": "2020-10-27T15:06:42.516337Z",
     "start_time": "2020-10-27T15:06:42.503713Z"
    }
   },
   "outputs": [
    {
     "name": "stderr",
     "output_type": "stream",
     "text": [
      "/home/priya/miniconda3/envs/huggingface/lib/python3.6/site-packages/ipykernel_launcher.py:1: FutureWarning: Passing a negative integer is deprecated in version 1.0 and will not be supported in future version. Instead, use None to not limit the column width.\n",
      "  \"\"\"Entry point for launching an IPython kernel.\n"
     ]
    },
    {
     "data": {
      "text/plain": [
       "1    why did attorney general loretta lynch plead the fifth barracuda brigade  print the administration is blocking congressional probe into cash payments to iran of course she needs to plead the th she either cant recall refuses to answer or just plain deflects the question straight up corruption at its finest \\npercentfedupcom  talk about covering your ass loretta lynch did just that when she plead the fifth to avoid incriminating herself over payments to irancorrupt to the core attorney general loretta lynch is declining to comply with an investigation by leading members of congress about the obama administrations secret efforts to send iran  billion in cash earlier this year prompting accusations that lynch has pleaded the fifth amendment to avoid incriminating herself over these payments according to lawmakers and communications exclusively obtained by the washington free beacon \\nsen marco rubio r fla and rep mike pompeo r kan initially presented lynch in october with a series of questions about how the cash payment to iran was approved and delivered \\nin an oct  response assistant attorney general peter kadzik responded on lynchs behalf refusing to answer the questions and informing the lawmakers that they are barred from publicly disclosing any details about the cash payment which was bound up in a ransom deal aimed at freeing several american hostages from iran \\nthe response from the attorney generals office is unacceptable and provides evidence that lynch has chosen to essentially plead the fifth and refuse to respond to inquiries regarding herrole in providing cash to the worlds foremost state sponsor of terrorism rubio and pompeo wrote on friday in a followup letter to lynch more related\n",
       "2    red state  \\nfox news sunday reported this morning that anthony weiner is cooperating with the fbi which has reopened yes lefties reopened the investigation into hillary clintons classified emails watch as chris wallace reports the breaking news during the panel segment near the end of the show \\nand the news is breaking while were on the air our colleague bret baier has just sent us an email saying he has two sources who say that anthony weiner who also had coownership of that laptop with his estranged wife huma abedin is cooperating with the fbi investigation had given them the laptop so therefore they didnt need a warrant to get in to see the contents of said laptop pretty interesting development \\ntargets of federal investigations will often cooperate hoping that they will get consideration from a judge at sentencing given weiners wellknown penchant for lying its hard to believe that a prosecutor would give weiner a deal based on an agreement to testify unless his testimony were very strongly corroborated by hard evidence but cooperation can take many forms  and as wallace indicated on this mornings show one of those forms could be signing a consent form to allow   the contents of devices that they could probably get a warrant for anyway well see if weiners cooperation extends beyond that more related                                                                                                                                                                                                                                                                                                                                                                                                              \n",
       "Name: text, dtype: object"
      ]
     },
     "execution_count": 12,
     "metadata": {},
     "output_type": "execute_result"
    }
   ],
   "source": [
    "pd.set_option('display.max_colwidth', -1)\n",
    "real = data[data.label=='Real']\n",
    "fake = data[data.label== 'Fake']\n",
    "real['text'].head(2)"
   ]
  },
  {
   "cell_type": "code",
   "execution_count": 13,
   "metadata": {
    "ExecuteTime": {
     "end_time": "2020-10-27T15:06:42.520945Z",
     "start_time": "2020-10-27T15:06:42.517173Z"
    }
   },
   "outputs": [
    {
     "data": {
      "text/plain": [
       "33    st century wire says \\nwire reported on friday about the fbis surprising announcement that it would be reopening the clinton email case due to new evidence of classified information found on sex cheat anthony weiners newly estranged husband of clinton chief aid huma abedin computer which was subject to a seperate investigation will this really yield anything significant in the  days runningup to the nov th election or is this just clever democrat party smoke and mirrors it seems that washingtons political tricksters have already sprung into action \\nafter comeys shock announcement a leaked memo appeared out of nowhere supplied to fox news  in which comey and the fbi seem to be going through a routine set of prescribed political moves designed to implement damage control \\nelite circles fbi head james comey and friend hillary clinton \\ncertainly a desperate democratic party and an even more desperate obama white house over the last  weeks obama and his wife michelle have been out campaigning more that hillary clinton herself could be pressuring or nudging the fbi on this volatile issue which could easily tilt a close presidential race against donald trump aside from the obvious potential of another clinton scandal yesterdays fbi move could also be a prelude to the following possible scenarios protect the president who is already deeply tied to the clinton email coverup democratic party machine has created a distraction to coverup latest wikileaks dump fbi are trying to restore lost public confidence over allegations of favoring hillary clintons create a controlled explosion this weekend to clear the decks for another salacious trump scandal next week \\nnote despite calls from the clinton camp for fbi to disclose what they have which they cannot by law anyway youd think hillary would have already known that it is highly unlikely that the fbi will release any real specifics before the election  if they have anything at all its just too early to tell \\nsee also fbi james comey was board member of hsbc  clinton foundation  drug cartel bank of choice \\nthe fbi director stoked outrage last month when he announced that he would not recommend the justice department seek an indictment against clinton or any of the other parties to the investigation  allowing clinton to dodge any criminal probe before the election  despite the fact that comey stated to a congressional investigative committee that clinton was extremely careless and that clinton openly lied about her handling classified information on her unsecured private server throughout her tenure as the us secretary of state \\nzero hedge adds \\nnow it is the democrats turn to rage at comey and the fbi although comey likely did not have much choice had he kept the information secret it certainly would have leaked as we predicted as such his best recourse was to come clean although many have speculated about the cryptic nature of the disclosure needless to say all comey would need to do to regain the demcorats trust and favor is to announce in just a few days that nothing material has been found and that the second probe is also over \\nhere is leaked aka just covering my ass memo from fbi director james comey \\nwatch this space here is a highlight reel of hillary clinton lying on at least  occasions when asked direct questions about her illegal private email server \\n read more election news at st century wire  files \\nsupport wire  subscribe  become a member wiretv                                                                                                                                                                                                                                                                                                                                                                                                                                                                                                                                                                                                                                                                                                                                                                                                                                                                                                                                                                                                                                                                                                                                                                                                                                                                                                                                                                                                                                                                                                                                                                                                                                                                                                                                                                                                                                                                                                                                                                                                                                                                                                                                                                                                                                                                                                                                                                                                                                                                                                                                                                                                                                                                                                                                                                                                                                                                                                                                                                                                                                                                                                                                                                                                                                                                                                                                                                                                                                                                                                                                                                     \n",
       "34    in a stunning turn of events  days before the  presidential election the fbi announced it is reopenning its investigation into hillary clintons email server case by probing newly emerging emails linked to hillary clinton \\nnew probe the fbi gives hillary clinton a second look photo illustraion wire \\nfbi october surprise \\naccording to reports  in a letter written today fbi director james comey  stated that the fbi has begun a new probe into hillary clinton related emails once again comey offered scant details about the new probe but due to an unrelated case additional classified material may have been mishandled on clintons personal email server \\ncnbc reported the latest fbi developments including a passage from comeys letter discussing the new investigation \\nin previous congressional testimony i referred to the fact that the federal bureau of investigation fbi had completed its investigation of former secretary clintons personal email server due to recent developments i am writing to supplement my previous testimony comey wrote \\nin connection with an unrelated case the fbi has learned of the existence of emails that appear to be pertinent to the investigation i am writing to inform you that the investigative team briefed me on this yesterday and i agreed that the fbi should take appropriate investigative steps designed to allow investigators to review these emails to determine whether they contain classified information as well as to assess their importance to our investigation he added \\nalthough the fbi cannot yet assess whether or not this material may be significant and i cannot predict how long it will take us to complete this additional work i believe it is important to update your committees about our efforts in light of my previous testimony comey concluded \\nhumas estranged sexting husband \\naccording to a new report released via the new york times  \\nthe presidential campaign was rocked on friday after federal law enforcement officials said that emails pertinent to the nowclosed investigation into hillary clinton s private email server were discovered on a computer belonging to anthony d weiner the estranged husband of a top clinton aide  in a letter to congress  the fbi director james b comey said the emails had surfaced in an unrelated case which law enforcement officials said was an fbi investigation into illicit text messages from mr weiner to a yearold girl in north carolina mr weiner a former democratic congressman from new york is married to huma abedin the top aide comey has come under fire recently for apparently letting clinton off the hook for mishandling and lying to congress about classified emails coming through her home brew email server while she was secretary of state after previously closing the case comey has done a uturn and is now saying the fbi will review the new emails to for classified information and see whether it was mishandled \\nthis unprecedented investigative move comes just two days after a wikileaks docudump revealed a memo containing detailed financial information between clinton foundation donors and former president bill clinton s private financial activities among those included in the memo was a  million dollar business arrangement under bill clinton inc with another  million dollar deal scheduled over nine years \\nthe following is a tweet from brad jaffy of nbc nightly news containing the new fbi recommendation \\nthe new investigation into the clinton camp will most certainly spark new paytoplay allegations  as the new fbi revelations also comes days after a project veritas hidden camera sting operation revealed that the democratic consultant robert creamer of democracy partners discussed ways to commit largescale voter fraud as well as paying political agitators to cause violence at donald trump rallies out of creamers  visits to the white house also included his wife a term illinois democratic congresswoman jan schakowsky some  times white house visitor records show that schakowsky took  private meetings with obama or his senior staff also over the past year the consultancy democracy partners appears to have applied schakowsky as a political buffering point possibly in the event of a fallout over their operations at a grassroots level the impetus of this type of procedural separation is to keep certain highranking officials of the hook in case of a massive upheaval over various underhanded campaign tactics  thus giving a political campaign or political entity plausible deniability caught on film  robert creamer resigns over a massive democratic party controversy image source cnn  creamer a convicted felon  in  creamer plead guilty  million in bank fraud and tax violations was promptly shoved out of the hillary clinton campaigns inner circle following a heavily publicized video sting revealing his discussion about voter fraud and violence at trump rallies pay to play virginia governor terry mcauliffe closely allied with the clintons negotiated a a campaign contribution involving the fbi image source new republic  it remains unclear what exactly reopened the new clinton probe but perhaps the fbi had its own cobwebs to clear out after it was revealed that a longtime clinton associate  virginia gov terry mcauliffe  helped steer  to the election campaign of the wife of an fbi official who went on to lead the probe into hillary clintons use of a private email system according to a report the ny post also reported on the matter this past week \\nthe political action committee of mcauliffe the clinton loyalist gave  to the state senate campaign of the wife of andrew mccabe who is now deputy director of the fbi according to the wall street journal  \\nthe report states jill mccabe received an additional  from the virginia democratic party which is heavily influenced by mcauliffe \\nthe money directed by mcauliffe began flowing two months after the fbi investigation into clinton began in july  around that time the candidates husband was promoted from running the washington field office for the fbi to the no  position at the bureau \\nin a cnn report from october th a week before the mcauliffe revelations according to notes from interviews conducted during an fbi investigation into clintons email practices undersecretary of state patrick kennedy personally tried to convince fbi officials that the email should be declassified one interviewee described feeling pressured by another fbi official at kennedys request \\nthe newly reopened fbi investigation into clinton could be related to all or some of the items listed above but theres no doubt that due to public backlash the fbi received following the first clinton investigation in addition to concerns over dealings between the fbi and clinton associates  the agency needed to save face \\nit remains to be seen how new case will impact the us presidential election \\nmore from rt below\n",
       "Name: text, dtype: object"
      ]
     },
     "execution_count": 13,
     "metadata": {},
     "output_type": "execute_result"
    }
   ],
   "source": [
    "fake['text'].head(2)"
   ]
  },
  {
   "cell_type": "markdown",
   "metadata": {},
   "source": [
    "## Create a Dataset Class"
   ]
  },
  {
   "cell_type": "code",
   "execution_count": 14,
   "metadata": {
    "ExecuteTime": {
     "end_time": "2020-10-27T15:06:42.531472Z",
     "start_time": "2020-10-27T15:06:42.521891Z"
    },
    "executionInfo": {
     "elapsed": 11716,
     "status": "ok",
     "timestamp": 1602619572146,
     "user": {
      "displayName": "Himanshu Ranjan Upadhyay",
      "photoUrl": "https://lh3.googleusercontent.com/a-/AOh14Gg53Ld7li_M_eOnbXZNn0WP6Pp7PKbhZK6uRzR5nw=s64",
      "userId": "08972743691883852687"
     },
     "user_tz": -330
    },
    "id": "uvOIVdnPyKzj"
   },
   "outputs": [],
   "source": [
    "import numpy as np\n",
    "import pandas as pd\n",
    "\n",
    "\n",
    "class NewsData(Dataset):\n",
    "    def __init__(self, df, tokenizer, type_path, num_samples, input_length=4096, output_length=4096, print_text=False):         \n",
    "        ## Shuffle data set\n",
    "        df = df.sample(frac=1, random_state=1)\n",
    "        self.dataset = []\n",
    "        val_size = int(0.2 * df.shape[0])\n",
    "\n",
    "        inps = df[\"text\"].values.tolist()\n",
    "        lbls = df[\"label\"].values.tolist()\n",
    "\n",
    "        for i, inp in enumerate(inps):\n",
    "            inp = inp.replace(\":\", \"\")\n",
    "            inp = \"classify: \" + inp\n",
    "            lbl = str(lbls[i])\n",
    "            self.dataset.append({\"inp\": inp, \"lbl\": lbl})\n",
    "        \n",
    "        if type_path == \"train\":\n",
    "            self.dataset = self.dataset[:len(self.dataset) - val_size]\n",
    "        elif type_path == \"validation\":\n",
    "            self.dataset = self.dataset[len(self.dataset) - val_size:]\n",
    "\n",
    "        if num_samples:\n",
    "            self.dataset = self.dataset[:num_samples]\n",
    "        \n",
    "        # print(len(self.dataset))\n",
    "\n",
    "        self.input_length = input_length\n",
    "        self.tokenizer = tokenizer\n",
    "        self.output_length = output_length\n",
    "        self.print_text = print_text\n",
    "        \n",
    "  \n",
    "    def __len__(self):\n",
    "        return len(self.dataset)\n",
    "\n",
    "    def convert_to_features(self, example_batch):\n",
    "        \n",
    "        input_ = example_batch['inp']\n",
    "        target_ = example_batch['lbl']\n",
    "    \n",
    "        \n",
    "        input_ = input_.strip()\n",
    "\n",
    "        \n",
    "        source = self.tokenizer.batch_encode_plus([input_], max_length=self.input_length, \n",
    "                                                     padding='max_length', truncation=True, return_tensors=\"pt\")\n",
    "        \n",
    "        targets = self.tokenizer.batch_encode_plus([target_], max_length=3, \n",
    "                                                     padding='max_length', truncation=True, return_tensors=\"pt\")\n",
    "\n",
    "        return source, targets\n",
    "  \n",
    "    def __getitem__(self, index):\n",
    "        source, targets = self.convert_to_features(self.dataset[index])\n",
    "        \n",
    "        if self.print_text:\n",
    "            print(\"Lens are: \", source['input_ids'][0].shape, targets['input_ids'][0].shape)\n",
    "        \n",
    "        source_ids = source[\"input_ids\"].squeeze()\n",
    "        target_ids = targets[\"input_ids\"].squeeze()\n",
    "\n",
    "        # return {\"source_ids\": source_ids, \"target_ids\": target_ids}\n",
    "\n",
    "        src_mask    = source[\"attention_mask\"].squeeze()\n",
    "        target_mask = targets[\"attention_mask\"].squeeze()\n",
    "\n",
    "        return {\"source_ids\": source_ids, \"source_mask\": src_mask, \"target_ids\": target_ids, \"target_mask\": target_mask}\n",
    "\n",
    "\n",
    "\n",
    "def get_dataset(tokenizer, type_path, num_samples, args, df=df):\n",
    "      return NewsData(df = df, tokenizer=tokenizer, type_path=type_path, num_samples=num_samples, input_length=args.max_input_length, \n",
    "                        output_length=args.max_output_length)"
   ]
  },
  {
   "cell_type": "markdown",
   "metadata": {},
   "source": [
    "### Test the data set class"
   ]
  },
  {
   "cell_type": "code",
   "execution_count": 15,
   "metadata": {
    "ExecuteTime": {
     "end_time": "2020-10-27T15:06:42.807234Z",
     "start_time": "2020-10-27T15:06:42.532544Z"
    }
   },
   "outputs": [
    {
     "data": {
      "text/plain": [
       "301"
      ]
     },
     "execution_count": 15,
     "metadata": {},
     "output_type": "execute_result"
    }
   ],
   "source": [
    "tokenizer = T5Tokenizer.from_pretrained('t5-small')\n",
    "dataset = NewsData(data, tokenizer, 'validation', None, token_len, 512, True)\n",
    "len(dataset)"
   ]
  },
  {
   "cell_type": "code",
   "execution_count": 16,
   "metadata": {
    "ExecuteTime": {
     "end_time": "2020-10-27T15:06:42.816310Z",
     "start_time": "2020-10-27T15:06:42.808147Z"
    }
   },
   "outputs": [
    {
     "name": "stdout",
     "output_type": "stream",
     "text": [
      "Lens are:  torch.Size([512]) torch.Size([3])\n",
      "\n",
      "Shape of Tokenized Text:  torch.Size([512])\n",
      "\n",
      "Sanity check - Decode Text:  classify: here is the problem the usa constitution states only congress can declare war yet sanctions are a declaration of war made by non other than the bankster elite that has everrything to do with profit and nothing to do with defence far too much power for banksters to have and the profits they make are huge the office of foreign assets control quotofacquot of the us department of the treasury administers and enforces economic and trade sanctions based on us foreign policy and national security goals against targeted foreign countries and regimes terrorists international narcotics traffickers those engaged in activities related to the proliferation of weapons of mass destruction and other threats to the national security foreign policy or economy of the united states it is an issue no one has ever adressed anywhere so no matter who you vote for its the banksters who go to war and no one ever elects them\n",
      "====================================\n",
      "Sanity check - Decode Classification:  Fake\n"
     ]
    }
   ],
   "source": [
    "data = dataset[5]\n",
    "print()\n",
    "print(\"Shape of Tokenized Text: \", data['source_ids'].shape)\n",
    "print()\n",
    "print(\"Sanity check - Decode Text: \", tokenizer.decode(data['source_ids']))\n",
    "print(\"====================================\")\n",
    "print(\"Sanity check - Decode Classification: \", tokenizer.decode(data['target_ids']))"
   ]
  },
  {
   "cell_type": "markdown",
   "metadata": {},
   "source": [
    "## T5 Fine Tuner Class"
   ]
  },
  {
   "cell_type": "markdown",
   "metadata": {},
   "source": [
    "### Functions to calculating accuracy while training"
   ]
  },
  {
   "cell_type": "code",
   "execution_count": 17,
   "metadata": {
    "ExecuteTime": {
     "end_time": "2020-10-27T15:06:42.821654Z",
     "start_time": "2020-10-27T15:06:42.817264Z"
    }
   },
   "outputs": [],
   "source": [
    "def normalize_answer(s):\n",
    "    \"\"\"Lower text and remove punctuation, articles and extra whitespace.\"\"\"\n",
    "\n",
    "    def white_space_fix(text):\n",
    "        return \" \".join(text.split())\n",
    "\n",
    "    def remove_punc(text):\n",
    "        exclude = set(string.punctuation)\n",
    "        return \"\".join(ch for ch in text if ch not in exclude)\n",
    "\n",
    "    def lower(text):\n",
    "        return text.lower()\n",
    "\n",
    "    return white_space_fix((remove_punc(lower(s))))"
   ]
  },
  {
   "cell_type": "code",
   "execution_count": 18,
   "metadata": {
    "ExecuteTime": {
     "end_time": "2020-10-27T15:06:42.828534Z",
     "start_time": "2020-10-27T15:06:42.822488Z"
    }
   },
   "outputs": [],
   "source": [
    "def exact_match_score(prediction, ground_truth):\n",
    "    return int(normalize_answer(prediction) == normalize_answer(ground_truth))"
   ]
  },
  {
   "cell_type": "code",
   "execution_count": 19,
   "metadata": {
    "ExecuteTime": {
     "end_time": "2020-10-27T15:06:42.835421Z",
     "start_time": "2020-10-27T15:06:42.830289Z"
    }
   },
   "outputs": [],
   "source": [
    "def calculate_scores(predictions, ground_truths):\n",
    "    em_score = 0\n",
    "    subset_match_score = 0\n",
    "    \n",
    "    for i in range(len(predictions)):\n",
    "        ground_truth = ground_truths[i]\n",
    "        prediction = predictions[i]\n",
    "        em_score +=  exact_match_score(prediction, ground_truth)\n",
    "    \n",
    "    em_score /= len(predictions)\n",
    "    return em_score*100"
   ]
  },
  {
   "cell_type": "code",
   "execution_count": 20,
   "metadata": {
    "ExecuteTime": {
     "end_time": "2020-10-27T15:06:42.866384Z",
     "start_time": "2020-10-27T15:06:42.842487Z"
    },
    "executionInfo": {
     "elapsed": 11709,
     "status": "ok",
     "timestamp": 1602619572147,
     "user": {
      "displayName": "Himanshu Ranjan Upadhyay",
      "photoUrl": "https://lh3.googleusercontent.com/a-/AOh14Gg53Ld7li_M_eOnbXZNn0WP6Pp7PKbhZK6uRzR5nw=s64",
      "userId": "08972743691883852687"
     },
     "user_tz": -330
    },
    "id": "Lyo5PvqPj1aX"
   },
   "outputs": [],
   "source": [
    "class T5FakeNewsDetector(pl.LightningModule):\n",
    "    def __init__(self, hparams):\n",
    "        super(T5FakeNewsDetector, self).__init__()\n",
    "        self.hparams = hparams        \n",
    "        self.model = T5ForConditionalGeneration.from_pretrained(hparams.model_name_or_path, return_dict=True)\n",
    "        self.tokenizer = T5Tokenizer.from_pretrained(hparams.tokenizer_name_or_path, max_length=hparams.max_input_length)\n",
    "        self.output_dir = Path(self.hparams.output_dir)\n",
    "        self.step_count = 0\n",
    "        \n",
    "        if self.hparams.freeze_embeds:\n",
    "            self.freeze_embeds()\n",
    "        if self.hparams.freeze_encoder:\n",
    "            self.freeze_params(self.model.get_encoder())\n",
    "            assert_all_frozen(self.model.get_encoder())\n",
    "            \n",
    "            \n",
    "        n_observations_per_split = {\n",
    "            \"train\": self.hparams.n_train,\n",
    "            \"validation\": self.hparams.n_val,\n",
    "            \"test\": self.hparams.n_test,\n",
    "        }\n",
    "        self.n_obs = {k: v if v >= 0 else None for k, v in n_observations_per_split.items()}\n",
    "        self.em_score_list = []\n",
    "        \n",
    "    def freeze_params(self, model):\n",
    "        for par in model.parameters():\n",
    "            par.requires_grad = False\n",
    "            \n",
    "    def freeze_embeds(self):\n",
    "        try:\n",
    "            self.freeze_params(self.model.model.shared)\n",
    "            for d in [self.model.model.encoder, self.model.model.decoder]:\n",
    "                freeze_params(d.embed_positions)\n",
    "                freeze_params(d.embed_tokens)\n",
    "        except AttributeError:\n",
    "            self.freeze_params(self.model.shared)\n",
    "            for d in [self.model.encoder, self.model.decoder]:\n",
    "                self.freeze_params(d.embed_tokens)\n",
    "\n",
    "    def lmap(self, f, x):\n",
    "        return list(map(f, x))\n",
    "\n",
    "    def is_logger(self):\n",
    "        return self.trainer.global_rank <= 0\n",
    "    \n",
    "    def parse_score(self, result):\n",
    "        return {k: round(v.mid.fmeasure * 100, 4) for k, v in result.items()}\n",
    "        \n",
    "    def forward(self, input_ids, attention_mask=None, decoder_input_ids=None, decoder_attention_mask=None, lm_labels=None):\n",
    "        return self.model(\n",
    "                input_ids,\n",
    "                attention_mask=attention_mask,\n",
    "                decoder_input_ids=decoder_input_ids,\n",
    "                decoder_attention_mask=decoder_attention_mask,\n",
    "                labels=lm_labels\n",
    "            )\n",
    "\n",
    "    def _step(self, batch):\n",
    "        labels = batch[\"target_ids\"]\n",
    "        labels[labels[:, :] == self.tokenizer.pad_token_id] = -100\n",
    "\n",
    "        outputs = self(\n",
    "            input_ids=batch[\"source_ids\"],\n",
    "            attention_mask=batch[\"source_mask\"],\n",
    "            lm_labels=labels,\n",
    "            decoder_attention_mask=batch['target_mask']\n",
    "        )\n",
    "\n",
    "        loss = outputs[0]\n",
    "\n",
    "        return loss\n",
    "    \n",
    "    def ids_to_clean_text(self, generated_ids):\n",
    "        gen_text = self.tokenizer.batch_decode(\n",
    "            generated_ids,\n",
    "            skip_special_tokens=True, \n",
    "            clean_up_tokenization_spaces=True\n",
    "        )\n",
    "        return self.lmap(str.strip, gen_text)\n",
    "    \n",
    "    def _generative_step(self, batch) :\n",
    "        \n",
    "        t0 = time.time()\n",
    "        # print(batch)\n",
    "        inp_ids = batch[\"source_ids\"]\n",
    "        \n",
    "        generated_ids = self.model.generate(\n",
    "            batch[\"source_ids\"],\n",
    "            attention_mask=batch[\"source_mask\"],\n",
    "            use_cache=True,\n",
    "            decoder_attention_mask=batch['target_mask'],\n",
    "            max_length=3\n",
    "\n",
    "        )\n",
    "        preds = self.ids_to_clean_text(generated_ids)\n",
    "        target = self.ids_to_clean_text(batch[\"target_ids\"])\n",
    "#         print(\"Preds and Targets: \", preds, target)\n",
    "            \n",
    "        gen_time = (time.time() - t0) / batch[\"source_ids\"].shape[0]  \n",
    "    \n",
    "        loss = self._step(batch)\n",
    "        base_metrics = {'val_loss': loss}\n",
    "        summ_len = np.mean(self.lmap(len, generated_ids))\n",
    "        base_metrics.update(gen_time=gen_time, gen_len=summ_len, preds=preds, target=target)\n",
    "        em_score  = calculate_scores(preds, target)\n",
    "        \n",
    "        self.em_score_list.append(em_score)\n",
    "        \n",
    "        em_score = torch.tensor(em_score,dtype=torch.float32)\n",
    "    \n",
    "        base_metrics.update(accuracy=em_score)\n",
    "        \n",
    "        return base_metrics\n",
    "\n",
    "    def training_step(self, batch, batch_idx):\n",
    "        loss = self._step(batch)\n",
    "\n",
    "        tensorboard_logs = {\"train_loss\": loss}\n",
    "        return {\"loss\": loss, \"log\": tensorboard_logs}\n",
    "  \n",
    "    def training_epoch_end(self, outputs):\n",
    "        avg_train_loss = torch.stack([x[\"loss\"] for x in outputs]).mean()\n",
    "        tensorboard_logs = {\"avg_train_loss\": avg_train_loss}\n",
    "        return {\"avg_train_loss\": avg_train_loss, \"log\": tensorboard_logs, 'progress_bar': tensorboard_logs}\n",
    "\n",
    "    def validation_step(self, batch, batch_idx):\n",
    "        return self._generative_step(batch)\n",
    "    \n",
    "    def validation_epoch_end(self, outputs):\n",
    "        \n",
    "        avg_loss = torch.stack([x[\"val_loss\"] for x in outputs]).mean()\n",
    "        tensorboard_logs = {\"val_loss\": avg_loss}\n",
    "        \n",
    "        if len(self.em_score_list) <= 2:\n",
    "            average_em_score = sum(self.em_score_list) / len(self.em_score_list) \n",
    "            \n",
    "        else:\n",
    "            latest_em_score = self.em_score_list[:-2]\n",
    "            average_em_score = sum(latest_em_score) / len(latest_em_score) \n",
    "        \n",
    "        average_em_score = torch.tensor(average_em_score,dtype=torch.float32)\n",
    "        tensorboard_logs.update(accuracy=average_em_score)\n",
    "        \n",
    "        self.target_gen= []\n",
    "        self.prediction_gen=[]\n",
    "        return {\"avg_val_loss\": avg_loss, \n",
    "                \"accuracy\" : average_em_score,\n",
    "                \"log\": tensorboard_logs, 'progress_bar': tensorboard_logs}\n",
    "\n",
    "    def configure_optimizers(self):\n",
    "\n",
    "        model = self.model\n",
    "        no_decay = [\"bias\", \"LayerNorm.weight\"]\n",
    "        optimizer_grouped_parameters = [\n",
    "            {\n",
    "                \"params\": [p for n, p in model.named_parameters() if not any(nd in n for nd in no_decay)],\n",
    "                \"weight_decay\": self.hparams.weight_decay,\n",
    "            },\n",
    "            {\n",
    "                \"params\": [p for n, p in model.named_parameters() if any(nd in n for nd in no_decay)],\n",
    "                \"weight_decay\": 0.0,\n",
    "            },\n",
    "        ]\n",
    "        optimizer = AdamW(optimizer_grouped_parameters, lr=self.hparams.learning_rate, eps=self.hparams.adam_epsilon)\n",
    "        self.opt = optimizer\n",
    "        return [optimizer]\n",
    "  \n",
    "    def optimizer_step(self, epoch, batch_idx, optimizer, optimizer_idx, second_order_closure=None, using_native_amp=None):\n",
    "        if self.trainer.use_tpu:\n",
    "            xm.optimizer_step(optimizer)\n",
    "        else:\n",
    "            optimizer.step()\n",
    "        optimizer.zero_grad()\n",
    "        self.lr_scheduler.step()\n",
    "  \n",
    "    def get_tqdm_dict(self):\n",
    "        tqdm_dict = {\"loss\": \"{:.3f}\".format(self.trainer.avg_loss), \"lr\": self.lr_scheduler.get_last_lr()[-1]}\n",
    "\n",
    "        return tqdm_dict\n",
    "    \n",
    "    def train_dataloader(self):   \n",
    "        n_samples = self.n_obs['train']\n",
    "        train_dataset = get_dataset(tokenizer=self.tokenizer, type_path=\"train\", num_samples=n_samples, args=self.hparams)\n",
    "        dataloader = DataLoader(train_dataset, batch_size=self.hparams.train_batch_size, drop_last=True, shuffle=True, num_workers=4)\n",
    "        t_total = (\n",
    "            (len(dataloader.dataset) // (self.hparams.train_batch_size * max(1, self.hparams.n_gpu)))\n",
    "            // self.hparams.gradient_accumulation_steps\n",
    "            * float(self.hparams.num_train_epochs)\n",
    "        )\n",
    "        scheduler = get_linear_schedule_with_warmup(\n",
    "            self.opt, num_warmup_steps=self.hparams.warmup_steps, num_training_steps=t_total\n",
    "        )\n",
    "        self.lr_scheduler = scheduler\n",
    "\n",
    "        return dataloader\n",
    "\n",
    "    def val_dataloader(self):\n",
    "        n_samples = self.n_obs['validation']\n",
    "        validation_dataset = get_dataset(tokenizer=self.tokenizer, type_path=\"validation\", num_samples=n_samples, args=self.hparams)\n",
    "        \n",
    "        return DataLoader(validation_dataset, batch_size=self.hparams.eval_batch_size, num_workers=4)\n",
    "    \n",
    "    def test_dataloader(self):\n",
    "        n_samples = self.n_obs['test']\n",
    "        test_dataset = get_dataset(tokenizer=self.tokenizer, type_path=\"test\", num_samples=n_samples, args=self.hparams)\n",
    "        \n",
    "        return DataLoader(test_dataset, batch_size=self.hparams.eval_batch_size, num_workers=4)\n",
    "    \n",
    "    def on_save_checkpoint(self, checkpoint):\n",
    "        save_path = self.output_dir.joinpath(model_prefix)\n",
    "        self.model.config.save_step = self.step_count\n",
    "        self.model.save_pretrained(save_path)\n",
    "        self.tokenizer.save_pretrained(save_path)"
   ]
  },
  {
   "cell_type": "code",
   "execution_count": 31,
   "metadata": {
    "ExecuteTime": {
     "end_time": "2020-10-27T15:29:27.936377Z",
     "start_time": "2020-10-27T15:29:27.927682Z"
    },
    "executionInfo": {
     "elapsed": 11698,
     "status": "ok",
     "timestamp": 1602619572147,
     "user": {
      "displayName": "Himanshu Ranjan Upadhyay",
      "photoUrl": "https://lh3.googleusercontent.com/a-/AOh14Gg53Ld7li_M_eOnbXZNn0WP6Pp7PKbhZK6uRzR5nw=s64",
      "userId": "08972743691883852687"
     },
     "user_tz": -330
    },
    "id": "HnYULItOyqGO"
   },
   "outputs": [],
   "source": [
    "logger = logging.getLogger(__name__)\n",
    "\n",
    "class LoggingCallback(pl.Callback):\n",
    "    def on_validation_end(self, trainer, pl_module):\n",
    "        logger.info(\"***** Validation results *****\")\n",
    "        if pl_module.is_logger():\n",
    "            metrics = trainer.callback_metrics\n",
    "            # Log results\n",
    "            for key in sorted(metrics):\n",
    "                if key not in [\"log\", \"progress_bar\"]:\n",
    "                    logger.info(\"{} = {}\\n\".format(key, str(metrics[key])))\n",
    "\n",
    "    def on_test_end(self, trainer, pl_module):\n",
    "        logger.info(\"***** Test results *****\")\n",
    "\n",
    "        if pl_module.is_logger():\n",
    "            metrics = trainer.callback_metrics\n",
    "\n",
    "            # Log and save results to file\n",
    "            output_test_results_file = os.path.join(pl_module.hparams.output_dir, \"test_results.txt\")\n",
    "            with open(output_test_results_file, \"w\") as writer:\n",
    "                for key in sorted(metrics):\n",
    "                    if key not in [\"log\", \"progress_bar\"]:\n",
    "                        logger.info(\"{} = {}\\n\".format(key, str(metrics[key])))\n",
    "                        writer.write(\"{} = {}\\n\".format(key, str(metrics[key])))\n"
   ]
  },
  {
   "cell_type": "markdown",
   "metadata": {},
   "source": [
    "## Define the Hyper Parameters"
   ]
  },
  {
   "cell_type": "code",
   "execution_count": 32,
   "metadata": {
    "ExecuteTime": {
     "end_time": "2020-10-27T15:29:27.946717Z",
     "start_time": "2020-10-27T15:29:27.938311Z"
    },
    "executionInfo": {
     "elapsed": 11690,
     "status": "ok",
     "timestamp": 1602619572148,
     "user": {
      "displayName": "Himanshu Ranjan Upadhyay",
      "photoUrl": "https://lh3.googleusercontent.com/a-/AOh14Gg53Ld7li_M_eOnbXZNn0WP6Pp7PKbhZK6uRzR5nw=s64",
      "userId": "08972743691883852687"
     },
     "user_tz": -330
    },
    "id": "czZWJckVyuqP"
   },
   "outputs": [],
   "source": [
    "args_dict = dict(\n",
    "    output_dir=\"\", # path to save the checkpoints\n",
    "    model_name_or_path=model_name,\n",
    "    tokenizer_name_or_path=model_name,\n",
    "    max_input_length=token_len,\n",
    "    max_output_length=token_len,\n",
    "    freeze_encoder=False,\n",
    "    freeze_embeds=False,\n",
    "    learning_rate=3e-4,\n",
    "    weight_decay=0.0,\n",
    "    adam_epsilon=1e-8,\n",
    "    warmup_steps=0,\n",
    "    train_batch_size=1,\n",
    "    eval_batch_size=1,\n",
    "    num_train_epochs=10,\n",
    "    gradient_accumulation_steps=8,\n",
    "    n_gpu=1,\n",
    "    resume_from_checkpoint=None, \n",
    "    val_check_interval = 0.5, \n",
    "    n_val=-1,\n",
    "    n_train=-1,\n",
    "    n_test=-1,\n",
    "    early_stop_callback=False,\n",
    "    fp_16=False, # if you want to enable 16-bit training then install apex and set this to true\n",
    "    opt_level='O1', # you can find out more on optimisation levels here https://nvidia.github.io/apex/amp.html#opt-levels-and-properties\n",
    "    max_grad_norm=1.0, # if you enable 16-bit training then set this to a sensible value, 0.5 is a good default\n",
    "    seed=42,\n",
    ")\n",
    "\n",
    "\n",
    "args_dict.update({'output_dir': \"./\" + model_prefix + \"_final\", 'num_train_epochs':50,\n",
    "             'train_batch_size': 8, 'eval_batch_size': 8, 'resume_from_checkpoint' : 't5-small-512t5-small-512_ckpt_epoch_29.ckpt'})\n",
    "args = argparse.Namespace(**args_dict)\n",
    "\n",
    "\n",
    "## Define Checkpoint function\n",
    "checkpoint_callback = pl.callbacks.ModelCheckpoint(\n",
    "    filepath=\"./\" + model_prefix + \"_checkpoint\", prefix=model_prefix, monitor=\"accuracy\", mode=\"max\", save_top_k=1\n",
    ")\n"
   ]
  },
  {
   "cell_type": "code",
   "execution_count": 33,
   "metadata": {
    "ExecuteTime": {
     "end_time": "2020-10-27T15:29:29.936169Z",
     "start_time": "2020-10-27T15:29:27.948621Z"
    },
    "colab": {
     "base_uri": "https://localhost:8080/",
     "height": 647,
     "referenced_widgets": [
      "98de723a1f304d7782d950d2694ffaa2",
      "bc1459791e694e30baf0d19b7cea255d",
      "928bda829ab84cd9a7c938077cc700d7",
      "2c3fe62512c34c6abefa9d9314e4992b",
      "52aca4cb8c7e4a5ab0d10673101e3282",
      "40cb4cd9eb92448da9ef01a33ed22164",
      "9e56728b79284101a3f7ac4106e1dd1f",
      "716262223aa844f6b1373f1f5c62eadf",
      "2ac98811114c446cb82a6a2696a1c3b1",
      "f129219bc30e4f0db4dbc16c28e09f84",
      "2e9683f3200648e5bd91836071579817",
      "3d994dc0e84e4c91b0d3041d5e321053",
      "842a15358de74d9fa3b6f4f9ef014901",
      "6bcc847b2e1948f080fe28971145be99",
      "570b405b083449f88c7cac2570e1de16",
      "a01ec4c3a9574e10a4e855bfafe1d7f6",
      "af497adef96345c48bb3c0ad59a011d2",
      "7ae4e6bc81324a76949eecc8726d7d0c",
      "cd6708ffa293462fa4eeae8a7e5daa27",
      "50e05668c87e4b478f43765c95973666",
      "ebb4fcc4014a4853afef24f7b6d0376f",
      "fd264fd1d8e8435ba8babdfdfc8186f5",
      "3ab7c0f087e44d4e9c36ed947ab6b0b4",
      "d2f84adbf66b45158877c52454e6209d",
      "83ff9e8f55ce4d9c82436cd6637411b9",
      "48c75423c86d475ca9000732f9300e4c",
      "1e5c3e17e0494f84b840046f857abf9c",
      "2bcc3cc8bccf49b5b25893327a222912",
      "535a6cb627b443b89688ad29733404e0",
      "4ea687dfd1dc45ff972dcdb279685c28",
      "79c572535699473f8518fd6c52cbb0d3",
      "b5eb3352eec74ecfb372d818517dcfdd",
      "50fff1073e36451e88a1c8f8d9c0d9f2",
      "4d0634ec00c746859723fff919954951",
      "21907bbf025240a38d45240decdac21e",
      "669ba65739e74eb6a656762cd858b802",
      "321b4a740c644cd59909651d97c3c05a",
      "d89dad7378a94e71b0dfd38c5161f36a",
      "0b01c04b394d43529937fa2284124fe0",
      "e51a0c812afc415e93e7a2af877b6075",
      "bf0d04da053d402d87edc4c053386fce",
      "60ffc92aaef84b209dfc7e270bd5c774",
      "5f00a35dffa94e1797810d145f43be29",
      "92013468db8d412d909ce27c4309a815",
      "97df4b346af64bf19d838d1e7be22f72",
      "ad5b26fa91e14ed8a52f940b31fed29c",
      "1575fcd98864442393f9c020fce1e10f",
      "cbad993fd52b4c9fbea2d7f4b41b566d",
      "57a35eb6535642bdaba15fa606105f7f",
      "20a5d017c31e41fca9df0a1823806d8c",
      "d7de2983738149b0b64d268f42b97f4e",
      "43d3efa8f6704fdebadb8cdf08a88594",
      "bd8ec64123c0460b8f930b9dde14570b",
      "25c84a6bdd2947f8902836dbd1fdbb54",
      "5be1bae580014a29a70ce8a549eb4cac",
      "f5248c56f9bd4a689c6d925f967fc6fc",
      "f77e89543145421f816c27a71e60855d",
      "9f4d95dd81b0404a8263e26a1938f362",
      "00f57e5480a3446e99c503f2dc002a5e",
      "1f6cf22f4028404992ddc2d5a5801b3c",
      "0b3cd7d79fc745fbac8345da66fb93bc",
      "38d6ea70731648ce941a645d022e9751",
      "8c3a1a10c8f8405a9332d46ca14801d0",
      "02ed949db7404883b5207e600cfdfcbb",
      "f6ec63d46f514f948455213e0b6a941f",
      "c54e49077ed94395ba3bb8c5170bc16f",
      "0c36dbd6070448bbab494aa661fd48ee",
      "7abcf6c205ff49dfb743d563d681ce7d",
      "a237a196cd284b45b4c575c82f9df76c",
      "0991327e0a3448349d411fb4028fa92e",
      "bbfa62b85ca744708d3f198307a62914",
      "8b896e3061e54b1a8d1a756cf11ff0c9",
      "8f2ff1171b864a29ad9dae582338db92",
      "19a64f4592634ed69c2ec575e808a1de",
      "bf8141bd72cb4d4c9697d0e2aff77176",
      "32b319ace7484207b0214a3d895b8377",
      "8ea90ba302454492b0f6eb01dcb5a5be",
      "bb4cc57b0f4f49f68a58f58f9c261847",
      "9f7739af310f4d3cbbb92685ba21d806",
      "f6e96e1529a241489efcd0cca7eff651",
      "6e8dc14d0c14404dbe5a18d9ef91c7eb",
      "98a6f9e638774d32a45f2b1e392299ca",
      "26620dcc59c14369a0ef078d9c7b39af",
      "d2bf166d101f4b59bc84d9ba4eda72f0",
      "e6e7d8d179254817aafc1652c8df604e",
      "13b8ce978262488fa37a2e7ba306ed84",
      "82cf9bcb582a4321830eff6d074e2e2f",
      "82c2b9f968fc477aae69eed30e214fb4",
      "92e9a154903447b6a1269b37986f32cc",
      "920a8d79f130462b974442cc4bf24928",
      "cc247e8c35ec46748ff301d505b38d2d",
      "55e6c585952e4762a27794cb92af53fd",
      "4d1fd3386ce14c8586e53eb021ab59f9",
      "05edc8b2014f45c096cb82cc40fe663a",
      "ef18217327cc486d92aa04564a540dd6",
      "ec79a794565548b5bb2460544bfad04d"
     ]
    },
    "executionInfo": {
     "elapsed": 699299,
     "status": "ok",
     "timestamp": 1602620259767,
     "user": {
      "displayName": "Himanshu Ranjan Upadhyay",
      "photoUrl": "https://lh3.googleusercontent.com/a-/AOh14Gg53Ld7li_M_eOnbXZNn0WP6Pp7PKbhZK6uRzR5nw=s64",
      "userId": "08972743691883852687"
     },
     "user_tz": -330
    },
    "id": "NnPrjd1yyy9w",
    "outputId": "3231e808-452c-40fb-aa43-494f27bda2a3"
   },
   "outputs": [
    {
     "name": "stderr",
     "output_type": "stream",
     "text": [
      "GPU available: True, used: True\n",
      "TPU available: False, using: 0 TPU cores\n",
      "CUDA_VISIBLE_DEVICES: [0]\n"
     ]
    }
   ],
   "source": [
    "## If resuming from checkpoint, add an arg resume_from_checkpoint\n",
    "train_params = dict(\n",
    "    accumulate_grad_batches=args.gradient_accumulation_steps,\n",
    "    gpus=args.n_gpu,\n",
    "    max_epochs=args.num_train_epochs,\n",
    "    precision= 16 if args.fp_16 else 32,\n",
    "    amp_level=args.opt_level,\n",
    "    resume_from_checkpoint=args.resume_from_checkpoint,\n",
    "    gradient_clip_val=args.max_grad_norm,\n",
    "    checkpoint_callback=checkpoint_callback,\n",
    "    val_check_interval=args.val_check_interval,\n",
    "    logger=wandb_logger,\n",
    "    callbacks=[LoggingCallback()],\n",
    "    # progress_bar_refresh_rate=0\n",
    ")\n",
    "\n",
    "model = T5FakeNewsDetector(args)\n",
    "trainer = pl.Trainer(**train_params)\n"
   ]
  },
  {
   "cell_type": "markdown",
   "metadata": {},
   "source": [
    "## Train using Pytorch Lightning"
   ]
  },
  {
   "cell_type": "code",
   "execution_count": 34,
   "metadata": {
    "ExecuteTime": {
     "end_time": "2020-10-27T15:43:11.997791Z",
     "start_time": "2020-10-27T15:29:29.937135Z"
    }
   },
   "outputs": [
    {
     "name": "stderr",
     "output_type": "stream",
     "text": [
      "\u001b[34m\u001b[1mwandb\u001b[0m: Wandb version 0.10.8 is available!  To upgrade, please run:\n",
      "\u001b[34m\u001b[1mwandb\u001b[0m:  $ pip install wandb --upgrade\n",
      "\n",
      "  | Name  | Type                       | Params\n",
      "-----------------------------------------------------\n",
      "0 | model | T5ForConditionalGeneration | 60 M  \n"
     ]
    },
    {
     "data": {
      "application/vnd.jupyter.widget-view+json": {
       "model_id": "",
       "version_major": 2,
       "version_minor": 0
      },
      "text/plain": [
       "HBox(children=(FloatProgress(value=1.0, bar_style='info', description='Validation sanity check', layout=Layout…"
      ]
     },
     "metadata": {},
     "output_type": "display_data"
    },
    {
     "data": {
      "application/vnd.jupyter.widget-view+json": {
       "model_id": "94c38743359f42a8b446449b6fda9b4a",
       "version_major": 2,
       "version_minor": 0
      },
      "text/plain": [
       "HBox(children=(FloatProgress(value=1.0, bar_style='info', description='Training', layout=Layout(flex='2'), max…"
      ]
     },
     "metadata": {},
     "output_type": "display_data"
    },
    {
     "data": {
      "application/vnd.jupyter.widget-view+json": {
       "model_id": "",
       "version_major": 2,
       "version_minor": 0
      },
      "text/plain": [
       "HBox(children=(FloatProgress(value=1.0, bar_style='info', description='Validating', layout=Layout(flex='2'), m…"
      ]
     },
     "metadata": {},
     "output_type": "display_data"
    },
    {
     "data": {
      "application/vnd.jupyter.widget-view+json": {
       "model_id": "",
       "version_major": 2,
       "version_minor": 0
      },
      "text/plain": [
       "HBox(children=(FloatProgress(value=1.0, bar_style='info', description='Validating', layout=Layout(flex='2'), m…"
      ]
     },
     "metadata": {},
     "output_type": "display_data"
    },
    {
     "data": {
      "application/vnd.jupyter.widget-view+json": {
       "model_id": "",
       "version_major": 2,
       "version_minor": 0
      },
      "text/plain": [
       "HBox(children=(FloatProgress(value=1.0, bar_style='info', description='Validating', layout=Layout(flex='2'), m…"
      ]
     },
     "metadata": {},
     "output_type": "display_data"
    },
    {
     "data": {
      "application/vnd.jupyter.widget-view+json": {
       "model_id": "",
       "version_major": 2,
       "version_minor": 0
      },
      "text/plain": [
       "HBox(children=(FloatProgress(value=1.0, bar_style='info', description='Validating', layout=Layout(flex='2'), m…"
      ]
     },
     "metadata": {},
     "output_type": "display_data"
    },
    {
     "data": {
      "application/vnd.jupyter.widget-view+json": {
       "model_id": "",
       "version_major": 2,
       "version_minor": 0
      },
      "text/plain": [
       "HBox(children=(FloatProgress(value=1.0, bar_style='info', description='Validating', layout=Layout(flex='2'), m…"
      ]
     },
     "metadata": {},
     "output_type": "display_data"
    },
    {
     "data": {
      "application/vnd.jupyter.widget-view+json": {
       "model_id": "",
       "version_major": 2,
       "version_minor": 0
      },
      "text/plain": [
       "HBox(children=(FloatProgress(value=1.0, bar_style='info', description='Validating', layout=Layout(flex='2'), m…"
      ]
     },
     "metadata": {},
     "output_type": "display_data"
    },
    {
     "data": {
      "application/vnd.jupyter.widget-view+json": {
       "model_id": "",
       "version_major": 2,
       "version_minor": 0
      },
      "text/plain": [
       "HBox(children=(FloatProgress(value=1.0, bar_style='info', description='Validating', layout=Layout(flex='2'), m…"
      ]
     },
     "metadata": {},
     "output_type": "display_data"
    },
    {
     "data": {
      "application/vnd.jupyter.widget-view+json": {
       "model_id": "",
       "version_major": 2,
       "version_minor": 0
      },
      "text/plain": [
       "HBox(children=(FloatProgress(value=1.0, bar_style='info', description='Validating', layout=Layout(flex='2'), m…"
      ]
     },
     "metadata": {},
     "output_type": "display_data"
    },
    {
     "data": {
      "application/vnd.jupyter.widget-view+json": {
       "model_id": "",
       "version_major": 2,
       "version_minor": 0
      },
      "text/plain": [
       "HBox(children=(FloatProgress(value=1.0, bar_style='info', description='Validating', layout=Layout(flex='2'), m…"
      ]
     },
     "metadata": {},
     "output_type": "display_data"
    },
    {
     "data": {
      "application/vnd.jupyter.widget-view+json": {
       "model_id": "",
       "version_major": 2,
       "version_minor": 0
      },
      "text/plain": [
       "HBox(children=(FloatProgress(value=1.0, bar_style='info', description='Validating', layout=Layout(flex='2'), m…"
      ]
     },
     "metadata": {},
     "output_type": "display_data"
    },
    {
     "data": {
      "application/vnd.jupyter.widget-view+json": {
       "model_id": "",
       "version_major": 2,
       "version_minor": 0
      },
      "text/plain": [
       "HBox(children=(FloatProgress(value=1.0, bar_style='info', description='Validating', layout=Layout(flex='2'), m…"
      ]
     },
     "metadata": {},
     "output_type": "display_data"
    },
    {
     "data": {
      "application/vnd.jupyter.widget-view+json": {
       "model_id": "",
       "version_major": 2,
       "version_minor": 0
      },
      "text/plain": [
       "HBox(children=(FloatProgress(value=1.0, bar_style='info', description='Validating', layout=Layout(flex='2'), m…"
      ]
     },
     "metadata": {},
     "output_type": "display_data"
    },
    {
     "data": {
      "application/vnd.jupyter.widget-view+json": {
       "model_id": "",
       "version_major": 2,
       "version_minor": 0
      },
      "text/plain": [
       "HBox(children=(FloatProgress(value=1.0, bar_style='info', description='Validating', layout=Layout(flex='2'), m…"
      ]
     },
     "metadata": {},
     "output_type": "display_data"
    },
    {
     "data": {
      "application/vnd.jupyter.widget-view+json": {
       "model_id": "",
       "version_major": 2,
       "version_minor": 0
      },
      "text/plain": [
       "HBox(children=(FloatProgress(value=1.0, bar_style='info', description='Validating', layout=Layout(flex='2'), m…"
      ]
     },
     "metadata": {},
     "output_type": "display_data"
    },
    {
     "data": {
      "application/vnd.jupyter.widget-view+json": {
       "model_id": "",
       "version_major": 2,
       "version_minor": 0
      },
      "text/plain": [
       "HBox(children=(FloatProgress(value=1.0, bar_style='info', description='Validating', layout=Layout(flex='2'), m…"
      ]
     },
     "metadata": {},
     "output_type": "display_data"
    },
    {
     "data": {
      "application/vnd.jupyter.widget-view+json": {
       "model_id": "",
       "version_major": 2,
       "version_minor": 0
      },
      "text/plain": [
       "HBox(children=(FloatProgress(value=1.0, bar_style='info', description='Validating', layout=Layout(flex='2'), m…"
      ]
     },
     "metadata": {},
     "output_type": "display_data"
    },
    {
     "data": {
      "application/vnd.jupyter.widget-view+json": {
       "model_id": "",
       "version_major": 2,
       "version_minor": 0
      },
      "text/plain": [
       "HBox(children=(FloatProgress(value=1.0, bar_style='info', description='Validating', layout=Layout(flex='2'), m…"
      ]
     },
     "metadata": {},
     "output_type": "display_data"
    },
    {
     "data": {
      "application/vnd.jupyter.widget-view+json": {
       "model_id": "",
       "version_major": 2,
       "version_minor": 0
      },
      "text/plain": [
       "HBox(children=(FloatProgress(value=1.0, bar_style='info', description='Validating', layout=Layout(flex='2'), m…"
      ]
     },
     "metadata": {},
     "output_type": "display_data"
    },
    {
     "data": {
      "application/vnd.jupyter.widget-view+json": {
       "model_id": "",
       "version_major": 2,
       "version_minor": 0
      },
      "text/plain": [
       "HBox(children=(FloatProgress(value=1.0, bar_style='info', description='Validating', layout=Layout(flex='2'), m…"
      ]
     },
     "metadata": {},
     "output_type": "display_data"
    },
    {
     "data": {
      "application/vnd.jupyter.widget-view+json": {
       "model_id": "",
       "version_major": 2,
       "version_minor": 0
      },
      "text/plain": [
       "HBox(children=(FloatProgress(value=1.0, bar_style='info', description='Validating', layout=Layout(flex='2'), m…"
      ]
     },
     "metadata": {},
     "output_type": "display_data"
    },
    {
     "data": {
      "application/vnd.jupyter.widget-view+json": {
       "model_id": "",
       "version_major": 2,
       "version_minor": 0
      },
      "text/plain": [
       "HBox(children=(FloatProgress(value=1.0, bar_style='info', description='Validating', layout=Layout(flex='2'), m…"
      ]
     },
     "metadata": {},
     "output_type": "display_data"
    },
    {
     "data": {
      "application/vnd.jupyter.widget-view+json": {
       "model_id": "",
       "version_major": 2,
       "version_minor": 0
      },
      "text/plain": [
       "HBox(children=(FloatProgress(value=1.0, bar_style='info', description='Validating', layout=Layout(flex='2'), m…"
      ]
     },
     "metadata": {},
     "output_type": "display_data"
    },
    {
     "data": {
      "application/vnd.jupyter.widget-view+json": {
       "model_id": "",
       "version_major": 2,
       "version_minor": 0
      },
      "text/plain": [
       "HBox(children=(FloatProgress(value=1.0, bar_style='info', description='Validating', layout=Layout(flex='2'), m…"
      ]
     },
     "metadata": {},
     "output_type": "display_data"
    },
    {
     "data": {
      "application/vnd.jupyter.widget-view+json": {
       "model_id": "",
       "version_major": 2,
       "version_minor": 0
      },
      "text/plain": [
       "HBox(children=(FloatProgress(value=1.0, bar_style='info', description='Validating', layout=Layout(flex='2'), m…"
      ]
     },
     "metadata": {},
     "output_type": "display_data"
    },
    {
     "data": {
      "application/vnd.jupyter.widget-view+json": {
       "model_id": "",
       "version_major": 2,
       "version_minor": 0
      },
      "text/plain": [
       "HBox(children=(FloatProgress(value=1.0, bar_style='info', description='Validating', layout=Layout(flex='2'), m…"
      ]
     },
     "metadata": {},
     "output_type": "display_data"
    },
    {
     "data": {
      "application/vnd.jupyter.widget-view+json": {
       "model_id": "",
       "version_major": 2,
       "version_minor": 0
      },
      "text/plain": [
       "HBox(children=(FloatProgress(value=1.0, bar_style='info', description='Validating', layout=Layout(flex='2'), m…"
      ]
     },
     "metadata": {},
     "output_type": "display_data"
    },
    {
     "data": {
      "application/vnd.jupyter.widget-view+json": {
       "model_id": "",
       "version_major": 2,
       "version_minor": 0
      },
      "text/plain": [
       "HBox(children=(FloatProgress(value=1.0, bar_style='info', description='Validating', layout=Layout(flex='2'), m…"
      ]
     },
     "metadata": {},
     "output_type": "display_data"
    },
    {
     "data": {
      "application/vnd.jupyter.widget-view+json": {
       "model_id": "",
       "version_major": 2,
       "version_minor": 0
      },
      "text/plain": [
       "HBox(children=(FloatProgress(value=1.0, bar_style='info', description='Validating', layout=Layout(flex='2'), m…"
      ]
     },
     "metadata": {},
     "output_type": "display_data"
    },
    {
     "data": {
      "application/vnd.jupyter.widget-view+json": {
       "model_id": "",
       "version_major": 2,
       "version_minor": 0
      },
      "text/plain": [
       "HBox(children=(FloatProgress(value=1.0, bar_style='info', description='Validating', layout=Layout(flex='2'), m…"
      ]
     },
     "metadata": {},
     "output_type": "display_data"
    },
    {
     "data": {
      "application/vnd.jupyter.widget-view+json": {
       "model_id": "",
       "version_major": 2,
       "version_minor": 0
      },
      "text/plain": [
       "HBox(children=(FloatProgress(value=1.0, bar_style='info', description='Validating', layout=Layout(flex='2'), m…"
      ]
     },
     "metadata": {},
     "output_type": "display_data"
    },
    {
     "data": {
      "application/vnd.jupyter.widget-view+json": {
       "model_id": "",
       "version_major": 2,
       "version_minor": 0
      },
      "text/plain": [
       "HBox(children=(FloatProgress(value=1.0, bar_style='info', description='Validating', layout=Layout(flex='2'), m…"
      ]
     },
     "metadata": {},
     "output_type": "display_data"
    },
    {
     "data": {
      "application/vnd.jupyter.widget-view+json": {
       "model_id": "",
       "version_major": 2,
       "version_minor": 0
      },
      "text/plain": [
       "HBox(children=(FloatProgress(value=1.0, bar_style='info', description='Validating', layout=Layout(flex='2'), m…"
      ]
     },
     "metadata": {},
     "output_type": "display_data"
    },
    {
     "data": {
      "application/vnd.jupyter.widget-view+json": {
       "model_id": "",
       "version_major": 2,
       "version_minor": 0
      },
      "text/plain": [
       "HBox(children=(FloatProgress(value=1.0, bar_style='info', description='Validating', layout=Layout(flex='2'), m…"
      ]
     },
     "metadata": {},
     "output_type": "display_data"
    },
    {
     "data": {
      "application/vnd.jupyter.widget-view+json": {
       "model_id": "",
       "version_major": 2,
       "version_minor": 0
      },
      "text/plain": [
       "HBox(children=(FloatProgress(value=1.0, bar_style='info', description='Validating', layout=Layout(flex='2'), m…"
      ]
     },
     "metadata": {},
     "output_type": "display_data"
    },
    {
     "data": {
      "application/vnd.jupyter.widget-view+json": {
       "model_id": "",
       "version_major": 2,
       "version_minor": 0
      },
      "text/plain": [
       "HBox(children=(FloatProgress(value=1.0, bar_style='info', description='Validating', layout=Layout(flex='2'), m…"
      ]
     },
     "metadata": {},
     "output_type": "display_data"
    },
    {
     "data": {
      "application/vnd.jupyter.widget-view+json": {
       "model_id": "",
       "version_major": 2,
       "version_minor": 0
      },
      "text/plain": [
       "HBox(children=(FloatProgress(value=1.0, bar_style='info', description='Validating', layout=Layout(flex='2'), m…"
      ]
     },
     "metadata": {},
     "output_type": "display_data"
    },
    {
     "data": {
      "application/vnd.jupyter.widget-view+json": {
       "model_id": "",
       "version_major": 2,
       "version_minor": 0
      },
      "text/plain": [
       "HBox(children=(FloatProgress(value=1.0, bar_style='info', description='Validating', layout=Layout(flex='2'), m…"
      ]
     },
     "metadata": {},
     "output_type": "display_data"
    },
    {
     "data": {
      "application/vnd.jupyter.widget-view+json": {
       "model_id": "",
       "version_major": 2,
       "version_minor": 0
      },
      "text/plain": [
       "HBox(children=(FloatProgress(value=1.0, bar_style='info', description='Validating', layout=Layout(flex='2'), m…"
      ]
     },
     "metadata": {},
     "output_type": "display_data"
    },
    {
     "data": {
      "application/vnd.jupyter.widget-view+json": {
       "model_id": "",
       "version_major": 2,
       "version_minor": 0
      },
      "text/plain": [
       "HBox(children=(FloatProgress(value=1.0, bar_style='info', description='Validating', layout=Layout(flex='2'), m…"
      ]
     },
     "metadata": {},
     "output_type": "display_data"
    },
    {
     "data": {
      "application/vnd.jupyter.widget-view+json": {
       "model_id": "",
       "version_major": 2,
       "version_minor": 0
      },
      "text/plain": [
       "HBox(children=(FloatProgress(value=1.0, bar_style='info', description='Validating', layout=Layout(flex='2'), m…"
      ]
     },
     "metadata": {},
     "output_type": "display_data"
    },
    {
     "name": "stderr",
     "output_type": "stream",
     "text": [
      "Saving latest checkpoint..\n"
     ]
    },
    {
     "name": "stdout",
     "output_type": "stream",
     "text": [
      "\n"
     ]
    },
    {
     "data": {
      "text/plain": [
       "1"
      ]
     },
     "execution_count": 34,
     "metadata": {},
     "output_type": "execute_result"
    }
   ],
   "source": [
    "trainer.fit(model)"
   ]
  },
  {
   "cell_type": "markdown",
   "metadata": {},
   "source": [
    "## Test this model on Val Set"
   ]
  },
  {
   "cell_type": "code",
   "execution_count": 35,
   "metadata": {
    "ExecuteTime": {
     "end_time": "2020-10-27T15:43:12.000580Z",
     "start_time": "2020-10-27T15:43:11.998816Z"
    }
   },
   "outputs": [],
   "source": [
    "import textwrap\n",
    "from tqdm.auto import tqdm"
   ]
  },
  {
   "cell_type": "code",
   "execution_count": 36,
   "metadata": {
    "ExecuteTime": {
     "end_time": "2020-10-27T15:43:12.288960Z",
     "start_time": "2020-10-27T15:43:12.001438Z"
    }
   },
   "outputs": [],
   "source": [
    "tokenizer = T5Tokenizer.from_pretrained('t5-small')\n",
    "dataset = dataset = NewsData(df, tokenizer, 'validation', None, token_len, 3, True)"
   ]
  },
  {
   "cell_type": "code",
   "execution_count": 37,
   "metadata": {
    "ExecuteTime": {
     "end_time": "2020-10-27T15:43:12.296428Z",
     "start_time": "2020-10-27T15:43:12.289871Z"
    }
   },
   "outputs": [],
   "source": [
    "loader = DataLoader(dataset, batch_size=32, shuffle=True)\n",
    "it = iter(loader)"
   ]
  },
  {
   "cell_type": "code",
   "execution_count": 38,
   "metadata": {
    "ExecuteTime": {
     "end_time": "2020-10-27T15:43:12.479892Z",
     "start_time": "2020-10-27T15:43:12.297890Z"
    }
   },
   "outputs": [
    {
     "name": "stdout",
     "output_type": "stream",
     "text": [
      "Lens are:  torch.Size([512]) torch.Size([3])\n",
      "Lens are:  torch.Size([512]) torch.Size([3])\n",
      "Lens are:  torch.Size([512]) torch.Size([3])\n",
      "Lens are:  torch.Size([512]) torch.Size([3])\n",
      "Lens are:  torch.Size([512]) torch.Size([3])\n",
      "Lens are:  torch.Size([512]) torch.Size([3])\n",
      "Lens are:  torch.Size([512]) torch.Size([3])\n",
      "Lens are:  torch.Size([512]) torch.Size([3])\n",
      "Lens are:  torch.Size([512]) torch.Size([3])\n",
      "Lens are:  torch.Size([512]) torch.Size([3])\n",
      "Lens are:  torch.Size([512]) torch.Size([3])\n",
      "Lens are:  torch.Size([512]) torch.Size([3])\n",
      "Lens are:  torch.Size([512]) torch.Size([3])\n",
      "Lens are:  torch.Size([512]) torch.Size([3])\n",
      "Lens are:  torch.Size([512]) torch.Size([3])\n",
      "Lens are:  torch.Size([512]) torch.Size([3])\n",
      "Lens are:  torch.Size([512]) torch.Size([3])\n",
      "Lens are:  torch.Size([512]) torch.Size([3])\n",
      "Lens are:  torch.Size([512]) torch.Size([3])\n",
      "Lens are:  torch.Size([512]) torch.Size([3])\n",
      "Lens are:  torch.Size([512]) torch.Size([3])\n",
      "Lens are:  torch.Size([512]) torch.Size([3])\n",
      "Lens are:  torch.Size([512]) torch.Size([3])\n",
      "Lens are:  torch.Size([512]) torch.Size([3])\n",
      "Lens are:  torch.Size([512]) torch.Size([3])\n",
      "Lens are:  torch.Size([512]) torch.Size([3])\n",
      "Lens are:  torch.Size([512]) torch.Size([3])\n",
      "Lens are:  torch.Size([512]) torch.Size([3])\n",
      "Lens are:  torch.Size([512]) torch.Size([3])\n",
      "Lens are:  torch.Size([512]) torch.Size([3])\n",
      "Lens are:  torch.Size([512]) torch.Size([3])\n",
      "Lens are:  torch.Size([512]) torch.Size([3])\n"
     ]
    },
    {
     "data": {
      "text/plain": [
       "torch.Size([32, 512])"
      ]
     },
     "execution_count": 38,
     "metadata": {},
     "output_type": "execute_result"
    }
   ],
   "source": [
    "batch = next(it)\n",
    "batch[\"source_ids\"].shape"
   ]
  },
  {
   "cell_type": "code",
   "execution_count": 39,
   "metadata": {
    "ExecuteTime": {
     "end_time": "2020-10-27T15:43:12.853589Z",
     "start_time": "2020-10-27T15:43:12.480852Z"
    }
   },
   "outputs": [],
   "source": [
    "model.to('cuda')\n",
    "outs = model.model.generate(\n",
    "            batch[\"source_ids\"].cuda(),\n",
    "            attention_mask=batch[\"source_mask\"].cuda(),\n",
    "            use_cache=True,\n",
    "            decoder_attention_mask=batch['target_mask'].cuda(),\n",
    "        )\n",
    "\n",
    "dec = [tokenizer.decode(ids) for ids in outs]\n",
    "\n",
    "texts = [tokenizer.decode(ids) for ids in batch['source_ids']]\n",
    "targets = [tokenizer.decode(ids) for ids in batch['target_ids']]"
   ]
  },
  {
   "cell_type": "code",
   "execution_count": 40,
   "metadata": {
    "ExecuteTime": {
     "end_time": "2020-10-27T15:43:12.877390Z",
     "start_time": "2020-10-27T15:43:12.854471Z"
    }
   },
   "outputs": [
    {
     "name": "stdout",
     "output_type": "stream",
     "text": [
      "Input Text: classify: news bulletin liverpools english striker daniel sturridge c applauds\n",
      "supporters at the final whistle during the efl english football league cup fourth round match\n",
      "between liverpool and tottenham hotspur at anfield in liverpool north west england on october afp\n",
      "liverpool have progressed into the quarterfinals of the efl cup by defeating tottenham at anfield\n",
      "with the help of a double by daniel sturridge the reds just couldnt have asked for a better start on\n",
      "tuesday as they grabbed the lead just minutes into the match through daniel sturridge the yearold\n",
      "striker then doubled liverpools advantage after the break by converting a oneonone opportunity in\n",
      "the th minute spurs however managed to pull one back in the th minute when vincent janssen converted\n",
      "a penalty but that was as close as they got as liverpool made it to the last eight and stayed on\n",
      "course to lift the trophy for a th time in their history\n",
      "\n",
      "Actual Class: Real\n",
      "\n",
      "Predicted Class from T5: Real\n",
      "=====================================================================\n",
      "\n",
      "Input Text: classify: published on jun by the rays of reason million verse now is the time for\n",
      "critical thinking minds to take another look inside your history books and turn to the pages that\n",
      "covers world war ii and focus your attention on the million jews verse yes million jews its a mantra\n",
      "you see not my point of view but a fact so dont get mad at me there were no gas chambers in any of\n",
      "the labor camps the victors wrote the story it needs to be revamped chorus you see the holocaust is\n",
      "not what it appears to be yes the holocaust needs to be looked at more carefully yes the holocaust\n",
      "is clearly a logistic impossibility yes the holocaust a cash cow that keeps making money verse\n",
      "million lies is what we are told at birth million lies it keeps growing and only gets worse they\n",
      "used it as a propaganda tool for zionist israel while forcing palestine to become a living hell\n",
      "repeats chorus then tag million million million lies million million million did not die its a\n",
      "mantra repeated over and over its time to end this now you see the holocaust is not what it appears\n",
      "to be words and music by john l niems copyright niemsongs pub bmi share this\n",
      "\n",
      "Actual Class: Fake\n",
      "\n",
      "Predicted Class from T5: Fake\n",
      "=====================================================================\n",
      "\n",
      "Input Text: classify: ers fans care more about victories than kaepernick elliott almond mercury news\n",
      "october colin kaepernicks first home start in a year didnt stop the pessimism that has left\n",
      "redjerseyed ers patrons in a football funk thousands of empty red seats at levis stadium underscored\n",
      "san franciscos freefall that continued unabated sunday in a defeat to the tampa bay buccaneers few\n",
      "were thinking about kaepernicks seasonlong activism in which he again kneeled during the national\n",
      "anthem to protest oppression against minorities these days fans just want to see their team win a\n",
      "game after six consecutive defeats snip after leading the ers to a promising firstquarter lead\n",
      "kaepernick and the offense sputtered he completed just of passes for yards with one touchdown and\n",
      "one interception kaepernicks scramblinghe led the team with rushing yards on nine carriesand\n",
      "occasional flashes of accurate downfield passing werent enough even with the ers firmly in the game\n",
      "midway through the fourth quarter snip kaepernick donned a tshirt sunday paying tribute to the black\n",
      "panther party an oakland activist group that celebrated its th anniversary this weekend the\n",
      "quarterback said the shirt was a gift from his girlfriend mtv host nessa diab last week he wore a\n",
      "shirt with muhammad alis face before the game at buffalo kaepernicks protest against police\n",
      "shootings of unarmed african americans has been divisive because some say it is disrespectful to\n",
      "veterans a recent survey by yahoo sports and yougov found that a decline in nfl ratings partially is\n",
      "attributed to the quarterbacks action i dont know much about ratings and how they are affected he\n",
      "said in a postgame interview but i dont understand why ratings would go down fighting for justice\n",
      "for people to try to stop oppression especially in the league that is predominately black snip\n",
      "\n",
      "Actual Class: Fake\n",
      "\n",
      "Predicted Class from T5: Fake\n",
      "=====================================================================\n",
      "\n",
      "Input Text: classify: how haunted is your house posted today do you believe in ghosts take this quiz\n",
      "and find out if your house is haunted check off all the things you have noticed about your house\n",
      "sometimes i get woken up at night by the loud sobbing of a translucent widow and she wont go away\n",
      "until i spritz her with a water bottle every time i make the sign of the cross a hellish guttural\n",
      "voice says id really rather you didnt my vegetables always seem to go bad a little quicker than youd\n",
      "think they would the bonechilling whispers telling me to get out and get out now are just white\n",
      "noise at this point my decorative suits of armor sat down on the couch to watch tv and wont let me\n",
      "change the channel if ice road truckers is on no matter which way the wind blows my weathervane\n",
      "always points toward the former headquarters of enron my reflection is constantly doing jerkoff\n",
      "motions at me i have a grandfather clock that for all i know was built by a murderer the koi in my\n",
      "koi pond died and turned into ghost fish which is actually really convenient since i dont have to\n",
      "feed them anymore theres just a lot of dust my daughters head hasnt stopped rotating since we moved\n",
      "in but her grades are still good so were not too worried i had a priest come to exorcise my house\n",
      "and a year later hes still not even done with the foyer get results results for how haunted is your\n",
      "house your house is very haunted wow the resounding answer is that your house is haunted beyond\n",
      "compare with spirits infesting every corner of the whole place its time to collapse from fear\n",
      "because you are living in a haunted house share your results\n",
      "\n",
      "Actual Class: Fake\n",
      "\n",
      "Predicted Class from T5: Fake\n",
      "=====================================================================\n",
      "\n",
      "Input Text: classify: politics us democratic presidential nominee hillary clinton listens as senator\n",
      "bernie sanders ivt speaks during an event at university of new hampshire september in durham new\n",
      "hampshire photo by afp former us democratic presidential candidate senator bernie sanders has\n",
      "denounced republican nominee donald trump as a political coward over a voter suppression report\n",
      "sanders condemned trump after a report that the republicans presidential campaign has three voter\n",
      "suppression drives intended to lower turnout for hillary clinton the democratic presidential nominee\n",
      "and to help trump winning the white house anybody who is suppressing the vote because they know that\n",
      "those people will vote against them is a political coward the vermont senator tweeted if you dont\n",
      "have the guts to run for office on your ideas realdonaldtrump then you shouldnt run for office at\n",
      "all he said in another tweet a senior adviser to trump acknowledged in an interview with bloomberg\n",
      "businessweek that the republican team has three major voter suppression operations underway sanders\n",
      "a former primary rival of clinton suspended his campaign in july and endorsed the former secretary\n",
      "of state despite leaked emails that showed top officials at the democratic national committee dnc\n",
      "privately planned to undermine sanderss presidential campaign sanders had earlier said that he would\n",
      "not endorse clinton for president until they meet and he could measure her commitment to combating\n",
      "wealth inequality and other issues that powered his presidential campaign sanders emphasis on us\n",
      "income inequality and the influence of corporate money on elections and the government helped him\n",
      "attract millions of voters to his campaign loading\n",
      "\n",
      "Actual Class: Real\n",
      "\n",
      "Predicted Class from T5: Real\n",
      "=====================================================================\n",
      "\n",
      "Input Text: classify: nyt credibility destroyed by simple questions from newt gingrich share in\n",
      "editorials journalism trump the new york times publisher and executive editor have promised to\n",
      "rededicate the paper to its fundamental mission to report america and the world honestly without\n",
      "favors and fear the paper claims they will strive to understand and reflect all political\n",
      "perspectives and life experiences in stories brought to the public this announcement is almost\n",
      "considered an apology to its readers for providing a year and a half of unbalanced and unhinged\n",
      "coverage of the presidential race sean hannity suggests that trump must ignore the media and trust\n",
      "his gut instincts he was sad to see the yearold paper destroy their credibility over the election\n",
      "season it was obvious to dedicated readers that the times had abandoned its old coverage standards\n",
      "stories were unrelentingly hostile towards trump and his supporters reporters were including their\n",
      "personal opinions and political analysis in the news coverage this allowed animosity toward trump to\n",
      "be spread all over social media by political reporters front page stories on the new york times were\n",
      "accusing trump of lying but the paper never published the same findings in reference to hillary\n",
      "clinton the papers liberal readership has even gotten tired of reporting that resembles state\n",
      "controlled propaganda of totalitarian regimes newt gingrich destroys the new york times credibility\n",
      "with seven simple questions the new york times has struggled mightily to answer some serious\n",
      "questions posed by the former united states house of representatives speaker gingrich a republican\n",
      "has asked the times whether they have any reporters editors or columnists that will say they voted\n",
      "for trump he elaborated to ask if they have since hired any trump supporters to work those positions\n",
      "for the times the paper struggled to say whether or not it has hired any republican reporters at all\n",
      "gingrich has also asked if the new york times has changed its policies allowing journalists to\n",
      "express their opinions about events and people they are covering the fourth question asked by\n",
      "gingrich wondered if the times reporters would surrender any pulitzer prizes awarded for news\n",
      "stories containing personal opinions here are the final questions that the times struggled to\n",
      "address have its editors retracted misleading news headlines that expressed opinions such as the\n",
      "papers coverage of trumps tax returns has it fired reporters who admitted to writing politically\n",
      "motivated news stories and encouraged interview subjects to talk to them so they could stop trump\n",
      "has it retracted its shame\n",
      "\n",
      "Actual Class: Fake\n",
      "\n",
      "Predicted Class from T5: Fake\n",
      "=====================================================================\n",
      "\n",
      "Input Text: classify: wikileaks email hillary campaign struggles to reach fking dumb young people\n",
      "thats the crap that young people pay attention to paul joseph watson october comments a new email\n",
      "released by wikileaks as part of the podesta dump features hillary ally wendy bronfein advising\n",
      "clinton campaign chairman john podesta on how to reach fking dumb young people marketing executive\n",
      "bronfein tells podesta that clinton may not be the best face to attract younger voters and that she\n",
      "needs to utilize trending figures as par of an infusion to pull younger voters because thats the\n",
      "crap that young people pay attention to bronfein goes on to state its fking dumb but being cool\n",
      "counts for more than it maybe should she references bill clintons saxophone playing as an example of\n",
      "this before asserting i hate to generalize a generation but by social media nature they follow so if\n",
      "someone they identify as cool endorses they will likely fall in line with that candidate bronfein is\n",
      "introduced to john podesta in another email as someone who could be immensely helpful in improving\n",
      "hrcs connection to millennials the email is yet another example of the disdain that hillary insiders\n",
      "have for clintons own voters yesterday we highlighted how clinton ally brent budowsky accused\n",
      "hillary operative david brock of having a plan that relied upon black voters being stupid in an\n",
      "audio recording leaked earlier this month hillary clinton was caught on tape saying bernie sanders\n",
      "supporters are living in their parents basement and had bought into a false promise in another email\n",
      "clinton operative bill ivey spoke of the need to maintain political power by producing an unaware\n",
      "and compliant citizenry subscribe on youtube\n",
      "\n",
      "Actual Class: Fake\n",
      "\n",
      "Predicted Class from T5: Fake\n",
      "=====================================================================\n",
      "\n",
      "Input Text: classify: how much of a political junkie are you posted today sure you might think youre\n",
      "hot stuff by being able to name one of the presidential candidates but can you attain true\n",
      "politicaljunkie status find out below check off every behavior that describes you in between\n",
      "elections i just stay in the voting booth i put a penny in a jar every time i think about congress\n",
      "as electoral college results come in i like to bruise or burn the states in the map of america\n",
      "tattooed on my chest i know all nine issues including environment big fiscals fighting the lantern\n",
      "question and shipping glue overseas i spent my college summer vacations camped out on the washington\n",
      "mall just in case i could hear any laws being yelled about i love looking at election maps and\n",
      "imagining what theyd look like back in the pangea days i am always looking high and low for politics\n",
      "i describe google as the website that takes you to polticocom i am fifth in the line of presidential\n",
      "succession my idea of a fun friday night is filling a bathtub with warm maple syrup and feathers to\n",
      "give myself a big mess to clean up while i think about politics i can name any senator from the past\n",
      "three decades and i can tell you whether or not they have an outie belly button wolf blitzer is near\n",
      "me i have an unopened case of paul ryans old energy drink konkrete kik i wouldnt tell americas\n",
      "enemies how many electoral votes maryland has even if i were being tortured every four years for\n",
      "three months people avoid me like the plague get results results for how much of a political junkie\n",
      "are you you are an outofcontrol borderline psychotic political junkie youre clearly so obsessed with\n",
      "politics that when you see the cnn breaking news bumper your whole body convulses in dry silent\n",
      "nearorgasm sorry this election is about to be over because you need this bullshit to live share your\n",
      "results\n",
      "\n",
      "Actual Class: Fake\n",
      "\n",
      "Predicted Class from T5: Fake\n",
      "=====================================================================\n",
      "\n",
      "Input Text: classify: by shane wright voter fraud is a contentious issue of late liberals swear it\n",
      "is a myth propagated by evil racist conservatives we know better most on the right are aware of the\n",
      "voter fraud issue but many have little to no idea how to combat or report violations consider this\n",
      "your crash course first and foremost step one in any instance where you see or suspect voter fraud\n",
      "is to alert the state officials who oversee the election process for most states this is done by the\n",
      "secretary of state in other states there is a state board of elections notifying these officials is\n",
      "paramount as they are the ones who ultimately certify and authenticate elections alert them before\n",
      "you call fox news or blow up twitter though drawing as much media attention as possible is\n",
      "beneficial you want to make sure you follow a process i have included a contact list for each state\n",
      "at the bottom of this post in many cases once you have alerted the state authorities they will\n",
      "direct you to the proper city or county officials where you will fill out paperwork bureaucracy at\n",
      "its finest go ahead and jump through their hoops if you witnessed the fraud chances are someone else\n",
      "did too make a good effort to get other witness names and contact information as well this will\n",
      "strengthen your case and increase the likelihood that state and county officials will step in and\n",
      "act on your complaint if as has happened before state officials ignore you entirely your next step\n",
      "is to contact your state attorney general and alert them of the situation however before you do this\n",
      "you need to arm yourself with knowledge of your specific states election laws you will be more\n",
      "credible if you are able to cite the specific statutes which were violated state laws are generally\n",
      "published online however it may actually be quicker and easier for you to go to your local library\n",
      "or courthouse and utilize their search engines in my experience relevant case law and updated\n",
      "statutes can be difficult to sort through on google or other internet search sites the attorney\n",
      "general should conduct an investigation to determine whether or not there is enough evidence andor\n",
      "information to take legal action if state officials refuse to work with you your next step is to\n",
      "alert both your state representative and state senator they may intercede and it is in the secretary\n",
      "of state and attorney generals best interest to respond professionally and quickly to these\n",
      "representatives should you continue to hit dead ends on the state level its time to alert the\n",
      "department of justice before doing this call your congressman and senator in some cases they will be\n",
      "willing to write a letter on your\n",
      "\n",
      "Actual Class: Real\n",
      "\n",
      "Predicted Class from T5: Fake\n",
      "=====================================================================\n",
      "\n",
      "Input Text: classify: russias most potent weapon hoarding gold shtfplancom this article was written\n",
      "by jay syrmopoulos and originally published at the free thought project editors comment he who holds\n",
      "the gold makes the rules fresh attempts at containing russia and continuing the empire have been met\n",
      "with countermoves russia appears to be building strength in every way putin and his country have no\n",
      "intention of being under the american thumb and are developing rapid resistance as the us\n",
      "petrodollar loses its grip and china russia and the east shift into new currencies and shifting\n",
      "world order what lies ahead it will be a strong hand for the countries that have the most\n",
      "significant backing in gold and hard assets and china and russia have positioned themselves very\n",
      "well prepare for a changing economic landscape and one in which selfreliance might be all we have\n",
      "russia is hoarding gold at an alarming rate the next world war will be fought with currencies by jay\n",
      "syrmopoulos with all eyes on russias unveiling their latest nuclear intercontinental ballistic\n",
      "missile icbm which nato has dubbed the satan missile as tensions with the us increase moscows most\n",
      "potent weapon may be something drastically different the rapidly evolving geopolitical weapon\n",
      "brandished by russia is an ever increasing stockpile of gold as well as russias native currency the\n",
      "ruble take a look at the symbol below as it could soon come to change the entire hierarchy of the\n",
      "international order potentially ushering in a complete international paradigm shift and much sooner\n",
      "than you might think image httpthefreethoughtprojectcomwpcontentuploadsbankofrussiaepng the symbol\n",
      "is the new designation of the russian ruble russias national currency similar to how the us uses the\n",
      "dollar sign the uk uses the pound sign and the european union uses the euro symbol russia is about\n",
      "to begin exporting its symbol internationally after the failed reset in usrussian relations by the\n",
      "obama administration and the continued deterioration of the countries relationship washington began\n",
      "targeting entire sectors of the russian economy as well as specific individuals meant to impose an\n",
      "economic burden so severe that it would force moscow into compliance instead of decimating russia\n",
      "what it precipitated was a russian response of gradually weaning themselves off of the hegemony of\n",
      "\n",
      "Actual Class: Fake\n",
      "\n",
      "Predicted Class from T5: Fake\n",
      "=====================================================================\n",
      "\n",
      "Input Text: classify: by sarah jones on fri oct th at pm donald trumps republican running mate mike\n",
      "pence has finally found something hes offended by but its not donald trump bragging about sexual\n",
      "assault or insulting african americans or mexicans or women or a gold star family nope pence is\n",
      "offended by a news report he hasnt read about their voter suppression efforts share on twitter print\n",
      "this post thats offensive to me that kind of language its not our operation indiana governor mike\n",
      "pence said friday morning on msnbcs morning joe yes donald trumps republican running mate mike pence\n",
      "has finally found something hes offended by but its not donald trump bragging about sexual assault\n",
      "or insulting african americans or mexicans or women or a gold star family nope did pence read the\n",
      "story no but hes offended so offended because that kind of language is offensive not the actual\n",
      "suppression of the votes but the language because its not our operation watch here via msnbcs\n",
      "morning joe twice saying he hasnt read the article pence proceeded to launch into a diatribe about\n",
      "how offended he was by something he hadnt read thats offensive to me that kind of language its not\n",
      "our operation pence denied donald trump and i want every american who has the opportunity to vote to\n",
      "vote in this election and thats our message is to tell the american people that this country really\n",
      "belongs to them that we can have government as good as our people again but its going to take all of\n",
      "us and you saw donald trump say that people who havent traditionally voted republican weve got an\n",
      "agenda to bring our cities back pence is twice offended so super offended ive never heard anybody in\n",
      "this campaign talk that way frankly you know it was offensive to me to hear that being reported in\n",
      "the news because thats just not the approach donald trump has taken to this campaign its not the\n",
      "approach were taking were reaching out to every american pence then claimed independents and even\n",
      "democrats are breaking for trump in fact trump and pence are even losing groups that voted\n",
      "\n",
      "Actual Class: Fake\n",
      "\n",
      "Predicted Class from T5: Fake\n",
      "=====================================================================\n",
      "\n",
      "Input Text: classify: shares credit iosonounafotocamera flickr when the dust settled on the nov\n",
      "election we learned that a completely unpredictable egomaniacal narcissistic buffoon would inherit\n",
      "the white house and the vast powers that go along with it this deeply offended many people who see\n",
      "donald trumps racist and misogynistic rhetoric as unpresidential liberal new york times columnist\n",
      "charles blow summed up this view i respect the presidency i do not respect this presidentelect that\n",
      "the presidentelect should not be respected is a given but why should we respect the presidency the\n",
      "imperial presidency of the united states has evolved over the last century to the point that the\n",
      "executive holds certain powers that can be considered dictatorial arguably the most consequential\n",
      "decision in politics is to wage war the constitution specifically reserves this right for congress\n",
      "the president as commanderinchief directs the wars that congress declares however starting with\n",
      "trumans intervention in the korean war in and continuing with invasions of vietnam grenada iraq and\n",
      "afghanistan and the bombings of dozens more countries the presidents ability to unilaterally\n",
      "initiate war with a sovereign nation has been normalized congress has not declared war since despite\n",
      "the fact the us military has intervened in nearly every corner of the world in recent years george w\n",
      "bush assumed the power to kidnap torture and assassinate any individual anywhere in the world at any\n",
      "time without even a pretense of due process upon replacing bush barack obama legitimized bushs\n",
      "kidnapping and torture by refusing to prosecute the perpetrators or provide recourse to the victims\n",
      "while enthusiastically embracing the power to assassinate at will noam chomsky said obama has\n",
      "trashed the yearold magna carta which king john of england would have approved of can there be\n",
      "anything more dictatorial than the power of a single individual to kill and make war at will while\n",
      "american presidents thankfully do not have the power to unilaterally impose taxes pass legislation\n",
      "or incarcerate without charges inside us borders the illegitimate authority they do possess to carry\n",
      "out unrestrained violence across the world is unquestionably one feature\n",
      "\n",
      "Actual Class: Fake\n",
      "\n",
      "Predicted Class from T5: Fake\n",
      "=====================================================================\n",
      "\n",
      "Input Text: classify: home badge abuse leaked soros memo reveals potential plan to use black lives\n",
      "matter to federalize us police leaked soros memo reveals potential plan to use black lives matter to\n",
      "federalize us police matt agorist august comments memos and documents published by dcleaks continue\n",
      "shedding light on billionaire globalist george soros and his progressive organization open society\n",
      "foundations osf due to their poor digital curation however the leaks are hard to comb through which\n",
      "is leading to the information slowly trickling out the latest of the documents reveals the\n",
      "billionaires attempt to organize a national movement to create a federalized police force the\n",
      "document shows that osf saw the killings of mike brown eric garner walter scott and freddie gray as\n",
      "an opportunity to implement this mission of federal police guidelines osf according to the documents\n",
      "then held a meeting titled police reform how to take advantage of the crisis of the moment and drive\n",
      "longterm institutional change in policecommunity practice the memo further documents that\n",
      "sorosfinanced groups and personalities influenced a task force on st century policing created by\n",
      "president obama last may the task force released a final report consisting of recommendations\n",
      "recommending protocol to local departments on how to modify policing practices the information is\n",
      "from a page report of an open society us programs board meeting that took place in new york city in\n",
      "may of last year states the board meeting document the federal government is seeking philanthropic\n",
      "support for a number of its initiatives in addition to seeking support to advance the implementation\n",
      "of the recommendations of the presidential taskforce the white house recently launched the policing\n",
      "data initiative to explore how best to use data and technology to build trust voice and solutions to\n",
      "improve community policing the department of justice recently selected the first six cities to host\n",
      "pilot sites for the national initiative for building community trust and justice which was launched\n",
      "last fall to help repair and strengthen the relationship between law enforcement and the communities\n",
      "they serve by exploring strategies intended to enhance procedural justice reduce implicit bias and\n",
      "support racial reconciliation we are gaining a better understanding of these efforts in order to\n",
      "determine how best usp can use this moment to create a national movement we have already had a set\n",
      "of preliminary conversations with about a dozen key stakeholders and will undertake a field scan to\n",
      "map the areas of work currently\n",
      "\n",
      "Actual Class: Real\n",
      "\n",
      "Predicted Class from T5: Fake\n",
      "=====================================================================\n",
      "\n",
      "Input Text: classify: anyone whos been involved in the manosphere for long enough knows about the\n",
      "concept of a rite of passage for tens of thousands of years when boys hit the age of puberty they\n",
      "were forced to undergo a set of challenges these challenges were meant to break them down and build\n",
      "them back up even stronger these challenges were meant to test them as men and they are collectively\n",
      "known as an initiation or as a rite of passage when a boy successfully completed the tasks laid\n",
      "before him he became a man our society for the most part lacks these rites of passage this is in\n",
      "large part why there is such a lack of masculinity in our culture boys are never given a chance to\n",
      "develop into men we have all of these year old boyishmen running around for a reason there exists no\n",
      "institutionalized rite of passage in the west despite this however i believe that learning game is a\n",
      "form of initiation it contains all of the traits necessary to turn a boy into a man it teaches boys\n",
      "to develop selfconfidence despite what women think of them to become decisive and assertive and to\n",
      "remain persistent and cultivate strength of will death of the ego one of the primary functions of a\n",
      "rite of passage is that it destroys a boys ego this is necessary for in order for him to become a\n",
      "man his identification with boyhood must be destroyed in other words he must cease to view himself\n",
      "as a boy and come to view himself as a man this is in a nutshell what most of the rites of passage\n",
      "were designed to dothis is why many of them simulated death in a rather bellyofthewhaleesque fashion\n",
      "one rite of passage of the aborigines to be specific entailed kidnapping a young boy from his mother\n",
      "when a boy would reach the age of puberty the men of the village would sneak into his home during\n",
      "the night and kidnap him his mother would put on a big show screaming and fighting to make it seem\n",
      "realistic the men would blindfold the boy and take him to the middle of the woods he would then\n",
      "spend the next several months undergoing challenges he would not see a single woman for this period\n",
      "of time this sudden yanking from the motherworld of safety and being thrust into the fatherworld of\n",
      "dangerous challenges symbolized his death as a boy when\n",
      "\n",
      "Actual Class: Fake\n",
      "\n",
      "Predicted Class from T5: Real\n",
      "=====================================================================\n",
      "\n",
      "Input Text: classify: rejoice gentlemen the tears of liberals are flowing freely as donald trump has\n",
      "recently been announced president all of the hard work that weve committed ourselves to over the\n",
      "past year has finally come to a close its truly an event of the ages a hard working american\n",
      "businessman beat out the globalist titans and satanic elite in the spirit of this great victory i\n",
      "believe that were all entitled to some enjoyment this article will be solely dedicated to bathing in\n",
      "liberal tears and mark my words it will be glorious this is the beginning of the end of sjwism and i\n",
      "think its high time we soak in the fruits of our labor hillary hq morale obliterated sorry guys\n",
      "theres no brakes on the trumptrain as poll results came in moving trump from a measly chance to a\n",
      "whopping chance of seizing the presidency libtards began crying all across the nation turns out that\n",
      "america does not in fact want their lord and savior hillary rodham christ to be president of the\n",
      "free world note the sour expression of the woman on the far right unfortunately for you guys trump\n",
      "has won the presidency sorry illegalsyoure out sjwism is coming to an end the mainstream media is\n",
      "dying off and were going to make america great again you mean we wont be letting in violent refugees\n",
      "oh no heres a video compilation theshakening too late he won literallyshaking literally cant even\n",
      "literally literally hitler as am i frosty as am i the regressive left cant cope with reality if\n",
      "youre having this much trouble dealing with trumps presidency you shouldnt even be allowed to vote\n",
      "she doesnt realize that democrats keep the black population down by giving them free handouts and\n",
      "encouraging squalor oh the feels how can these people lead our country when they cant even contain\n",
      "their emotions professional victim and concern trolling olympics meanwhile at trump hq notice the\n",
      "general lack of highestrogen men most of these guys dont seem to be lacking in testosterone this man\n",
      "is giving a toast to donald trump to making america great again thank you mr president lets maga\n",
      "read more wall street hollywood the media and s\n",
      "\n",
      "Actual Class: Real\n",
      "\n",
      "Predicted Class from T5: Fake\n",
      "=====================================================================\n",
      "\n",
      "Input Text: classify: bureaucrat who said stupidity of americans helped get law passed doubles down\n",
      "paul joseph watson prison planetcom october obamacare architect jonathan gruber the bureaucrat who\n",
      "once bragged that the stupidity of the american people was crucial for passing the health care law\n",
      "in the first place told cnn that the fix for obamacare was to impose a larger mandate penalty cnns\n",
      "carol costello so lets talk about how exactly you can fix obamacare i just need you to be specific\n",
      "because i think people really want answers so hillary clinton says she can fix obamacare so what\n",
      "would one fix that would drive premiums down jonathan gruber look once again theres no sense it has\n",
      "to be fixed the law is working as designed however it could work better and i think probably the\n",
      "most important things experts would agree on is we need a larger mandate penalty grubers arrogance\n",
      "is incredible even after the obama administration acknowledged that premiums are set to skyrocket\n",
      "next year gruber thinks that the answer is to financially punish americans to an even greater degree\n",
      "gruber is essentially admitting that obamacare is designed to make americans destitute obamacare was\n",
      "never designed not to overwhelm you with the shifting of massive costs obamacare was designed to\n",
      "crush you in costs points out the conservative treehouse blog his comments shouldnt come as much of\n",
      "a surprise given what gruber thinks of the american people a series of videos that emerged in\n",
      "featured gruber admitting that obamacare was deceptively crafted in order to fool stupid americans\n",
      "into not realizing that it would mean massive price hikes and that the laws lack of transparency was\n",
      "a huge political advantage in selling it subscribe on youtube\n",
      "\n",
      "Actual Class: Real\n",
      "\n",
      "Predicted Class from T5: Fake\n",
      "=====================================================================\n",
      "\n",
      "Input Text: classify: email republican presidential candidate donald trump signaled thursday plans\n",
      "to seek nationwide changes to school curricula with the goal of promoting american pride and\n",
      "patriotism in americas schools in a trump administration i plan to work directly with the american\n",
      "legion to uphold our common values and to help ensure they are taught to americas children trump\n",
      "said speaking at the american legions annual convention in cincinnati we want our kids to learn the\n",
      "incredible achievements of americas history its institutions and its heroes many of whom are with us\n",
      "today he told the veterans group the comments suggested a federal government intervention in the\n",
      "programs of locally run schools which is prohibited under federal lawwe will stop apologizing for\n",
      "america and we will start celebrating america we will be united by our common culture values and\n",
      "principles becoming one american nation one country under one constitution saluting one american\n",
      "flag and always saluting it trump said last year a denverarea school board sought to change the\n",
      "content of the ap us history course because some board members thought it failed to promote\n",
      "patriotism that sparked a political proxy war in jefferson county colorado and the school board\n",
      "election drew nearly million in campaign funding from outside interest groups public schools\n",
      "nationwide are funded by their local communities along with some state money most schools receive\n",
      "little federal funding current federal law prohibits the federal government from exercising any\n",
      "direction supervision or control over the curriculum program of instruction administration or\n",
      "personnel of any educational institution school or school system\n",
      "\n",
      "Actual Class: Fake\n",
      "\n",
      "Predicted Class from T5: Fake\n",
      "=====================================================================\n",
      "\n",
      "Input Text: classify: donnerstag oktober weil sie sich prügelten gefängnisdirektor erteilt\n",
      "häftlingen lebenslanges hausverbot stuttgart dpo strafe muss sein nach einer schlägerei zwischen\n",
      "zwei häftlingen auf dem gefängnishof der justizvollzugsanstalt stuttgart hat gefängnisdirektor peter\n",
      "kleefeld beiden männern lebenslanges hausverbot erteilt gerhard wonzke und sein widersacher cem\n",
      "karabulut wurden inzwischen vom sicherheitspersonal des geländes verwiesen in meinem job lernt man\n",
      "schnell bei solchen dummheiten rigoros durchzugreifen erklärt peter kleefeld der das gefängnis seit\n",
      "leitet schließlich geht es auch darum den anderen häftlingen ein klares signal zu senden wer sich\n",
      "nicht benimmt fliegt schon länger habe er den eindruck gehabt wonzke und karabulut seien nicht mit\n",
      "herz bei der sache gewesen die haben ja schon morgens solche fressen gezogen ich sag immer entweder\n",
      "man macht hier ordentlich mit oder man sollte sich überlegen ob man bei uns am richtigen platz ist\n",
      "sitzen jetzt auf der straße wonzke und karabulut die beiden verdutzten übeltäter hatten gerade\n",
      "einmal fünf minuten zeit ihre habseligkeiten zusammenzupacken bevor sie vor die tür gesetzt wurden\n",
      "der direktor habe ihnen dann noch aus seinem bürofenster wütend hinterhergerufen ich will euch hier\n",
      "nie wieder sehen los macht schon dass ihr wegkommt für die beiden nunmehr obdachlosen sträflinge die\n",
      "noch jeweils vier jahre wegen schwerer körperverletzung absitzen müssen könnte es sich indes\n",
      "schwierig gestalten eine neue haftanstalt zu finden denn derlei fehlverhalten spricht sich schnell\n",
      "herum ssi dan fotos shutterstock\n",
      "\n",
      "Actual Class: Fake\n",
      "\n",
      "Predicted Class from T5: Fake\n",
      "=====================================================================\n",
      "\n",
      "Input Text: classify: by hrafnkell haraldsson pm were not conceding were behind in our enthusiasm we\n",
      "have closed the gapdramatically over the last week donald trumps deputy campaign manager the\n",
      "clintonobsessed republican operative david bossie told abc news george stephanopoulos this morning\n",
      "that theres an enthusiasm gap and that this bit of math republicans do is trumps path to victory on\n",
      "november this is how the conversation went per cbs news sopan deb as always highlighting the\n",
      "important bits stephanopoulos was not about to let bossie get away with the claim about trumps tax\n",
      "returns and hammered him on the issue hes going to release his tax return when he is not under audit\n",
      "david bossie trump deputy campaign manager httpstcoyxvgrjix good morning america gma november bossie\n",
      "deflected like a pro you can see why trump hired him as a corollary to bossies claims trump suddenly\n",
      "found himself interested in polls again this morning tweeting wow now leading in abc washingtonpost\n",
      "poll to gone up points in two weeks mostly before the crooked hillary blowup donald j trump\n",
      "realdonaldtrump november the trump campaign has always been about making much out of nothing\n",
      "elections are not rigged if trump gets his way and neither are polls if trump is leading otherwise\n",
      "its all leftwing shenanigans however even newt gingrich isnt buying the new poll washington postabc\n",
      "poll is an absurdity trump has not moved up points in the last dayshe was never points behind ignore\n",
      "polls newt gingrich newtgingrich november and what trump fails to mention is that his lead\n",
      "disappears if johnson and stein are taken out of the mix then clinton leads by these latest claims\n",
      "are an absolute sham as clinton leads overwhelmingly in early voting and comeys email gambit seems\n",
      "to have failed to sway voters to trumps camp meanwhile trumps own legal problems are beginning to\n",
      "overwhelm the narrative and if there is any evidence of\n",
      "\n",
      "Actual Class: Real\n",
      "\n",
      "Predicted Class from T5: Fake\n",
      "=====================================================================\n",
      "\n",
      "Input Text: classify: email youre just six steps away from an unforgettable halloween bash just keep\n",
      "in mind not all of these pointers are for everyone have a really awesome theme the best halloween\n",
      "parties are the ones that have a great theme and stick to it unless thats just not a thing your\n",
      "friends would be into is it ghosts and ghouls or zombie apocalypse or maybe your party is the fourth\n",
      "one of the night for your friends and they dont want to spend money on multiple costumes in that\n",
      "case maybe a theme isnt the way to go just ask around and youll be good to go fire up some spooky\n",
      "music nothing sets the mood like some classic monster mash however its entirely possible that your\n",
      "attendees would actually favor a playlist of pop hits to just generally hang out to no worries then\n",
      "just do whats best for you and everyone thats planning on coming and youll surely still have a great\n",
      "time right if youre not into decorations you can probably just skip this one jackolanterns skeletons\n",
      "and spiderwebs will all add to the experience of a scary party if thats a thing your partygoers\n",
      "would prefer you know your social group better than we do so before you blindly take these\n",
      "suggestions maybe you should simply think about how this will enhance or diminish the experience for\n",
      "your friends specifically its really not even that hard and would probably be the best tip we could\n",
      "give anyway make sure to have a mix of really fun party games look were really generalizing here is\n",
      "this suggestion for everyone no only you know if your friends will be excited to bob for apples or\n",
      "whatever we cant make individual lists for every goddamn reader so surprise youre going to have to\n",
      "do a little work too and decide if this one is right for your gathering prepare some festive\n",
      "candycorn cupcakes or if you hate candy corn or if your friend alicia has celiac or if you would\n",
      "rather make chocolate cupcakes or if your apartment has a weird gas smell or if you dont have the\n",
      "time or if your coworker is in charge of the food or if you think youd mess up the recipe really\n",
      "badly or if you made these last year and dont want to be typecast as a person who is always making\n",
      "candycorn cupcakes or for any of the other infinite disqualifying reasons do absolutely nothing\n",
      "nothing like\n",
      "\n",
      "Actual Class: Fake\n",
      "\n",
      "Predicted Class from T5: Fake\n",
      "=====================================================================\n",
      "\n",
      "Input Text: classify: in an excerpt of a john pilger special interview julian assange says that\n",
      "emails released by wikileaks show that hillary clinton is intentionally misguiding voters about the\n",
      "degree to which us allies are supporting isis and that donald trump will not be allowed into the\n",
      "oval office assange explains that the same financial interests funding isis are funding clinton he\n",
      "references a email from john podesta to clinton in which we find the following while this\n",
      "militaryparamilitary operation is moving forward we need to use our diplomatic and more traditional\n",
      "intelligence assets to bring pressure on the governments of qatar and saudi arabia which are\n",
      "providing clandestine financial and logistic support to isil and other radical sunni groups in the\n",
      "region i think this is the most significant email in the whole collection said assange all serious\n",
      "analysts know and even the us government has agreed that some saudi figures have been supporting\n",
      "isis and funding isis but the dodge has always been that it is some rogue princes using their oil\n",
      "money to do whatever they like but actually the government disapproves but that email says that it\n",
      "is the government of saudi arabia and the government of qatar that have been funding isis pilger\n",
      "asked assange about the possibility that trump would steal the election with the help of russia as\n",
      "many in the democratic party claim assange thinks that this is highly unlikely but not because he is\n",
      "unpopular my analysis is that trump would not be permitted to win why do i say that because he has\n",
      "had every establishment off his side trump does not have one establishment maybe with the exception\n",
      "of the evangelicals if you can call them establishment he explained assange says that hillary is the\n",
      "establishment pick banks intelligence arms companies foreign money etc are all united behind hillary\n",
      "clinton and the media as well media owners and the journalists themselves delivered by the daily\n",
      "sheeple we encourage you to share and republish our reports analyses breaking news and videos click\n",
      "for details contributed by the daily sheeple of wwwthedailysheeplecom this content may be freely\n",
      "reproduced in full or in part in digital form with full attribution to the author and a link to\n",
      "wwwthedailysheeplecom\n",
      "\n",
      "Actual Class: Real\n",
      "\n",
      "Predicted Class from T5: Fake\n",
      "=====================================================================\n",
      "\n",
      "Input Text: classify: st century wire says this should be the biggest revelation yet from wikileaks\n",
      "already epic email trove will the us media cover this story last night in an rt exclusive interview\n",
      "conducted by awardwinning filmmaker john pilger wikileaks editor and founder julian assange\n",
      "described what he believes is the most significant email in the whole collection wikileaks reveals\n",
      "an early email where the outgoing secretary of state hillary clinton was urging john podesta then\n",
      "advisor to president barack obama to bring pressure on gulf states saudi arabia and qatar which are\n",
      "providing clandestine financial and logistic support to isil islamic state is isis and other radical\n",
      "sunni groups this constitutes proof that the clinton foundation knowingly accepting millions of\n",
      "dollars in charitable donations from the same gulf states which both secretary clinton and president\n",
      "obama knew were funding isis al nusra front al qaeda in syria and known takfiri terrorist fighting\n",
      "organizations in addition the clintons foundation took money from a number of other gulf monarchies\n",
      "infographic conservative post this latest news validates what wire has been saying since the isis\n",
      "crisis began in june according to fox news fbi sources have said that indictments are likely for the\n",
      "clinton foundation investigation one only wonders how this latest assange revelation will factor\n",
      "into the wider investigation as it goes right to the heart of the national security and foreign\n",
      "policy two things which clinton trades heavily on in her campaigning assange went on to explain the\n",
      "deep ramifications of this latest criminal allegation against clinton and her family foundation all\n",
      "serious analysts know and even the us government has agreed that some saudi figures have been\n",
      "supporting isis and funding isis but the dodge has always been that it is some rogue princes using\n",
      "their oil money to do whatever they like but actually the government disapproves but that email says\n",
      "that it is the government of saudi arabia and the government of qatar that have been funding isis\n",
      "during their minute interview filmed at the ecuadorian embassy in london assange and pilger\n",
      "discussed the obvious conflict of interest between clinton as secretary of\n",
      "\n",
      "Actual Class: Fake\n",
      "\n",
      "Predicted Class from T5: Fake\n",
      "=====================================================================\n",
      "\n",
      "Input Text: classify: you have a work bunker what is it exactly that you do man if the world went to\n",
      "crap the last thing i would be concerned about is ensuring my employer keeps the loot rolling in lol\n",
      "in fact if that does go down im jumping in my truck with a motivational item and coming to work to\n",
      "stock up the mine site has enough food for people a for weeks at a time i live out in the country im\n",
      "on well water liter propane tank for heat and out door boiler the genny is hooked up to a liter gas\n",
      "storage container my house that im building up the road from my current house already has the solar\n",
      "panels hooked up on a volt system everyday theres a buck or a couple does in the yard lots of\n",
      "partridge and bears around if things get rough only thing we would be lacking is fresh vegetables\n",
      "over the winterwhich could be problematic\n",
      "\n",
      "Actual Class: Fake\n",
      "\n",
      "Predicted Class from T5: Fake\n",
      "=====================================================================\n",
      "\n",
      "Input Text: classify: health experts share the top home remedies for fighting a cold tuesday\n",
      "november by amy goodrich tags cold symptoms natural remedies immune booster naturalnews stay well\n",
      "during the colder months with these simple timetested home remedies to prevent a common cold help\n",
      "shorten the duration and get you feeling better in no time a common cold is caused by a virus so\n",
      "there is no point in taking antibiotics which only kill bacteria while there is a host of\n",
      "overthecounter remedies available to soothe the symptoms of a common cold nature offers far better\n",
      "and safer solutionswe all know the prevention drill load up on immune boosting foods rich in vitamin\n",
      "c exercise regularly and wash your hands often but what else is there you can do to avoid a runny\n",
      "nose sore throat or a cough seven health editors reveal their sicknesspreventing secrets gargle salt\n",
      "water if you feel the first signs of a scratchy throat jeannie kim executive deputy editor\n",
      "recommends a saltwater gargle she is convinced that it has stopped countless of her colds to soothe\n",
      "a sore throat and kill the sickmaking germs combine half a teaspoon salt with one cup of water and\n",
      "gargle repeat several times a day until scratchiness disappears create some heat according to clare\n",
      "mchugh editorinchief a hot bath or shower is the thing you need she explains that viruses that cause\n",
      "a common cold dont like the heat and are discouraged to multiply if you keep your body warm and why\n",
      "not add immune boosting and cold fighting essential oils to your bathtub to enhance the healing\n",
      "effectfurthermore you could try the good old hot water bottle to help loosen phlegm and deep\n",
      "congestions in the chest swallow raw garlic if you dont mind to sweat it out and have a garlic\n",
      "breath lisa lombardi executive editor recommends eating or swallowing raw garlic while the next day\n",
      "her symptoms usually get worse she feels better in daysif you cannot stomach garlics taste and\n",
      "spiciness then you might want to go with the traditional garlic cure which consists of garlic lemon\n",
      "and honey crush one clove of garlic and add it to a cup of warm water with one teaspoon of honey and\n",
      "the juice of one lemon give it a good stir and repeat this remedy two to three times a day for the\n",
      "duration of your symptoms take echinacea michael gollust the research editor\n",
      "\n",
      "Actual Class: Fake\n",
      "\n",
      "Predicted Class from T5: Fake\n",
      "=====================================================================\n",
      "\n",
      "Input Text: classify: while democrats perpetually circle the wagons republicans engage a perpetual\n",
      "circular firing squad the same holds true for many evangelicals democrats and secularists count on\n",
      "it and we never disappoint full disclosure i went from a dogged never trumper to a maybe trumper and\n",
      "finally settled as a reluctant trumper i like any godfearing father of daughters was and remain\n",
      "appalled by donald trumps sordid past and his yearold vulgar video in which he objectified women his\n",
      "words are indefensible and i fully expect the clinton camp to strategically release additional\n",
      "revolting and embarrassing opposition research about the republican nominee before election day\n",
      "still i will be voting against hillary clinton on nov in what is objectively and irrefutably the\n",
      "most effective way possible by casting a vote for better or worse for the policies and promises of\n",
      "donald trump and for the vice presidency of gov mike pence regrettably with many of my never trump\n",
      "friends im reminded of the fanatic who refuses his daughter chemotherapy and watches her die in an\n",
      "effort to convince himself and others of the strength of his own faith pride is an awful thing we\n",
      "are to be wise as serpents and innocent as doves matthew foolishness called faith is just\n",
      "foolishness even so there are christian pharisees on both extremes of this trump fiasco first those\n",
      "trumpian cultists who buy the make america great again pablum and deride any person who while not\n",
      "casting judgment upon others makes with all sincerity what they view as the principled decision the\n",
      "latter say theyll sit this one out or go through the motions by voting third party a wasted vote by\n",
      "any objective standard while i appreciate this milder strain of never trumpers sincerity i\n",
      "nonetheless believe it is sincerely wrong and then there are the selfrighteous plankintheeye never\n",
      "trump prigs who slander as having lost their saltinesssinned against god and compromised their\n",
      "principles brothers and sisters who recognize the empirical reality that a vote for a horribly\n",
      "flawed lord knows im the worst sinner of all baby christian as president is a vote against hillary\n",
      "clintons ty\n",
      "\n",
      "Actual Class: Fake\n",
      "\n",
      "Predicted Class from T5: Fake\n",
      "=====================================================================\n",
      "\n",
      "Input Text: classify: dakota access pipeline violence grows as militarized police use extreme force\n",
      "tear gas on praying protesters tuesday november by j d heyes tags dakota access pipeline protestors\n",
      "police violence naturalnews tensions are ratcheting up in a region of north dakota where\n",
      "construction of a pipeline that will take oil to a refinery facility in illinois is being built as\n",
      "protestors objecting to the project are clashing with increasingly militarized police the bismark\n",
      "tribune reported that police and protestors clashed as authorities moved in to break up a camp on\n",
      "private property belonging to the pipeline developersprotestors had initially formed a line of no\n",
      "surrender the paper said but it became a line of retreat in the face of a militarized police\n",
      "presence that overwhelmed hundreds of dakota access pipeline protestors pushing them back from the\n",
      "front line of resistance to their main campfor about five hours on thursday beginning around noon\n",
      "police officers pressed the protesters back about a halfmile on nd highway which was away from a new\n",
      "camp they had built earlier in the week that sat directly atop the pipeline easement rubber bullets\n",
      "bean bags smoke grenades and tasers unrest continued into the evening hours however as police said\n",
      "that two fires were started on a nearby bridge and protestors began lobbing molotov cocktails at\n",
      "officers in addition police reported two incidents where shots were firedthe tribune reported that\n",
      "one woman allegedly fired a handgun in the direction of police as she was being arrested while an\n",
      "armed man who was reportedly run off the road by protesters and was perhaps not connected to the\n",
      "protest had to be treated for a gunshot wound to the handas police moved in some protestors were\n",
      "urging calm and prayer but others threw rocks and water bottles at approaching officers eventually\n",
      "the crowd retreated under a barrage of pepper spray rubber and bean bag bullets smoke grenades and\n",
      "tasersby late afternoon flames and thick plumes of smoke belched out of the cab of one of three\n",
      "dakota access pipeline earth movers while protestors walked back to their main camp on us army corps\n",
      "of engineers landin all police arrested people the local sheriffs department said charging suspects\n",
      "\n",
      "Actual Class: Fake\n",
      "\n",
      "Predicted Class from T5: Fake\n",
      "=====================================================================\n",
      "\n",
      "Input Text: classify: zero hedge wwwzerohedgecom views citis chief political analyst tina fordham\n",
      "has had a busy month at the start of october when trumps victory odds were in the gutter and a\n",
      "clinton presidency had been priced in in a hotly debated statement she suggested that the\n",
      "establishment may be approaching the us presidential completely incorrectly this is an unusual\n",
      "juncture but we keep looking at it through the same kinds of lenses what if its all wrong because\n",
      "society technology opinion polling methods and everything else dont capture marginalized voters in\n",
      "the way they might once have according to fordham the us presidential race felt more like an\n",
      "election in a developing nation where public distrust in government is high and conspiracy theories\n",
      "are rife markets seem unaware how much that low trust raises the risk of an antiestablishment vote\n",
      "fordham has focused on the gallup world poll on public health which analyzes two decades worth of\n",
      "health records of trump supporters the numbers show a correlation between the increase in the number\n",
      "of people going through difficult times as measured by suicide rates depression mental illness and\n",
      "drug addiction and the rise in trumps popularity fordham said this is the kind of thing that\n",
      "investors just dont normally run into but it provides another useful way to think about things\n",
      "because income inequality is necessary but not sufficient she said there is something more subtle\n",
      "going on about public expectations and exhaustion and a sense of corruption elite abuse of power and\n",
      "lack of control her conclusion was troubling for clinton fans im getting this brexity feeling and i\n",
      "know other investors are as well she said the thinking is i didnt expect brexit so i better assume\n",
      "trump is going to win that element of investor psychology is at play here she followed up on monday\n",
      "when she predicted that the fbis friday announcement could have a meaningful impact on the\n",
      "presidential race and cautioned that this may not be the end of it we continue to emphasize the\n",
      "potential for more black swan events emerging making things more complicated for forecasters and\n",
      "pollsters today in her latest media appearance fordham has penned an oped for the ft looking at the\n",
      "postelection landscape and warning that investors face political risk whoever wins in the us\n",
      "election she first analyzes if a a clinton victory will mean business as usual for america and\n",
      "\n",
      "Actual Class: Real\n",
      "\n",
      "Predicted Class from T5: Fake\n",
      "=====================================================================\n",
      "\n",
      "Input Text: classify: share tulsi gabbard for secretary of state an example of the need for\n",
      "political realignment by dr patrick slattery on monday donald trump met with hawaii congresswoman\n",
      "tulsi gabbard she has been mentioned as a possible secretary of state or even secretary of defense\n",
      "she is an iraq war combat veteran and major in the hawaii national guard its not just that she would\n",
      "be preferable in these jobs to john bolton rudi giuliani or mitt romney but is probably the very\n",
      "best candidate from the ranks of the washington establishment in particular she is unique in being a\n",
      "strong and principled opponent of any intervention in syria she wants the united states to stop\n",
      "supporting isis and other rebel groups and let the russians iranians and hezbollah help president\n",
      "assad defeat the jihadists and end the syrian civil war which is more an armed invasion than a real\n",
      "civil war this is exactly the right approach and its not just that she is on the right side of this\n",
      "issue it is her signature issue she is on the armed services and foreign affairs committees so this\n",
      "is what she has spent her time on its not that shes perfect it has been noted that she at the very\n",
      "least pays lipservice to israel everyone on capital hill does lets face it zionism is the\n",
      "established religion in america and there is a religious test for office but her fault goes further\n",
      "than that she condemned the government of thenukrainian president victor yanukovich in february just\n",
      "as hillary clintons erstwhile secretary of state victoria nuland was organizing his overthrow\n",
      "gabbard like everyone else in congress then supported arming the jewishdominated government that\n",
      "nuland put in place in kiev even so her congressional website does not carry any mention of ukraine\n",
      "since and her vocal opposition to starting world war iii with russia over syria seems to indicate\n",
      "that her view towards russia have become more realistic this as has been noted elsewhere is in line\n",
      "with trumps view but there is one more significant benefit of appointing gabbard as secretary of\n",
      "state it could help trigger a badly needed realignment of\n",
      "\n",
      "Actual Class: Real\n",
      "\n",
      "Predicted Class from T5: Real\n",
      "=====================================================================\n",
      "\n",
      "Input Text: classify: reply according to numerous reports and stories that have been published\n",
      "through the years among the many alleged secrets the vatican has there is a device called the\n",
      "chronovisor the device enables its user to observe future as well as past events many believe this\n",
      "device is one of the greatest guarded secrets humanity has ever had some even believe it is a\n",
      "crucial tool which has allowed the vatican to preserve its influence and power through the years\n",
      "ever since h g wells composed his novel the time machine many people have been left fascinated by\n",
      "the idea of time travel even theoretical physics dreams of the possibility of making it work one day\n",
      "everything related to time travel today is related to science fiction or so it seems at least\n",
      "interestingly on may an italian newspaper shocked the world when they published an article with a\n",
      "provoking headline a machine that photographs the past has finally been invented the news article\n",
      "indicated that dozens of scientists created an artifact that allowed them to photograph the past and\n",
      "even witness important historical accounts directly connected with jesus christ the alleged device\n",
      "which according to many is nothing more than science fiction was built in the s by a team of\n",
      "scientists led by father pellegrino maria ernetti an italian physicist who eventually became a\n",
      "priest it is believed that the team received important help from nobel laureate enrico fermi and\n",
      "famous rocket scientist wernher von braun the chronovisor is a relatively small object that is\n",
      "equipped with a number of antennas and is composed entirely of precious alloys cathode tubes some\n",
      "dials and levers reports by father ernetti suggest that whoever uses the device is able to capture\n",
      "and record specific locations important events and follow in history noteworthy individuals\n",
      "according to father ernetti he had observed among other historical events christs crucifixion and\n",
      "photographed it as well view image the image to the left is the one obtained using the chronovisor\n",
      "on the right is a similar image located in a church in perugia it is even said that under the\n",
      "perfect conditions the device offers its user the ability to foresee what was going to happen in the\n",
      "near future however father ernetti remained secretive and stated he was not at liberty to reveal\n",
      "further details about the chronovisor father ernetti did however reveal that the chronovisor worked\n",
      "by processing residual electromagnetic radiation left over by numerous processes according to\n",
      "numerous\n",
      "\n",
      "Actual Class: Real\n",
      "\n",
      "Predicted Class from T5: Real\n",
      "=====================================================================\n",
      "\n",
      "Input Text: classify: shares mohsen abdelmoumen do you think the united states can claim to be\n",
      "democratic simply by electing a woman president can we talk about democracy in the usa with a\n",
      "candidate of the financial lobbies and aipac ann garrison no of course not no more than we could\n",
      "claim to be a democracy because we elected a black president these two elections signify nothing\n",
      "more than the inclusion of previously excluded classes of people in the super elite the united\n",
      "states is an oligarchy of the of the any president who is not already among the like bill clinton\n",
      "becomes part of the by serving its interests and then peddling influence after leaving office no one\n",
      "has developed an influence peddling machine as welloiled as the clintons with bill working the\n",
      "clinton foundation and the clinton global initiative while hillary was secretary of state just\n",
      "imagine the new depths of corruption that the next eight years and beyond could bring obama has said\n",
      "hes now considering a move from the white house to venture capitalism that has silicon valley\n",
      "slathering at the opportunity every four years americans are given the illusion of choice between\n",
      "oligarchs andor aspiring oligarchs who will serve the interests of oligarchy candidates who aspire\n",
      "to actually represent the interests of the people are marginalized by the corporate media and the\n",
      "paytoplay campaign contributions of the oligarchs in municipal and county elections and ballot\n",
      "measures americans often do have real choices but the higher and more powerful the office the\n",
      "greater the corruption and oligarchic control nevertheless only a small minority of americans\n",
      "actually vote n local elections the atlantics citylab reporting project recently concluded that\n",
      "fewer than vote in mayoral elections in of the most populous cites disengagement is one of the most\n",
      "fundamental facts of american political life regarding federal elections this concept of democracy\n",
      "within the largest most lethal military power the world has ever seen is bogus to begin with when us\n",
      "citizens cast ballots to elect a new commanderinchief who will continue the project of perpetual war\n",
      "military industrial profits and global hegemony how democratic is that the vast majority of those\n",
      "who will suffer and die dont get to vote the only exceptions are members of the us armed services\n",
      "who die in us wars if those on the other side of the pentagons crosshairs were able to vote\n",
      "\n",
      "Actual Class: Fake\n",
      "\n",
      "Predicted Class from T5: Fake\n",
      "=====================================================================\n",
      "\n",
      "Input Text: classify: if you signed up for obamacare youve been screwed if you didnt sign up and\n",
      "opted to pay the penalties youve been screwed if you didnt sign up didnt pay penalties and stuck\n",
      "with your original insurance company youve been screwed if you didnt sign up didnt pay penalties and\n",
      "paid cash for medical care youve been screwed every person in america has been affected regardless\n",
      "of what you did or did not do thats because the affordable care act irrevocably ruined our access to\n",
      "medical care at an affordable price in this country in the mere span of years the prices have\n",
      "skyrocketed and many families have to pay more in monthly premiums than they pay on their mortgages\n",
      "meanwhile medical costs have been driven up to astronomical prices making it nearly impossible to\n",
      "pay outofpocket for care and these premiums they are for the crappiest coverage you can imagine some\n",
      "families pay a month for coverage after they pay the deductible thats nearly per year before\n",
      "obamacare pays for a penny of their costs and nownow that insurance companies have gone belly up\n",
      "when they were forced to become a part of the exchange medical costs are skyrocketing doctors wont\n",
      "see patients who arent covered employers stopped offering insurance as a benefit and people lost\n",
      "their jobs due to obamacare costs the whole thing is failing even president obama has admitted it\n",
      "and now we have proof that it was planned that way but that isnt the worst of it the worst of it is\n",
      "that this program was designed to fail and steer us into single payer healthcare where a government\n",
      "entity can decide what procedures will or will not be covered theyll decide who is deserving of\n",
      "cancer treatment and who is not theyll mandate things like flu shots and childhood vaccines one of\n",
      "the recent wikileaks shows that hillary clinton knew this and was complicit melissa dykes of the\n",
      "daily sheeple wrote in an email thread dated september between hillary and her senior policy adviser\n",
      "ann oleary titled memo on cadillac tax for hrc hillary wrote given the politics now w bipartisan\n",
      "support including schumer ill support repeal w sense of the senate that revenues would have to be\n",
      "found id be open to a range of options\n",
      "\n",
      "Actual Class: Fake\n",
      "\n",
      "Predicted Class from T5: Fake\n",
      "=====================================================================\n",
      "\n",
      "Input Text: classify: gravis clinton la times tied overall the democratic nominee is beating trump\n",
      "by an average of points with just days to go and as millions of americans have already cast their\n",
      "ballots on the electoral college front realclearpolitics shows that clinton is ahead in states that\n",
      "total electoral votes one of the states she leads in is arizona a red state before republicans\n",
      "nominated trump to put things in perspective barack obama was leading mitt romney by just a single\n",
      "percentage point on this day in that is what you call a close presidential contest and obama still\n",
      "went on to easily win yet as i write cnn and other cable news networks continue to plaster the close\n",
      "race chyron all over their networks claiming donald trump is making it a race again heres the thing\n",
      "the contest between clinton and trump may be naturally tightening in a few polls but that doesnt\n",
      "mean its becoming a close race its clear that despite any one poll showing trump gaining ground\n",
      "clinton still has a pretty durable lead fivethirtyeight tackles question everyone is asking is the\n",
      "presidential race tightening answer not by much httpstcoxomxzleajd pictwittercomgqornsv jim roberts\n",
      "nycjim october while the media looks silly for trying to make the clintontrump race seem like a\n",
      "nailbiter for the ages there is also some good that can come of it besides high tv ratings clinton\n",
      "supporters who may have previously assumed the race was in the bag for their candidate and were\n",
      "becoming complacent now may recognize at least if they watch cable news that the race is becoming\n",
      "close again this should provide a lastminute boost of energy among voters who fear a trump\n",
      "presidency\n",
      "\n",
      "Actual Class: Fake\n",
      "\n",
      "Predicted Class from T5: Real\n",
      "=====================================================================\n",
      "\n"
     ]
    }
   ],
   "source": [
    "for i in range(32):\n",
    "    lines = textwrap.wrap(\"Input Text:\\n%s\\n\" % texts[i], width=100)\n",
    "    print(\"\\n\".join(lines))\n",
    "    print(\"\\nActual Class: %s\" % targets[i])\n",
    "    print(\"\\nPredicted Class from T5: %s\" % dec[i])\n",
    "    print(\"=====================================================================\\n\")"
   ]
  },
  {
   "cell_type": "code",
   "execution_count": null,
   "metadata": {},
   "outputs": [],
   "source": []
  }
 ],
 "metadata": {
  "accelerator": "GPU",
  "colab": {
   "authorship_tag": "ABX9TyO3KK4rQPjBNOi0Bx/htZqC",
   "collapsed_sections": [],
   "mount_file_id": "1SK0Fvloo-tuDiNPA3N3lRQ4-8Tx9U8t0",
   "name": "T5ParaphrasingFineTuning",
   "provenance": []
  },
  "kernelspec": {
   "display_name": "Python [conda env:huggingface] *",
   "language": "python",
   "name": "conda-env-huggingface-py"
  },
  "language_info": {
   "codemirror_mode": {
    "name": "ipython",
    "version": 3
   },
   "file_extension": ".py",
   "mimetype": "text/x-python",
   "name": "python",
   "nbconvert_exporter": "python",
   "pygments_lexer": "ipython3",
   "version": "3.6.10"
  },
  "toc": {
   "base_numbering": 1,
   "nav_menu": {},
   "number_sections": true,
   "sideBar": true,
   "skip_h1_title": false,
   "title_cell": "Table of Contents",
   "title_sidebar": "Contents",
   "toc_cell": false,
   "toc_position": {},
   "toc_section_display": true,
   "toc_window_display": true
  },
  "widgets": {
   "application/vnd.jupyter.widget-state+json": {
    "00f57e5480a3446e99c503f2dc002a5e": {
     "model_module": "@jupyter-widgets/controls",
     "model_name": "FloatProgressModel",
     "state": {
      "_dom_classes": [],
      "_model_module": "@jupyter-widgets/controls",
      "_model_module_version": "1.5.0",
      "_model_name": "FloatProgressModel",
      "_view_count": null,
      "_view_module": "@jupyter-widgets/controls",
      "_view_module_version": "1.5.0",
      "_view_name": "ProgressView",
      "bar_style": "info",
      "description": "Validating: 100%",
      "description_tooltip": null,
      "layout": "IPY_MODEL_38d6ea70731648ce941a645d022e9751",
      "max": 1,
      "min": 0,
      "orientation": "horizontal",
      "style": "IPY_MODEL_0b3cd7d79fc745fbac8345da66fb93bc",
      "value": 1
     }
    },
    "02ed949db7404883b5207e600cfdfcbb": {
     "model_module": "@jupyter-widgets/base",
     "model_name": "LayoutModel",
     "state": {
      "_model_module": "@jupyter-widgets/base",
      "_model_module_version": "1.2.0",
      "_model_name": "LayoutModel",
      "_view_count": null,
      "_view_module": "@jupyter-widgets/base",
      "_view_module_version": "1.2.0",
      "_view_name": "LayoutView",
      "align_content": null,
      "align_items": null,
      "align_self": null,
      "border": null,
      "bottom": null,
      "display": null,
      "flex": null,
      "flex_flow": null,
      "grid_area": null,
      "grid_auto_columns": null,
      "grid_auto_flow": null,
      "grid_auto_rows": null,
      "grid_column": null,
      "grid_gap": null,
      "grid_row": null,
      "grid_template_areas": null,
      "grid_template_columns": null,
      "grid_template_rows": null,
      "height": null,
      "justify_content": null,
      "justify_items": null,
      "left": null,
      "margin": null,
      "max_height": null,
      "max_width": null,
      "min_height": null,
      "min_width": null,
      "object_fit": null,
      "object_position": null,
      "order": null,
      "overflow": null,
      "overflow_x": null,
      "overflow_y": null,
      "padding": null,
      "right": null,
      "top": null,
      "visibility": null,
      "width": null
     }
    },
    "05edc8b2014f45c096cb82cc40fe663a": {
     "model_module": "@jupyter-widgets/base",
     "model_name": "LayoutModel",
     "state": {
      "_model_module": "@jupyter-widgets/base",
      "_model_module_version": "1.2.0",
      "_model_name": "LayoutModel",
      "_view_count": null,
      "_view_module": "@jupyter-widgets/base",
      "_view_module_version": "1.2.0",
      "_view_name": "LayoutView",
      "align_content": null,
      "align_items": null,
      "align_self": null,
      "border": null,
      "bottom": null,
      "display": null,
      "flex": "2",
      "flex_flow": null,
      "grid_area": null,
      "grid_auto_columns": null,
      "grid_auto_flow": null,
      "grid_auto_rows": null,
      "grid_column": null,
      "grid_gap": null,
      "grid_row": null,
      "grid_template_areas": null,
      "grid_template_columns": null,
      "grid_template_rows": null,
      "height": null,
      "justify_content": null,
      "justify_items": null,
      "left": null,
      "margin": null,
      "max_height": null,
      "max_width": null,
      "min_height": null,
      "min_width": null,
      "object_fit": null,
      "object_position": null,
      "order": null,
      "overflow": null,
      "overflow_x": null,
      "overflow_y": null,
      "padding": null,
      "right": null,
      "top": null,
      "visibility": null,
      "width": null
     }
    },
    "0991327e0a3448349d411fb4028fa92e": {
     "model_module": "@jupyter-widgets/base",
     "model_name": "LayoutModel",
     "state": {
      "_model_module": "@jupyter-widgets/base",
      "_model_module_version": "1.2.0",
      "_model_name": "LayoutModel",
      "_view_count": null,
      "_view_module": "@jupyter-widgets/base",
      "_view_module_version": "1.2.0",
      "_view_name": "LayoutView",
      "align_content": null,
      "align_items": null,
      "align_self": null,
      "border": null,
      "bottom": null,
      "display": null,
      "flex": "2",
      "flex_flow": null,
      "grid_area": null,
      "grid_auto_columns": null,
      "grid_auto_flow": null,
      "grid_auto_rows": null,
      "grid_column": null,
      "grid_gap": null,
      "grid_row": null,
      "grid_template_areas": null,
      "grid_template_columns": null,
      "grid_template_rows": null,
      "height": null,
      "justify_content": null,
      "justify_items": null,
      "left": null,
      "margin": null,
      "max_height": null,
      "max_width": null,
      "min_height": null,
      "min_width": null,
      "object_fit": null,
      "object_position": null,
      "order": null,
      "overflow": null,
      "overflow_x": null,
      "overflow_y": null,
      "padding": null,
      "right": null,
      "top": null,
      "visibility": null,
      "width": null
     }
    },
    "0b01c04b394d43529937fa2284124fe0": {
     "model_module": "@jupyter-widgets/controls",
     "model_name": "DescriptionStyleModel",
     "state": {
      "_model_module": "@jupyter-widgets/controls",
      "_model_module_version": "1.5.0",
      "_model_name": "DescriptionStyleModel",
      "_view_count": null,
      "_view_module": "@jupyter-widgets/base",
      "_view_module_version": "1.2.0",
      "_view_name": "StyleView",
      "description_width": ""
     }
    },
    "0b3cd7d79fc745fbac8345da66fb93bc": {
     "model_module": "@jupyter-widgets/controls",
     "model_name": "ProgressStyleModel",
     "state": {
      "_model_module": "@jupyter-widgets/controls",
      "_model_module_version": "1.5.0",
      "_model_name": "ProgressStyleModel",
      "_view_count": null,
      "_view_module": "@jupyter-widgets/base",
      "_view_module_version": "1.2.0",
      "_view_name": "StyleView",
      "bar_color": null,
      "description_width": "initial"
     }
    },
    "0c36dbd6070448bbab494aa661fd48ee": {
     "model_module": "@jupyter-widgets/controls",
     "model_name": "FloatProgressModel",
     "state": {
      "_dom_classes": [],
      "_model_module": "@jupyter-widgets/controls",
      "_model_module_version": "1.5.0",
      "_model_name": "FloatProgressModel",
      "_view_count": null,
      "_view_module": "@jupyter-widgets/controls",
      "_view_module_version": "1.5.0",
      "_view_name": "ProgressView",
      "bar_style": "info",
      "description": "Validating: 100%",
      "description_tooltip": null,
      "layout": "IPY_MODEL_0991327e0a3448349d411fb4028fa92e",
      "max": 1,
      "min": 0,
      "orientation": "horizontal",
      "style": "IPY_MODEL_a237a196cd284b45b4c575c82f9df76c",
      "value": 1
     }
    },
    "13b8ce978262488fa37a2e7ba306ed84": {
     "model_module": "@jupyter-widgets/base",
     "model_name": "LayoutModel",
     "state": {
      "_model_module": "@jupyter-widgets/base",
      "_model_module_version": "1.2.0",
      "_model_name": "LayoutModel",
      "_view_count": null,
      "_view_module": "@jupyter-widgets/base",
      "_view_module_version": "1.2.0",
      "_view_name": "LayoutView",
      "align_content": null,
      "align_items": null,
      "align_self": null,
      "border": null,
      "bottom": null,
      "display": null,
      "flex": "2",
      "flex_flow": null,
      "grid_area": null,
      "grid_auto_columns": null,
      "grid_auto_flow": null,
      "grid_auto_rows": null,
      "grid_column": null,
      "grid_gap": null,
      "grid_row": null,
      "grid_template_areas": null,
      "grid_template_columns": null,
      "grid_template_rows": null,
      "height": null,
      "justify_content": null,
      "justify_items": null,
      "left": null,
      "margin": null,
      "max_height": null,
      "max_width": null,
      "min_height": null,
      "min_width": null,
      "object_fit": null,
      "object_position": null,
      "order": null,
      "overflow": null,
      "overflow_x": null,
      "overflow_y": null,
      "padding": null,
      "right": null,
      "top": null,
      "visibility": null,
      "width": null
     }
    },
    "1575fcd98864442393f9c020fce1e10f": {
     "model_module": "@jupyter-widgets/controls",
     "model_name": "DescriptionStyleModel",
     "state": {
      "_model_module": "@jupyter-widgets/controls",
      "_model_module_version": "1.5.0",
      "_model_name": "DescriptionStyleModel",
      "_view_count": null,
      "_view_module": "@jupyter-widgets/base",
      "_view_module_version": "1.2.0",
      "_view_name": "StyleView",
      "description_width": ""
     }
    },
    "19a64f4592634ed69c2ec575e808a1de": {
     "model_module": "@jupyter-widgets/base",
     "model_name": "LayoutModel",
     "state": {
      "_model_module": "@jupyter-widgets/base",
      "_model_module_version": "1.2.0",
      "_model_name": "LayoutModel",
      "_view_count": null,
      "_view_module": "@jupyter-widgets/base",
      "_view_module_version": "1.2.0",
      "_view_name": "LayoutView",
      "align_content": null,
      "align_items": null,
      "align_self": null,
      "border": null,
      "bottom": null,
      "display": "inline-flex",
      "flex": null,
      "flex_flow": "row wrap",
      "grid_area": null,
      "grid_auto_columns": null,
      "grid_auto_flow": null,
      "grid_auto_rows": null,
      "grid_column": null,
      "grid_gap": null,
      "grid_row": null,
      "grid_template_areas": null,
      "grid_template_columns": null,
      "grid_template_rows": null,
      "height": null,
      "justify_content": null,
      "justify_items": null,
      "left": null,
      "margin": null,
      "max_height": null,
      "max_width": null,
      "min_height": null,
      "min_width": null,
      "object_fit": null,
      "object_position": null,
      "order": null,
      "overflow": null,
      "overflow_x": null,
      "overflow_y": null,
      "padding": null,
      "right": null,
      "top": null,
      "visibility": null,
      "width": "100%"
     }
    },
    "1e5c3e17e0494f84b840046f857abf9c": {
     "model_module": "@jupyter-widgets/controls",
     "model_name": "FloatProgressModel",
     "state": {
      "_dom_classes": [],
      "_model_module": "@jupyter-widgets/controls",
      "_model_module_version": "1.5.0",
      "_model_name": "FloatProgressModel",
      "_view_count": null,
      "_view_module": "@jupyter-widgets/controls",
      "_view_module_version": "1.5.0",
      "_view_name": "ProgressView",
      "bar_style": "info",
      "description": "Validating: 100%",
      "description_tooltip": null,
      "layout": "IPY_MODEL_4ea687dfd1dc45ff972dcdb279685c28",
      "max": 1,
      "min": 0,
      "orientation": "horizontal",
      "style": "IPY_MODEL_535a6cb627b443b89688ad29733404e0",
      "value": 1
     }
    },
    "1f6cf22f4028404992ddc2d5a5801b3c": {
     "model_module": "@jupyter-widgets/controls",
     "model_name": "HTMLModel",
     "state": {
      "_dom_classes": [],
      "_model_module": "@jupyter-widgets/controls",
      "_model_module_version": "1.5.0",
      "_model_name": "HTMLModel",
      "_view_count": null,
      "_view_module": "@jupyter-widgets/controls",
      "_view_module_version": "1.5.0",
      "_view_name": "HTMLView",
      "description": "",
      "description_tooltip": null,
      "layout": "IPY_MODEL_02ed949db7404883b5207e600cfdfcbb",
      "placeholder": "​",
      "style": "IPY_MODEL_8c3a1a10c8f8405a9332d46ca14801d0",
      "value": " 4/4 [00:43&lt;00:00,  9.19s/it]"
     }
    },
    "20a5d017c31e41fca9df0a1823806d8c": {
     "model_module": "@jupyter-widgets/base",
     "model_name": "LayoutModel",
     "state": {
      "_model_module": "@jupyter-widgets/base",
      "_model_module_version": "1.2.0",
      "_model_name": "LayoutModel",
      "_view_count": null,
      "_view_module": "@jupyter-widgets/base",
      "_view_module_version": "1.2.0",
      "_view_name": "LayoutView",
      "align_content": null,
      "align_items": null,
      "align_self": null,
      "border": null,
      "bottom": null,
      "display": "inline-flex",
      "flex": null,
      "flex_flow": "row wrap",
      "grid_area": null,
      "grid_auto_columns": null,
      "grid_auto_flow": null,
      "grid_auto_rows": null,
      "grid_column": null,
      "grid_gap": null,
      "grid_row": null,
      "grid_template_areas": null,
      "grid_template_columns": null,
      "grid_template_rows": null,
      "height": null,
      "justify_content": null,
      "justify_items": null,
      "left": null,
      "margin": null,
      "max_height": null,
      "max_width": null,
      "min_height": null,
      "min_width": null,
      "object_fit": null,
      "object_position": null,
      "order": null,
      "overflow": null,
      "overflow_x": null,
      "overflow_y": null,
      "padding": null,
      "right": null,
      "top": null,
      "visibility": null,
      "width": "100%"
     }
    },
    "21907bbf025240a38d45240decdac21e": {
     "model_module": "@jupyter-widgets/controls",
     "model_name": "FloatProgressModel",
     "state": {
      "_dom_classes": [],
      "_model_module": "@jupyter-widgets/controls",
      "_model_module_version": "1.5.0",
      "_model_name": "FloatProgressModel",
      "_view_count": null,
      "_view_module": "@jupyter-widgets/controls",
      "_view_module_version": "1.5.0",
      "_view_name": "ProgressView",
      "bar_style": "info",
      "description": "Validating: 100%",
      "description_tooltip": null,
      "layout": "IPY_MODEL_d89dad7378a94e71b0dfd38c5161f36a",
      "max": 1,
      "min": 0,
      "orientation": "horizontal",
      "style": "IPY_MODEL_321b4a740c644cd59909651d97c3c05a",
      "value": 1
     }
    },
    "25c84a6bdd2947f8902836dbd1fdbb54": {
     "model_module": "@jupyter-widgets/base",
     "model_name": "LayoutModel",
     "state": {
      "_model_module": "@jupyter-widgets/base",
      "_model_module_version": "1.2.0",
      "_model_name": "LayoutModel",
      "_view_count": null,
      "_view_module": "@jupyter-widgets/base",
      "_view_module_version": "1.2.0",
      "_view_name": "LayoutView",
      "align_content": null,
      "align_items": null,
      "align_self": null,
      "border": null,
      "bottom": null,
      "display": null,
      "flex": "2",
      "flex_flow": null,
      "grid_area": null,
      "grid_auto_columns": null,
      "grid_auto_flow": null,
      "grid_auto_rows": null,
      "grid_column": null,
      "grid_gap": null,
      "grid_row": null,
      "grid_template_areas": null,
      "grid_template_columns": null,
      "grid_template_rows": null,
      "height": null,
      "justify_content": null,
      "justify_items": null,
      "left": null,
      "margin": null,
      "max_height": null,
      "max_width": null,
      "min_height": null,
      "min_width": null,
      "object_fit": null,
      "object_position": null,
      "order": null,
      "overflow": null,
      "overflow_x": null,
      "overflow_y": null,
      "padding": null,
      "right": null,
      "top": null,
      "visibility": null,
      "width": null
     }
    },
    "26620dcc59c14369a0ef078d9c7b39af": {
     "model_module": "@jupyter-widgets/controls",
     "model_name": "FloatProgressModel",
     "state": {
      "_dom_classes": [],
      "_model_module": "@jupyter-widgets/controls",
      "_model_module_version": "1.5.0",
      "_model_name": "FloatProgressModel",
      "_view_count": null,
      "_view_module": "@jupyter-widgets/controls",
      "_view_module_version": "1.5.0",
      "_view_name": "ProgressView",
      "bar_style": "info",
      "description": "Validating: 100%",
      "description_tooltip": null,
      "layout": "IPY_MODEL_13b8ce978262488fa37a2e7ba306ed84",
      "max": 1,
      "min": 0,
      "orientation": "horizontal",
      "style": "IPY_MODEL_e6e7d8d179254817aafc1652c8df604e",
      "value": 1
     }
    },
    "2ac98811114c446cb82a6a2696a1c3b1": {
     "model_module": "@jupyter-widgets/controls",
     "model_name": "HBoxModel",
     "state": {
      "_dom_classes": [],
      "_model_module": "@jupyter-widgets/controls",
      "_model_module_version": "1.5.0",
      "_model_name": "HBoxModel",
      "_view_count": null,
      "_view_module": "@jupyter-widgets/controls",
      "_view_module_version": "1.5.0",
      "_view_name": "HBoxView",
      "box_style": "",
      "children": [
       "IPY_MODEL_2e9683f3200648e5bd91836071579817",
       "IPY_MODEL_3d994dc0e84e4c91b0d3041d5e321053"
      ],
      "layout": "IPY_MODEL_f129219bc30e4f0db4dbc16c28e09f84"
     }
    },
    "2bcc3cc8bccf49b5b25893327a222912": {
     "model_module": "@jupyter-widgets/controls",
     "model_name": "HTMLModel",
     "state": {
      "_dom_classes": [],
      "_model_module": "@jupyter-widgets/controls",
      "_model_module_version": "1.5.0",
      "_model_name": "HTMLModel",
      "_view_count": null,
      "_view_module": "@jupyter-widgets/controls",
      "_view_module_version": "1.5.0",
      "_view_name": "HTMLView",
      "description": "",
      "description_tooltip": null,
      "layout": "IPY_MODEL_b5eb3352eec74ecfb372d818517dcfdd",
      "placeholder": "​",
      "style": "IPY_MODEL_79c572535699473f8518fd6c52cbb0d3",
      "value": " 4/4 [00:18&lt;00:00,  3.49s/it]"
     }
    },
    "2c3fe62512c34c6abefa9d9314e4992b": {
     "model_module": "@jupyter-widgets/controls",
     "model_name": "HTMLModel",
     "state": {
      "_dom_classes": [],
      "_model_module": "@jupyter-widgets/controls",
      "_model_module_version": "1.5.0",
      "_model_name": "HTMLModel",
      "_view_count": null,
      "_view_module": "@jupyter-widgets/controls",
      "_view_module_version": "1.5.0",
      "_view_name": "HTMLView",
      "description": "",
      "description_tooltip": null,
      "layout": "IPY_MODEL_716262223aa844f6b1373f1f5c62eadf",
      "placeholder": "​",
      "style": "IPY_MODEL_9e56728b79284101a3f7ac4106e1dd1f",
      "value": " 2/2 [00:04&lt;00:00,  1.89s/it]"
     }
    },
    "2e9683f3200648e5bd91836071579817": {
     "model_module": "@jupyter-widgets/controls",
     "model_name": "FloatProgressModel",
     "state": {
      "_dom_classes": [],
      "_model_module": "@jupyter-widgets/controls",
      "_model_module_version": "1.5.0",
      "_model_name": "FloatProgressModel",
      "_view_count": null,
      "_view_module": "@jupyter-widgets/controls",
      "_view_module_version": "1.5.0",
      "_view_name": "ProgressView",
      "bar_style": "success",
      "description": "Epoch 9: 100%",
      "description_tooltip": null,
      "layout": "IPY_MODEL_6bcc847b2e1948f080fe28971145be99",
      "max": 205,
      "min": 0,
      "orientation": "horizontal",
      "style": "IPY_MODEL_842a15358de74d9fa3b6f4f9ef014901",
      "value": 205
     }
    },
    "321b4a740c644cd59909651d97c3c05a": {
     "model_module": "@jupyter-widgets/controls",
     "model_name": "ProgressStyleModel",
     "state": {
      "_model_module": "@jupyter-widgets/controls",
      "_model_module_version": "1.5.0",
      "_model_name": "ProgressStyleModel",
      "_view_count": null,
      "_view_module": "@jupyter-widgets/base",
      "_view_module_version": "1.2.0",
      "_view_name": "StyleView",
      "bar_color": null,
      "description_width": "initial"
     }
    },
    "32b319ace7484207b0214a3d895b8377": {
     "model_module": "@jupyter-widgets/controls",
     "model_name": "HTMLModel",
     "state": {
      "_dom_classes": [],
      "_model_module": "@jupyter-widgets/controls",
      "_model_module_version": "1.5.0",
      "_model_name": "HTMLModel",
      "_view_count": null,
      "_view_module": "@jupyter-widgets/controls",
      "_view_module_version": "1.5.0",
      "_view_name": "HTMLView",
      "description": "",
      "description_tooltip": null,
      "layout": "IPY_MODEL_f6e96e1529a241489efcd0cca7eff651",
      "placeholder": "​",
      "style": "IPY_MODEL_9f7739af310f4d3cbbb92685ba21d806",
      "value": " 4/4 [00:34&lt;00:00,  6.44s/it]"
     }
    },
    "38d6ea70731648ce941a645d022e9751": {
     "model_module": "@jupyter-widgets/base",
     "model_name": "LayoutModel",
     "state": {
      "_model_module": "@jupyter-widgets/base",
      "_model_module_version": "1.2.0",
      "_model_name": "LayoutModel",
      "_view_count": null,
      "_view_module": "@jupyter-widgets/base",
      "_view_module_version": "1.2.0",
      "_view_name": "LayoutView",
      "align_content": null,
      "align_items": null,
      "align_self": null,
      "border": null,
      "bottom": null,
      "display": null,
      "flex": "2",
      "flex_flow": null,
      "grid_area": null,
      "grid_auto_columns": null,
      "grid_auto_flow": null,
      "grid_auto_rows": null,
      "grid_column": null,
      "grid_gap": null,
      "grid_row": null,
      "grid_template_areas": null,
      "grid_template_columns": null,
      "grid_template_rows": null,
      "height": null,
      "justify_content": null,
      "justify_items": null,
      "left": null,
      "margin": null,
      "max_height": null,
      "max_width": null,
      "min_height": null,
      "min_width": null,
      "object_fit": null,
      "object_position": null,
      "order": null,
      "overflow": null,
      "overflow_x": null,
      "overflow_y": null,
      "padding": null,
      "right": null,
      "top": null,
      "visibility": null,
      "width": null
     }
    },
    "3ab7c0f087e44d4e9c36ed947ab6b0b4": {
     "model_module": "@jupyter-widgets/controls",
     "model_name": "DescriptionStyleModel",
     "state": {
      "_model_module": "@jupyter-widgets/controls",
      "_model_module_version": "1.5.0",
      "_model_name": "DescriptionStyleModel",
      "_view_count": null,
      "_view_module": "@jupyter-widgets/base",
      "_view_module_version": "1.2.0",
      "_view_name": "StyleView",
      "description_width": ""
     }
    },
    "3d994dc0e84e4c91b0d3041d5e321053": {
     "model_module": "@jupyter-widgets/controls",
     "model_name": "HTMLModel",
     "state": {
      "_dom_classes": [],
      "_model_module": "@jupyter-widgets/controls",
      "_model_module_version": "1.5.0",
      "_model_name": "HTMLModel",
      "_view_count": null,
      "_view_module": "@jupyter-widgets/controls",
      "_view_module_version": "1.5.0",
      "_view_name": "HTMLView",
      "description": "",
      "description_tooltip": null,
      "layout": "IPY_MODEL_a01ec4c3a9574e10a4e855bfafe1d7f6",
      "placeholder": "​",
      "style": "IPY_MODEL_570b405b083449f88c7cac2570e1de16",
      "value": " 205/205 [01:03&lt;00:00,  3.22it/s, loss=1.619, v_num=y7df, val_loss=1.14, rouge1=47.5, rougeL=32, avg_train_loss=1.64]"
     }
    },
    "40cb4cd9eb92448da9ef01a33ed22164": {
     "model_module": "@jupyter-widgets/base",
     "model_name": "LayoutModel",
     "state": {
      "_model_module": "@jupyter-widgets/base",
      "_model_module_version": "1.2.0",
      "_model_name": "LayoutModel",
      "_view_count": null,
      "_view_module": "@jupyter-widgets/base",
      "_view_module_version": "1.2.0",
      "_view_name": "LayoutView",
      "align_content": null,
      "align_items": null,
      "align_self": null,
      "border": null,
      "bottom": null,
      "display": null,
      "flex": "2",
      "flex_flow": null,
      "grid_area": null,
      "grid_auto_columns": null,
      "grid_auto_flow": null,
      "grid_auto_rows": null,
      "grid_column": null,
      "grid_gap": null,
      "grid_row": null,
      "grid_template_areas": null,
      "grid_template_columns": null,
      "grid_template_rows": null,
      "height": null,
      "justify_content": null,
      "justify_items": null,
      "left": null,
      "margin": null,
      "max_height": null,
      "max_width": null,
      "min_height": null,
      "min_width": null,
      "object_fit": null,
      "object_position": null,
      "order": null,
      "overflow": null,
      "overflow_x": null,
      "overflow_y": null,
      "padding": null,
      "right": null,
      "top": null,
      "visibility": null,
      "width": null
     }
    },
    "43d3efa8f6704fdebadb8cdf08a88594": {
     "model_module": "@jupyter-widgets/controls",
     "model_name": "HTMLModel",
     "state": {
      "_dom_classes": [],
      "_model_module": "@jupyter-widgets/controls",
      "_model_module_version": "1.5.0",
      "_model_name": "HTMLModel",
      "_view_count": null,
      "_view_module": "@jupyter-widgets/controls",
      "_view_module_version": "1.5.0",
      "_view_name": "HTMLView",
      "description": "",
      "description_tooltip": null,
      "layout": "IPY_MODEL_f5248c56f9bd4a689c6d925f967fc6fc",
      "placeholder": "​",
      "style": "IPY_MODEL_5be1bae580014a29a70ce8a549eb4cac",
      "value": " 4/4 [00:40&lt;00:00,  8.59s/it]"
     }
    },
    "48c75423c86d475ca9000732f9300e4c": {
     "model_module": "@jupyter-widgets/base",
     "model_name": "LayoutModel",
     "state": {
      "_model_module": "@jupyter-widgets/base",
      "_model_module_version": "1.2.0",
      "_model_name": "LayoutModel",
      "_view_count": null,
      "_view_module": "@jupyter-widgets/base",
      "_view_module_version": "1.2.0",
      "_view_name": "LayoutView",
      "align_content": null,
      "align_items": null,
      "align_self": null,
      "border": null,
      "bottom": null,
      "display": "inline-flex",
      "flex": null,
      "flex_flow": "row wrap",
      "grid_area": null,
      "grid_auto_columns": null,
      "grid_auto_flow": null,
      "grid_auto_rows": null,
      "grid_column": null,
      "grid_gap": null,
      "grid_row": null,
      "grid_template_areas": null,
      "grid_template_columns": null,
      "grid_template_rows": null,
      "height": null,
      "justify_content": null,
      "justify_items": null,
      "left": null,
      "margin": null,
      "max_height": null,
      "max_width": null,
      "min_height": null,
      "min_width": null,
      "object_fit": null,
      "object_position": null,
      "order": null,
      "overflow": null,
      "overflow_x": null,
      "overflow_y": null,
      "padding": null,
      "right": null,
      "top": null,
      "visibility": null,
      "width": "100%"
     }
    },
    "4d0634ec00c746859723fff919954951": {
     "model_module": "@jupyter-widgets/base",
     "model_name": "LayoutModel",
     "state": {
      "_model_module": "@jupyter-widgets/base",
      "_model_module_version": "1.2.0",
      "_model_name": "LayoutModel",
      "_view_count": null,
      "_view_module": "@jupyter-widgets/base",
      "_view_module_version": "1.2.0",
      "_view_name": "LayoutView",
      "align_content": null,
      "align_items": null,
      "align_self": null,
      "border": null,
      "bottom": null,
      "display": "inline-flex",
      "flex": null,
      "flex_flow": "row wrap",
      "grid_area": null,
      "grid_auto_columns": null,
      "grid_auto_flow": null,
      "grid_auto_rows": null,
      "grid_column": null,
      "grid_gap": null,
      "grid_row": null,
      "grid_template_areas": null,
      "grid_template_columns": null,
      "grid_template_rows": null,
      "height": null,
      "justify_content": null,
      "justify_items": null,
      "left": null,
      "margin": null,
      "max_height": null,
      "max_width": null,
      "min_height": null,
      "min_width": null,
      "object_fit": null,
      "object_position": null,
      "order": null,
      "overflow": null,
      "overflow_x": null,
      "overflow_y": null,
      "padding": null,
      "right": null,
      "top": null,
      "visibility": null,
      "width": "100%"
     }
    },
    "4d1fd3386ce14c8586e53eb021ab59f9": {
     "model_module": "@jupyter-widgets/controls",
     "model_name": "ProgressStyleModel",
     "state": {
      "_model_module": "@jupyter-widgets/controls",
      "_model_module_version": "1.5.0",
      "_model_name": "ProgressStyleModel",
      "_view_count": null,
      "_view_module": "@jupyter-widgets/base",
      "_view_module_version": "1.2.0",
      "_view_name": "StyleView",
      "bar_color": null,
      "description_width": "initial"
     }
    },
    "4ea687dfd1dc45ff972dcdb279685c28": {
     "model_module": "@jupyter-widgets/base",
     "model_name": "LayoutModel",
     "state": {
      "_model_module": "@jupyter-widgets/base",
      "_model_module_version": "1.2.0",
      "_model_name": "LayoutModel",
      "_view_count": null,
      "_view_module": "@jupyter-widgets/base",
      "_view_module_version": "1.2.0",
      "_view_name": "LayoutView",
      "align_content": null,
      "align_items": null,
      "align_self": null,
      "border": null,
      "bottom": null,
      "display": null,
      "flex": "2",
      "flex_flow": null,
      "grid_area": null,
      "grid_auto_columns": null,
      "grid_auto_flow": null,
      "grid_auto_rows": null,
      "grid_column": null,
      "grid_gap": null,
      "grid_row": null,
      "grid_template_areas": null,
      "grid_template_columns": null,
      "grid_template_rows": null,
      "height": null,
      "justify_content": null,
      "justify_items": null,
      "left": null,
      "margin": null,
      "max_height": null,
      "max_width": null,
      "min_height": null,
      "min_width": null,
      "object_fit": null,
      "object_position": null,
      "order": null,
      "overflow": null,
      "overflow_x": null,
      "overflow_y": null,
      "padding": null,
      "right": null,
      "top": null,
      "visibility": null,
      "width": null
     }
    },
    "50e05668c87e4b478f43765c95973666": {
     "model_module": "@jupyter-widgets/controls",
     "model_name": "HTMLModel",
     "state": {
      "_dom_classes": [],
      "_model_module": "@jupyter-widgets/controls",
      "_model_module_version": "1.5.0",
      "_model_name": "HTMLModel",
      "_view_count": null,
      "_view_module": "@jupyter-widgets/controls",
      "_view_module_version": "1.5.0",
      "_view_name": "HTMLView",
      "description": "",
      "description_tooltip": null,
      "layout": "IPY_MODEL_d2f84adbf66b45158877c52454e6209d",
      "placeholder": "​",
      "style": "IPY_MODEL_3ab7c0f087e44d4e9c36ed947ab6b0b4",
      "value": " 4/4 [00:42&lt;00:00,  9.65s/it]"
     }
    },
    "50fff1073e36451e88a1c8f8d9c0d9f2": {
     "model_module": "@jupyter-widgets/controls",
     "model_name": "HBoxModel",
     "state": {
      "_dom_classes": [],
      "_model_module": "@jupyter-widgets/controls",
      "_model_module_version": "1.5.0",
      "_model_name": "HBoxModel",
      "_view_count": null,
      "_view_module": "@jupyter-widgets/controls",
      "_view_module_version": "1.5.0",
      "_view_name": "HBoxView",
      "box_style": "",
      "children": [
       "IPY_MODEL_21907bbf025240a38d45240decdac21e",
       "IPY_MODEL_669ba65739e74eb6a656762cd858b802"
      ],
      "layout": "IPY_MODEL_4d0634ec00c746859723fff919954951"
     }
    },
    "52aca4cb8c7e4a5ab0d10673101e3282": {
     "model_module": "@jupyter-widgets/controls",
     "model_name": "ProgressStyleModel",
     "state": {
      "_model_module": "@jupyter-widgets/controls",
      "_model_module_version": "1.5.0",
      "_model_name": "ProgressStyleModel",
      "_view_count": null,
      "_view_module": "@jupyter-widgets/base",
      "_view_module_version": "1.2.0",
      "_view_name": "StyleView",
      "bar_color": null,
      "description_width": "initial"
     }
    },
    "535a6cb627b443b89688ad29733404e0": {
     "model_module": "@jupyter-widgets/controls",
     "model_name": "ProgressStyleModel",
     "state": {
      "_model_module": "@jupyter-widgets/controls",
      "_model_module_version": "1.5.0",
      "_model_name": "ProgressStyleModel",
      "_view_count": null,
      "_view_module": "@jupyter-widgets/base",
      "_view_module_version": "1.2.0",
      "_view_name": "StyleView",
      "bar_color": null,
      "description_width": "initial"
     }
    },
    "55e6c585952e4762a27794cb92af53fd": {
     "model_module": "@jupyter-widgets/controls",
     "model_name": "HTMLModel",
     "state": {
      "_dom_classes": [],
      "_model_module": "@jupyter-widgets/controls",
      "_model_module_version": "1.5.0",
      "_model_name": "HTMLModel",
      "_view_count": null,
      "_view_module": "@jupyter-widgets/controls",
      "_view_module_version": "1.5.0",
      "_view_name": "HTMLView",
      "description": "",
      "description_tooltip": null,
      "layout": "IPY_MODEL_ec79a794565548b5bb2460544bfad04d",
      "placeholder": "​",
      "style": "IPY_MODEL_ef18217327cc486d92aa04564a540dd6",
      "value": " 4/4 [00:34&lt;00:00,  6.45s/it]"
     }
    },
    "570b405b083449f88c7cac2570e1de16": {
     "model_module": "@jupyter-widgets/controls",
     "model_name": "DescriptionStyleModel",
     "state": {
      "_model_module": "@jupyter-widgets/controls",
      "_model_module_version": "1.5.0",
      "_model_name": "DescriptionStyleModel",
      "_view_count": null,
      "_view_module": "@jupyter-widgets/base",
      "_view_module_version": "1.2.0",
      "_view_name": "StyleView",
      "description_width": ""
     }
    },
    "57a35eb6535642bdaba15fa606105f7f": {
     "model_module": "@jupyter-widgets/controls",
     "model_name": "HBoxModel",
     "state": {
      "_dom_classes": [],
      "_model_module": "@jupyter-widgets/controls",
      "_model_module_version": "1.5.0",
      "_model_name": "HBoxModel",
      "_view_count": null,
      "_view_module": "@jupyter-widgets/controls",
      "_view_module_version": "1.5.0",
      "_view_name": "HBoxView",
      "box_style": "",
      "children": [
       "IPY_MODEL_d7de2983738149b0b64d268f42b97f4e",
       "IPY_MODEL_43d3efa8f6704fdebadb8cdf08a88594"
      ],
      "layout": "IPY_MODEL_20a5d017c31e41fca9df0a1823806d8c"
     }
    },
    "5be1bae580014a29a70ce8a549eb4cac": {
     "model_module": "@jupyter-widgets/controls",
     "model_name": "DescriptionStyleModel",
     "state": {
      "_model_module": "@jupyter-widgets/controls",
      "_model_module_version": "1.5.0",
      "_model_name": "DescriptionStyleModel",
      "_view_count": null,
      "_view_module": "@jupyter-widgets/base",
      "_view_module_version": "1.2.0",
      "_view_name": "StyleView",
      "description_width": ""
     }
    },
    "5f00a35dffa94e1797810d145f43be29": {
     "model_module": "@jupyter-widgets/controls",
     "model_name": "FloatProgressModel",
     "state": {
      "_dom_classes": [],
      "_model_module": "@jupyter-widgets/controls",
      "_model_module_version": "1.5.0",
      "_model_name": "FloatProgressModel",
      "_view_count": null,
      "_view_module": "@jupyter-widgets/controls",
      "_view_module_version": "1.5.0",
      "_view_name": "ProgressView",
      "bar_style": "info",
      "description": "Validating: 100%",
      "description_tooltip": null,
      "layout": "IPY_MODEL_ad5b26fa91e14ed8a52f940b31fed29c",
      "max": 1,
      "min": 0,
      "orientation": "horizontal",
      "style": "IPY_MODEL_97df4b346af64bf19d838d1e7be22f72",
      "value": 1
     }
    },
    "60ffc92aaef84b209dfc7e270bd5c774": {
     "model_module": "@jupyter-widgets/base",
     "model_name": "LayoutModel",
     "state": {
      "_model_module": "@jupyter-widgets/base",
      "_model_module_version": "1.2.0",
      "_model_name": "LayoutModel",
      "_view_count": null,
      "_view_module": "@jupyter-widgets/base",
      "_view_module_version": "1.2.0",
      "_view_name": "LayoutView",
      "align_content": null,
      "align_items": null,
      "align_self": null,
      "border": null,
      "bottom": null,
      "display": "inline-flex",
      "flex": null,
      "flex_flow": "row wrap",
      "grid_area": null,
      "grid_auto_columns": null,
      "grid_auto_flow": null,
      "grid_auto_rows": null,
      "grid_column": null,
      "grid_gap": null,
      "grid_row": null,
      "grid_template_areas": null,
      "grid_template_columns": null,
      "grid_template_rows": null,
      "height": null,
      "justify_content": null,
      "justify_items": null,
      "left": null,
      "margin": null,
      "max_height": null,
      "max_width": null,
      "min_height": null,
      "min_width": null,
      "object_fit": null,
      "object_position": null,
      "order": null,
      "overflow": null,
      "overflow_x": null,
      "overflow_y": null,
      "padding": null,
      "right": null,
      "top": null,
      "visibility": null,
      "width": "100%"
     }
    },
    "669ba65739e74eb6a656762cd858b802": {
     "model_module": "@jupyter-widgets/controls",
     "model_name": "HTMLModel",
     "state": {
      "_dom_classes": [],
      "_model_module": "@jupyter-widgets/controls",
      "_model_module_version": "1.5.0",
      "_model_name": "HTMLModel",
      "_view_count": null,
      "_view_module": "@jupyter-widgets/controls",
      "_view_module_version": "1.5.0",
      "_view_name": "HTMLView",
      "description": "",
      "description_tooltip": null,
      "layout": "IPY_MODEL_e51a0c812afc415e93e7a2af877b6075",
      "placeholder": "​",
      "style": "IPY_MODEL_0b01c04b394d43529937fa2284124fe0",
      "value": " 4/4 [00:35&lt;00:00,  7.62s/it]"
     }
    },
    "6bcc847b2e1948f080fe28971145be99": {
     "model_module": "@jupyter-widgets/base",
     "model_name": "LayoutModel",
     "state": {
      "_model_module": "@jupyter-widgets/base",
      "_model_module_version": "1.2.0",
      "_model_name": "LayoutModel",
      "_view_count": null,
      "_view_module": "@jupyter-widgets/base",
      "_view_module_version": "1.2.0",
      "_view_name": "LayoutView",
      "align_content": null,
      "align_items": null,
      "align_self": null,
      "border": null,
      "bottom": null,
      "display": null,
      "flex": "2",
      "flex_flow": null,
      "grid_area": null,
      "grid_auto_columns": null,
      "grid_auto_flow": null,
      "grid_auto_rows": null,
      "grid_column": null,
      "grid_gap": null,
      "grid_row": null,
      "grid_template_areas": null,
      "grid_template_columns": null,
      "grid_template_rows": null,
      "height": null,
      "justify_content": null,
      "justify_items": null,
      "left": null,
      "margin": null,
      "max_height": null,
      "max_width": null,
      "min_height": null,
      "min_width": null,
      "object_fit": null,
      "object_position": null,
      "order": null,
      "overflow": null,
      "overflow_x": null,
      "overflow_y": null,
      "padding": null,
      "right": null,
      "top": null,
      "visibility": null,
      "width": null
     }
    },
    "6e8dc14d0c14404dbe5a18d9ef91c7eb": {
     "model_module": "@jupyter-widgets/controls",
     "model_name": "HBoxModel",
     "state": {
      "_dom_classes": [],
      "_model_module": "@jupyter-widgets/controls",
      "_model_module_version": "1.5.0",
      "_model_name": "HBoxModel",
      "_view_count": null,
      "_view_module": "@jupyter-widgets/controls",
      "_view_module_version": "1.5.0",
      "_view_name": "HBoxView",
      "box_style": "",
      "children": [
       "IPY_MODEL_26620dcc59c14369a0ef078d9c7b39af",
       "IPY_MODEL_d2bf166d101f4b59bc84d9ba4eda72f0"
      ],
      "layout": "IPY_MODEL_98a6f9e638774d32a45f2b1e392299ca"
     }
    },
    "716262223aa844f6b1373f1f5c62eadf": {
     "model_module": "@jupyter-widgets/base",
     "model_name": "LayoutModel",
     "state": {
      "_model_module": "@jupyter-widgets/base",
      "_model_module_version": "1.2.0",
      "_model_name": "LayoutModel",
      "_view_count": null,
      "_view_module": "@jupyter-widgets/base",
      "_view_module_version": "1.2.0",
      "_view_name": "LayoutView",
      "align_content": null,
      "align_items": null,
      "align_self": null,
      "border": null,
      "bottom": null,
      "display": null,
      "flex": null,
      "flex_flow": null,
      "grid_area": null,
      "grid_auto_columns": null,
      "grid_auto_flow": null,
      "grid_auto_rows": null,
      "grid_column": null,
      "grid_gap": null,
      "grid_row": null,
      "grid_template_areas": null,
      "grid_template_columns": null,
      "grid_template_rows": null,
      "height": null,
      "justify_content": null,
      "justify_items": null,
      "left": null,
      "margin": null,
      "max_height": null,
      "max_width": null,
      "min_height": null,
      "min_width": null,
      "object_fit": null,
      "object_position": null,
      "order": null,
      "overflow": null,
      "overflow_x": null,
      "overflow_y": null,
      "padding": null,
      "right": null,
      "top": null,
      "visibility": null,
      "width": null
     }
    },
    "79c572535699473f8518fd6c52cbb0d3": {
     "model_module": "@jupyter-widgets/controls",
     "model_name": "DescriptionStyleModel",
     "state": {
      "_model_module": "@jupyter-widgets/controls",
      "_model_module_version": "1.5.0",
      "_model_name": "DescriptionStyleModel",
      "_view_count": null,
      "_view_module": "@jupyter-widgets/base",
      "_view_module_version": "1.2.0",
      "_view_name": "StyleView",
      "description_width": ""
     }
    },
    "7abcf6c205ff49dfb743d563d681ce7d": {
     "model_module": "@jupyter-widgets/controls",
     "model_name": "HTMLModel",
     "state": {
      "_dom_classes": [],
      "_model_module": "@jupyter-widgets/controls",
      "_model_module_version": "1.5.0",
      "_model_name": "HTMLModel",
      "_view_count": null,
      "_view_module": "@jupyter-widgets/controls",
      "_view_module_version": "1.5.0",
      "_view_name": "HTMLView",
      "description": "",
      "description_tooltip": null,
      "layout": "IPY_MODEL_8b896e3061e54b1a8d1a756cf11ff0c9",
      "placeholder": "​",
      "style": "IPY_MODEL_bbfa62b85ca744708d3f198307a62914",
      "value": " 4/4 [00:42&lt;00:00,  9.09s/it]"
     }
    },
    "7ae4e6bc81324a76949eecc8726d7d0c": {
     "model_module": "@jupyter-widgets/base",
     "model_name": "LayoutModel",
     "state": {
      "_model_module": "@jupyter-widgets/base",
      "_model_module_version": "1.2.0",
      "_model_name": "LayoutModel",
      "_view_count": null,
      "_view_module": "@jupyter-widgets/base",
      "_view_module_version": "1.2.0",
      "_view_name": "LayoutView",
      "align_content": null,
      "align_items": null,
      "align_self": null,
      "border": null,
      "bottom": null,
      "display": "inline-flex",
      "flex": null,
      "flex_flow": "row wrap",
      "grid_area": null,
      "grid_auto_columns": null,
      "grid_auto_flow": null,
      "grid_auto_rows": null,
      "grid_column": null,
      "grid_gap": null,
      "grid_row": null,
      "grid_template_areas": null,
      "grid_template_columns": null,
      "grid_template_rows": null,
      "height": null,
      "justify_content": null,
      "justify_items": null,
      "left": null,
      "margin": null,
      "max_height": null,
      "max_width": null,
      "min_height": null,
      "min_width": null,
      "object_fit": null,
      "object_position": null,
      "order": null,
      "overflow": null,
      "overflow_x": null,
      "overflow_y": null,
      "padding": null,
      "right": null,
      "top": null,
      "visibility": null,
      "width": "100%"
     }
    },
    "82c2b9f968fc477aae69eed30e214fb4": {
     "model_module": "@jupyter-widgets/base",
     "model_name": "LayoutModel",
     "state": {
      "_model_module": "@jupyter-widgets/base",
      "_model_module_version": "1.2.0",
      "_model_name": "LayoutModel",
      "_view_count": null,
      "_view_module": "@jupyter-widgets/base",
      "_view_module_version": "1.2.0",
      "_view_name": "LayoutView",
      "align_content": null,
      "align_items": null,
      "align_self": null,
      "border": null,
      "bottom": null,
      "display": null,
      "flex": null,
      "flex_flow": null,
      "grid_area": null,
      "grid_auto_columns": null,
      "grid_auto_flow": null,
      "grid_auto_rows": null,
      "grid_column": null,
      "grid_gap": null,
      "grid_row": null,
      "grid_template_areas": null,
      "grid_template_columns": null,
      "grid_template_rows": null,
      "height": null,
      "justify_content": null,
      "justify_items": null,
      "left": null,
      "margin": null,
      "max_height": null,
      "max_width": null,
      "min_height": null,
      "min_width": null,
      "object_fit": null,
      "object_position": null,
      "order": null,
      "overflow": null,
      "overflow_x": null,
      "overflow_y": null,
      "padding": null,
      "right": null,
      "top": null,
      "visibility": null,
      "width": null
     }
    },
    "82cf9bcb582a4321830eff6d074e2e2f": {
     "model_module": "@jupyter-widgets/controls",
     "model_name": "DescriptionStyleModel",
     "state": {
      "_model_module": "@jupyter-widgets/controls",
      "_model_module_version": "1.5.0",
      "_model_name": "DescriptionStyleModel",
      "_view_count": null,
      "_view_module": "@jupyter-widgets/base",
      "_view_module_version": "1.2.0",
      "_view_name": "StyleView",
      "description_width": ""
     }
    },
    "83ff9e8f55ce4d9c82436cd6637411b9": {
     "model_module": "@jupyter-widgets/controls",
     "model_name": "HBoxModel",
     "state": {
      "_dom_classes": [],
      "_model_module": "@jupyter-widgets/controls",
      "_model_module_version": "1.5.0",
      "_model_name": "HBoxModel",
      "_view_count": null,
      "_view_module": "@jupyter-widgets/controls",
      "_view_module_version": "1.5.0",
      "_view_name": "HBoxView",
      "box_style": "",
      "children": [
       "IPY_MODEL_1e5c3e17e0494f84b840046f857abf9c",
       "IPY_MODEL_2bcc3cc8bccf49b5b25893327a222912"
      ],
      "layout": "IPY_MODEL_48c75423c86d475ca9000732f9300e4c"
     }
    },
    "842a15358de74d9fa3b6f4f9ef014901": {
     "model_module": "@jupyter-widgets/controls",
     "model_name": "ProgressStyleModel",
     "state": {
      "_model_module": "@jupyter-widgets/controls",
      "_model_module_version": "1.5.0",
      "_model_name": "ProgressStyleModel",
      "_view_count": null,
      "_view_module": "@jupyter-widgets/base",
      "_view_module_version": "1.2.0",
      "_view_name": "StyleView",
      "bar_color": null,
      "description_width": "initial"
     }
    },
    "8b896e3061e54b1a8d1a756cf11ff0c9": {
     "model_module": "@jupyter-widgets/base",
     "model_name": "LayoutModel",
     "state": {
      "_model_module": "@jupyter-widgets/base",
      "_model_module_version": "1.2.0",
      "_model_name": "LayoutModel",
      "_view_count": null,
      "_view_module": "@jupyter-widgets/base",
      "_view_module_version": "1.2.0",
      "_view_name": "LayoutView",
      "align_content": null,
      "align_items": null,
      "align_self": null,
      "border": null,
      "bottom": null,
      "display": null,
      "flex": null,
      "flex_flow": null,
      "grid_area": null,
      "grid_auto_columns": null,
      "grid_auto_flow": null,
      "grid_auto_rows": null,
      "grid_column": null,
      "grid_gap": null,
      "grid_row": null,
      "grid_template_areas": null,
      "grid_template_columns": null,
      "grid_template_rows": null,
      "height": null,
      "justify_content": null,
      "justify_items": null,
      "left": null,
      "margin": null,
      "max_height": null,
      "max_width": null,
      "min_height": null,
      "min_width": null,
      "object_fit": null,
      "object_position": null,
      "order": null,
      "overflow": null,
      "overflow_x": null,
      "overflow_y": null,
      "padding": null,
      "right": null,
      "top": null,
      "visibility": null,
      "width": null
     }
    },
    "8c3a1a10c8f8405a9332d46ca14801d0": {
     "model_module": "@jupyter-widgets/controls",
     "model_name": "DescriptionStyleModel",
     "state": {
      "_model_module": "@jupyter-widgets/controls",
      "_model_module_version": "1.5.0",
      "_model_name": "DescriptionStyleModel",
      "_view_count": null,
      "_view_module": "@jupyter-widgets/base",
      "_view_module_version": "1.2.0",
      "_view_name": "StyleView",
      "description_width": ""
     }
    },
    "8ea90ba302454492b0f6eb01dcb5a5be": {
     "model_module": "@jupyter-widgets/controls",
     "model_name": "ProgressStyleModel",
     "state": {
      "_model_module": "@jupyter-widgets/controls",
      "_model_module_version": "1.5.0",
      "_model_name": "ProgressStyleModel",
      "_view_count": null,
      "_view_module": "@jupyter-widgets/base",
      "_view_module_version": "1.2.0",
      "_view_name": "StyleView",
      "bar_color": null,
      "description_width": "initial"
     }
    },
    "8f2ff1171b864a29ad9dae582338db92": {
     "model_module": "@jupyter-widgets/controls",
     "model_name": "HBoxModel",
     "state": {
      "_dom_classes": [],
      "_model_module": "@jupyter-widgets/controls",
      "_model_module_version": "1.5.0",
      "_model_name": "HBoxModel",
      "_view_count": null,
      "_view_module": "@jupyter-widgets/controls",
      "_view_module_version": "1.5.0",
      "_view_name": "HBoxView",
      "box_style": "",
      "children": [
       "IPY_MODEL_bf8141bd72cb4d4c9697d0e2aff77176",
       "IPY_MODEL_32b319ace7484207b0214a3d895b8377"
      ],
      "layout": "IPY_MODEL_19a64f4592634ed69c2ec575e808a1de"
     }
    },
    "92013468db8d412d909ce27c4309a815": {
     "model_module": "@jupyter-widgets/controls",
     "model_name": "HTMLModel",
     "state": {
      "_dom_classes": [],
      "_model_module": "@jupyter-widgets/controls",
      "_model_module_version": "1.5.0",
      "_model_name": "HTMLModel",
      "_view_count": null,
      "_view_module": "@jupyter-widgets/controls",
      "_view_module_version": "1.5.0",
      "_view_name": "HTMLView",
      "description": "",
      "description_tooltip": null,
      "layout": "IPY_MODEL_cbad993fd52b4c9fbea2d7f4b41b566d",
      "placeholder": "​",
      "style": "IPY_MODEL_1575fcd98864442393f9c020fce1e10f",
      "value": " 4/4 [00:38&lt;00:00,  8.61s/it]"
     }
    },
    "920a8d79f130462b974442cc4bf24928": {
     "model_module": "@jupyter-widgets/base",
     "model_name": "LayoutModel",
     "state": {
      "_model_module": "@jupyter-widgets/base",
      "_model_module_version": "1.2.0",
      "_model_name": "LayoutModel",
      "_view_count": null,
      "_view_module": "@jupyter-widgets/base",
      "_view_module_version": "1.2.0",
      "_view_name": "LayoutView",
      "align_content": null,
      "align_items": null,
      "align_self": null,
      "border": null,
      "bottom": null,
      "display": "inline-flex",
      "flex": null,
      "flex_flow": "row wrap",
      "grid_area": null,
      "grid_auto_columns": null,
      "grid_auto_flow": null,
      "grid_auto_rows": null,
      "grid_column": null,
      "grid_gap": null,
      "grid_row": null,
      "grid_template_areas": null,
      "grid_template_columns": null,
      "grid_template_rows": null,
      "height": null,
      "justify_content": null,
      "justify_items": null,
      "left": null,
      "margin": null,
      "max_height": null,
      "max_width": null,
      "min_height": null,
      "min_width": null,
      "object_fit": null,
      "object_position": null,
      "order": null,
      "overflow": null,
      "overflow_x": null,
      "overflow_y": null,
      "padding": null,
      "right": null,
      "top": null,
      "visibility": null,
      "width": "100%"
     }
    },
    "928bda829ab84cd9a7c938077cc700d7": {
     "model_module": "@jupyter-widgets/controls",
     "model_name": "FloatProgressModel",
     "state": {
      "_dom_classes": [],
      "_model_module": "@jupyter-widgets/controls",
      "_model_module_version": "1.5.0",
      "_model_name": "FloatProgressModel",
      "_view_count": null,
      "_view_module": "@jupyter-widgets/controls",
      "_view_module_version": "1.5.0",
      "_view_name": "ProgressView",
      "bar_style": "info",
      "description": "Validation sanity check: 100%",
      "description_tooltip": null,
      "layout": "IPY_MODEL_40cb4cd9eb92448da9ef01a33ed22164",
      "max": 1,
      "min": 0,
      "orientation": "horizontal",
      "style": "IPY_MODEL_52aca4cb8c7e4a5ab0d10673101e3282",
      "value": 1
     }
    },
    "92e9a154903447b6a1269b37986f32cc": {
     "model_module": "@jupyter-widgets/controls",
     "model_name": "HBoxModel",
     "state": {
      "_dom_classes": [],
      "_model_module": "@jupyter-widgets/controls",
      "_model_module_version": "1.5.0",
      "_model_name": "HBoxModel",
      "_view_count": null,
      "_view_module": "@jupyter-widgets/controls",
      "_view_module_version": "1.5.0",
      "_view_name": "HBoxView",
      "box_style": "",
      "children": [
       "IPY_MODEL_cc247e8c35ec46748ff301d505b38d2d",
       "IPY_MODEL_55e6c585952e4762a27794cb92af53fd"
      ],
      "layout": "IPY_MODEL_920a8d79f130462b974442cc4bf24928"
     }
    },
    "97df4b346af64bf19d838d1e7be22f72": {
     "model_module": "@jupyter-widgets/controls",
     "model_name": "ProgressStyleModel",
     "state": {
      "_model_module": "@jupyter-widgets/controls",
      "_model_module_version": "1.5.0",
      "_model_name": "ProgressStyleModel",
      "_view_count": null,
      "_view_module": "@jupyter-widgets/base",
      "_view_module_version": "1.2.0",
      "_view_name": "StyleView",
      "bar_color": null,
      "description_width": "initial"
     }
    },
    "98a6f9e638774d32a45f2b1e392299ca": {
     "model_module": "@jupyter-widgets/base",
     "model_name": "LayoutModel",
     "state": {
      "_model_module": "@jupyter-widgets/base",
      "_model_module_version": "1.2.0",
      "_model_name": "LayoutModel",
      "_view_count": null,
      "_view_module": "@jupyter-widgets/base",
      "_view_module_version": "1.2.0",
      "_view_name": "LayoutView",
      "align_content": null,
      "align_items": null,
      "align_self": null,
      "border": null,
      "bottom": null,
      "display": "inline-flex",
      "flex": null,
      "flex_flow": "row wrap",
      "grid_area": null,
      "grid_auto_columns": null,
      "grid_auto_flow": null,
      "grid_auto_rows": null,
      "grid_column": null,
      "grid_gap": null,
      "grid_row": null,
      "grid_template_areas": null,
      "grid_template_columns": null,
      "grid_template_rows": null,
      "height": null,
      "justify_content": null,
      "justify_items": null,
      "left": null,
      "margin": null,
      "max_height": null,
      "max_width": null,
      "min_height": null,
      "min_width": null,
      "object_fit": null,
      "object_position": null,
      "order": null,
      "overflow": null,
      "overflow_x": null,
      "overflow_y": null,
      "padding": null,
      "right": null,
      "top": null,
      "visibility": null,
      "width": "100%"
     }
    },
    "98de723a1f304d7782d950d2694ffaa2": {
     "model_module": "@jupyter-widgets/controls",
     "model_name": "HBoxModel",
     "state": {
      "_dom_classes": [],
      "_model_module": "@jupyter-widgets/controls",
      "_model_module_version": "1.5.0",
      "_model_name": "HBoxModel",
      "_view_count": null,
      "_view_module": "@jupyter-widgets/controls",
      "_view_module_version": "1.5.0",
      "_view_name": "HBoxView",
      "box_style": "",
      "children": [
       "IPY_MODEL_928bda829ab84cd9a7c938077cc700d7",
       "IPY_MODEL_2c3fe62512c34c6abefa9d9314e4992b"
      ],
      "layout": "IPY_MODEL_bc1459791e694e30baf0d19b7cea255d"
     }
    },
    "9e56728b79284101a3f7ac4106e1dd1f": {
     "model_module": "@jupyter-widgets/controls",
     "model_name": "DescriptionStyleModel",
     "state": {
      "_model_module": "@jupyter-widgets/controls",
      "_model_module_version": "1.5.0",
      "_model_name": "DescriptionStyleModel",
      "_view_count": null,
      "_view_module": "@jupyter-widgets/base",
      "_view_module_version": "1.2.0",
      "_view_name": "StyleView",
      "description_width": ""
     }
    },
    "9f4d95dd81b0404a8263e26a1938f362": {
     "model_module": "@jupyter-widgets/base",
     "model_name": "LayoutModel",
     "state": {
      "_model_module": "@jupyter-widgets/base",
      "_model_module_version": "1.2.0",
      "_model_name": "LayoutModel",
      "_view_count": null,
      "_view_module": "@jupyter-widgets/base",
      "_view_module_version": "1.2.0",
      "_view_name": "LayoutView",
      "align_content": null,
      "align_items": null,
      "align_self": null,
      "border": null,
      "bottom": null,
      "display": "inline-flex",
      "flex": null,
      "flex_flow": "row wrap",
      "grid_area": null,
      "grid_auto_columns": null,
      "grid_auto_flow": null,
      "grid_auto_rows": null,
      "grid_column": null,
      "grid_gap": null,
      "grid_row": null,
      "grid_template_areas": null,
      "grid_template_columns": null,
      "grid_template_rows": null,
      "height": null,
      "justify_content": null,
      "justify_items": null,
      "left": null,
      "margin": null,
      "max_height": null,
      "max_width": null,
      "min_height": null,
      "min_width": null,
      "object_fit": null,
      "object_position": null,
      "order": null,
      "overflow": null,
      "overflow_x": null,
      "overflow_y": null,
      "padding": null,
      "right": null,
      "top": null,
      "visibility": null,
      "width": "100%"
     }
    },
    "9f7739af310f4d3cbbb92685ba21d806": {
     "model_module": "@jupyter-widgets/controls",
     "model_name": "DescriptionStyleModel",
     "state": {
      "_model_module": "@jupyter-widgets/controls",
      "_model_module_version": "1.5.0",
      "_model_name": "DescriptionStyleModel",
      "_view_count": null,
      "_view_module": "@jupyter-widgets/base",
      "_view_module_version": "1.2.0",
      "_view_name": "StyleView",
      "description_width": ""
     }
    },
    "a01ec4c3a9574e10a4e855bfafe1d7f6": {
     "model_module": "@jupyter-widgets/base",
     "model_name": "LayoutModel",
     "state": {
      "_model_module": "@jupyter-widgets/base",
      "_model_module_version": "1.2.0",
      "_model_name": "LayoutModel",
      "_view_count": null,
      "_view_module": "@jupyter-widgets/base",
      "_view_module_version": "1.2.0",
      "_view_name": "LayoutView",
      "align_content": null,
      "align_items": null,
      "align_self": null,
      "border": null,
      "bottom": null,
      "display": null,
      "flex": null,
      "flex_flow": null,
      "grid_area": null,
      "grid_auto_columns": null,
      "grid_auto_flow": null,
      "grid_auto_rows": null,
      "grid_column": null,
      "grid_gap": null,
      "grid_row": null,
      "grid_template_areas": null,
      "grid_template_columns": null,
      "grid_template_rows": null,
      "height": null,
      "justify_content": null,
      "justify_items": null,
      "left": null,
      "margin": null,
      "max_height": null,
      "max_width": null,
      "min_height": null,
      "min_width": null,
      "object_fit": null,
      "object_position": null,
      "order": null,
      "overflow": null,
      "overflow_x": null,
      "overflow_y": null,
      "padding": null,
      "right": null,
      "top": null,
      "visibility": null,
      "width": null
     }
    },
    "a237a196cd284b45b4c575c82f9df76c": {
     "model_module": "@jupyter-widgets/controls",
     "model_name": "ProgressStyleModel",
     "state": {
      "_model_module": "@jupyter-widgets/controls",
      "_model_module_version": "1.5.0",
      "_model_name": "ProgressStyleModel",
      "_view_count": null,
      "_view_module": "@jupyter-widgets/base",
      "_view_module_version": "1.2.0",
      "_view_name": "StyleView",
      "bar_color": null,
      "description_width": "initial"
     }
    },
    "ad5b26fa91e14ed8a52f940b31fed29c": {
     "model_module": "@jupyter-widgets/base",
     "model_name": "LayoutModel",
     "state": {
      "_model_module": "@jupyter-widgets/base",
      "_model_module_version": "1.2.0",
      "_model_name": "LayoutModel",
      "_view_count": null,
      "_view_module": "@jupyter-widgets/base",
      "_view_module_version": "1.2.0",
      "_view_name": "LayoutView",
      "align_content": null,
      "align_items": null,
      "align_self": null,
      "border": null,
      "bottom": null,
      "display": null,
      "flex": "2",
      "flex_flow": null,
      "grid_area": null,
      "grid_auto_columns": null,
      "grid_auto_flow": null,
      "grid_auto_rows": null,
      "grid_column": null,
      "grid_gap": null,
      "grid_row": null,
      "grid_template_areas": null,
      "grid_template_columns": null,
      "grid_template_rows": null,
      "height": null,
      "justify_content": null,
      "justify_items": null,
      "left": null,
      "margin": null,
      "max_height": null,
      "max_width": null,
      "min_height": null,
      "min_width": null,
      "object_fit": null,
      "object_position": null,
      "order": null,
      "overflow": null,
      "overflow_x": null,
      "overflow_y": null,
      "padding": null,
      "right": null,
      "top": null,
      "visibility": null,
      "width": null
     }
    },
    "af497adef96345c48bb3c0ad59a011d2": {
     "model_module": "@jupyter-widgets/controls",
     "model_name": "HBoxModel",
     "state": {
      "_dom_classes": [],
      "_model_module": "@jupyter-widgets/controls",
      "_model_module_version": "1.5.0",
      "_model_name": "HBoxModel",
      "_view_count": null,
      "_view_module": "@jupyter-widgets/controls",
      "_view_module_version": "1.5.0",
      "_view_name": "HBoxView",
      "box_style": "",
      "children": [
       "IPY_MODEL_cd6708ffa293462fa4eeae8a7e5daa27",
       "IPY_MODEL_50e05668c87e4b478f43765c95973666"
      ],
      "layout": "IPY_MODEL_7ae4e6bc81324a76949eecc8726d7d0c"
     }
    },
    "b5eb3352eec74ecfb372d818517dcfdd": {
     "model_module": "@jupyter-widgets/base",
     "model_name": "LayoutModel",
     "state": {
      "_model_module": "@jupyter-widgets/base",
      "_model_module_version": "1.2.0",
      "_model_name": "LayoutModel",
      "_view_count": null,
      "_view_module": "@jupyter-widgets/base",
      "_view_module_version": "1.2.0",
      "_view_name": "LayoutView",
      "align_content": null,
      "align_items": null,
      "align_self": null,
      "border": null,
      "bottom": null,
      "display": null,
      "flex": null,
      "flex_flow": null,
      "grid_area": null,
      "grid_auto_columns": null,
      "grid_auto_flow": null,
      "grid_auto_rows": null,
      "grid_column": null,
      "grid_gap": null,
      "grid_row": null,
      "grid_template_areas": null,
      "grid_template_columns": null,
      "grid_template_rows": null,
      "height": null,
      "justify_content": null,
      "justify_items": null,
      "left": null,
      "margin": null,
      "max_height": null,
      "max_width": null,
      "min_height": null,
      "min_width": null,
      "object_fit": null,
      "object_position": null,
      "order": null,
      "overflow": null,
      "overflow_x": null,
      "overflow_y": null,
      "padding": null,
      "right": null,
      "top": null,
      "visibility": null,
      "width": null
     }
    },
    "bb4cc57b0f4f49f68a58f58f9c261847": {
     "model_module": "@jupyter-widgets/base",
     "model_name": "LayoutModel",
     "state": {
      "_model_module": "@jupyter-widgets/base",
      "_model_module_version": "1.2.0",
      "_model_name": "LayoutModel",
      "_view_count": null,
      "_view_module": "@jupyter-widgets/base",
      "_view_module_version": "1.2.0",
      "_view_name": "LayoutView",
      "align_content": null,
      "align_items": null,
      "align_self": null,
      "border": null,
      "bottom": null,
      "display": null,
      "flex": "2",
      "flex_flow": null,
      "grid_area": null,
      "grid_auto_columns": null,
      "grid_auto_flow": null,
      "grid_auto_rows": null,
      "grid_column": null,
      "grid_gap": null,
      "grid_row": null,
      "grid_template_areas": null,
      "grid_template_columns": null,
      "grid_template_rows": null,
      "height": null,
      "justify_content": null,
      "justify_items": null,
      "left": null,
      "margin": null,
      "max_height": null,
      "max_width": null,
      "min_height": null,
      "min_width": null,
      "object_fit": null,
      "object_position": null,
      "order": null,
      "overflow": null,
      "overflow_x": null,
      "overflow_y": null,
      "padding": null,
      "right": null,
      "top": null,
      "visibility": null,
      "width": null
     }
    },
    "bbfa62b85ca744708d3f198307a62914": {
     "model_module": "@jupyter-widgets/controls",
     "model_name": "DescriptionStyleModel",
     "state": {
      "_model_module": "@jupyter-widgets/controls",
      "_model_module_version": "1.5.0",
      "_model_name": "DescriptionStyleModel",
      "_view_count": null,
      "_view_module": "@jupyter-widgets/base",
      "_view_module_version": "1.2.0",
      "_view_name": "StyleView",
      "description_width": ""
     }
    },
    "bc1459791e694e30baf0d19b7cea255d": {
     "model_module": "@jupyter-widgets/base",
     "model_name": "LayoutModel",
     "state": {
      "_model_module": "@jupyter-widgets/base",
      "_model_module_version": "1.2.0",
      "_model_name": "LayoutModel",
      "_view_count": null,
      "_view_module": "@jupyter-widgets/base",
      "_view_module_version": "1.2.0",
      "_view_name": "LayoutView",
      "align_content": null,
      "align_items": null,
      "align_self": null,
      "border": null,
      "bottom": null,
      "display": "inline-flex",
      "flex": null,
      "flex_flow": "row wrap",
      "grid_area": null,
      "grid_auto_columns": null,
      "grid_auto_flow": null,
      "grid_auto_rows": null,
      "grid_column": null,
      "grid_gap": null,
      "grid_row": null,
      "grid_template_areas": null,
      "grid_template_columns": null,
      "grid_template_rows": null,
      "height": null,
      "justify_content": null,
      "justify_items": null,
      "left": null,
      "margin": null,
      "max_height": null,
      "max_width": null,
      "min_height": null,
      "min_width": null,
      "object_fit": null,
      "object_position": null,
      "order": null,
      "overflow": null,
      "overflow_x": null,
      "overflow_y": null,
      "padding": null,
      "right": null,
      "top": null,
      "visibility": null,
      "width": "100%"
     }
    },
    "bd8ec64123c0460b8f930b9dde14570b": {
     "model_module": "@jupyter-widgets/controls",
     "model_name": "ProgressStyleModel",
     "state": {
      "_model_module": "@jupyter-widgets/controls",
      "_model_module_version": "1.5.0",
      "_model_name": "ProgressStyleModel",
      "_view_count": null,
      "_view_module": "@jupyter-widgets/base",
      "_view_module_version": "1.2.0",
      "_view_name": "StyleView",
      "bar_color": null,
      "description_width": "initial"
     }
    },
    "bf0d04da053d402d87edc4c053386fce": {
     "model_module": "@jupyter-widgets/controls",
     "model_name": "HBoxModel",
     "state": {
      "_dom_classes": [],
      "_model_module": "@jupyter-widgets/controls",
      "_model_module_version": "1.5.0",
      "_model_name": "HBoxModel",
      "_view_count": null,
      "_view_module": "@jupyter-widgets/controls",
      "_view_module_version": "1.5.0",
      "_view_name": "HBoxView",
      "box_style": "",
      "children": [
       "IPY_MODEL_5f00a35dffa94e1797810d145f43be29",
       "IPY_MODEL_92013468db8d412d909ce27c4309a815"
      ],
      "layout": "IPY_MODEL_60ffc92aaef84b209dfc7e270bd5c774"
     }
    },
    "bf8141bd72cb4d4c9697d0e2aff77176": {
     "model_module": "@jupyter-widgets/controls",
     "model_name": "FloatProgressModel",
     "state": {
      "_dom_classes": [],
      "_model_module": "@jupyter-widgets/controls",
      "_model_module_version": "1.5.0",
      "_model_name": "FloatProgressModel",
      "_view_count": null,
      "_view_module": "@jupyter-widgets/controls",
      "_view_module_version": "1.5.0",
      "_view_name": "ProgressView",
      "bar_style": "info",
      "description": "Validating: 100%",
      "description_tooltip": null,
      "layout": "IPY_MODEL_bb4cc57b0f4f49f68a58f58f9c261847",
      "max": 1,
      "min": 0,
      "orientation": "horizontal",
      "style": "IPY_MODEL_8ea90ba302454492b0f6eb01dcb5a5be",
      "value": 1
     }
    },
    "c54e49077ed94395ba3bb8c5170bc16f": {
     "model_module": "@jupyter-widgets/base",
     "model_name": "LayoutModel",
     "state": {
      "_model_module": "@jupyter-widgets/base",
      "_model_module_version": "1.2.0",
      "_model_name": "LayoutModel",
      "_view_count": null,
      "_view_module": "@jupyter-widgets/base",
      "_view_module_version": "1.2.0",
      "_view_name": "LayoutView",
      "align_content": null,
      "align_items": null,
      "align_self": null,
      "border": null,
      "bottom": null,
      "display": "inline-flex",
      "flex": null,
      "flex_flow": "row wrap",
      "grid_area": null,
      "grid_auto_columns": null,
      "grid_auto_flow": null,
      "grid_auto_rows": null,
      "grid_column": null,
      "grid_gap": null,
      "grid_row": null,
      "grid_template_areas": null,
      "grid_template_columns": null,
      "grid_template_rows": null,
      "height": null,
      "justify_content": null,
      "justify_items": null,
      "left": null,
      "margin": null,
      "max_height": null,
      "max_width": null,
      "min_height": null,
      "min_width": null,
      "object_fit": null,
      "object_position": null,
      "order": null,
      "overflow": null,
      "overflow_x": null,
      "overflow_y": null,
      "padding": null,
      "right": null,
      "top": null,
      "visibility": null,
      "width": "100%"
     }
    },
    "cbad993fd52b4c9fbea2d7f4b41b566d": {
     "model_module": "@jupyter-widgets/base",
     "model_name": "LayoutModel",
     "state": {
      "_model_module": "@jupyter-widgets/base",
      "_model_module_version": "1.2.0",
      "_model_name": "LayoutModel",
      "_view_count": null,
      "_view_module": "@jupyter-widgets/base",
      "_view_module_version": "1.2.0",
      "_view_name": "LayoutView",
      "align_content": null,
      "align_items": null,
      "align_self": null,
      "border": null,
      "bottom": null,
      "display": null,
      "flex": null,
      "flex_flow": null,
      "grid_area": null,
      "grid_auto_columns": null,
      "grid_auto_flow": null,
      "grid_auto_rows": null,
      "grid_column": null,
      "grid_gap": null,
      "grid_row": null,
      "grid_template_areas": null,
      "grid_template_columns": null,
      "grid_template_rows": null,
      "height": null,
      "justify_content": null,
      "justify_items": null,
      "left": null,
      "margin": null,
      "max_height": null,
      "max_width": null,
      "min_height": null,
      "min_width": null,
      "object_fit": null,
      "object_position": null,
      "order": null,
      "overflow": null,
      "overflow_x": null,
      "overflow_y": null,
      "padding": null,
      "right": null,
      "top": null,
      "visibility": null,
      "width": null
     }
    },
    "cc247e8c35ec46748ff301d505b38d2d": {
     "model_module": "@jupyter-widgets/controls",
     "model_name": "FloatProgressModel",
     "state": {
      "_dom_classes": [],
      "_model_module": "@jupyter-widgets/controls",
      "_model_module_version": "1.5.0",
      "_model_name": "FloatProgressModel",
      "_view_count": null,
      "_view_module": "@jupyter-widgets/controls",
      "_view_module_version": "1.5.0",
      "_view_name": "ProgressView",
      "bar_style": "info",
      "description": "Validating: 100%",
      "description_tooltip": null,
      "layout": "IPY_MODEL_05edc8b2014f45c096cb82cc40fe663a",
      "max": 1,
      "min": 0,
      "orientation": "horizontal",
      "style": "IPY_MODEL_4d1fd3386ce14c8586e53eb021ab59f9",
      "value": 1
     }
    },
    "cd6708ffa293462fa4eeae8a7e5daa27": {
     "model_module": "@jupyter-widgets/controls",
     "model_name": "FloatProgressModel",
     "state": {
      "_dom_classes": [],
      "_model_module": "@jupyter-widgets/controls",
      "_model_module_version": "1.5.0",
      "_model_name": "FloatProgressModel",
      "_view_count": null,
      "_view_module": "@jupyter-widgets/controls",
      "_view_module_version": "1.5.0",
      "_view_name": "ProgressView",
      "bar_style": "info",
      "description": "Validating: 100%",
      "description_tooltip": null,
      "layout": "IPY_MODEL_fd264fd1d8e8435ba8babdfdfc8186f5",
      "max": 1,
      "min": 0,
      "orientation": "horizontal",
      "style": "IPY_MODEL_ebb4fcc4014a4853afef24f7b6d0376f",
      "value": 1
     }
    },
    "d2bf166d101f4b59bc84d9ba4eda72f0": {
     "model_module": "@jupyter-widgets/controls",
     "model_name": "HTMLModel",
     "state": {
      "_dom_classes": [],
      "_model_module": "@jupyter-widgets/controls",
      "_model_module_version": "1.5.0",
      "_model_name": "HTMLModel",
      "_view_count": null,
      "_view_module": "@jupyter-widgets/controls",
      "_view_module_version": "1.5.0",
      "_view_name": "HTMLView",
      "description": "",
      "description_tooltip": null,
      "layout": "IPY_MODEL_82c2b9f968fc477aae69eed30e214fb4",
      "placeholder": "​",
      "style": "IPY_MODEL_82cf9bcb582a4321830eff6d074e2e2f",
      "value": " 4/4 [00:38&lt;00:00,  7.70s/it]"
     }
    },
    "d2f84adbf66b45158877c52454e6209d": {
     "model_module": "@jupyter-widgets/base",
     "model_name": "LayoutModel",
     "state": {
      "_model_module": "@jupyter-widgets/base",
      "_model_module_version": "1.2.0",
      "_model_name": "LayoutModel",
      "_view_count": null,
      "_view_module": "@jupyter-widgets/base",
      "_view_module_version": "1.2.0",
      "_view_name": "LayoutView",
      "align_content": null,
      "align_items": null,
      "align_self": null,
      "border": null,
      "bottom": null,
      "display": null,
      "flex": null,
      "flex_flow": null,
      "grid_area": null,
      "grid_auto_columns": null,
      "grid_auto_flow": null,
      "grid_auto_rows": null,
      "grid_column": null,
      "grid_gap": null,
      "grid_row": null,
      "grid_template_areas": null,
      "grid_template_columns": null,
      "grid_template_rows": null,
      "height": null,
      "justify_content": null,
      "justify_items": null,
      "left": null,
      "margin": null,
      "max_height": null,
      "max_width": null,
      "min_height": null,
      "min_width": null,
      "object_fit": null,
      "object_position": null,
      "order": null,
      "overflow": null,
      "overflow_x": null,
      "overflow_y": null,
      "padding": null,
      "right": null,
      "top": null,
      "visibility": null,
      "width": null
     }
    },
    "d7de2983738149b0b64d268f42b97f4e": {
     "model_module": "@jupyter-widgets/controls",
     "model_name": "FloatProgressModel",
     "state": {
      "_dom_classes": [],
      "_model_module": "@jupyter-widgets/controls",
      "_model_module_version": "1.5.0",
      "_model_name": "FloatProgressModel",
      "_view_count": null,
      "_view_module": "@jupyter-widgets/controls",
      "_view_module_version": "1.5.0",
      "_view_name": "ProgressView",
      "bar_style": "info",
      "description": "Validating: 100%",
      "description_tooltip": null,
      "layout": "IPY_MODEL_25c84a6bdd2947f8902836dbd1fdbb54",
      "max": 1,
      "min": 0,
      "orientation": "horizontal",
      "style": "IPY_MODEL_bd8ec64123c0460b8f930b9dde14570b",
      "value": 1
     }
    },
    "d89dad7378a94e71b0dfd38c5161f36a": {
     "model_module": "@jupyter-widgets/base",
     "model_name": "LayoutModel",
     "state": {
      "_model_module": "@jupyter-widgets/base",
      "_model_module_version": "1.2.0",
      "_model_name": "LayoutModel",
      "_view_count": null,
      "_view_module": "@jupyter-widgets/base",
      "_view_module_version": "1.2.0",
      "_view_name": "LayoutView",
      "align_content": null,
      "align_items": null,
      "align_self": null,
      "border": null,
      "bottom": null,
      "display": null,
      "flex": "2",
      "flex_flow": null,
      "grid_area": null,
      "grid_auto_columns": null,
      "grid_auto_flow": null,
      "grid_auto_rows": null,
      "grid_column": null,
      "grid_gap": null,
      "grid_row": null,
      "grid_template_areas": null,
      "grid_template_columns": null,
      "grid_template_rows": null,
      "height": null,
      "justify_content": null,
      "justify_items": null,
      "left": null,
      "margin": null,
      "max_height": null,
      "max_width": null,
      "min_height": null,
      "min_width": null,
      "object_fit": null,
      "object_position": null,
      "order": null,
      "overflow": null,
      "overflow_x": null,
      "overflow_y": null,
      "padding": null,
      "right": null,
      "top": null,
      "visibility": null,
      "width": null
     }
    },
    "e51a0c812afc415e93e7a2af877b6075": {
     "model_module": "@jupyter-widgets/base",
     "model_name": "LayoutModel",
     "state": {
      "_model_module": "@jupyter-widgets/base",
      "_model_module_version": "1.2.0",
      "_model_name": "LayoutModel",
      "_view_count": null,
      "_view_module": "@jupyter-widgets/base",
      "_view_module_version": "1.2.0",
      "_view_name": "LayoutView",
      "align_content": null,
      "align_items": null,
      "align_self": null,
      "border": null,
      "bottom": null,
      "display": null,
      "flex": null,
      "flex_flow": null,
      "grid_area": null,
      "grid_auto_columns": null,
      "grid_auto_flow": null,
      "grid_auto_rows": null,
      "grid_column": null,
      "grid_gap": null,
      "grid_row": null,
      "grid_template_areas": null,
      "grid_template_columns": null,
      "grid_template_rows": null,
      "height": null,
      "justify_content": null,
      "justify_items": null,
      "left": null,
      "margin": null,
      "max_height": null,
      "max_width": null,
      "min_height": null,
      "min_width": null,
      "object_fit": null,
      "object_position": null,
      "order": null,
      "overflow": null,
      "overflow_x": null,
      "overflow_y": null,
      "padding": null,
      "right": null,
      "top": null,
      "visibility": null,
      "width": null
     }
    },
    "e6e7d8d179254817aafc1652c8df604e": {
     "model_module": "@jupyter-widgets/controls",
     "model_name": "ProgressStyleModel",
     "state": {
      "_model_module": "@jupyter-widgets/controls",
      "_model_module_version": "1.5.0",
      "_model_name": "ProgressStyleModel",
      "_view_count": null,
      "_view_module": "@jupyter-widgets/base",
      "_view_module_version": "1.2.0",
      "_view_name": "StyleView",
      "bar_color": null,
      "description_width": "initial"
     }
    },
    "ebb4fcc4014a4853afef24f7b6d0376f": {
     "model_module": "@jupyter-widgets/controls",
     "model_name": "ProgressStyleModel",
     "state": {
      "_model_module": "@jupyter-widgets/controls",
      "_model_module_version": "1.5.0",
      "_model_name": "ProgressStyleModel",
      "_view_count": null,
      "_view_module": "@jupyter-widgets/base",
      "_view_module_version": "1.2.0",
      "_view_name": "StyleView",
      "bar_color": null,
      "description_width": "initial"
     }
    },
    "ec79a794565548b5bb2460544bfad04d": {
     "model_module": "@jupyter-widgets/base",
     "model_name": "LayoutModel",
     "state": {
      "_model_module": "@jupyter-widgets/base",
      "_model_module_version": "1.2.0",
      "_model_name": "LayoutModel",
      "_view_count": null,
      "_view_module": "@jupyter-widgets/base",
      "_view_module_version": "1.2.0",
      "_view_name": "LayoutView",
      "align_content": null,
      "align_items": null,
      "align_self": null,
      "border": null,
      "bottom": null,
      "display": null,
      "flex": null,
      "flex_flow": null,
      "grid_area": null,
      "grid_auto_columns": null,
      "grid_auto_flow": null,
      "grid_auto_rows": null,
      "grid_column": null,
      "grid_gap": null,
      "grid_row": null,
      "grid_template_areas": null,
      "grid_template_columns": null,
      "grid_template_rows": null,
      "height": null,
      "justify_content": null,
      "justify_items": null,
      "left": null,
      "margin": null,
      "max_height": null,
      "max_width": null,
      "min_height": null,
      "min_width": null,
      "object_fit": null,
      "object_position": null,
      "order": null,
      "overflow": null,
      "overflow_x": null,
      "overflow_y": null,
      "padding": null,
      "right": null,
      "top": null,
      "visibility": null,
      "width": null
     }
    },
    "ef18217327cc486d92aa04564a540dd6": {
     "model_module": "@jupyter-widgets/controls",
     "model_name": "DescriptionStyleModel",
     "state": {
      "_model_module": "@jupyter-widgets/controls",
      "_model_module_version": "1.5.0",
      "_model_name": "DescriptionStyleModel",
      "_view_count": null,
      "_view_module": "@jupyter-widgets/base",
      "_view_module_version": "1.2.0",
      "_view_name": "StyleView",
      "description_width": ""
     }
    },
    "f129219bc30e4f0db4dbc16c28e09f84": {
     "model_module": "@jupyter-widgets/base",
     "model_name": "LayoutModel",
     "state": {
      "_model_module": "@jupyter-widgets/base",
      "_model_module_version": "1.2.0",
      "_model_name": "LayoutModel",
      "_view_count": null,
      "_view_module": "@jupyter-widgets/base",
      "_view_module_version": "1.2.0",
      "_view_name": "LayoutView",
      "align_content": null,
      "align_items": null,
      "align_self": null,
      "border": null,
      "bottom": null,
      "display": "inline-flex",
      "flex": null,
      "flex_flow": "row wrap",
      "grid_area": null,
      "grid_auto_columns": null,
      "grid_auto_flow": null,
      "grid_auto_rows": null,
      "grid_column": null,
      "grid_gap": null,
      "grid_row": null,
      "grid_template_areas": null,
      "grid_template_columns": null,
      "grid_template_rows": null,
      "height": null,
      "justify_content": null,
      "justify_items": null,
      "left": null,
      "margin": null,
      "max_height": null,
      "max_width": null,
      "min_height": null,
      "min_width": null,
      "object_fit": null,
      "object_position": null,
      "order": null,
      "overflow": null,
      "overflow_x": null,
      "overflow_y": null,
      "padding": null,
      "right": null,
      "top": null,
      "visibility": null,
      "width": "100%"
     }
    },
    "f5248c56f9bd4a689c6d925f967fc6fc": {
     "model_module": "@jupyter-widgets/base",
     "model_name": "LayoutModel",
     "state": {
      "_model_module": "@jupyter-widgets/base",
      "_model_module_version": "1.2.0",
      "_model_name": "LayoutModel",
      "_view_count": null,
      "_view_module": "@jupyter-widgets/base",
      "_view_module_version": "1.2.0",
      "_view_name": "LayoutView",
      "align_content": null,
      "align_items": null,
      "align_self": null,
      "border": null,
      "bottom": null,
      "display": null,
      "flex": null,
      "flex_flow": null,
      "grid_area": null,
      "grid_auto_columns": null,
      "grid_auto_flow": null,
      "grid_auto_rows": null,
      "grid_column": null,
      "grid_gap": null,
      "grid_row": null,
      "grid_template_areas": null,
      "grid_template_columns": null,
      "grid_template_rows": null,
      "height": null,
      "justify_content": null,
      "justify_items": null,
      "left": null,
      "margin": null,
      "max_height": null,
      "max_width": null,
      "min_height": null,
      "min_width": null,
      "object_fit": null,
      "object_position": null,
      "order": null,
      "overflow": null,
      "overflow_x": null,
      "overflow_y": null,
      "padding": null,
      "right": null,
      "top": null,
      "visibility": null,
      "width": null
     }
    },
    "f6e96e1529a241489efcd0cca7eff651": {
     "model_module": "@jupyter-widgets/base",
     "model_name": "LayoutModel",
     "state": {
      "_model_module": "@jupyter-widgets/base",
      "_model_module_version": "1.2.0",
      "_model_name": "LayoutModel",
      "_view_count": null,
      "_view_module": "@jupyter-widgets/base",
      "_view_module_version": "1.2.0",
      "_view_name": "LayoutView",
      "align_content": null,
      "align_items": null,
      "align_self": null,
      "border": null,
      "bottom": null,
      "display": null,
      "flex": null,
      "flex_flow": null,
      "grid_area": null,
      "grid_auto_columns": null,
      "grid_auto_flow": null,
      "grid_auto_rows": null,
      "grid_column": null,
      "grid_gap": null,
      "grid_row": null,
      "grid_template_areas": null,
      "grid_template_columns": null,
      "grid_template_rows": null,
      "height": null,
      "justify_content": null,
      "justify_items": null,
      "left": null,
      "margin": null,
      "max_height": null,
      "max_width": null,
      "min_height": null,
      "min_width": null,
      "object_fit": null,
      "object_position": null,
      "order": null,
      "overflow": null,
      "overflow_x": null,
      "overflow_y": null,
      "padding": null,
      "right": null,
      "top": null,
      "visibility": null,
      "width": null
     }
    },
    "f6ec63d46f514f948455213e0b6a941f": {
     "model_module": "@jupyter-widgets/controls",
     "model_name": "HBoxModel",
     "state": {
      "_dom_classes": [],
      "_model_module": "@jupyter-widgets/controls",
      "_model_module_version": "1.5.0",
      "_model_name": "HBoxModel",
      "_view_count": null,
      "_view_module": "@jupyter-widgets/controls",
      "_view_module_version": "1.5.0",
      "_view_name": "HBoxView",
      "box_style": "",
      "children": [
       "IPY_MODEL_0c36dbd6070448bbab494aa661fd48ee",
       "IPY_MODEL_7abcf6c205ff49dfb743d563d681ce7d"
      ],
      "layout": "IPY_MODEL_c54e49077ed94395ba3bb8c5170bc16f"
     }
    },
    "f77e89543145421f816c27a71e60855d": {
     "model_module": "@jupyter-widgets/controls",
     "model_name": "HBoxModel",
     "state": {
      "_dom_classes": [],
      "_model_module": "@jupyter-widgets/controls",
      "_model_module_version": "1.5.0",
      "_model_name": "HBoxModel",
      "_view_count": null,
      "_view_module": "@jupyter-widgets/controls",
      "_view_module_version": "1.5.0",
      "_view_name": "HBoxView",
      "box_style": "",
      "children": [
       "IPY_MODEL_00f57e5480a3446e99c503f2dc002a5e",
       "IPY_MODEL_1f6cf22f4028404992ddc2d5a5801b3c"
      ],
      "layout": "IPY_MODEL_9f4d95dd81b0404a8263e26a1938f362"
     }
    },
    "fd264fd1d8e8435ba8babdfdfc8186f5": {
     "model_module": "@jupyter-widgets/base",
     "model_name": "LayoutModel",
     "state": {
      "_model_module": "@jupyter-widgets/base",
      "_model_module_version": "1.2.0",
      "_model_name": "LayoutModel",
      "_view_count": null,
      "_view_module": "@jupyter-widgets/base",
      "_view_module_version": "1.2.0",
      "_view_name": "LayoutView",
      "align_content": null,
      "align_items": null,
      "align_self": null,
      "border": null,
      "bottom": null,
      "display": null,
      "flex": "2",
      "flex_flow": null,
      "grid_area": null,
      "grid_auto_columns": null,
      "grid_auto_flow": null,
      "grid_auto_rows": null,
      "grid_column": null,
      "grid_gap": null,
      "grid_row": null,
      "grid_template_areas": null,
      "grid_template_columns": null,
      "grid_template_rows": null,
      "height": null,
      "justify_content": null,
      "justify_items": null,
      "left": null,
      "margin": null,
      "max_height": null,
      "max_width": null,
      "min_height": null,
      "min_width": null,
      "object_fit": null,
      "object_position": null,
      "order": null,
      "overflow": null,
      "overflow_x": null,
      "overflow_y": null,
      "padding": null,
      "right": null,
      "top": null,
      "visibility": null,
      "width": null
     }
    }
   }
  }
 },
 "nbformat": 4,
 "nbformat_minor": 1
}
