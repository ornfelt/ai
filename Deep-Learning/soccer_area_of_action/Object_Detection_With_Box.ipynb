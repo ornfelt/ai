{
 "cells": [
  {
   "cell_type": "markdown",
   "metadata": {},
   "source": [
    "# Object Detection Demo\n",
    "Welcome to the object detection inference walkthrough!  This notebook will walk you step by step through the process of using a pre-trained model to detect objects in an image. Make sure to follow the [installation instructions](https://github.com/tensorflow/models/blob/master/research/object_detection/g3doc/installation.md) before you start."
   ]
  },
  {
   "cell_type": "markdown",
   "metadata": {},
   "source": [
    "# Imports"
   ]
  },
  {
   "cell_type": "code",
   "execution_count": 1,
   "metadata": {
    "scrolled": true
   },
   "outputs": [],
   "source": [
    "from __future__ import division\n",
    "import numpy as np\n",
    "import os\n",
    "import six.moves.urllib as urllib\n",
    "import sys\n",
    "import tarfile\n",
    "import tensorflow as tf\n",
    "import zipfile\n",
    "import math\n",
    "from collections import defaultdict\n",
    "from io import StringIO\n",
    "from matplotlib import pyplot as plt\n",
    "from PIL import Image\n",
    "\n",
    "# Import everything needed to edit/save/watch video clips\n",
    "# from moviepy.editor import VideoFileClip\n",
    "# from IPython.display import HTML\n",
    "\n",
    "# This is needed since the notebook is stored in the object_detection folder.\n",
    "sys.path.append(\"..\")\n",
    "from object_detection.utils import ops as utils_ops\n",
    "import cv2"
   ]
  },
  {
   "cell_type": "markdown",
   "metadata": {},
   "source": [
    "## Env setup"
   ]
  },
  {
   "cell_type": "markdown",
   "metadata": {},
   "source": [
    "## Object detection imports\n",
    "Here are the imports from the object detection module."
   ]
  },
  {
   "cell_type": "code",
   "execution_count": 2,
   "metadata": {},
   "outputs": [],
   "source": [
    "from utils import label_map_util\n",
    "\n",
    "from utils import visualization_utils as vis_util"
   ]
  },
  {
   "cell_type": "markdown",
   "metadata": {},
   "source": [
    "# Model preparation "
   ]
  },
  {
   "cell_type": "markdown",
   "metadata": {},
   "source": [
    "## Variables\n",
    "\n",
    "Any model exported using the `export_inference_graph.py` tool can be loaded here simply by changing `PATH_TO_CKPT` to point to a new .pb file.  \n",
    "\n",
    "By default we use an \"SSD with Mobilenet\" model here. See the [detection model zoo](https://github.com/tensorflow/models/blob/master/research/object_detection/g3doc/detection_model_zoo.md) for a list of other models that can be run out-of-the-box with varying speeds and accuracies."
   ]
  },
  {
   "cell_type": "code",
   "execution_count": 3,
   "metadata": {},
   "outputs": [],
   "source": [
    "# Path to frozen detection graph. This is the actual model that is used for the object detection.\n",
    "PATH_TO_CKPT = '/home/priya/Documents/AI_Apps/soccer_project/exported_graphs_inception' + '/frozen_inference_graph.pb'\n",
    "\n",
    "# List of the strings that is used to add correct label for each box.\n",
    "PATH_TO_LABELS = '/home/priya/Documents/AI_Apps/soccer_project/data/' + 'soccer_label_map.pbtxt'\n",
    "\n",
    "NUM_CLASSES = 2"
   ]
  },
  {
   "cell_type": "markdown",
   "metadata": {},
   "source": [
    "## Load a (frozen) Tensorflow model into memory."
   ]
  },
  {
   "cell_type": "code",
   "execution_count": 4,
   "metadata": {},
   "outputs": [],
   "source": [
    "detection_graph = tf.Graph()\n",
    "with detection_graph.as_default():\n",
    "  od_graph_def = tf.GraphDef()\n",
    "  with tf.gfile.GFile(PATH_TO_CKPT, 'rb') as fid:\n",
    "    serialized_graph = fid.read()\n",
    "    od_graph_def.ParseFromString(serialized_graph)\n",
    "    tf.import_graph_def(od_graph_def, name='')"
   ]
  },
  {
   "cell_type": "markdown",
   "metadata": {},
   "source": [
    "## Loading label map\n",
    "Label maps map indices to category names, so that when our convolution network predicts `5`, we know that this corresponds to `airplane`.  Here we use internal utility functions, but anything that returns a dictionary mapping integers to appropriate string labels would be fine"
   ]
  },
  {
   "cell_type": "code",
   "execution_count": 5,
   "metadata": {},
   "outputs": [],
   "source": [
    "label_map = label_map_util.load_labelmap(PATH_TO_LABELS)\n",
    "categories = label_map_util.convert_label_map_to_categories(label_map, max_num_classes=NUM_CLASSES, use_display_name=True)\n",
    "category_index = label_map_util.create_category_index(categories)"
   ]
  },
  {
   "cell_type": "code",
   "execution_count": 6,
   "metadata": {},
   "outputs": [
    {
     "name": "stdout",
     "output_type": "stream",
     "text": [
      "{1: {'id': 1, 'name': 'player'}, 2: {'id': 2, 'name': 'ball'}}\n"
     ]
    }
   ],
   "source": [
    "print(category_index)"
   ]
  },
  {
   "cell_type": "markdown",
   "metadata": {},
   "source": [
    "## Helper code"
   ]
  },
  {
   "cell_type": "code",
   "execution_count": 7,
   "metadata": {},
   "outputs": [],
   "source": [
    "def load_image_into_numpy_array(image):\n",
    "  (im_width, im_height) = image.size\n",
    "  return np.array(image.getdata()).reshape((im_height, im_width, 3)).astype(np.uint8)"
   ]
  },
  {
   "cell_type": "markdown",
   "metadata": {},
   "source": [
    "# Detection"
   ]
  },
  {
   "cell_type": "markdown",
   "metadata": {},
   "source": [
    "### Find the rectangle with the most action"
   ]
  },
  {
   "cell_type": "code",
   "execution_count": 8,
   "metadata": {},
   "outputs": [],
   "source": [
    "def best_rectangle(good_detections, image_width, image_height, scale = 0.5):\n",
    "    desired_width = int(image_width * scale)\n",
    "    desired_height = int(image_height * scale)\n",
    "    \n",
    "    max_detections = 0\n",
    "    best_x = 0\n",
    "    best_y = 0\n",
    "    for i in range(0, int(image_width-desired_width)):\n",
    "        for j in range(0, int(image_height - desired_height)):\n",
    "            num_detections = 0\n",
    "            rect_x = (i, i + desired_width)\n",
    "            rect_y = (j , j+ desired_height)\n",
    "            for detection in good_detections:\n",
    "                if detection[0] >= rect_x[0] and detection[0] <= rect_x[1]:\n",
    "                    if detection[1] >= rect_y[0] and detection[1] <= rect_y[1]:\n",
    "                        # In this box\n",
    "#                         print(\"In the box\")\n",
    "                        num_detections += 1\n",
    "            if num_detections > max_detections:\n",
    "                max_detections = num_detections\n",
    "                best_x = i\n",
    "                best_y = j\n",
    "    \n",
    "    return max_detections, best_x, best_y         \n",
    "            "
   ]
  },
  {
   "cell_type": "markdown",
   "metadata": {},
   "source": [
    "### Optional - To rotate the rectangle"
   ]
  },
  {
   "cell_type": "code",
   "execution_count": 9,
   "metadata": {},
   "outputs": [],
   "source": [
    "import math\n",
    "\n",
    "def rotatePolygon(polygon,theta):\n",
    "    \"\"\"Rotates the given polygon which consists of corners represented as (x,y),\n",
    "    around the ORIGIN, clock-wise, theta degrees\"\"\"\n",
    "    theta = math.radians(theta)\n",
    "    rotatedPolygon = []\n",
    "    for corner in polygon :\n",
    "        rotatedPolygon.append(( corner[0]*math.cos(theta)-corner[1]*math.sin(theta) , corner[0]*math.sin(theta)+corner[1]*math.cos(theta)) )\n",
    "    return rotatedPolygon\n",
    "\n",
    "\n",
    "\n",
    "from math import sin, cos, radians\n",
    "\n",
    "def rotate_point(point, angle, center_point=(0, 0)):\n",
    "    \"\"\"Rotates a point around center_point(origin by default)\n",
    "    Angle is in degrees.\n",
    "    Rotation is counter-clockwise\n",
    "    \"\"\"\n",
    "    angle_rad = radians(angle % 360)\n",
    "    # Shift the point so that center_point becomes the origin\n",
    "    new_point = (point[0] - center_point[0], point[1] - center_point[1])\n",
    "    new_point = (new_point[0] * cos(angle_rad) - new_point[1] * sin(angle_rad),\n",
    "                 new_point[0] * sin(angle_rad) + new_point[1] * cos(angle_rad))\n",
    "    # Reverse the shifting we have done\n",
    "    new_point = (new_point[0] + center_point[0], new_point[1] + center_point[1])\n",
    "    return new_point"
   ]
  },
  {
   "cell_type": "code",
   "execution_count": 10,
   "metadata": {},
   "outputs": [],
   "source": [
    "def rotate_rectangle(coord1, coord2, good_detections, image_np):\n",
    "    \n",
    "    angleRange = [-30, -15, 0, 15, 30]\n",
    "    \n",
    "    max_detections = 0\n",
    "    best_x = 0\n",
    "    best_y = 0\n",
    "    best_angle = 0\n",
    "    \n",
    "    tot_detections = []\n",
    "    for angle in angleRange:\n",
    "        print(\"On angle: \", angle)\n",
    "        new_point2 = rotate_point(coord2, angle, coord1)\n",
    "        \n",
    "        newCoord1 = coord1\n",
    "        newCoord2 = (int(new_point2[0]), int(new_point2[1]))\n",
    "\n",
    "        print(\"Coordinates are: \", newCoord1, coord2, newCoord2)\n",
    "        \n",
    "        #calculate num detections \n",
    "        num_detections = 0\n",
    "        for detection in good_detections:\n",
    "            if detection[0] >= newCoord1[0] and detection[0] <= newCoord2[0]:\n",
    "                if detection[1] >= newCoord1[1] and detection[1] <= newCoord2[1]:\n",
    "                    # In this box\n",
    "#                         print(\"In the box\")\n",
    "                    num_detections += 1\n",
    "        \n",
    "        # for sanity checking \n",
    "        tot_detections.append(num_detections)\n",
    "        \n",
    "        if num_detections > max_detections:\n",
    "            max_detections = num_detections\n",
    "            best_coord1 = newCoord1\n",
    "            best_coord2 = newCoord2\n",
    "            best_angle = angle\n",
    "               \n",
    "#         cv2.rectangle(image_np, newCoord1, newCoord2 ,(0,0,255),3)\n",
    "            \n",
    "    return max_detections, best_coord1, best_coord2, best_angle, tot_detections\n",
    "    "
   ]
  },
  {
   "cell_type": "markdown",
   "metadata": {},
   "source": [
    "### Run Everything!"
   ]
  },
  {
   "cell_type": "code",
   "execution_count": 11,
   "metadata": {},
   "outputs": [
    {
     "name": "stdout",
     "output_type": "stream",
     "text": [
      "Ball Detected\n",
      "Ball Detected\n",
      "Ball Detected\n",
      "Ball Detected\n",
      "Ball Detected\n",
      "Ball Detected\n",
      "Ball Detected\n",
      "Ball Detected\n",
      "Ball Detected\n",
      "Ball Detected\n",
      "Ball Detected\n",
      "Ball Detected\n",
      "Ball Detected\n",
      "Ball Detected\n",
      "Ball Detected\n",
      "Ball Detected\n",
      "Ball Detected\n",
      "Ball Detected\n",
      "Ball Detected\n",
      "Ball Detected\n",
      "Ball Detected\n",
      "Ball Detected\n",
      "Ball Detected\n",
      "Ball Detected\n",
      "Ball Detected\n",
      "Ball Detected\n",
      "Ball Detected\n",
      "Ball Detected\n",
      "Ball Detected\n",
      "Ball Detected\n",
      "Ball Detected\n",
      "Ball Detected\n",
      "Ball Detected\n",
      "Ball Detected\n",
      "Ball Detected\n",
      "Ball Detected\n",
      "Ball Detected\n",
      "Ball Detected\n",
      "Ball Detected\n",
      "Ball Detected\n",
      "Ball Detected\n",
      "Ball Detected\n",
      "Ball Detected\n",
      "Ball Detected\n",
      "Ball Detected\n",
      "Ball Detected\n",
      "Ball Detected\n",
      "Ball Detected\n",
      "Ball Detected\n",
      "Ball Detected\n",
      "Ball Detected\n",
      "Ball Detected\n",
      "Ball Detected\n",
      "Ball Detected\n",
      "Ball Detected\n",
      "Ball Detected\n",
      "Ball Detected\n",
      "Ball Detected\n",
      "Ball Detected\n",
      "Ball Detected\n",
      "Ball Detected\n",
      "Ball Detected\n",
      "Ball Detected\n",
      "Ball Detected\n",
      "Ball Detected\n",
      "Ball Detected\n",
      "Ball Detected\n",
      "Ball Detected\n",
      "Ball Detected\n",
      "Ball Detected\n",
      "Ball Detected\n",
      "Ball Detected\n",
      "Ball Detected\n",
      "Ball Detected\n",
      "Ball Detected\n",
      "Ball Detected\n",
      "Ball Detected\n",
      "Ball Detected\n",
      "Ball Detected\n",
      "Ball Detected\n",
      "Ball Detected\n",
      "Ball Detected\n",
      "Ball Detected\n",
      "Ball Detected\n",
      "Ball Detected\n",
      "Ball Detected\n",
      "Ball Detected\n",
      "Ball Detected\n",
      "Ball Detected\n",
      "Ball Detected\n",
      "Ball Detected\n",
      "Ball Detected\n",
      "Ball Detected\n",
      "Ball Detected\n",
      "Ball Detected\n",
      "Ball Detected\n",
      "Ball Detected\n",
      "Ball Detected\n",
      "Ball Detected\n",
      "Ball Detected\n",
      "Ball Detected\n",
      "Ball Detected\n",
      "Ball Detected\n",
      "Ball Detected\n",
      "Ball Detected\n",
      "Ball Detected\n",
      "Ball Detected\n",
      "Ball Detected\n",
      "Ball Detected\n",
      "Ball Detected\n",
      "Ball Detected\n",
      "Ball Detected\n",
      "Ball Detected\n",
      "Ball Detected\n",
      "Ball Detected\n",
      "Ball Detected\n",
      "Ball Detected\n",
      "Ball Detected\n",
      "Ball Detected\n",
      "Ball Detected\n"
     ]
    },
    {
     "ename": "KeyboardInterrupt",
     "evalue": "",
     "output_type": "error",
     "traceback": [
      "\u001b[0;31m---------------------------------------------------------------------------\u001b[0m",
      "\u001b[0;31mKeyboardInterrupt\u001b[0m                         Traceback (most recent call last)",
      "\u001b[0;32m<ipython-input-11-0c21095f00fb>\u001b[0m in \u001b[0;36m<module>\u001b[0;34m()\u001b[0m\n\u001b[1;32m     85\u001b[0m \u001b[0;34m\u001b[0m\u001b[0m\n\u001b[1;32m     86\u001b[0m                 \u001b[0mdesired_scale\u001b[0m \u001b[0;34m=\u001b[0m \u001b[0;36m0.40\u001b[0m\u001b[0;34m\u001b[0m\u001b[0m\n\u001b[0;32m---> 87\u001b[0;31m                 \u001b[0mmax_detections\u001b[0m\u001b[0;34m,\u001b[0m \u001b[0mbest_x\u001b[0m\u001b[0;34m,\u001b[0m \u001b[0mbest_y\u001b[0m \u001b[0;34m=\u001b[0m \u001b[0mbest_rectangle\u001b[0m\u001b[0;34m(\u001b[0m\u001b[0mgood_detections\u001b[0m\u001b[0;34m,\u001b[0m \u001b[0mnew_width\u001b[0m\u001b[0;34m,\u001b[0m \u001b[0mnew_height\u001b[0m\u001b[0;34m,\u001b[0m \u001b[0mdesired_scale\u001b[0m\u001b[0;34m)\u001b[0m\u001b[0;34m\u001b[0m\u001b[0m\n\u001b[0m\u001b[1;32m     88\u001b[0m \u001b[0;31m#                 print(max_detections, best_x, best_y)\u001b[0m\u001b[0;34m\u001b[0m\u001b[0;34m\u001b[0m\u001b[0m\n\u001b[1;32m     89\u001b[0m                 \u001b[0mcoord1\u001b[0m \u001b[0;34m=\u001b[0m \u001b[0;34m(\u001b[0m\u001b[0mint\u001b[0m\u001b[0;34m(\u001b[0m\u001b[0mbest_x\u001b[0m\u001b[0;34m)\u001b[0m\u001b[0;34m,\u001b[0m \u001b[0mint\u001b[0m\u001b[0;34m(\u001b[0m\u001b[0mbest_y\u001b[0m\u001b[0;34m)\u001b[0m\u001b[0;34m)\u001b[0m\u001b[0;34m\u001b[0m\u001b[0m\n",
      "\u001b[0;32m<ipython-input-8-141907888110>\u001b[0m in \u001b[0;36mbest_rectangle\u001b[0;34m(good_detections, image_width, image_height, scale)\u001b[0m\n\u001b[1;32m     10\u001b[0m             \u001b[0mnum_detections\u001b[0m \u001b[0;34m=\u001b[0m \u001b[0;36m0\u001b[0m\u001b[0;34m\u001b[0m\u001b[0m\n\u001b[1;32m     11\u001b[0m             \u001b[0mrect_x\u001b[0m \u001b[0;34m=\u001b[0m \u001b[0;34m(\u001b[0m\u001b[0mi\u001b[0m\u001b[0;34m,\u001b[0m \u001b[0mi\u001b[0m \u001b[0;34m+\u001b[0m \u001b[0mdesired_width\u001b[0m\u001b[0;34m)\u001b[0m\u001b[0;34m\u001b[0m\u001b[0m\n\u001b[0;32m---> 12\u001b[0;31m             \u001b[0mrect_y\u001b[0m \u001b[0;34m=\u001b[0m \u001b[0;34m(\u001b[0m\u001b[0mj\u001b[0m \u001b[0;34m,\u001b[0m \u001b[0mj\u001b[0m\u001b[0;34m+\u001b[0m \u001b[0mdesired_height\u001b[0m\u001b[0;34m)\u001b[0m\u001b[0;34m\u001b[0m\u001b[0m\n\u001b[0m\u001b[1;32m     13\u001b[0m             \u001b[0;32mfor\u001b[0m \u001b[0mdetection\u001b[0m \u001b[0;32min\u001b[0m \u001b[0mgood_detections\u001b[0m\u001b[0;34m:\u001b[0m\u001b[0;34m\u001b[0m\u001b[0m\n\u001b[1;32m     14\u001b[0m                 \u001b[0;32mif\u001b[0m \u001b[0mdetection\u001b[0m\u001b[0;34m[\u001b[0m\u001b[0;36m0\u001b[0m\u001b[0;34m]\u001b[0m \u001b[0;34m>=\u001b[0m \u001b[0mrect_x\u001b[0m\u001b[0;34m[\u001b[0m\u001b[0;36m0\u001b[0m\u001b[0;34m]\u001b[0m \u001b[0;32mand\u001b[0m \u001b[0mdetection\u001b[0m\u001b[0;34m[\u001b[0m\u001b[0;36m0\u001b[0m\u001b[0;34m]\u001b[0m \u001b[0;34m<=\u001b[0m \u001b[0mrect_x\u001b[0m\u001b[0;34m[\u001b[0m\u001b[0;36m1\u001b[0m\u001b[0;34m]\u001b[0m\u001b[0;34m:\u001b[0m\u001b[0;34m\u001b[0m\u001b[0m\n",
      "\u001b[0;31mKeyboardInterrupt\u001b[0m: "
     ]
    }
   ],
   "source": [
    "filename = '/home/priya/Documents/AI_Apps/soccer_project/soccer_mini_slow.mp4'\n",
    "out_filename = 'soccer_mini' + \".avi\"\n",
    "\n",
    "cap = cv2.VideoCapture(filename)\n",
    "width = int(cap.get(cv2.CAP_PROP_FRAME_WIDTH)) # uses given video width and height\n",
    "height = int(cap.get(cv2.CAP_PROP_FRAME_HEIGHT))\n",
    "fps = cap.get(cv2.CAP_PROP_FPS)\n",
    "vwriter = cv2.VideoWriter(out_filename,cv2.VideoWriter_fourcc(*'MJPG'),fps, (1024, 600)) \n",
    "\n",
    "length = int(cap.get(7))\n",
    "fps = cap.get(5)\n",
    "duration = length/fps\n",
    "\n",
    "# Running the tensorflow session\n",
    "with detection_graph.as_default():\n",
    "    with tf.Session(graph=detection_graph) as sess:\n",
    "\n",
    "        counter = 0\n",
    "        fac = 3\n",
    "   \n",
    " \n",
    "        while True:\n",
    "            ret, image_np = cap.read()\n",
    "            if not ret:\n",
    "                break\n",
    "    \n",
    "            orig_image = image_np\n",
    "            origW, origH, _ = orig_image.shape\n",
    "            \n",
    "            new_width = 1024\n",
    "            new_height = 600\n",
    "            image_np = cv2.resize(image_np, (new_width,new_height), interpolation=cv2.INTER_AREA)\n",
    "            counter += 1\n",
    "\n",
    "            if counter % fac == 0:  \n",
    "                \n",
    "                ## Extract info from object detection \n",
    "        \n",
    "                image_np_expanded = np.expand_dims(image_np, axis=0)\n",
    "                image_tensor = detection_graph.get_tensor_by_name('image_tensor:0')\n",
    "                # Each box represents a part of the image where a particular object was detected.\n",
    "                boxes = detection_graph.get_tensor_by_name('detection_boxes:0')\n",
    "                # Each score represent how level of confidence for each of the objects.\n",
    "                # Score is shown on the result image, together with the class label.\n",
    "                scores = detection_graph.get_tensor_by_name('detection_scores:0')\n",
    "                classes = detection_graph.get_tensor_by_name('detection_classes:0')\n",
    "                num_detections = detection_graph.get_tensor_by_name('num_detections:0')\n",
    "                # Actual detection.\n",
    "                (boxes, scores, classes, num_detections) = sess.run(\n",
    "                  [boxes, scores, classes, num_detections],\n",
    "                  feed_dict={image_tensor: image_np_expanded})\n",
    "                # Visualization of the results of a detection.\n",
    "                vis_util.visualize_boxes_and_labels_on_image_array(\n",
    "                      image_np,\n",
    "                      np.squeeze(boxes),\n",
    "                      np.squeeze(classes).astype(np.int32),\n",
    "                      np.squeeze(scores),\n",
    "                      category_index,\n",
    "                      use_normalized_coordinates=True,\n",
    "                      line_thickness=3,\n",
    "                      min_score_thresh=0.6)\n",
    "                \n",
    "                \n",
    "                ## Magic to draw box\n",
    "                good_detections = []\n",
    "                for n in range(len(scores[0])):\n",
    "                    if scores[0][n] > 0.60:\n",
    "                        # Calculate position\n",
    "                        ymin = int(boxes[0][n][0] * new_height)\n",
    "                        xmin = int(boxes[0][n][1] * new_width)\n",
    "                        ymax = int(boxes[0][n][2] * new_height)\n",
    "                        xmax = int(boxes[0][n][3] * new_width)\n",
    "                        #crop them\n",
    "                        x_avg = (xmin + xmax)/2\n",
    "                        y_avg = (ymin + ymax)/2\n",
    "                        if classes[0][n] == 1:\n",
    "                            good_detections.append((x_avg, y_avg))\n",
    "                        if classes[0][n] == 2:\n",
    "                            print(\"Ball Detected\")\n",
    "                            good_detections.append((x_avg, y_avg))\n",
    "                            good_detections.append((x_avg, y_avg))\n",
    "                            good_detections.append((x_avg, y_avg))\n",
    "                            good_detections.append((x_avg, y_avg))\n",
    "                            good_detections.append((x_avg, y_avg))\n",
    "            \n",
    "                desired_scale = 0.40\n",
    "                max_detections, best_x, best_y = best_rectangle(good_detections, new_width, new_height, desired_scale)\n",
    "#                 print(max_detections, best_x, best_y)\n",
    "                coord1 = (int(best_x), int(best_y))\n",
    "                coord2 = (int(best_x + desired_scale*new_width), int(best_y + desired_scale*new_height))\n",
    "                \n",
    "#                 max_detections, best_coord1, best_coord2, best_angle, tot_detections = rotate_rectangle(coord1, coord2, good_detections, image_np)\n",
    "#                 print(\"Detection by angle: \", tot_detections)\n",
    "#                 print(\"Best angle is: \", best_angle)\n",
    "                cv2.rectangle(image_np, coord1, coord2 ,(255,0,0),2)\n",
    "                \n",
    "\n",
    "            vwriter.write(image_np)\n",
    "#           cv2.imshow('image', image_np)\n",
    "#           key = cv2.waitKey(20) & 0xFF\n",
    "\n",
    "#                 # if the `q` key is pressed, break from the lop\n",
    "#           if key == ord(\"q\"):\n",
    "#             break\n",
    "            \n",
    "        cap.release()"
   ]
  },
  {
   "cell_type": "code",
   "execution_count": null,
   "metadata": {},
   "outputs": [],
   "source": [
    "### Challenge is that boxes that are being drawn are parallel, not an angle."
   ]
  },
  {
   "cell_type": "code",
   "execution_count": null,
   "metadata": {},
   "outputs": [],
   "source": []
  }
 ],
 "metadata": {
  "colab": {
   "version": "0.3.2"
  },
  "kernelspec": {
   "display_name": "Python [conda env:exptt]",
   "language": "python",
   "name": "conda-env-exptt-py"
  },
  "language_info": {
   "codemirror_mode": {
    "name": "ipython",
    "version": 3
   },
   "file_extension": ".py",
   "mimetype": "text/x-python",
   "name": "python",
   "nbconvert_exporter": "python",
   "pygments_lexer": "ipython3",
   "version": "3.6.5"
  }
 },
 "nbformat": 4,
 "nbformat_minor": 2
}
