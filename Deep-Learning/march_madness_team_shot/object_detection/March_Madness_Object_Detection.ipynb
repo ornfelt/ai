{
 "cells": [
  {
   "cell_type": "markdown",
   "metadata": {},
   "source": [
    "# Object Detection Demo\n",
    "Welcome to the object detection inference walkthrough!  This notebook will walk you step by step through the process of using a pre-trained model to detect objects in an image. Make sure to follow the [installation instructions](https://github.com/tensorflow/models/blob/master/research/object_detection/g3doc/installation.md) before you start."
   ]
  },
  {
   "cell_type": "markdown",
   "metadata": {},
   "source": [
    "# Imports"
   ]
  },
  {
   "cell_type": "code",
   "execution_count": 46,
   "metadata": {
    "scrolled": true
   },
   "outputs": [],
   "source": [
    "from __future__ import division\n",
    "import numpy as np\n",
    "import os\n",
    "import six.moves.urllib as urllib\n",
    "import sys\n",
    "import tarfile\n",
    "import tensorflow as tf\n",
    "import zipfile\n",
    "\n",
    "from collections import defaultdict\n",
    "from io import StringIO\n",
    "from matplotlib import pyplot as plt\n",
    "from PIL import Image\n",
    "\n",
    "# Import everything needed to edit/save/watch video clips\n",
    "# from moviepy.editor import VideoFileClip\n",
    "# from IPython.display import HTML\n",
    "\n",
    "# This is needed since the notebook is stored in the object_detection folder.\n",
    "sys.path.append(\"..\")\n",
    "from object_detection.utils import ops as utils_ops\n",
    "import cv2"
   ]
  },
  {
   "cell_type": "markdown",
   "metadata": {},
   "source": [
    "## Env setup"
   ]
  },
  {
   "cell_type": "markdown",
   "metadata": {},
   "source": [
    "## Object detection imports\n",
    "Here are the imports from the object detection module."
   ]
  },
  {
   "cell_type": "code",
   "execution_count": 47,
   "metadata": {},
   "outputs": [],
   "source": [
    "from utils import label_map_util\n",
    "\n",
    "from utils import visualization_utils as vis_util"
   ]
  },
  {
   "cell_type": "markdown",
   "metadata": {},
   "source": [
    "# Model preparation "
   ]
  },
  {
   "cell_type": "markdown",
   "metadata": {},
   "source": [
    "## Variables\n",
    "\n",
    "Any model exported using the `export_inference_graph.py` tool can be loaded here simply by changing `PATH_TO_CKPT` to point to a new .pb file.  \n",
    "\n",
    "By default we use an \"SSD with Mobilenet\" model here. See the [detection model zoo](https://github.com/tensorflow/models/blob/master/research/object_detection/g3doc/detection_model_zoo.md) for a list of other models that can be run out-of-the-box with varying speeds and accuracies."
   ]
  },
  {
   "cell_type": "code",
   "execution_count": 48,
   "metadata": {},
   "outputs": [],
   "source": [
    "# Path to frozen detection graph. This is the actual model that is used for the object detection.\n",
    "PATH_TO_CKPT = '/home/priya/Documents/AI_Apps/march_madness/faster_rcnn_inception_v2_coco_2018_01_28' + '/frozen_inference_graph.pb'\n",
    "\n",
    "# List of the strings that is used to add correct label for each box.\n",
    "PATH_TO_LABELS = 'data/' + 'mscoco_label_map.pbtxt'\n",
    "\n",
    "NUM_CLASSES = 80"
   ]
  },
  {
   "cell_type": "markdown",
   "metadata": {},
   "source": [
    "## Load a (frozen) Tensorflow model into memory."
   ]
  },
  {
   "cell_type": "code",
   "execution_count": 49,
   "metadata": {},
   "outputs": [],
   "source": [
    "detection_graph = tf.Graph()\n",
    "with detection_graph.as_default():\n",
    "  od_graph_def = tf.GraphDef()\n",
    "  with tf.gfile.GFile(PATH_TO_CKPT, 'rb') as fid:\n",
    "    serialized_graph = fid.read()\n",
    "    od_graph_def.ParseFromString(serialized_graph)\n",
    "    tf.import_graph_def(od_graph_def, name='')"
   ]
  },
  {
   "cell_type": "markdown",
   "metadata": {},
   "source": [
    "## Loading label map\n",
    "Label maps map indices to category names, so that when our convolution network predicts `5`, we know that this corresponds to `airplane`.  Here we use internal utility functions, but anything that returns a dictionary mapping integers to appropriate string labels would be fine"
   ]
  },
  {
   "cell_type": "code",
   "execution_count": 50,
   "metadata": {},
   "outputs": [],
   "source": [
    "label_map = label_map_util.load_labelmap(PATH_TO_LABELS)\n",
    "categories = label_map_util.convert_label_map_to_categories(label_map, max_num_classes=NUM_CLASSES, use_display_name=True)\n",
    "category_index = label_map_util.create_category_index(categories)"
   ]
  },
  {
   "cell_type": "markdown",
   "metadata": {},
   "source": [
    "## Helper code"
   ]
  },
  {
   "cell_type": "code",
   "execution_count": 51,
   "metadata": {},
   "outputs": [],
   "source": [
    "def load_image_into_numpy_array(image):\n",
    "  (im_width, im_height) = image.size\n",
    "  return np.array(image.getdata()).reshape((im_height, im_width, 3)).astype(np.uint8)"
   ]
  },
  {
   "cell_type": "code",
   "execution_count": 52,
   "metadata": {},
   "outputs": [],
   "source": [
    "def count_nonblack_np(img):\n",
    "    \"\"\"Return the number of pixels in img that are not black.\n",
    "    img must be a Numpy array with colour values along the last axis.\n",
    "\n",
    "    \"\"\"\n",
    "    return img.any(axis=-1).sum()"
   ]
  },
  {
   "cell_type": "code",
   "execution_count": 53,
   "metadata": {},
   "outputs": [],
   "source": [
    "def detect_team(image, show = False):\n",
    "    # define the list of boundaries\n",
    "    boundaries = [\n",
    "    ([0,0,200], [255,255,255]), #white\n",
    "    ([0, 0, 0], [255, 255, 60]) #black\n",
    "    ]\n",
    "    ratioList = []\n",
    "    for (lower, upper) in boundaries:\n",
    "        # create NumPy arrays from the boundaries\n",
    "        lower = np.array(lower, dtype = \"uint8\")\n",
    "        upper = np.array(upper, dtype = \"uint8\")\n",
    "\n",
    "        # find the colors within the specified boundaries and apply\n",
    "        # the mask\n",
    "        mask = cv2.inRange(image, lower, upper)\n",
    "        output = cv2.bitwise_and(image, image, mask = mask)\n",
    "        tot_pix = count_nonblack_np(image)\n",
    "        color_pix = count_nonblack_np(output)\n",
    "        ratio = color_pix/tot_pix\n",
    "        ratioList.append(ratio)\n",
    "        \n",
    "        if show == True:\n",
    "            image = cv2.cvtColor(image, cv2.COLOR_HSV2BGR)\n",
    "            cv2.imshow(\"images\", np.hstack([image, output]))\n",
    "            if cv2.waitKey(0) & 0xFF == ord('q'):\n",
    "              cv2.destroyAllWindows() \n",
    "        \n",
    "    ## Find the team\n",
    "    max_ratio = max(ratioList)\n",
    "    if max_ratio < 0.20:\n",
    "        print(\"Not sure\", ratio)\n",
    "        return 'not_sure'\n",
    "    else:\n",
    "        ## Identify black pixels first and return them first\n",
    "        if ratioList[1] >= 0.30:\n",
    "#             print(\"Black\", ratioList[0])\n",
    "            return 'black'\n",
    "        elif ratioList[0] >=0.20:\n",
    "#             print(\"White\", ratioList[1])\n",
    "            return 'white'\n",
    "        "
   ]
  },
  {
   "cell_type": "code",
   "execution_count": 54,
   "metadata": {},
   "outputs": [
    {
     "data": {
      "text/plain": [
       "'white'"
      ]
     },
     "execution_count": 54,
     "metadata": {},
     "output_type": "execute_result"
    }
   ],
   "source": [
    "\n",
    "## To View Color Mask\n",
    "filename = '/home/priya/Documents/AI_Apps/march_madness/image1.png'\n",
    "image = cv2.imread(filename)\n",
    "resize = cv2.resize(image, (640,360))\n",
    "hsv = cv2.cvtColor(resize, cv2.COLOR_BGR2HSV)\n",
    "detect_team(hsv, show=True)"
   ]
  },
  {
   "cell_type": "markdown",
   "metadata": {},
   "source": [
    "# Detection"
   ]
  },
  {
   "cell_type": "code",
   "execution_count": 18,
   "metadata": {},
   "outputs": [],
   "source": [
    "filename = '/home/priya/Documents/AI_Apps/march_madness/video1_small.mp4'\n",
    "out_filename = 'video1_small_out_bball' + \".avi\"\n",
    "\n",
    "cap = cv2.VideoCapture(filename)\n",
    "\n",
    "vwriter = cv2.VideoWriter(out_filename,cv2.VideoWriter_fourcc(*'MJPG'),10, (1024, 600)) \n",
    "\n",
    "\n",
    "# Running the tensorflow session\n",
    "with detection_graph.as_default():\n",
    "    with tf.Session(graph=detection_graph) as sess:\n",
    "        \n",
    "        \n",
    "        counter = 0\n",
    "        fac = 3\n",
    "   \n",
    " \n",
    "        while True:\n",
    "          ret, image_np = cap.read()\n",
    "          if not ret:\n",
    "            break\n",
    "    \n",
    "          orig_image = image_np\n",
    "          origW, origH, _ = orig_image.shape\n",
    "            \n",
    "          new_width = 1024\n",
    "          new_height = 600\n",
    "          image_np = cv2.resize(image_np, (new_width,new_height), interpolation=cv2.INTER_AREA)\n",
    "          counter += 1\n",
    "            \n",
    "          h = image_np.shape[0]\n",
    "          w = image_np.shape[1]\n",
    "\n",
    "          if counter % fac == 0:          \n",
    "        \n",
    "            ops = tf.get_default_graph().get_operations()\n",
    "            all_tensor_names = {output.name for op in ops for output in op.outputs}\n",
    "            tensor_dict = {}\n",
    "            for key in [\n",
    "                  'num_detections', 'detection_boxes', 'detection_scores',\n",
    "                  'detection_classes', 'detection_masks'\n",
    "              ]:\n",
    "                tensor_name = key + ':0'\n",
    "                if tensor_name in all_tensor_names:\n",
    "                    tensor_dict[key] = tf.get_default_graph().get_tensor_by_name(tensor_name)\n",
    "            if 'detection_masks' in tensor_dict:\n",
    "                # The following processing is only for single image\n",
    "                detection_boxes = tf.squeeze(tensor_dict['detection_boxes'], [0])\n",
    "                detection_masks = tf.squeeze(tensor_dict['detection_masks'], [0])\n",
    "                # Reframe is required to translate mask from box coordinates to image coordinates and fit the image size.\n",
    "                real_num_detection = tf.cast(tensor_dict['num_detections'][0], tf.int32)\n",
    "                detection_boxes = tf.slice(detection_boxes, [0, 0], [real_num_detection, -1])\n",
    "                detection_masks = tf.slice(detection_masks, [0, 0, 0], [real_num_detection, -1, -1])\n",
    "                detection_masks_reframed = utils_ops.reframe_box_masks_to_image_masks(\n",
    "                    detection_masks, detection_boxes, image_np.shape[0], image_np.shape[1])\n",
    "                detection_masks_reframed = tf.cast(\n",
    "                    tf.greater(detection_masks_reframed, 0.5), tf.uint8)\n",
    "                # Follow the convention by adding back the batch dimension\n",
    "                tensor_dict['detection_masks'] = tf.expand_dims(\n",
    "                    detection_masks_reframed, 0)\n",
    "            image_tensor = tf.get_default_graph().get_tensor_by_name('image_tensor:0')\n",
    "\n",
    "          # Run inference\n",
    "            output_dict = sess.run(tensor_dict,\n",
    "                                 feed_dict={image_tensor: np.expand_dims(image_np, 0)})\n",
    "\n",
    "          # all outputs are float32 numpy arrays, so convert types as appropriate\n",
    "            output_dict['num_detections'] = int(output_dict['num_detections'][0])\n",
    "            output_dict['detection_classes'] = output_dict[\n",
    "              'detection_classes'][0].astype(np.uint8)\n",
    "            output_dict['detection_boxes'] = output_dict['detection_boxes'][0]\n",
    "            output_dict['detection_scores'] = output_dict['detection_scores'][0]\n",
    "            if 'detection_masks' in output_dict:\n",
    "                output_dict['detection_masks'] = output_dict['detection_masks'][0]\n",
    "                \n",
    "            ## Turned off display to avoid information overload    \n",
    "\n",
    "#             vis_util.visualize_boxes_and_labels_on_image_array(\n",
    "#               image_np,\n",
    "#               output_dict['detection_boxes'],\n",
    "#               output_dict['detection_classes'],\n",
    "#               output_dict['detection_scores'],\n",
    "#               category_index,\n",
    "#               instance_masks=output_dict.get('detection_masks'),\n",
    "#               use_normalized_coordinates=True,\n",
    "#               min_score_thresh=0.60,\n",
    "#               line_thickness=2)\n",
    "            \n",
    "            \n",
    "            frame_number = counter\n",
    "            loc = {}\n",
    "            for n in range(len(output_dict['detection_scores'])):\n",
    "                if output_dict['detection_scores'][n] > 0.70:\n",
    "                # Calculate position\n",
    "                    ymin = int(output_dict['detection_boxes'][n][0] * h)\n",
    "                    xmin = int(output_dict['detection_boxes'][n][1] * w)\n",
    "                    ymax = int(output_dict['detection_boxes'][n][2] * h)\n",
    "                    xmax = int(output_dict['detection_boxes'][n][3] * w)\n",
    "\n",
    "                # Find label corresponding to that class\n",
    "                    for cat in categories:\n",
    "                        if cat['id'] == output_dict['detection_classes'][n]:\n",
    "                            label = cat['name']\n",
    "\n",
    "                    ## extract every person\n",
    "                    if label == 'person':\n",
    "                        \n",
    "                        ## if bbox is not too big:\n",
    "                        area_box = (ymax - ymin) * (xmax - xmin)\n",
    "                        area_img = h * w\n",
    "                        boxPer = area_box/area_img\n",
    "                        if boxPer <= 0.15:  # remove random big size detections of crowds\n",
    "                            \n",
    "                            ## Add them to image\n",
    "                            cv2.rectangle(image_np, (xmin, ymin),(xmax,ymax),(0,255,0),3)\n",
    "                        \n",
    "                            #crop them\n",
    "                            crop_img = image_np[ymin:ymax, xmin:xmax]\n",
    "                            color = detect_team(crop_img)\n",
    "                            if color != 'not_sure':\n",
    "                                coords = (xmin, ymin)\n",
    "                                if color == 'white':\n",
    "                                     loc[coords] = 'Duke'\n",
    "                                else:\n",
    "                                    loc[coords] = 'UCF'\n",
    "                        \n",
    "            ## print color next to the person\n",
    "            for key in loc.keys():\n",
    "                text_pos = str(loc[key])\n",
    "                cv2.putText(image_np, text_pos, (key[0], key[1]-20), cv2.FONT_HERSHEY_SIMPLEX, 0.50, (0, 0, 255), 2) # Text in black\n",
    "\n",
    "            vwriter.write(image_np)\n",
    "#           cv2.imshow('image', image_np)\n",
    "#           key = cv2.waitKey(20) & 0xFF\n",
    "\n",
    "#                 # if the `q` key is pressed, break from the lop\n",
    "#           if key == ord(\"q\"):\n",
    "#             break\n",
    "            \n",
    "        cv2.destroyAllWindows()\n",
    "        cap.release()"
   ]
  },
  {
   "cell_type": "code",
   "execution_count": null,
   "metadata": {},
   "outputs": [],
   "source": []
  },
  {
   "cell_type": "code",
   "execution_count": null,
   "metadata": {},
   "outputs": [],
   "source": []
  }
 ],
 "metadata": {
  "colab": {
   "version": "0.3.2"
  },
  "kernelspec": {
   "display_name": "Python (tf_latest)",
   "language": "python",
   "name": "tf_latest"
  },
  "language_info": {
   "codemirror_mode": {
    "name": "ipython",
    "version": 3
   },
   "file_extension": ".py",
   "mimetype": "text/x-python",
   "name": "python",
   "nbconvert_exporter": "python",
   "pygments_lexer": "ipython3",
   "version": "3.6.6"
  }
 },
 "nbformat": 4,
 "nbformat_minor": 2
}
