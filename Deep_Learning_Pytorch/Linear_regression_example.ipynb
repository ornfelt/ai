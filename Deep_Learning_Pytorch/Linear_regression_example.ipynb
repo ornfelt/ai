{
  "nbformat": 4,
  "nbformat_minor": 0,
  "metadata": {
    "colab": {
      "name": "Linear_regression_example.ipynb",
      "provenance": []
    },
    "kernelspec": {
      "name": "python3",
      "display_name": "Python 3"
    }
  },
  "cells": [
    {
      "cell_type": "code",
      "metadata": {
        "id": "P-sHhT87oXfd",
        "colab_type": "code",
        "colab": {}
      },
      "source": [
        "#Import libraries\n",
        "import pandas as pd\n",
        "import numpy as np\n",
        "import matplotlib.pyplot as plt\n",
        "from sklearn.model_selection import train_test_split\n",
        "import torch\n",
        "import torch.nn as nn"
      ],
      "execution_count": null,
      "outputs": []
    },
    {
      "cell_type": "code",
      "metadata": {
        "id": "Qn5Wss2MoyWN",
        "colab_type": "code",
        "colab": {}
      },
      "source": [
        "#Loading the data set\n",
        "data=pd.read_csv('/content/exp_vs_salary_Data.csv')"
      ],
      "execution_count": null,
      "outputs": []
    },
    {
      "cell_type": "code",
      "metadata": {
        "id": "I4k6F7g2qhP_",
        "colab_type": "code",
        "colab": {
          "base_uri": "https://localhost:8080/",
          "height": 204
        },
        "outputId": "f500e6bf-e779-45fd-863e-4233b6a4493f"
      },
      "source": [
        "#let us try to visualize our data \n",
        "data.head()"
      ],
      "execution_count": null,
      "outputs": [
        {
          "output_type": "execute_result",
          "data": {
            "text/html": [
              "<div>\n",
              "<style scoped>\n",
              "    .dataframe tbody tr th:only-of-type {\n",
              "        vertical-align: middle;\n",
              "    }\n",
              "\n",
              "    .dataframe tbody tr th {\n",
              "        vertical-align: top;\n",
              "    }\n",
              "\n",
              "    .dataframe thead th {\n",
              "        text-align: right;\n",
              "    }\n",
              "</style>\n",
              "<table border=\"1\" class=\"dataframe\">\n",
              "  <thead>\n",
              "    <tr style=\"text-align: right;\">\n",
              "      <th></th>\n",
              "      <th>YearsExperience</th>\n",
              "      <th>Salary</th>\n",
              "    </tr>\n",
              "  </thead>\n",
              "  <tbody>\n",
              "    <tr>\n",
              "      <th>0</th>\n",
              "      <td>1.2</td>\n",
              "      <td>39342</td>\n",
              "    </tr>\n",
              "    <tr>\n",
              "      <th>1</th>\n",
              "      <td>1.2</td>\n",
              "      <td>46205</td>\n",
              "    </tr>\n",
              "    <tr>\n",
              "      <th>2</th>\n",
              "      <td>1.4</td>\n",
              "      <td>37730</td>\n",
              "    </tr>\n",
              "    <tr>\n",
              "      <th>3</th>\n",
              "      <td>2.0</td>\n",
              "      <td>43524</td>\n",
              "    </tr>\n",
              "    <tr>\n",
              "      <th>4</th>\n",
              "      <td>2.2</td>\n",
              "      <td>39890</td>\n",
              "    </tr>\n",
              "  </tbody>\n",
              "</table>\n",
              "</div>"
            ],
            "text/plain": [
              "   YearsExperience  Salary\n",
              "0              1.2   39342\n",
              "1              1.2   46205\n",
              "2              1.4   37730\n",
              "3              2.0   43524\n",
              "4              2.2   39890"
            ]
          },
          "metadata": {
            "tags": []
          },
          "execution_count": 24
        }
      ]
    },
    {
      "cell_type": "code",
      "metadata": {
        "id": "K6TNBAgMq-Ta",
        "colab_type": "code",
        "colab": {
          "base_uri": "https://localhost:8080/",
          "height": 295
        },
        "outputId": "71ebb30e-4781-4d70-edef-98ad727e35fa"
      },
      "source": [
        "# lets visualize our data\n",
        "import matplotlib.pyplot as plt\n",
        "plt.scatter(data.YearsExperience,data.Salary)\n",
        "plt.xlabel(\"YearsExperience\")\n",
        "plt.ylabel(\"Salary\")\n",
        "plt.title(\"Years Experience VS Salary\")\n",
        "plt.show()"
      ],
      "execution_count": null,
      "outputs": [
        {
          "output_type": "display_data",
          "data": {
            "image/png": "[encoded data removed]",
            "text/plain": [
              "<Figure size 432x288 with 1 Axes>"
            ]
          },
          "metadata": {
            "tags": [],
            "needs_background": "light"
          }
        }
      ]
    },
    {
      "cell_type": "code",
      "metadata": {
        "id": "H7ummj4IrTFo",
        "colab_type": "code",
        "colab": {}
      },
      "source": [
        "#Splitting the dataset into  training and testing dataset\n",
        "train, test = train_test_split(data,  test_size = 0.2)"
      ],
      "execution_count": null,
      "outputs": []
    },
    {
      "cell_type": "code",
      "metadata": {
        "id": "TY92B0w4xspy",
        "colab_type": "code",
        "colab": {}
      },
      "source": [
        "#Converting training data into tensors for Pytorch\n",
        "X_train = torch.Tensor([[x] for x in list(train.YearsExperience)])\n",
        "y_train = torch.torch.FloatTensor([[x] for x in list(train.Salary)])\n",
        "#Converting test data into tensors for Pytorch\n",
        "X_test = torch.Tensor([[x] for x in list(test.YearsExperience)])\n",
        "y_test = torch.torch.FloatTensor([[x] for x in list(test.Salary)])\n",
        "\n"
      ],
      "execution_count": null,
      "outputs": []
    },
    {
      "cell_type": "code",
      "metadata": {
        "id": "945XnSQ9Ok3k",
        "colab_type": "code",
        "colab": {}
      },
      "source": [
        "class LinearRegression(nn.Module):\n",
        "    def __init__(self, in_size, out_size):\n",
        "       super().__init__()\n",
        "       self.lin = nn.Linear(in_features = in_size, out_features = out_size)\n",
        "    def forward(self, X):\n",
        "        pred = self.lin(X)\n",
        "        return(pred)"
      ],
      "execution_count": null,
      "outputs": []
    },
    {
      "cell_type": "code",
      "metadata": {
        "id": "-o0PHI9uO1G8",
        "colab_type": "code",
        "colab": {
          "base_uri": "https://localhost:8080/",
          "height": 170
        },
        "outputId": "c2023877-3af3-4f86-8073-be575c3bd19a"
      },
      "source": [
        "#Data set & Data set Loader\n",
        "from torch.utils.data import TensorDataset\n",
        "train_data=TensorDataset(X_train, y_train)\n",
        "train_data[0:5]"
      ],
      "execution_count": null,
      "outputs": [
        {
          "output_type": "execute_result",
          "data": {
            "text/plain": [
              "(tensor([[ 8.6000],\n",
              "         [ 2.0000],\n",
              "         [10.3000],\n",
              "         [ 5.8000],\n",
              "         [ 8.2000]]), tensor([[109430.],\n",
              "         [ 43524.],\n",
              "         [122390.],\n",
              "         [ 81362.],\n",
              "         [113812.]]))"
            ]
          },
          "metadata": {
            "tags": []
          },
          "execution_count": 8
        }
      ]
    },
    {
      "cell_type": "code",
      "metadata": {
        "id": "q5ADurmGO5oM",
        "colab_type": "code",
        "colab": {}
      },
      "source": [
        "# Define data loader\n",
        "from torch.utils.data import DataLoader\n",
        "batch_size = 5\n",
        "train_dl = DataLoader(train_data, batch_size, shuffle=True)\n"
      ],
      "execution_count": null,
      "outputs": []
    },
    {
      "cell_type": "code",
      "metadata": {
        "id": "8d4fbAy0PAvb",
        "colab_type": "code",
        "colab": {
          "base_uri": "https://localhost:8080/",
          "height": 85
        },
        "outputId": "9423589c-0cef-44ae-dc2c-2d58af7489e5"
      },
      "source": [
        "# Define model\n",
        "model = nn.Linear(1, 1) # nn.Linear(in_features,out_features)\n",
        "print(model.weight)\n",
        "print(model.bias)"
      ],
      "execution_count": null,
      "outputs": [
        {
          "output_type": "stream",
          "text": [
            "Parameter containing:\n",
            "tensor([[-0.0885]], requires_grad=True)\n",
            "Parameter containing:\n",
            "tensor([0.4374], requires_grad=True)\n"
          ],
          "name": "stdout"
        }
      ]
    },
    {
      "cell_type": "code",
      "metadata": {
        "id": "nhB3gSXhw6kA",
        "colab_type": "code",
        "colab": {
          "base_uri": "https://localhost:8080/",
          "height": 68
        },
        "outputId": "7db58a69-198a-4bfe-aa78-27f80309d2dc"
      },
      "source": [
        "# printing the model Parameters\n",
        "print(list(model.parameters()))"
      ],
      "execution_count": null,
      "outputs": [
        {
          "output_type": "stream",
          "text": [
            "[Parameter containing:\n",
            "tensor([[-0.0885]], requires_grad=True), Parameter containing:\n",
            "tensor([0.4374], requires_grad=True)]\n"
          ],
          "name": "stdout"
        }
      ]
    },
    {
      "cell_type": "code",
      "metadata": {
        "id": "zX3bYtA4y3uM",
        "colab_type": "code",
        "colab": {
          "base_uri": "https://localhost:8080/",
          "height": 425
        },
        "outputId": "1ef1edf6-cc3a-474f-9b4c-a60f3958352e"
      },
      "source": [
        "# Generate predictions\n",
        "preds = model(X_train)\n",
        "preds"
      ],
      "execution_count": null,
      "outputs": [
        {
          "output_type": "execute_result",
          "data": {
            "text/plain": [
              "tensor([[-0.3235],\n",
              "        [ 0.2605],\n",
              "        [-0.4739],\n",
              "        [-0.0757],\n",
              "        [-0.2881],\n",
              "        [-0.0934],\n",
              "        [-0.4208],\n",
              "        [-0.2615],\n",
              "        [ 0.0747],\n",
              "        [-0.3942],\n",
              "        [ 0.3313],\n",
              "        [-0.0138],\n",
              "        [-0.1642],\n",
              "        [ 0.3313],\n",
              "        [ 0.1189],\n",
              "        [ 0.0835],\n",
              "        [ 0.1543],\n",
              "        [-0.3588],\n",
              "        [ 0.1808],\n",
              "        [ 0.0835],\n",
              "        [-0.4916],\n",
              "        [ 0.0924],\n",
              "        [-0.0315],\n",
              "        [ 0.2428]], grad_fn=<AddmmBackward>)"
            ]
          },
          "metadata": {
            "tags": []
          },
          "execution_count": 12
        }
      ]
    },
    {
      "cell_type": "code",
      "metadata": {
        "id": "W_WMQ6VzzQND",
        "colab_type": "code",
        "colab": {}
      },
      "source": [
        "#Define the loss function\n",
        "loss_fun = nn.MSELoss()"
      ],
      "execution_count": null,
      "outputs": []
    },
    {
      "cell_type": "code",
      "metadata": {
        "id": "cYd8ffZC1Vjv",
        "colab_type": "code",
        "colab": {
          "base_uri": "https://localhost:8080/",
          "height": 34
        },
        "outputId": "a5a57f0c-4d33-4b55-c250-33ddd6a34900"
      },
      "source": [
        "#compute loss for current prediction\n",
        "loss=loss_fun(model(X_train),y_train)\n",
        "print(loss)"
      ],
      "execution_count": null,
      "outputs": [
        {
          "output_type": "stream",
          "text": [
            "tensor(7.0447e+09, grad_fn=<MseLossBackward>)\n"
          ],
          "name": "stdout"
        }
      ]
    },
    {
      "cell_type": "code",
      "metadata": {
        "id": "hMDoPTq71vEl",
        "colab_type": "code",
        "colab": {}
      },
      "source": [
        "# Define SGD optimizer with learning rate 0.01\n",
        "optimizer = torch.optim.SGD(model.parameters(), lr=0.01)"
      ],
      "execution_count": null,
      "outputs": []
    },
    {
      "cell_type": "markdown",
      "metadata": {
        "id": "ownUi5332RHP",
        "colab_type": "text"
      },
      "source": [
        "Train the model\n",
        "\n",
        "We are now ready to train the model. We'll follow the exact same process to implement gradient descent:\n",
        "\n",
        "Generate predictions\n",
        "\n",
        "Calculate the loss\n",
        "\n",
        "Compute gradients w.r.t the weights and biases\n",
        "\n",
        "Adjust the weights by subtracting a small quantity proportional to the gradient\n",
        "\n",
        "Reset the gradients to zero"
      ]
    },
    {
      "cell_type": "code",
      "metadata": {
        "id": "8rvo05ug2LyP",
        "colab_type": "code",
        "colab": {}
      },
      "source": [
        "# Utility function to train the model\n",
        "def lrmodel(num_epochs, model, loss_fun, optimizer, train_dl):\n",
        "    \n",
        "    # Repeat for given number of epochs\n",
        "    for epoch in range(num_epochs):\n",
        "        \n",
        "        # Train with batches of data\n",
        "        for xb,yb in train_dl:\n",
        "            \n",
        "            # 1. Generate predictions\n",
        "            pred = model(xb)\n",
        "            \n",
        "            # 2. Calculate loss\n",
        "            loss = loss_fun(pred, yb)\n",
        "            \n",
        "            # 3. Compute gradients\n",
        "            loss.backward()\n",
        "            \n",
        "            # 4. Update parameters using gradients\n",
        "            optimizer.step()\n",
        "            \n",
        "            # 5. Reset the gradients to zero\n",
        "            optimizer.zero_grad()\n",
        "        \n",
        "        # Print the progress\n",
        "        if (epoch+1) % 10 == 0:\n",
        "            print('Epoch [{}/{}], Loss: {:.4f}'.format(epoch+1, num_epochs, loss.item()))"
      ],
      "execution_count": null,
      "outputs": []
    },
    {
      "cell_type": "code",
      "metadata": {
        "id": "6fozH3iN2zQs",
        "colab_type": "code",
        "colab": {
          "base_uri": "https://localhost:8080/",
          "height": 187
        },
        "outputId": "883fabce-8345-4118-f46d-89073a89e80b"
      },
      "source": [
        "#Training for 100 epochs\n",
        "num_epochs=100\n",
        "lrmodel(num_epochs, model, loss_fun, optimizer, train_dl)\n",
        "\n"
      ],
      "execution_count": null,
      "outputs": [
        {
          "output_type": "stream",
          "text": [
            "Epoch [10/100], Loss: 16100727.0000\n",
            "Epoch [20/100], Loss: 58836576.0000\n",
            "Epoch [30/100], Loss: 24312672.0000\n",
            "Epoch [40/100], Loss: 30125348.0000\n",
            "Epoch [50/100], Loss: 59348696.0000\n",
            "Epoch [60/100], Loss: 31803738.0000\n",
            "Epoch [70/100], Loss: 24751144.0000\n",
            "Epoch [80/100], Loss: 36488976.0000\n",
            "Epoch [90/100], Loss: 14319942.0000\n",
            "Epoch [100/100], Loss: 64535912.0000\n"
          ],
          "name": "stdout"
        }
      ]
    },
    {
      "cell_type": "code",
      "metadata": {
        "id": "RHHEL3vt3Db0",
        "colab_type": "code",
        "colab": {
          "base_uri": "https://localhost:8080/",
          "height": 425
        },
        "outputId": "b3e71f97-e94b-4d24-9e79-af49b24debe1"
      },
      "source": [
        "# Generate predictions\n",
        "preds = model(X_train)\n",
        "preds"
      ],
      "execution_count": null,
      "outputs": [
        {
          "output_type": "execute_result",
          "data": {
            "text/plain": [
              "tensor([[109632.5938],\n",
              "        [ 45824.9609],\n",
              "        [126067.8906],\n",
              "        [ 82562.6875],\n",
              "        [105765.4609],\n",
              "        [ 84496.2500],\n",
              "        [120267.1953],\n",
              "        [102865.1172],\n",
              "        [ 66127.3906],\n",
              "        [117366.8438],\n",
              "        [ 38090.7031],\n",
              "        [ 75795.2109],\n",
              "        [ 92230.5156],\n",
              "        [ 38090.7031],\n",
              "        [ 61293.4766],\n",
              "        [ 65160.6094],\n",
              "        [ 57426.3516],\n",
              "        [113499.7188],\n",
              "        [ 54526.0000],\n",
              "        [ 65160.6094],\n",
              "        [128001.4531],\n",
              "        [ 64193.8281],\n",
              "        [ 77728.7812],\n",
              "        [ 47758.5234]], grad_fn=<AddmmBackward>)"
            ]
          },
          "metadata": {
            "tags": []
          },
          "execution_count": 21
        }
      ]
    },
    {
      "cell_type": "code",
      "metadata": {
        "id": "JQ0gv5ey3ze6",
        "colab_type": "code",
        "colab": {
          "base_uri": "https://localhost:8080/",
          "height": 425
        },
        "outputId": "ef53a097-57e9-47f1-d483-fd56fe855d89"
      },
      "source": [
        "# Compare with targets\n",
        "y_train"
      ],
      "execution_count": null,
      "outputs": [
        {
          "output_type": "execute_result",
          "data": {
            "text/plain": [
              "tensor([[109430.],\n",
              "        [ 43524.],\n",
              "        [122390.],\n",
              "        [ 81362.],\n",
              "        [113812.],\n",
              "        [ 93940.],\n",
              "        [112635.],\n",
              "        [101302.],\n",
              "        [ 57081.],\n",
              "        [116969.],\n",
              "        [ 46205.],\n",
              "        [ 66028.],\n",
              "        [ 91738.],\n",
              "        [ 39342.],\n",
              "        [ 57188.],\n",
              "        [ 56957.],\n",
              "        [ 64445.],\n",
              "        [105582.],\n",
              "        [ 56642.],\n",
              "        [ 55794.],\n",
              "        [121870.],\n",
              "        [ 63218.],\n",
              "        [ 83088.],\n",
              "        [ 39890.]])"
            ]
          },
          "metadata": {
            "tags": []
          },
          "execution_count": 22
        }
      ]
    },
    {
      "cell_type": "code",
      "metadata": {
        "id": "XFpKpUfc4Ao6",
        "colab_type": "code",
        "colab": {}
      },
      "source": [
        "#Predicting for X_test\n",
        "y_pred_test = model(X_test)"
      ],
      "execution_count": null,
      "outputs": []
    },
    {
      "cell_type": "code",
      "metadata": {
        "id": "tqc2Wx6o4Z-g",
        "colab_type": "code",
        "colab": {
          "base_uri": "https://localhost:8080/",
          "height": 136
        },
        "outputId": "f77a4ab1-331d-40f8-cf74-7f9e1749453a"
      },
      "source": [
        "\n",
        "#Converting predictions from tensor objects into a list\n",
        "\n",
        "y_pred_test = [y_pred_test[x].item() for x in range(len(y_pred_test))]\n",
        "# Comparing Actual and predicted values\n",
        "df = {}\n",
        "df['Actual Observation'] = y_test\n",
        "df['Predicted Salary'] = y_pred_test\n",
        "df = pd.DataFrame(df)\n",
        "print(df)"
      ],
      "execution_count": null,
      "outputs": [
        {
          "output_type": "stream",
          "text": [
            "  Actual Observation  Predicted Salary\n",
            "0  (tensor(67938.),)      73861.648438\n",
            "1  (tensor(61110.),)      70961.296875\n",
            "2  (tensor(98272.),)      95130.859375\n",
            "3  (tensor(37730.),)      40024.265625\n",
            "4  (tensor(60150.),)      55492.781250\n",
            "5  (tensor(54445.),)      57426.351562\n"
          ],
          "name": "stdout"
        }
      ]
    },
    {
      "cell_type": "code",
      "metadata": {
        "id": "H9Nvxa6Y8KjI",
        "colab_type": "code",
        "colab": {}
      },
      "source": [
        ""
      ],
      "execution_count": null,
      "outputs": []
    }
  ]
}