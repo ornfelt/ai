{
 "cells": [
  {
   "cell_type": "markdown",
   "metadata": {
    "colab_type": "text",
    "id": "WBHy1uQ46Mt4"
   },
   "source": [
    "# Model Development"
   ]
  },
  {
   "cell_type": "code",
   "execution_count": 20,
   "metadata": {
    "colab": {
     "base_uri": "https://localhost:8080/",
     "height": 66
    },
    "colab_type": "code",
    "executionInfo": {
     "elapsed": 3890,
     "status": "ok",
     "timestamp": 1591787869579,
     "user": {
      "displayName": "Siddhartha Dutta",
      "photoUrl": "https://lh3.googleusercontent.com/a-/AOh14GiT79p-YwUAMLJLPMEjadbhQl383sQDEQ2dCLM=s64",
      "userId": "06895572418557294109"
     },
     "user_tz": -330
    },
    "id": "nf7veGbaiqwE",
    "outputId": "c554e86a-d916-4ea5-e0a5-0b3dcd20a464"
   },
   "outputs": [
    {
     "name": "stdout",
     "output_type": "stream",
     "text": [
      "Downloading data from https://s3.amazonaws.com/img-datasets/mnist.npz\n",
      "11493376/11490434 [==============================] - 2s 0us/step\n",
      "(60000, 28, 28)\n"
     ]
    }
   ],
   "source": [
    "from keras.datasets import mnist\n",
    "from keras.models import Sequential\n",
    "from keras.layers import Dense, Conv2D, Dropout, Flatten, MaxPooling2D\n",
    "import matplotlib.pyplot as plt\n",
    "\n",
    "(X_train, Y_train), (X_test, Y_test) = mnist.load_data()\n",
    "print(X_train.shape)"
   ]
  },
  {
   "cell_type": "code",
   "execution_count": 0,
   "metadata": {
    "colab": {
     "base_uri": "https://localhost:8080/",
     "height": 346
    },
    "colab_type": "code",
    "executionInfo": {
     "elapsed": 6610,
     "status": "ok",
     "timestamp": 1591785687479,
     "user": {
      "displayName": "Siddhartha Dutta",
      "photoUrl": "https://lh3.googleusercontent.com/a-/AOh14GiT79p-YwUAMLJLPMEjadbhQl383sQDEQ2dCLM=s64",
      "userId": "06895572418557294109"
     },
     "user_tz": -330
    },
    "id": "K4k4jSEvi7a5",
    "outputId": "4dc486c5-de71-4a12-dc6e-411b3b7353b7"
   },
   "outputs": [
    {
     "data": {
      "image/png": "[encoded data removed]",
      "text/plain": [
       "<Figure size 720x360 with 10 Axes>"
      ]
     },
     "metadata": {
      "needs_background": "light",
      "tags": []
     },
     "output_type": "display_data"
    }
   ],
   "source": [
    "fig, axes = plt.subplots(2, 5, figsize=(10,5))\n",
    "axes = axes.flatten()\n",
    "for img, label, ax in zip(X_train[:10], Y_train[:10], axes):\n",
    "    ax.imshow(img, cmap='Greys')\n",
    "    ax.axis('off')\n",
    "    ax.set_title('Label: ' + str(label))\n",
    "plt.tight_layout()\n",
    "plt.show()"
   ]
  },
  {
   "cell_type": "code",
   "execution_count": 0,
   "metadata": {
    "colab": {
     "base_uri": "https://localhost:8080/",
     "height": 33
    },
    "colab_type": "code",
    "executionInfo": {
     "elapsed": 6434,
     "status": "ok",
     "timestamp": 1591785687481,
     "user": {
      "displayName": "Siddhartha Dutta",
      "photoUrl": "https://lh3.googleusercontent.com/a-/AOh14GiT79p-YwUAMLJLPMEjadbhQl383sQDEQ2dCLM=s64",
      "userId": "06895572418557294109"
     },
     "user_tz": -330
    },
    "id": "KIkAOzB_jBmM",
    "outputId": "f865783c-9c41-455c-d555-7ff8c99b027b"
   },
   "outputs": [
    {
     "name": "stdout",
     "output_type": "stream",
     "text": [
      "(28, 28, 1)\n"
     ]
    }
   ],
   "source": [
    "X_train = X_train.reshape(-1, 28, 28, 1)\n",
    "X_test = X_test.reshape(-1, 28, 28, 1)\n",
    "print(X_train[0].shape)\n",
    "\n",
    "X_train = X_train / 255\n",
    "X_test = X_test / 255"
   ]
  },
  {
   "cell_type": "code",
   "execution_count": 0,
   "metadata": {
    "colab": {
     "base_uri": "https://localhost:8080/",
     "height": 342
    },
    "colab_type": "code",
    "executionInfo": {
     "elapsed": 15107,
     "status": "ok",
     "timestamp": 1591785696313,
     "user": {
      "displayName": "Siddhartha Dutta",
      "photoUrl": "https://lh3.googleusercontent.com/a-/AOh14GiT79p-YwUAMLJLPMEjadbhQl383sQDEQ2dCLM=s64",
      "userId": "06895572418557294109"
     },
     "user_tz": -330
    },
    "id": "PvF2EXmYk-l4",
    "outputId": "c8136bcc-5376-41a6-cdfb-70f63d8b7c4b"
   },
   "outputs": [
    {
     "name": "stdout",
     "output_type": "stream",
     "text": [
      "Model: \"sequential_1\"\n",
      "_________________________________________________________________\n",
      "Layer (type)                 Output Shape              Param #   \n",
      "=================================================================\n",
      "conv2d_1 (Conv2D)            (None, 26, 26, 28)        280       \n",
      "_________________________________________________________________\n",
      "max_pooling2d_1 (MaxPooling2 (None, 13, 13, 28)        0         \n",
      "_________________________________________________________________\n",
      "flatten_1 (Flatten)          (None, 4732)              0         \n",
      "_________________________________________________________________\n",
      "dense_1 (Dense)              (None, 128)               605824    \n",
      "_________________________________________________________________\n",
      "dropout_1 (Dropout)          (None, 128)               0         \n",
      "_________________________________________________________________\n",
      "dense_2 (Dense)              (None, 10)                1290      \n",
      "=================================================================\n",
      "Total params: 607,394\n",
      "Trainable params: 607,394\n",
      "Non-trainable params: 0\n",
      "_________________________________________________________________\n"
     ]
    }
   ],
   "source": [
    "# Creating a Sequential Model and adding the layers\n",
    "model = Sequential()\n",
    "model.add(Conv2D(28, kernel_size=(3,3), input_shape=(28,28,1)))\n",
    "model.add(MaxPooling2D(pool_size=(2, 2)))\n",
    "\n",
    "model.add(Flatten())\n",
    "model.add(Dense(128, activation='relu'))\n",
    "model.add(Dropout(0.2))\n",
    "model.add(Dense(10,activation='softmax'))\n",
    "\n",
    "model.summary()"
   ]
  },
  {
   "cell_type": "code",
   "execution_count": 0,
   "metadata": {
    "colab": {
     "base_uri": "https://localhost:8080/",
     "height": 180
    },
    "colab_type": "code",
    "executionInfo": {
     "elapsed": 51490,
     "status": "ok",
     "timestamp": 1591785732865,
     "user": {
      "displayName": "Siddhartha Dutta",
      "photoUrl": "https://lh3.googleusercontent.com/a-/AOh14GiT79p-YwUAMLJLPMEjadbhQl383sQDEQ2dCLM=s64",
      "userId": "06895572418557294109"
     },
     "user_tz": -330
    },
    "id": "9VHtgN1wlRW_",
    "outputId": "cca87f12-37c1-4897-9eea-b419ceb3d573"
   },
   "outputs": [
    {
     "name": "stdout",
     "output_type": "stream",
     "text": [
      "Epoch 1/5\n",
      "60000/60000 [==============================] - 13s 215us/step - loss: 0.2114 - accuracy: 0.9367\n",
      "Epoch 2/5\n",
      "60000/60000 [==============================] - 6s 98us/step - loss: 0.0865 - accuracy: 0.9734\n",
      "Epoch 3/5\n",
      "60000/60000 [==============================] - 6s 98us/step - loss: 0.0601 - accuracy: 0.9810\n",
      "Epoch 4/5\n",
      "60000/60000 [==============================] - 6s 97us/step - loss: 0.0476 - accuracy: 0.9848\n",
      "Epoch 5/5\n",
      "60000/60000 [==============================] - 6s 98us/step - loss: 0.0375 - accuracy: 0.9877\n"
     ]
    }
   ],
   "source": [
    "model.compile(optimizer='adam', \n",
    "              loss='sparse_categorical_crossentropy', \n",
    "              metrics=['accuracy']) \n",
    "model.save(\"model.h5\")\n",
    "\n",
    "history = model.fit(X_train,Y_train, epochs=5)"
   ]
  },
  {
   "cell_type": "code",
   "execution_count": 0,
   "metadata": {
    "colab": {
     "base_uri": "https://localhost:8080/",
     "height": 545
    },
    "colab_type": "code",
    "executionInfo": {
     "elapsed": 50887,
     "status": "ok",
     "timestamp": 1591785732867,
     "user": {
      "displayName": "Siddhartha Dutta",
      "photoUrl": "https://lh3.googleusercontent.com/a-/AOh14GiT79p-YwUAMLJLPMEjadbhQl383sQDEQ2dCLM=s64",
      "userId": "06895572418557294109"
     },
     "user_tz": -330
    },
    "id": "KBSO9Gc7nMCU",
    "outputId": "c0a43dfc-14ea-470d-dc17-de52bc82531b"
   },
   "outputs": [
    {
     "data": {
      "image/png": "[encoded data removed]",
      "text/plain": [
       "<Figure size 432x288 with 1 Axes>"
      ]
     },
     "metadata": {
      "needs_background": "light",
      "tags": []
     },
     "output_type": "display_data"
    },
    {
     "data": {
      "image/png": "[encoded data removed]",
      "text/plain": [
       "<Figure size 432x288 with 1 Axes>"
      ]
     },
     "metadata": {
      "needs_background": "light",
      "tags": []
     },
     "output_type": "display_data"
    }
   ],
   "source": [
    "acc = history.history['accuracy']\n",
    "loss = history.history['loss']\n",
    "epochs_range = range(5)\n",
    "\n",
    "plt.plot(epochs_range, acc, label='Training Accuracy')\n",
    "plt.title('Training Accuracy')\n",
    "plt.show()\n",
    "\n",
    "plt.plot(epochs_range, loss, label='Training Loss')\n",
    "plt.title('Training Loss')\n",
    "plt.show()"
   ]
  },
  {
   "cell_type": "code",
   "execution_count": 0,
   "metadata": {
    "colab": {
     "base_uri": "https://localhost:8080/",
     "height": 66
    },
    "colab_type": "code",
    "executionInfo": {
     "elapsed": 51309,
     "status": "ok",
     "timestamp": 1591785733829,
     "user": {
      "displayName": "Siddhartha Dutta",
      "photoUrl": "https://lh3.googleusercontent.com/a-/AOh14GiT79p-YwUAMLJLPMEjadbhQl383sQDEQ2dCLM=s64",
      "userId": "06895572418557294109"
     },
     "user_tz": -330
    },
    "id": "b5jDLHHgl6nK",
    "outputId": "349da9bc-f382-4a32-8468-df2bad9003a0"
   },
   "outputs": [
    {
     "name": "stdout",
     "output_type": "stream",
     "text": [
      "10000/10000 [==============================] - 1s 56us/step\n",
      "Testing Loss: 0.0532138827809511\n",
      "Testing Accuracy: 0.9832000136375427\n"
     ]
    }
   ],
   "source": [
    "loss, acc = model.evaluate(X_test, Y_test)\n",
    "print(\"Testing Loss:\", loss)\n",
    "print(\"Testing Accuracy:\", acc)"
   ]
  },
  {
   "cell_type": "code",
   "execution_count": 0,
   "metadata": {
    "colab": {
     "base_uri": "https://localhost:8080/",
     "height": 281
    },
    "colab_type": "code",
    "executionInfo": {
     "elapsed": 49621,
     "status": "ok",
     "timestamp": 1591785733831,
     "user": {
      "displayName": "Siddhartha Dutta",
      "photoUrl": "https://lh3.googleusercontent.com/a-/AOh14GiT79p-YwUAMLJLPMEjadbhQl383sQDEQ2dCLM=s64",
      "userId": "06895572418557294109"
     },
     "user_tz": -330
    },
    "id": "FnXN8EHrmcs7",
    "outputId": "b6714389-80a1-4d7d-c63e-b58fd3276a4a"
   },
   "outputs": [
    {
     "data": {
      "image/png": "[encoded data removed]",
      "text/plain": [
       "<Figure size 432x288 with 1 Axes>"
      ]
     },
     "metadata": {
      "needs_background": "light",
      "tags": []
     },
     "output_type": "display_data"
    }
   ],
   "source": [
    "image_index = 7777\n",
    "pred = model.predict(X_test[image_index].reshape(1, 28, 28, 1))\n",
    "plt.imshow(X_test[image_index].reshape(28, 28),cmap='Greys')\n",
    "plt.title(\"Actual: {}  Predicted: {}\".format(Y_test[image_index], pred.argmax()))\n",
    "plt.show()"
   ]
  },
  {
   "cell_type": "markdown",
   "metadata": {
    "colab_type": "text",
    "id": "jnVOrQF76VYS"
   },
   "source": [
    "# Using the Model"
   ]
  },
  {
   "cell_type": "code",
   "execution_count": 2,
   "metadata": {
    "colab": {
     "base_uri": "https://localhost:8080/",
     "height": 342
    },
    "colab_type": "code",
    "executionInfo": {
     "elapsed": 9716,
     "status": "ok",
     "timestamp": 1591788415221,
     "user": {
      "displayName": "Siddhartha Dutta",
      "photoUrl": "https://lh3.googleusercontent.com/a-/AOh14GiT79p-YwUAMLJLPMEjadbhQl383sQDEQ2dCLM=s64",
      "userId": "06895572418557294109"
     },
     "user_tz": -330
    },
    "id": "aecvIrLL2xx_",
    "outputId": "74540b97-be9e-4741-c408-77bfb26b1473"
   },
   "outputs": [
    {
     "name": "stdout",
     "output_type": "stream",
     "text": [
      "Model: \"sequential_1\"\n",
      "_________________________________________________________________\n",
      "Layer (type)                 Output Shape              Param #   \n",
      "=================================================================\n",
      "conv2d_1 (Conv2D)            (None, 26, 26, 28)        280       \n",
      "_________________________________________________________________\n",
      "max_pooling2d_1 (MaxPooling2 (None, 13, 13, 28)        0         \n",
      "_________________________________________________________________\n",
      "flatten_1 (Flatten)          (None, 4732)              0         \n",
      "_________________________________________________________________\n",
      "dense_1 (Dense)              (None, 128)               605824    \n",
      "_________________________________________________________________\n",
      "dropout_1 (Dropout)          (None, 128)               0         \n",
      "_________________________________________________________________\n",
      "dense_2 (Dense)              (None, 10)                1290      \n",
      "=================================================================\n",
      "Total params: 607,394\n",
      "Trainable params: 607,394\n",
      "Non-trainable params: 0\n",
      "_________________________________________________________________\n"
     ]
    }
   ],
   "source": [
    "from keras.models import load_model\n",
    "model = load_model('model.h5')\n",
    "model.summary()"
   ]
  },
  {
   "cell_type": "code",
   "execution_count": 3,
   "metadata": {
    "colab": {
     "base_uri": "https://localhost:8080/",
     "height": 33
    },
    "colab_type": "code",
    "executionInfo": {
     "elapsed": 7365,
     "status": "ok",
     "timestamp": 1591788424274,
     "user": {
      "displayName": "Siddhartha Dutta",
      "photoUrl": "https://lh3.googleusercontent.com/a-/AOh14GiT79p-YwUAMLJLPMEjadbhQl383sQDEQ2dCLM=s64",
      "userId": "06895572418557294109"
     },
     "user_tz": -330
    },
    "id": "LmCAWIl35PHt",
    "outputId": "0d93666c-b04d-41dd-e549-5bfd74350030"
   },
   "outputs": [
    {
     "name": "stdout",
     "output_type": "stream",
     "text": [
      "Prediction: 8\n"
     ]
    }
   ],
   "source": [
    "from PIL import Image, ImageOps\n",
    "import numpy as np\n",
    "\n",
    "image = Image.open('sample_image.png')\n",
    "image = image.resize((28, 28)) # Resizing Image\n",
    "image = image.convert('L') # Grey Scaling Image\n",
    "image = ImageOps.invert(image) # Invert Grey Scale\n",
    "img = np.array(image)\n",
    "res = model.predict(img.reshape(-1, 28, 28, 1))\n",
    "print(\"Prediction:\", res.argmax())"
   ]
  }
 ],
 "metadata": {
  "accelerator": "GPU",
  "colab": {
   "authorship_tag": "ABX9TyMldw4UNW/b51fN1kNVOrXt",
   "collapsed_sections": [
    "WBHy1uQ46Mt4"
   ],
   "name": "Hand-Written Digit Image Recognition.ipynb",
   "provenance": []
  },
  "kernelspec": {
   "display_name": "Python 3",
   "language": "python",
   "name": "python3"
  },
  "language_info": {
   "codemirror_mode": {
    "name": "ipython",
    "version": 3
   },
   "file_extension": ".py",
   "mimetype": "text/x-python",
   "name": "python",
   "nbconvert_exporter": "python",
   "pygments_lexer": "ipython3",
   "version": "3.7.4"
  }
 },
 "nbformat": 4,
 "nbformat_minor": 1
}
