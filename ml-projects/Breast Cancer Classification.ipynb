{
 "cells": [
  {
   "cell_type": "code",
   "execution_count": 1,
   "metadata": {
    "colab": {
     "base_uri": "https://localhost:8080/",
     "height": 1000
    },
    "colab_type": "code",
    "executionInfo": {
     "elapsed": 17024,
     "status": "ok",
     "timestamp": 1591293456346,
     "user": {
      "displayName": "Siddhartha Dutta",
      "photoUrl": "https://lh3.googleusercontent.com/a-/AOh14GiT79p-YwUAMLJLPMEjadbhQl383sQDEQ2dCLM=s64",
      "userId": "06895572418557294109"
     },
     "user_tz": -330
    },
    "id": "SRUHBOqIQJ4_",
    "outputId": "617b66bc-2ca5-4c45-af44-8afc6eaae4b4"
   },
   "outputs": [
    {
     "name": "stdout",
     "output_type": "stream",
     "text": [
      "--2020-06-04 17:57:20--  https://data.mendeley.com/datasets/wmy84gzngw/1/files/b63daee9-78de-4122-8475-9b3aa22ffd64/us-dataset.zip?dl=1\n",
      "Resolving data.mendeley.com (data.mendeley.com)... 162.159.133.86, 162.159.130.86, 2606:4700:7::a29f:8256, ...\n",
      "Connecting to data.mendeley.com (data.mendeley.com)|162.159.133.86|:443... connected.\n",
      "HTTP request sent, awaiting response... 302 Found\n",
      "Location: https://md-datasets-public-files-prod.s3.eu-west-1.amazonaws.com/593779a5-2510-4e2d-adeb-71bdcf69a5f4 [following]\n",
      "--2020-06-04 17:57:21--  https://md-datasets-public-files-prod.s3.eu-west-1.amazonaws.com/593779a5-2510-4e2d-adeb-71bdcf69a5f4\n",
      "Resolving md-datasets-public-files-prod.s3.eu-west-1.amazonaws.com (md-datasets-public-files-prod.s3.eu-west-1.amazonaws.com)... 52.218.53.211\n",
      "Connecting to md-datasets-public-files-prod.s3.eu-west-1.amazonaws.com (md-datasets-public-files-prod.s3.eu-west-1.amazonaws.com)|52.218.53.211|:443... connected.\n",
      "HTTP request sent, awaiting response... 200 OK\n",
      "Length: 3264338 (3.1M) [application/zip]\n",
      "Saving to: ‘us-dataset.zip?dl=1.2’\n",
      "\n",
      "us-dataset.zip?dl=1 100%[===================>]   3.11M  1.44MB/s    in 2.2s    \n",
      "\n",
      "2020-06-04 17:57:25 (1.44 MB/s) - ‘us-dataset.zip?dl=1.2’ saved [3264338/3264338]\n",
      "\n",
      "Archive:  us-dataset.zip?dl=1\n",
      "   creating: originals/\n",
      "   creating: originals/benign/\n",
      "  inflating: originals/benign/us1.bmp  \n",
      "  inflating: originals/benign/us10.bmp  \n",
      "  inflating: originals/benign/us100.bmp  \n",
      "  inflating: originals/benign/us11.bmp  \n",
      "  inflating: originals/benign/us12.bmp  \n",
      "  inflating: originals/benign/us13.bmp  \n",
      "  inflating: originals/benign/us14.bmp  \n",
      "  inflating: originals/benign/us15.bmp  \n",
      "  inflating: originals/benign/us16.bmp  \n",
      "  inflating: originals/benign/us17.bmp  \n",
      "  inflating: originals/benign/us18.bmp  \n",
      "  inflating: originals/benign/us19.bmp  \n",
      "  inflating: originals/benign/us2.bmp  \n",
      "  inflating: originals/benign/us20.bmp  \n",
      "  inflating: originals/benign/us21.bmp  \n",
      "  inflating: originals/benign/us22.bmp  \n",
      "  inflating: originals/benign/us23.bmp  \n",
      "  inflating: originals/benign/us24.bmp  \n",
      "  inflating: originals/benign/us25.bmp  \n",
      "  inflating: originals/benign/us26.bmp  \n",
      "  inflating: originals/benign/us27.bmp  \n",
      "  inflating: originals/benign/us28.bmp  \n",
      "  inflating: originals/benign/us29.bmp  \n",
      "  inflating: originals/benign/us3.bmp  \n",
      "  inflating: originals/benign/us30.bmp  \n",
      "  inflating: originals/benign/us31.bmp  \n",
      "  inflating: originals/benign/us32.bmp  \n",
      "  inflating: originals/benign/us33.bmp  \n",
      "  inflating: originals/benign/us34.bmp  \n",
      "  inflating: originals/benign/us35.bmp  \n",
      "  inflating: originals/benign/us36.bmp  \n",
      "  inflating: originals/benign/us37.bmp  \n",
      "  inflating: originals/benign/us38.bmp  \n",
      "  inflating: originals/benign/us39.bmp  \n",
      "  inflating: originals/benign/us4.bmp  \n",
      "  inflating: originals/benign/us40.bmp  \n",
      "  inflating: originals/benign/us41.bmp  \n",
      "  inflating: originals/benign/us42.bmp  \n",
      "  inflating: originals/benign/us43.bmp  \n",
      "  inflating: originals/benign/us44.bmp  \n",
      "  inflating: originals/benign/us45.bmp  \n",
      "  inflating: originals/benign/us46.bmp  \n",
      "  inflating: originals/benign/us47.bmp  \n",
      "  inflating: originals/benign/us48.bmp  \n",
      "  inflating: originals/benign/us49.bmp  \n",
      "  inflating: originals/benign/us5.bmp  \n",
      "  inflating: originals/benign/us50.bmp  \n",
      "  inflating: originals/benign/us51.bmp  \n",
      "  inflating: originals/benign/us52.bmp  \n",
      "  inflating: originals/benign/us53.bmp  \n",
      "  inflating: originals/benign/us54.bmp  \n",
      "  inflating: originals/benign/us55.bmp  \n",
      "  inflating: originals/benign/us56.bmp  \n",
      "  inflating: originals/benign/us57.bmp  \n",
      "  inflating: originals/benign/us58.bmp  \n",
      "  inflating: originals/benign/us59.bmp  \n",
      "  inflating: originals/benign/us6.bmp  \n",
      "  inflating: originals/benign/us60.bmp  \n",
      "  inflating: originals/benign/us61.bmp  \n",
      "  inflating: originals/benign/us62.bmp  \n",
      "  inflating: originals/benign/us63.bmp  \n",
      "  inflating: originals/benign/us64.bmp  \n",
      "  inflating: originals/benign/us65.bmp  \n",
      "  inflating: originals/benign/us66.bmp  \n",
      "  inflating: originals/benign/us67.bmp  \n",
      "  inflating: originals/benign/us68.bmp  \n",
      "  inflating: originals/benign/us69.bmp  \n",
      "  inflating: originals/benign/us7.bmp  \n",
      "  inflating: originals/benign/us70.bmp  \n",
      "  inflating: originals/benign/us71.bmp  \n",
      "  inflating: originals/benign/us72.bmp  \n",
      "  inflating: originals/benign/us73.bmp  \n",
      "  inflating: originals/benign/us74.bmp  \n",
      "  inflating: originals/benign/us75.bmp  \n",
      "  inflating: originals/benign/us76.bmp  \n",
      "  inflating: originals/benign/us77.bmp  \n",
      "  inflating: originals/benign/us78.bmp  \n",
      "  inflating: originals/benign/us79.bmp  \n",
      "  inflating: originals/benign/us8.bmp  \n",
      "  inflating: originals/benign/us80.bmp  \n",
      "  inflating: originals/benign/us81.bmp  \n",
      "  inflating: originals/benign/us82.bmp  \n",
      "  inflating: originals/benign/us83.bmp  \n",
      "  inflating: originals/benign/us84.bmp  \n",
      "  inflating: originals/benign/us85.bmp  \n",
      "  inflating: originals/benign/us86.bmp  \n",
      "  inflating: originals/benign/us87.bmp  \n",
      "  inflating: originals/benign/us88.bmp  \n",
      "  inflating: originals/benign/us89.bmp  \n",
      "  inflating: originals/benign/us9.bmp  \n",
      "  inflating: originals/benign/us90.bmp  \n",
      "  inflating: originals/benign/us91.bmp  \n",
      "  inflating: originals/benign/us92.bmp  \n",
      "  inflating: originals/benign/us93.bmp  \n",
      "  inflating: originals/benign/us94.bmp  \n",
      "  inflating: originals/benign/us95.bmp  \n",
      "  inflating: originals/benign/us96.bmp  \n",
      "  inflating: originals/benign/us97.bmp  \n",
      "  inflating: originals/benign/us98.bmp  \n",
      "  inflating: originals/benign/us99.bmp  \n",
      "   creating: originals/malignant/\n",
      "  inflating: originals/malignant/us101.bmp  \n",
      "  inflating: originals/malignant/us102.bmp  \n",
      "  inflating: originals/malignant/us103.bmp  \n",
      "  inflating: originals/malignant/us104.bmp  \n",
      "  inflating: originals/malignant/us105.bmp  \n",
      "  inflating: originals/malignant/us106.bmp  \n",
      "  inflating: originals/malignant/us107.bmp  \n",
      "  inflating: originals/malignant/us108.bmp  \n",
      "  inflating: originals/malignant/us109.bmp  \n",
      "  inflating: originals/malignant/us110.bmp  \n",
      "  inflating: originals/malignant/us111.bmp  \n",
      "  inflating: originals/malignant/us112.bmp  \n",
      "  inflating: originals/malignant/us113.bmp  \n",
      "  inflating: originals/malignant/us114.bmp  \n",
      "  inflating: originals/malignant/us115.bmp  \n",
      "  inflating: originals/malignant/us116.bmp  \n",
      "  inflating: originals/malignant/us117.bmp  \n",
      "  inflating: originals/malignant/us118.bmp  \n",
      "  inflating: originals/malignant/us119.bmp  \n",
      "  inflating: originals/malignant/us120.bmp  \n",
      "  inflating: originals/malignant/us121.bmp  \n",
      "  inflating: originals/malignant/us122.bmp  \n",
      "  inflating: originals/malignant/us123.bmp  \n",
      "  inflating: originals/malignant/us124.bmp  \n",
      "  inflating: originals/malignant/us125.bmp  \n",
      "  inflating: originals/malignant/us126.bmp  \n",
      "  inflating: originals/malignant/us127.bmp  \n",
      "  inflating: originals/malignant/us128.bmp  \n",
      "  inflating: originals/malignant/us129.bmp  \n",
      "  inflating: originals/malignant/us130.bmp  \n",
      "  inflating: originals/malignant/us131.bmp  \n",
      "  inflating: originals/malignant/us132.bmp  \n",
      "  inflating: originals/malignant/us133.bmp  \n",
      "  inflating: originals/malignant/us134.bmp  \n",
      "  inflating: originals/malignant/us135.bmp  \n",
      "  inflating: originals/malignant/us136.bmp  \n",
      "  inflating: originals/malignant/us137.bmp  \n",
      "  inflating: originals/malignant/us138.bmp  \n",
      "  inflating: originals/malignant/us139.bmp  \n",
      "  inflating: originals/malignant/us140.bmp  \n",
      "  inflating: originals/malignant/us141.bmp  \n",
      "  inflating: originals/malignant/us142.bmp  \n",
      "  inflating: originals/malignant/us143.bmp  \n",
      "  inflating: originals/malignant/us144.bmp  \n",
      "  inflating: originals/malignant/us145.bmp  \n",
      "  inflating: originals/malignant/us146.bmp  \n",
      "  inflating: originals/malignant/us147.bmp  \n",
      "  inflating: originals/malignant/us148.bmp  \n",
      "  inflating: originals/malignant/us149.bmp  \n",
      "  inflating: originals/malignant/us150.bmp  \n",
      "  inflating: originals/malignant/us151.bmp  \n",
      "  inflating: originals/malignant/us152.bmp  \n",
      "  inflating: originals/malignant/us153.bmp  \n",
      "  inflating: originals/malignant/us154.bmp  \n",
      "  inflating: originals/malignant/us155.bmp  \n",
      "  inflating: originals/malignant/us156.bmp  \n",
      "  inflating: originals/malignant/us157.bmp  \n",
      "  inflating: originals/malignant/us158.bmp  \n",
      "  inflating: originals/malignant/us159.bmp  \n",
      "  inflating: originals/malignant/us160.bmp  \n",
      "  inflating: originals/malignant/us161.bmp  \n",
      "  inflating: originals/malignant/us162.bmp  \n",
      "  inflating: originals/malignant/us163.bmp  \n",
      "  inflating: originals/malignant/us164.bmp  \n",
      "  inflating: originals/malignant/us165.bmp  \n",
      "  inflating: originals/malignant/us166.bmp  \n",
      "  inflating: originals/malignant/us167.bmp  \n",
      "  inflating: originals/malignant/us168.bmp  \n",
      "  inflating: originals/malignant/us169.bmp  \n",
      "  inflating: originals/malignant/us170.bmp  \n",
      "  inflating: originals/malignant/us171.bmp  \n",
      "  inflating: originals/malignant/us172.bmp  \n",
      "  inflating: originals/malignant/us173.bmp  \n",
      "  inflating: originals/malignant/us174.bmp  \n",
      "  inflating: originals/malignant/us175.bmp  \n",
      "  inflating: originals/malignant/us176.bmp  \n",
      "  inflating: originals/malignant/us177.bmp  \n",
      "  inflating: originals/malignant/us178.bmp  \n",
      "  inflating: originals/malignant/us179.bmp  \n",
      "  inflating: originals/malignant/us180.bmp  \n",
      "  inflating: originals/malignant/us181.bmp  \n",
      "  inflating: originals/malignant/us182.bmp  \n",
      "  inflating: originals/malignant/us183.bmp  \n",
      "  inflating: originals/malignant/us184.bmp  \n",
      "  inflating: originals/malignant/us185.bmp  \n",
      "  inflating: originals/malignant/us186.bmp  \n",
      "  inflating: originals/malignant/us187.bmp  \n",
      "  inflating: originals/malignant/us188.bmp  \n",
      "  inflating: originals/malignant/us189.bmp  \n",
      "  inflating: originals/malignant/us190.bmp  \n",
      "  inflating: originals/malignant/us191.bmp  \n",
      "  inflating: originals/malignant/us192.bmp  \n",
      "  inflating: originals/malignant/us193.bmp  \n",
      "  inflating: originals/malignant/us194.bmp  \n",
      "  inflating: originals/malignant/us195.bmp  \n",
      "  inflating: originals/malignant/us196.bmp  \n",
      "  inflating: originals/malignant/us197.bmp  \n",
      "  inflating: originals/malignant/us198.bmp  \n",
      "  inflating: originals/malignant/us199.bmp  \n",
      "  inflating: originals/malignant/us200.bmp  \n",
      "  inflating: originals/malignant/us201.bmp  \n",
      "  inflating: originals/malignant/us202.bmp  \n",
      "  inflating: originals/malignant/us203.bmp  \n",
      "  inflating: originals/malignant/us204.bmp  \n",
      "  inflating: originals/malignant/us205.bmp  \n",
      "  inflating: originals/malignant/us206.bmp  \n",
      "  inflating: originals/malignant/us207.bmp  \n",
      "  inflating: originals/malignant/us208.bmp  \n",
      "  inflating: originals/malignant/us209.bmp  \n",
      "  inflating: originals/malignant/us210.bmp  \n",
      "  inflating: originals/malignant/us211.bmp  \n",
      "  inflating: originals/malignant/us212.bmp  \n",
      "  inflating: originals/malignant/us213.bmp  \n",
      "  inflating: originals/malignant/us214.bmp  \n",
      "  inflating: originals/malignant/us215.bmp  \n",
      "  inflating: originals/malignant/us216.bmp  \n",
      "  inflating: originals/malignant/us217.bmp  \n",
      "  inflating: originals/malignant/us218.bmp  \n",
      "  inflating: originals/malignant/us219.bmp  \n",
      "  inflating: originals/malignant/us220.bmp  \n",
      "  inflating: originals/malignant/us221.bmp  \n",
      "  inflating: originals/malignant/us222.bmp  \n",
      "  inflating: originals/malignant/us223.bmp  \n",
      "  inflating: originals/malignant/us224.bmp  \n",
      "  inflating: originals/malignant/us225.bmp  \n",
      "  inflating: originals/malignant/us226.bmp  \n",
      "  inflating: originals/malignant/us227.bmp  \n",
      "  inflating: originals/malignant/us228.bmp  \n",
      "  inflating: originals/malignant/us229.bmp  \n",
      "  inflating: originals/malignant/us230.bmp  \n",
      "  inflating: originals/malignant/us231.bmp  \n",
      "  inflating: originals/malignant/us232.bmp  \n",
      "  inflating: originals/malignant/us233.bmp  \n",
      "  inflating: originals/malignant/us234.bmp  \n",
      "  inflating: originals/malignant/us235.bmp  \n",
      "  inflating: originals/malignant/us236.bmp  \n",
      "  inflating: originals/malignant/us237.bmp  \n",
      "  inflating: originals/malignant/us238.bmp  \n",
      "  inflating: originals/malignant/us239.bmp  \n",
      "  inflating: originals/malignant/us240.bmp  \n",
      "  inflating: originals/malignant/us241.bmp  \n",
      "  inflating: originals/malignant/us242.bmp  \n",
      "  inflating: originals/malignant/us243.bmp  \n",
      "  inflating: originals/malignant/us244.bmp  \n",
      "  inflating: originals/malignant/us245.bmp  \n",
      "  inflating: originals/malignant/us246.bmp  \n",
      "  inflating: originals/malignant/us247.bmp  \n",
      "  inflating: originals/malignant/us248.bmp  \n",
      "  inflating: originals/malignant/us249.bmp  \n",
      "  inflating: originals/malignant/us250.bmp  \n"
     ]
    }
   ],
   "source": [
    "# Obtaining Dataset\n",
    "! wget https://data.mendeley.com/datasets/wmy84gzngw/1/files/b63daee9-78de-4122-8475-9b3aa22ffd64/us-dataset.zip?dl=1\n",
    "! unzip us-dataset.zip?dl=1\n",
    "! mv originals dataset"
   ]
  },
  {
   "cell_type": "code",
   "execution_count": 3,
   "metadata": {
    "colab": {
     "base_uri": "https://localhost:8080/",
     "height": 33
    },
    "colab_type": "code",
    "executionInfo": {
     "elapsed": 4828,
     "status": "ok",
     "timestamp": 1591293507787,
     "user": {
      "displayName": "Siddhartha Dutta",
      "photoUrl": "https://lh3.googleusercontent.com/a-/AOh14GiT79p-YwUAMLJLPMEjadbhQl383sQDEQ2dCLM=s64",
      "userId": "06895572418557294109"
     },
     "user_tz": -330
    },
    "id": "zrTnWPlyUHyf",
    "outputId": "ce2d95e7-7967-4ca8-f34d-06eb0fc2d755"
   },
   "outputs": [
    {
     "name": "stderr",
     "output_type": "stream",
     "text": [
      "Using TensorFlow backend.\n"
     ]
    }
   ],
   "source": [
    "# Importing Libraries\n",
    "import numpy as np\n",
    "import matplotlib.pyplot as plt\n",
    "\n",
    "from keras.preprocessing.image import ImageDataGenerator\n",
    "from keras.models import Sequential\n",
    "from keras.layers import Conv2D, MaxPooling2D\n",
    "from keras.layers import Activation, Dropout, Flatten, Dense"
   ]
  },
  {
   "cell_type": "code",
   "execution_count": 0,
   "metadata": {
    "colab": {},
    "colab_type": "code",
    "id": "6vFaRioRUdca"
   },
   "outputs": [],
   "source": [
    "# Dataset Preparation\n",
    "import os\n",
    "import random\n",
    "import shutil\n",
    "\n",
    "os.chdir('dataset/')\n",
    "os.mkdir('train/')\n",
    "os.mkdir('train/benign')\n",
    "os.mkdir('train/malignant')\n",
    "os.mkdir('validation/')\n",
    "os.mkdir('validation/benign')\n",
    "os.mkdir('validation/malignant')\n",
    "\n",
    "benign_samples = os.listdir('benign')\n",
    "random.shuffle(benign_samples)\n",
    "train_benign = benign_samples[:int(0.8*len(benign_samples))]\n",
    "val_benign = benign_samples[int(0.8*len(benign_samples)):]\n",
    "\n",
    "for f in train_benign:\n",
    "  shutil.move('benign/'+f, 'train/benign')\n",
    "for f in val_benign:\n",
    "  shutil.move('benign/'+f, 'validation/benign')\n",
    "os.rmdir('benign')\n",
    "\n",
    "malignant_samples = os.listdir('malignant')\n",
    "random.shuffle(malignant_samples)\n",
    "train_malignant = malignant_samples[:int(0.8*len(malignant_samples))]\n",
    "val_malignant = malignant_samples[int(0.8*len(malignant_samples)):]\n",
    "\n",
    "for f in train_malignant:\n",
    "  shutil.move('malignant/'+f, 'train/malignant')\n",
    "for f in val_malignant:\n",
    "  shutil.move('malignant/'+f, 'validation/malignant')\n",
    "os.rmdir('malignant')"
   ]
  },
  {
   "cell_type": "code",
   "execution_count": 4,
   "metadata": {
    "colab": {
     "base_uri": "https://localhost:8080/",
     "height": 50
    },
    "colab_type": "code",
    "executionInfo": {
     "elapsed": 2648,
     "status": "ok",
     "timestamp": 1591293512957,
     "user": {
      "displayName": "Siddhartha Dutta",
      "photoUrl": "https://lh3.googleusercontent.com/a-/AOh14GiT79p-YwUAMLJLPMEjadbhQl383sQDEQ2dCLM=s64",
      "userId": "06895572418557294109"
     },
     "user_tz": -330
    },
    "id": "0WDjslDjJHc_",
    "outputId": "26e3864b-80a5-4e15-b043-da740bc46ace"
   },
   "outputs": [
    {
     "name": "stdout",
     "output_type": "stream",
     "text": [
      "Found 200 images belonging to 2 classes.\n",
      "Found 50 images belonging to 2 classes.\n"
     ]
    }
   ],
   "source": [
    "# Data Pre-Processing\n",
    "IMG_HEIGHT = 30\n",
    "IMG_WIDTH = 40\n",
    "\n",
    "datagen = ImageDataGenerator(rotation_range=40,\n",
    "                             width_shift_range=0.2,\n",
    "                             height_shift_range=0.2,\n",
    "                             shear_range=0.2,\n",
    "                             zoom_range=0.2,\n",
    "                             horizontal_flip=True,\n",
    "                             vertical_flip=True,\n",
    "                             fill_mode='nearest')\n",
    "\n",
    "training_set = datagen.flow_from_directory(\"train\",\n",
    "                                           target_size=(IMG_HEIGHT, IMG_WIDTH),\n",
    "                                           batch_size=32,\n",
    "                                           color_mode=\"grayscale\",\n",
    "                                           class_mode='binary')\n",
    "\n",
    "validation_set = datagen.flow_from_directory(\"validation\",\n",
    "                                             target_size=(IMG_HEIGHT, IMG_WIDTH),\n",
    "                                             batch_size=32,\n",
    "                                             color_mode=\"grayscale\",\n",
    "                                             class_mode='binary')\n",
    "label_map = training_set.class_indices #{'benign': 0, 'malignant': 1}"
   ]
  },
  {
   "cell_type": "code",
   "execution_count": 5,
   "metadata": {
    "colab": {
     "base_uri": "https://localhost:8080/",
     "height": 302
    },
    "colab_type": "code",
    "executionInfo": {
     "elapsed": 6428,
     "status": "ok",
     "timestamp": 1591293516941,
     "user": {
      "displayName": "Siddhartha Dutta",
      "photoUrl": "https://lh3.googleusercontent.com/a-/AOh14GiT79p-YwUAMLJLPMEjadbhQl383sQDEQ2dCLM=s64",
      "userId": "06895572418557294109"
     },
     "user_tz": -330
    },
    "id": "tk1zU_trMHkO",
    "outputId": "2ab50b90-53e5-4af3-fe94-6287a294c396"
   },
   "outputs": [
    {
     "data": {
      "image/png": "[encoded data removed]",
      "text/plain": [
       "<Figure size 720x360 with 10 Axes>"
      ]
     },
     "metadata": {
      "needs_background": "light",
      "tags": []
     },
     "output_type": "display_data"
    }
   ],
   "source": [
    "# Plotting 2x5 Images from Training Set\n",
    "sample_images, sample_labels = next(training_set)\n",
    "fig, axes = plt.subplots(2, 5, figsize=(10,5))\n",
    "axes = axes.flatten()\n",
    "for img, label, ax in zip(sample_images[:10], sample_labels[:10], axes):\n",
    "    ax.imshow(np.squeeze(img), cmap='gray')\n",
    "    ax.axis('off')\n",
    "    ax.set_title(label)\n",
    "plt.tight_layout()\n",
    "plt.show()"
   ]
  },
  {
   "cell_type": "code",
   "execution_count": 6,
   "metadata": {
    "colab": {
     "base_uri": "https://localhost:8080/",
     "height": 537
    },
    "colab_type": "code",
    "executionInfo": {
     "elapsed": 4455,
     "status": "ok",
     "timestamp": 1591293516942,
     "user": {
      "displayName": "Siddhartha Dutta",
      "photoUrl": "https://lh3.googleusercontent.com/a-/AOh14GiT79p-YwUAMLJLPMEjadbhQl383sQDEQ2dCLM=s64",
      "userId": "06895572418557294109"
     },
     "user_tz": -330
    },
    "id": "h1QtxltoSHEn",
    "outputId": "2a70e4ac-59f8-42a0-c16a-219514198a8c"
   },
   "outputs": [
    {
     "name": "stdout",
     "output_type": "stream",
     "text": [
      "Model: \"sequential_1\"\n",
      "_________________________________________________________________\n",
      "Layer (type)                 Output Shape              Param #   \n",
      "=================================================================\n",
      "conv2d_1 (Conv2D)            (None, 28, 38, 64)        640       \n",
      "_________________________________________________________________\n",
      "max_pooling2d_1 (MaxPooling2 (None, 14, 19, 64)        0         \n",
      "_________________________________________________________________\n",
      "conv2d_2 (Conv2D)            (None, 12, 17, 64)        36928     \n",
      "_________________________________________________________________\n",
      "max_pooling2d_2 (MaxPooling2 (None, 6, 8, 64)          0         \n",
      "_________________________________________________________________\n",
      "conv2d_3 (Conv2D)            (None, 4, 6, 64)          36928     \n",
      "_________________________________________________________________\n",
      "max_pooling2d_3 (MaxPooling2 (None, 2, 3, 64)          0         \n",
      "_________________________________________________________________\n",
      "flatten_1 (Flatten)          (None, 384)               0         \n",
      "_________________________________________________________________\n",
      "dense_1 (Dense)              (None, 64)                24640     \n",
      "_________________________________________________________________\n",
      "dropout_1 (Dropout)          (None, 64)                0         \n",
      "_________________________________________________________________\n",
      "dense_2 (Dense)              (None, 64)                4160      \n",
      "_________________________________________________________________\n",
      "dropout_2 (Dropout)          (None, 64)                0         \n",
      "_________________________________________________________________\n",
      "dense_3 (Dense)              (None, 1)                 65        \n",
      "=================================================================\n",
      "Total params: 103,361\n",
      "Trainable params: 103,361\n",
      "Non-trainable params: 0\n",
      "_________________________________________________________________\n"
     ]
    }
   ],
   "source": [
    "# Deep Learning Model\n",
    "model = Sequential()\n",
    "model.add(Conv2D(64, (3, 3), input_shape=(IMG_HEIGHT, IMG_WIDTH, 1), activation='relu'))\n",
    "model.add(MaxPooling2D(pool_size=(2, 2)))\n",
    "model.add(Conv2D(64, (3,3), activation='relu'))\n",
    "model.add(MaxPooling2D(pool_size=(2, 2)))\n",
    "model.add(Conv2D(64, (3,3), activation='relu'))\n",
    "model.add(MaxPooling2D(pool_size=(2, 2)))\n",
    "\n",
    "model.add(Flatten())\n",
    "model.add(Dense(64, activation='relu'))\n",
    "model.add(Dropout(0.5))\n",
    "model.add(Dense(64, activation='relu'))\n",
    "model.add(Dropout(0.5))\n",
    "model.add(Dense(1, activation='sigmoid'))\n",
    "\n",
    "model.summary()"
   ]
  },
  {
   "cell_type": "code",
   "execution_count": 7,
   "metadata": {
    "colab": {
     "base_uri": "https://localhost:8080/",
     "height": 992
    },
    "colab_type": "code",
    "executionInfo": {
     "elapsed": 317709,
     "status": "ok",
     "timestamp": 1591293836633,
     "user": {
      "displayName": "Siddhartha Dutta",
      "photoUrl": "https://lh3.googleusercontent.com/a-/AOh14GiT79p-YwUAMLJLPMEjadbhQl383sQDEQ2dCLM=s64",
      "userId": "06895572418557294109"
     },
     "user_tz": -330
    },
    "id": "liQ_VUzBThb5",
    "outputId": "3dfde041-14b7-4468-8aa1-d1ccee0a1db0"
   },
   "outputs": [
    {
     "name": "stdout",
     "output_type": "stream",
     "text": [
      "Epoch 1/30\n",
      "312/312 [==============================] - 12s 39ms/step - loss: 0.7873 - accuracy: 0.5711 - val_loss: 0.6522 - val_accuracy: 0.6304\n",
      "Epoch 2/30\n",
      "312/312 [==============================] - 10s 33ms/step - loss: 0.6623 - accuracy: 0.6066 - val_loss: 0.6053 - val_accuracy: 0.6432\n",
      "Epoch 3/30\n",
      "312/312 [==============================] - 10s 33ms/step - loss: 0.6388 - accuracy: 0.6297 - val_loss: 0.5936 - val_accuracy: 0.6611\n",
      "Epoch 4/30\n",
      "312/312 [==============================] - 10s 33ms/step - loss: 0.6297 - accuracy: 0.6360 - val_loss: 0.7284 - val_accuracy: 0.6615\n",
      "Epoch 5/30\n",
      "312/312 [==============================] - 10s 33ms/step - loss: 0.6027 - accuracy: 0.6576 - val_loss: 0.6184 - val_accuracy: 0.6854\n",
      "Epoch 6/30\n",
      "312/312 [==============================] - 10s 33ms/step - loss: 0.5909 - accuracy: 0.6750 - val_loss: 0.5041 - val_accuracy: 0.6979\n",
      "Epoch 7/30\n",
      "312/312 [==============================] - 10s 33ms/step - loss: 0.5583 - accuracy: 0.6944 - val_loss: 0.5618 - val_accuracy: 0.7583\n",
      "Epoch 8/30\n",
      "312/312 [==============================] - 10s 33ms/step - loss: 0.5395 - accuracy: 0.7191 - val_loss: 0.4880 - val_accuracy: 0.7682\n",
      "Epoch 9/30\n",
      "312/312 [==============================] - 11s 34ms/step - loss: 0.5154 - accuracy: 0.7383 - val_loss: 0.6038 - val_accuracy: 0.7404\n",
      "Epoch 10/30\n",
      "312/312 [==============================] - 10s 33ms/step - loss: 0.4750 - accuracy: 0.7652 - val_loss: 0.3939 - val_accuracy: 0.7539\n",
      "Epoch 11/30\n",
      "312/312 [==============================] - 10s 33ms/step - loss: 0.4138 - accuracy: 0.8077 - val_loss: 0.4233 - val_accuracy: 0.7954\n",
      "Epoch 12/30\n",
      "312/312 [==============================] - 10s 33ms/step - loss: 0.3794 - accuracy: 0.8259 - val_loss: 0.4190 - val_accuracy: 0.7747\n",
      "Epoch 13/30\n",
      "312/312 [==============================] - 10s 33ms/step - loss: 0.3713 - accuracy: 0.8356 - val_loss: 0.4115 - val_accuracy: 0.8171\n",
      "Epoch 14/30\n",
      "312/312 [==============================] - 10s 33ms/step - loss: 0.3385 - accuracy: 0.8506 - val_loss: 0.3185 - val_accuracy: 0.7904\n",
      "Epoch 15/30\n",
      "312/312 [==============================] - 10s 33ms/step - loss: 0.3382 - accuracy: 0.8460 - val_loss: 0.4495 - val_accuracy: 0.8235\n",
      "Epoch 16/30\n",
      "312/312 [==============================] - 10s 33ms/step - loss: 0.3144 - accuracy: 0.8640 - val_loss: 0.3512 - val_accuracy: 0.8034\n",
      "Epoch 17/30\n",
      "312/312 [==============================] - 10s 33ms/step - loss: 0.3150 - accuracy: 0.8666 - val_loss: 0.3465 - val_accuracy: 0.8171\n",
      "Epoch 18/30\n",
      "312/312 [==============================] - 10s 34ms/step - loss: 0.2840 - accuracy: 0.8744 - val_loss: 0.3768 - val_accuracy: 0.8294\n",
      "Epoch 19/30\n",
      "312/312 [==============================] - 10s 33ms/step - loss: 0.2708 - accuracy: 0.8824 - val_loss: 0.2862 - val_accuracy: 0.8478\n",
      "Epoch 20/30\n",
      "312/312 [==============================] - 10s 33ms/step - loss: 0.2743 - accuracy: 0.8825 - val_loss: 0.2557 - val_accuracy: 0.8568\n",
      "Epoch 21/30\n",
      "312/312 [==============================] - 10s 33ms/step - loss: 0.2515 - accuracy: 0.8905 - val_loss: 0.4176 - val_accuracy: 0.8286\n",
      "Epoch 22/30\n",
      "312/312 [==============================] - 10s 33ms/step - loss: 0.2469 - accuracy: 0.8958 - val_loss: 0.1861 - val_accuracy: 0.8711\n",
      "Epoch 23/30\n",
      "312/312 [==============================] - 10s 33ms/step - loss: 0.2408 - accuracy: 0.8975 - val_loss: 0.2714 - val_accuracy: 0.8529\n",
      "Epoch 24/30\n",
      "312/312 [==============================] - 10s 33ms/step - loss: 0.2367 - accuracy: 0.8975 - val_loss: 0.1234 - val_accuracy: 0.8672\n",
      "Epoch 25/30\n",
      "312/312 [==============================] - 11s 34ms/step - loss: 0.2248 - accuracy: 0.9029 - val_loss: 0.2383 - val_accuracy: 0.8798\n",
      "Epoch 26/30\n",
      "312/312 [==============================] - 10s 33ms/step - loss: 0.2300 - accuracy: 0.9040 - val_loss: 0.8267 - val_accuracy: 0.8815\n",
      "Epoch 27/30\n",
      "312/312 [==============================] - 10s 33ms/step - loss: 0.2218 - accuracy: 0.9101 - val_loss: 0.2709 - val_accuracy: 0.8824\n",
      "Epoch 28/30\n",
      "312/312 [==============================] - 10s 33ms/step - loss: 0.2022 - accuracy: 0.9205 - val_loss: 0.1224 - val_accuracy: 0.8555\n",
      "Epoch 29/30\n",
      "312/312 [==============================] - 10s 33ms/step - loss: 0.2017 - accuracy: 0.9179 - val_loss: 0.2402 - val_accuracy: 0.8555\n",
      "Epoch 30/30\n",
      "312/312 [==============================] - 10s 33ms/step - loss: 0.1860 - accuracy: 0.9234 - val_loss: 0.1049 - val_accuracy: 0.8971\n"
     ]
    }
   ],
   "source": [
    "# Model Training\n",
    "model.compile(optimizer = 'adam', loss = 'binary_crossentropy', metrics = ['accuracy'])\n",
    "\n",
    "history = model.fit_generator(training_set,\n",
    "                    steps_per_epoch = 10000 // 32,\n",
    "                    epochs = 30,\n",
    "                    validation_data = validation_set,\n",
    "                    validation_steps = 1000 // 32)\n"
   ]
  },
  {
   "cell_type": "code",
   "execution_count": 8,
   "metadata": {
    "colab": {
     "base_uri": "https://localhost:8080/",
     "height": 545
    },
    "colab_type": "code",
    "executionInfo": {
     "elapsed": 2853,
     "status": "ok",
     "timestamp": 1591294055048,
     "user": {
      "displayName": "Siddhartha Dutta",
      "photoUrl": "https://lh3.googleusercontent.com/a-/AOh14GiT79p-YwUAMLJLPMEjadbhQl383sQDEQ2dCLM=s64",
      "userId": "06895572418557294109"
     },
     "user_tz": -330
    },
    "id": "F4l8D-9iT6se",
    "outputId": "7f8815e2-aa8c-4dc9-8842-bb791d1df6be"
   },
   "outputs": [
    {
     "data": {
      "image/png": "[encoded data removed]",
      "text/plain": [
       "<Figure size 432x288 with 1 Axes>"
      ]
     },
     "metadata": {
      "needs_background": "light",
      "tags": []
     },
     "output_type": "display_data"
    },
    {
     "data": {
      "image/png": "[encoded data removed]",
      "text/plain": [
       "<Figure size 432x288 with 1 Axes>"
      ]
     },
     "metadata": {
      "needs_background": "light",
      "tags": []
     },
     "output_type": "display_data"
    }
   ],
   "source": [
    "# Model Evaluation\n",
    "acc = history.history['accuracy']\n",
    "val_acc = history.history['val_accuracy']\n",
    "\n",
    "loss=history.history['loss']\n",
    "val_loss=history.history['val_loss']\n",
    "\n",
    "epochs_range = range(30)\n",
    "\n",
    "plt.plot(epochs_range, acc, label='Training Accuracy')\n",
    "plt.plot(epochs_range, val_acc, label='Validation Accuracy')\n",
    "plt.legend()\n",
    "plt.title('Training and Validation Accuracy')\n",
    "plt.show()\n",
    "\n",
    "\n",
    "plt.plot(epochs_range, loss, label='Training Loss')\n",
    "plt.plot(epochs_range, val_loss, label='Validation Loss')\n",
    "plt.legend()\n",
    "plt.title('Training and Validation Loss')\n",
    "plt.show()"
   ]
  }
 ],
 "metadata": {
  "accelerator": "GPU",
  "colab": {
   "authorship_tag": "ABX9TyMbc9BHBDla1RQQ/fm949D8",
   "collapsed_sections": [],
   "name": "Breast Cancer Classification.ipynb",
   "provenance": []
  },
  "kernelspec": {
   "display_name": "Python 3",
   "language": "python",
   "name": "python3"
  },
  "language_info": {
   "codemirror_mode": {
    "name": "ipython",
    "version": 3
   },
   "file_extension": ".py",
   "mimetype": "text/x-python",
   "name": "python",
   "nbconvert_exporter": "python",
   "pygments_lexer": "ipython3",
   "version": "3.7.4"
  }
 },
 "nbformat": 4,
 "nbformat_minor": 1
}
