{
 "cells": [
  {
   "cell_type": "markdown",
   "metadata": {},
   "source": [
    "##### Gil Levi and Tal Hassner.Age and Gender Classification Using Convolutional Neural Networks. IEEE Workshop on Analysis and Modeling of Faces and Gestures (AMFG), at the IEEE Conf. on Computer Vision and Pattern Recognition (CVPR), Boston, 2015.\n",
    "\n",
    "https://talhassner.github.io/home/publication/2015_CVPR"
   ]
  },
  {
   "cell_type": "code",
   "execution_count": 0,
   "metadata": {
    "colab": {},
    "colab_type": "code",
    "id": "PRNlzIB-wWJ0"
   },
   "outputs": [],
   "source": [
    "!wget https://github.com/GilLevi/AgeGenderDeepLearning/raw/master/models/age_net.caffemodel\n",
    "!wget https://github.com/GilLevi/AgeGenderDeepLearning/raw/master/models/gender_net.caffemodel\n",
    "!wget https://github.com/GilLevi/AgeGenderDeepLearning/raw/master/models/mean.binaryproto\n",
    "!wget https://raw.githubusercontent.com/GilLevi/AgeGenderDeepLearning/master/gender_net_definitions/deploy.prototxt\n",
    "!mv deploy.prototxt gender_deploy.prototxt\n",
    "!wget https://raw.githubusercontent.com/GilLevi/AgeGenderDeepLearning/master/age_net_definitions/deploy.prototxt\n",
    "!mv deploy.prototxt age_deploy.prototxt\n",
    "!apt install caffe-cpu\n",
    "!wget https://upload.wikimedia.org/wikipedia/commons/8/8d/President_Barack_Obama.jpg"
   ]
  },
  {
   "cell_type": "code",
   "execution_count": 0,
   "metadata": {
    "colab": {},
    "colab_type": "code",
    "id": "tve3iEMTt56k"
   },
   "outputs": [],
   "source": [
    "import caffe\n",
    "import os\n",
    "import numpy as np\n",
    "import skimage.io"
   ]
  },
  {
   "cell_type": "code",
   "execution_count": 0,
   "metadata": {
    "colab": {},
    "colab_type": "code",
    "id": "-IXfbdKwxrn8"
   },
   "outputs": [],
   "source": [
    "mean_filename='./mean.binaryproto'\n",
    "proto_data = open(mean_filename, \"rb\").read()\n",
    "a = caffe.io.caffe_pb2.BlobProto.FromString(proto_data)\n",
    "mean  = caffe.io.blobproto_to_array(a)[0]\n",
    "print(mean.shape)"
   ]
  },
  {
   "cell_type": "code",
   "execution_count": 0,
   "metadata": {
    "colab": {},
    "colab_type": "code",
    "id": "cyiqyJqyxt-D"
   },
   "outputs": [],
   "source": [
    "age_net_pretrained='./age_net.caffemodel'\n",
    "age_net_model_file='./age_deploy.prototxt'\n",
    "age_net = caffe.Classifier(age_net_model_file, age_net_pretrained,\n",
    "                       mean=mean,\n",
    "                       channel_swap=(2,1,0),\n",
    "                       raw_scale=255,\n",
    "                       image_dims=(256, 256))"
   ]
  },
  {
   "cell_type": "code",
   "execution_count": 0,
   "metadata": {
    "colab": {},
    "colab_type": "code",
    "id": "0AwHuDyexv43"
   },
   "outputs": [],
   "source": [
    "gender_net_pretrained='./gender_net.caffemodel'\n",
    "gender_net_model_file='./gender_deploy.prototxt'\n",
    "gender_net = caffe.Classifier(gender_net_model_file, gender_net_pretrained,\n",
    "                       mean=mean,\n",
    "                       channel_swap=(2,1,0),\n",
    "                       raw_scale=255,\n",
    "                       image_dims=(256, 256))"
   ]
  },
  {
   "cell_type": "code",
   "execution_count": 0,
   "metadata": {
    "colab": {},
    "colab_type": "code",
    "id": "YJeXRd8Zx39A"
   },
   "outputs": [],
   "source": [
    "age_list=['(0, 2)','(4, 6)','(8, 12)','(15, 20)','(25, 32)','(38, 43)','(48, 53)','(60, 100)']\n",
    "gender_list=['Male','Female']"
   ]
  },
  {
   "cell_type": "code",
   "execution_count": 6,
   "metadata": {
    "colab": {
     "base_uri": "https://localhost:8080/",
     "height": 34
    },
    "colab_type": "code",
    "executionInfo": {
     "elapsed": 1333,
     "status": "ok",
     "timestamp": 1589223136919,
     "user": {
      "displayName": "Siddhartha Dutta",
      "photoUrl": "https://lh3.googleusercontent.com/a-/AOh14GiT79p-YwUAMLJLPMEjadbhQl383sQDEQ2dCLM=s64",
      "userId": "06895572418557294109"
     },
     "user_tz": -330
    },
    "id": "vqXApzSh0Xdh",
    "outputId": "c866f0b5-a412-4ec2-cba8-92f25aa1632c"
   },
   "outputs": [
    {
     "name": "stdout",
     "output_type": "stream",
     "text": [
      "(3356, 2687, 3)\n"
     ]
    }
   ],
   "source": [
    "def load_image(filename, color=True):\n",
    "    img = skimage.img_as_float(skimage.io.imread(filename, as_gray=not color)).astype(np.float32)\n",
    "    if img.ndim == 2:\n",
    "        img = img[:, :, np.newaxis]\n",
    "        if color:\n",
    "            img = np.tile(img, (1, 1, 3))\n",
    "    elif img.shape[2] == 4:\n",
    "        img = img[:, :, :3]\n",
    "    return img\n",
    "\n",
    "img = './President_Barack_Obama.jpg'\n",
    "input_image = load_image(img)\n",
    "print(input_image.shape)"
   ]
  },
  {
   "cell_type": "code",
   "execution_count": 7,
   "metadata": {
    "colab": {
     "base_uri": "https://localhost:8080/",
     "height": 52
    },
    "colab_type": "code",
    "executionInfo": {
     "elapsed": 3859,
     "status": "ok",
     "timestamp": 1589223140540,
     "user": {
      "displayName": "Siddhartha Dutta",
      "photoUrl": "https://lh3.googleusercontent.com/a-/AOh14GiT79p-YwUAMLJLPMEjadbhQl383sQDEQ2dCLM=s64",
      "userId": "06895572418557294109"
     },
     "user_tz": -330
    },
    "id": "zPZerYTgzs5C",
    "outputId": "8a329124-7b6b-444b-bb40-65f805b95926"
   },
   "outputs": [
    {
     "name": "stdout",
     "output_type": "stream",
     "text": [
      "Predicted Age Group: (38, 43)\n",
      "Probability:  0.6258768\n"
     ]
    }
   ],
   "source": [
    "prediction = age_net.predict([input_image]) \n",
    "print ('Predicted Age Group:', age_list[prediction[0].argmax()])\n",
    "print('Probability: ', prediction[0][prediction[0].argmax()])"
   ]
  },
  {
   "cell_type": "code",
   "execution_count": 0,
   "metadata": {
    "colab": {
     "base_uri": "https://localhost:8080/",
     "height": 52
    },
    "colab_type": "code",
    "executionInfo": {
     "elapsed": 3247,
     "status": "ok",
     "timestamp": 1589169278665,
     "user": {
      "displayName": "Siddhartha Dutta",
      "photoUrl": "https://lh3.googleusercontent.com/a-/AOh14GiT79p-YwUAMLJLPMEjadbhQl383sQDEQ2dCLM=s64",
      "userId": "06895572418557294109"
     },
     "user_tz": -330
    },
    "id": "tzj45edZ0xYw",
    "outputId": "8a001f17-177b-4feb-af8f-44032c37d507"
   },
   "outputs": [
    {
     "name": "stdout",
     "output_type": "stream",
     "text": [
      "Predicted Gender: Male\n",
      "Probability:  0.7262794\n"
     ]
    }
   ],
   "source": [
    "prediction = gender_net.predict([input_image]) \n",
    "print ('Predicted Gender:', gender_list[prediction[0].argmax()])\n",
    "print('Probability: ', prediction[0][prediction[0].argmax()])"
   ]
  }
 ],
 "metadata": {
  "colab": {
   "authorship_tag": "ABX9TyNvVaHmQ7TZltk5+I6/Vd8B",
   "collapsed_sections": [],
   "name": "Gender Classification & Age Detection.ipynb",
   "provenance": []
  },
  "kernelspec": {
   "display_name": "Python 3",
   "language": "python",
   "name": "python3"
  },
  "language_info": {
   "codemirror_mode": {
    "name": "ipython",
    "version": 3
   },
   "file_extension": ".py",
   "mimetype": "text/x-python",
   "name": "python",
   "nbconvert_exporter": "python",
   "pygments_lexer": "ipython3",
   "version": "3.7.4"
  }
 },
 "nbformat": 4,
 "nbformat_minor": 1
}
